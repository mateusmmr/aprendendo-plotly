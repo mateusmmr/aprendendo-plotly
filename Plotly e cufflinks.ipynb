{
 "cells": [
  {
   "cell_type": "markdown",
   "metadata": {},
   "source": [
    "# Plotly - Permite a criação de gráficos melhores e interativos"
   ]
  },
  {
   "cell_type": "markdown",
   "metadata": {},
   "source": [
    "Importações"
   ]
  },
  {
   "cell_type": "code",
   "execution_count": 29,
   "metadata": {},
   "outputs": [],
   "source": [
    "import pandas as pd\n",
    "import numpy as np\n",
    "import matplotlib.pyplot as plt\n",
    "%matplotlib inline"
   ]
  },
  {
   "cell_type": "code",
   "execution_count": 30,
   "metadata": {},
   "outputs": [],
   "source": [
    "from plotly.offline import download_plotlyjs, init_notebook_mode, plot, iplot"
   ]
  },
  {
   "cell_type": "code",
   "execution_count": 31,
   "metadata": {},
   "outputs": [],
   "source": [
    "import cufflinks as cf"
   ]
  },
  {
   "cell_type": "code",
   "execution_count": 32,
   "metadata": {},
   "outputs": [
    {
     "data": {
      "text/html": [
       "        <script type=\"text/javascript\">\n",
       "        window.PlotlyConfig = {MathJaxConfig: 'local'};\n",
       "        if (window.MathJax) {MathJax.Hub.Config({SVG: {font: \"STIX-Web\"}});}\n",
       "        if (typeof require !== 'undefined') {\n",
       "        require.undef(\"plotly\");\n",
       "        requirejs.config({\n",
       "            paths: {\n",
       "                'plotly': ['https://cdn.plot.ly/plotly-latest.min']\n",
       "            }\n",
       "        });\n",
       "        require(['plotly'], function(Plotly) {\n",
       "            window._Plotly = Plotly;\n",
       "        });\n",
       "        }\n",
       "        </script>\n",
       "        "
      ]
     },
     "metadata": {},
     "output_type": "display_data"
    }
   ],
   "source": [
    "init_notebook_mode(connected=True)"
   ]
  },
  {
   "cell_type": "code",
   "execution_count": 33,
   "metadata": {},
   "outputs": [
    {
     "data": {
      "text/html": [
       "        <script type=\"text/javascript\">\n",
       "        window.PlotlyConfig = {MathJaxConfig: 'local'};\n",
       "        if (window.MathJax) {MathJax.Hub.Config({SVG: {font: \"STIX-Web\"}});}\n",
       "        if (typeof require !== 'undefined') {\n",
       "        require.undef(\"plotly\");\n",
       "        requirejs.config({\n",
       "            paths: {\n",
       "                'plotly': ['https://cdn.plot.ly/plotly-latest.min']\n",
       "            }\n",
       "        });\n",
       "        require(['plotly'], function(Plotly) {\n",
       "            window._Plotly = Plotly;\n",
       "        });\n",
       "        }\n",
       "        </script>\n",
       "        "
      ]
     },
     "metadata": {},
     "output_type": "display_data"
    }
   ],
   "source": [
    "cf.go_offline()"
   ]
  },
  {
   "cell_type": "code",
   "execution_count": 34,
   "metadata": {},
   "outputs": [],
   "source": [
    "df = pd.DataFrame(np.random.randn(100,4), columns='A B C D'.split())"
   ]
  },
  {
   "cell_type": "code",
   "execution_count": 35,
   "metadata": {},
   "outputs": [
    {
     "data": {
      "text/html": [
       "<div>\n",
       "<style scoped>\n",
       "    .dataframe tbody tr th:only-of-type {\n",
       "        vertical-align: middle;\n",
       "    }\n",
       "\n",
       "    .dataframe tbody tr th {\n",
       "        vertical-align: top;\n",
       "    }\n",
       "\n",
       "    .dataframe thead th {\n",
       "        text-align: right;\n",
       "    }\n",
       "</style>\n",
       "<table border=\"1\" class=\"dataframe\">\n",
       "  <thead>\n",
       "    <tr style=\"text-align: right;\">\n",
       "      <th></th>\n",
       "      <th>A</th>\n",
       "      <th>B</th>\n",
       "      <th>C</th>\n",
       "      <th>D</th>\n",
       "    </tr>\n",
       "  </thead>\n",
       "  <tbody>\n",
       "    <tr>\n",
       "      <th>0</th>\n",
       "      <td>-0.901007</td>\n",
       "      <td>1.654269</td>\n",
       "      <td>-1.089450</td>\n",
       "      <td>0.168298</td>\n",
       "    </tr>\n",
       "    <tr>\n",
       "      <th>1</th>\n",
       "      <td>-1.390473</td>\n",
       "      <td>0.378304</td>\n",
       "      <td>0.196430</td>\n",
       "      <td>-1.527836</td>\n",
       "    </tr>\n",
       "    <tr>\n",
       "      <th>2</th>\n",
       "      <td>-0.069659</td>\n",
       "      <td>0.720770</td>\n",
       "      <td>0.033063</td>\n",
       "      <td>1.006513</td>\n",
       "    </tr>\n",
       "    <tr>\n",
       "      <th>3</th>\n",
       "      <td>-0.010825</td>\n",
       "      <td>1.158101</td>\n",
       "      <td>0.833635</td>\n",
       "      <td>-1.089920</td>\n",
       "    </tr>\n",
       "    <tr>\n",
       "      <th>4</th>\n",
       "      <td>0.715961</td>\n",
       "      <td>-1.369473</td>\n",
       "      <td>0.607187</td>\n",
       "      <td>0.473434</td>\n",
       "    </tr>\n",
       "  </tbody>\n",
       "</table>\n",
       "</div>"
      ],
      "text/plain": [
       "          A         B         C         D\n",
       "0 -0.901007  1.654269 -1.089450  0.168298\n",
       "1 -1.390473  0.378304  0.196430 -1.527836\n",
       "2 -0.069659  0.720770  0.033063  1.006513\n",
       "3 -0.010825  1.158101  0.833635 -1.089920\n",
       "4  0.715961 -1.369473  0.607187  0.473434"
      ]
     },
     "execution_count": 35,
     "metadata": {},
     "output_type": "execute_result"
    }
   ],
   "source": [
    "df.head()"
   ]
  },
  {
   "cell_type": "code",
   "execution_count": 36,
   "metadata": {},
   "outputs": [],
   "source": [
    "df2 = pd.DataFrame({'Categoria': ['A','B','C'], 'Valores':[32,43,50]})"
   ]
  },
  {
   "cell_type": "code",
   "execution_count": 37,
   "metadata": {},
   "outputs": [
    {
     "data": {
      "text/html": [
       "<div>\n",
       "<style scoped>\n",
       "    .dataframe tbody tr th:only-of-type {\n",
       "        vertical-align: middle;\n",
       "    }\n",
       "\n",
       "    .dataframe tbody tr th {\n",
       "        vertical-align: top;\n",
       "    }\n",
       "\n",
       "    .dataframe thead th {\n",
       "        text-align: right;\n",
       "    }\n",
       "</style>\n",
       "<table border=\"1\" class=\"dataframe\">\n",
       "  <thead>\n",
       "    <tr style=\"text-align: right;\">\n",
       "      <th></th>\n",
       "      <th>Categoria</th>\n",
       "      <th>Valores</th>\n",
       "    </tr>\n",
       "  </thead>\n",
       "  <tbody>\n",
       "    <tr>\n",
       "      <th>0</th>\n",
       "      <td>A</td>\n",
       "      <td>32</td>\n",
       "    </tr>\n",
       "    <tr>\n",
       "      <th>1</th>\n",
       "      <td>B</td>\n",
       "      <td>43</td>\n",
       "    </tr>\n",
       "    <tr>\n",
       "      <th>2</th>\n",
       "      <td>C</td>\n",
       "      <td>50</td>\n",
       "    </tr>\n",
       "  </tbody>\n",
       "</table>\n",
       "</div>"
      ],
      "text/plain": [
       "  Categoria  Valores\n",
       "0         A       32\n",
       "1         B       43\n",
       "2         C       50"
      ]
     },
     "execution_count": 37,
     "metadata": {},
     "output_type": "execute_result"
    }
   ],
   "source": [
    "df2.head()"
   ]
  },
  {
   "cell_type": "markdown",
   "metadata": {},
   "source": [
    "Plot normal:"
   ]
  },
  {
   "cell_type": "code",
   "execution_count": 12,
   "metadata": {},
   "outputs": [
    {
     "data": {
      "text/plain": [
       "<matplotlib.axes._subplots.AxesSubplot at 0xf201e2b7f0>"
      ]
     },
     "execution_count": 12,
     "metadata": {},
     "output_type": "execute_result"
    },
    {
     "data": {
      "image/png": "[encoded data removed]",
      "text/plain": [
       "<Figure size 432x288 with 1 Axes>"
      ]
     },
     "metadata": {
      "needs_background": "light"
     },
     "output_type": "display_data"
    }
   ],
   "source": [
    "df.plot(kind='scatter', x='A', y='B')"
   ]
  },
  {
   "cell_type": "markdown",
   "metadata": {},
   "source": [
    "### Plotly:"
   ]
  },
  {
   "cell_type": "markdown",
   "metadata": {},
   "source": [
    "Dispersão:"
   ]
  },
  {
   "cell_type": "code",
   "execution_count": 13,
   "metadata": {},
   "outputs": [
    {
     "data": {
      "application/vnd.plotly.v1+json": {
       "config": {
        "linkText": "Export to plot.ly",
        "plotlyServerURL": "https://plot.ly",
        "showLink": true
       },
       "data": [
        {
         "line": {
          "color": "rgba(255, 153, 51, 1.0)",
          "dash": "solid",
          "shape": "linear",
          "width": 1.3
         },
         "mode": "lines",
         "name": "B",
         "text": "",
         "type": "scatter",
         "x": [
          1.5142186544122638,
          0.27895064943248915,
          -1.2772201606503015,
          0.7176215978752194,
          1.0242630534311887,
          -0.18782350124528943,
          -0.15971406208206046,
          -0.09450672113595138,
          1.101557217961529,
          1.760246324420678,
          0.4957627962412397,
          1.4410840240165774,
          0.890736201554487,
          -0.1973859512432099,
          -0.22647367315349648,
          0.9600258803516739,
          -0.22695644558189895,
          0.9014455961017745,
          -1.0352942125712694,
          1.3614210778771305,
          1.438341742803549,
          0.0062457188416346066,
          -0.34075842820041674,
          1.1645719966781778,
          3.251475167837798,
          0.3585119159665232,
          0.35559795617521023,
          -1.4927235063683504,
          -0.09654662808693423,
          -0.057294310675322785,
          -0.48183583073170233,
          -0.5382944548854823,
          0.9208574046073155,
          -0.6302021900122878,
          0.30933377625955083,
          -0.46552971679190036,
          -0.912246971568453,
          0.663008040972662,
          1.2686499433429357,
          0.36508507101402465,
          0.13357487450389904,
          -0.20648604070240084,
          0.49234018847418437,
          -1.0079776998156387,
          -1.3502695696598568,
          0.5959137955318851,
          -0.3372748183372034,
          -1.7190172045328507,
          0.3701065313721388,
          -1.109452713943562,
          0.11680700607062913,
          -0.8627209126237989,
          -0.8575591132443635,
          -0.044169557298888655,
          -0.7955907040068338,
          0.12234260476958768,
          -1.0760163613813911,
          -0.8283533358210704,
          0.268329750244207,
          1.066892146131821,
          -0.6553844559897053,
          -0.644878025080047,
          0.28702367749052854,
          -0.41938747626877115,
          1.959073984465897,
          -1.1269742470876678,
          3.8538700868814058,
          0.8705990773885701,
          0.5240821424022016,
          0.33280913610094887,
          0.4259038558689888,
          -1.2700198508155802,
          -0.5263315245506245,
          -0.1637455667230135,
          2.213359350383037,
          -0.4878057724962988,
          -0.46568550675433373,
          0.9524119005427031,
          1.7669535874688445,
          0.9320713319598105,
          1.0426693299362813,
          -1.7119433140080471,
          -0.2723835374814382,
          -1.4597336316316212,
          0.7187397058115067,
          0.5706065969920404,
          0.023982717991074275,
          -0.7639207845885283,
          -0.9117422967467312,
          -0.5438741254817734,
          -0.7489289965331479,
          1.0933015307053855,
          -0.33036206127818424,
          0.573877123376443,
          1.548344828251328,
          -0.2994560355888004,
          0.47710475522997875,
          -1.7490432446344575,
          -0.615644586432859,
          -0.0696319730489194
         ],
         "y": [
          -0.9153410714929735,
          1.6358976547955704,
          0.09255099576014963,
          1.5400934402495086,
          0.6425658299894662,
          -0.26179888744269847,
          1.0273186956146738,
          -0.6307535418604402,
          -2.5346978546476517,
          -2.1897817281056837,
          0.8311035354450367,
          0.6399383182121887,
          -0.9403607387553982,
          0.7078174444510166,
          -0.45457637870870515,
          1.1980318577308495,
          -0.11554976053470527,
          0.30680062220353793,
          -0.9217244314001211,
          -0.6663874786748377,
          1.32120609432077,
          1.0109233247836378,
          -0.1824269769280658,
          -1.0488991304782136,
          1.0662243347339762,
          -0.9034244394440355,
          -0.3263330312314083,
          -0.2607788207729719,
          -2.4278016862124088,
          -0.12711866662850796,
          -0.36884387842295946,
          0.6429063120523958,
          0.14881899593559214,
          -0.43653258631725117,
          1.1884826095900352,
          2.178398074485583,
          -0.06233515306434373,
          0.2587311274407884,
          -0.3741404646665351,
          0.30626494513246,
          -2.126751910804884,
          -2.060133981135926,
          1.5529239103471126,
          -0.38836926178255654,
          0.3942599587482798,
          1.5803964142097777,
          -1.0523833241987806,
          -0.01657286604126695,
          -0.770066526216671,
          0.9920549755691876,
          0.22018622155780793,
          0.9478438860931523,
          2.5346802705488365,
          0.30453558445497775,
          0.44999869484970006,
          0.1329256362940828,
          0.5257532229366679,
          0.6353351705845959,
          1.3939366249738248,
          -0.22346756860341713,
          1.1700863549033256,
          -0.6893141589265049,
          -0.7284549415162579,
          1.0979628734277693,
          -0.9852892186534995,
          0.04408684809316521,
          -0.3768717795879098,
          -0.09487210728594804,
          0.40576310664905313,
          0.4280661826615465,
          -0.8014571020621714,
          -1.192492353104392,
          0.9009984970801053,
          -0.6804664819337662,
          -0.05322152993200261,
          -0.5406055085130784,
          -1.1648516692905604,
          -0.4866434874688328,
          -0.2527643374481889,
          -0.49051314591226564,
          0.4483948614666029,
          -0.1286617016280999,
          0.7375815043599231,
          -1.2179161391289677,
          1.329503329537658,
          0.6406407101277446,
          -0.3885952375410158,
          -1.3344868258260545,
          0.021479658397961912,
          0.14220431097964045,
          0.6956144127780031,
          -1.2274294853474346,
          0.8445551976348453,
          -0.27707728983608126,
          -1.044478370898736,
          -1.0342492050125447,
          1.8384683805763349,
          -0.47129373877017977,
          0.2826769281895832,
          0.29606799065000583
         ]
        }
       ],
       "layout": {
        "legend": {
         "bgcolor": "#F5F6F9",
         "font": {
          "color": "#4D5663"
         }
        },
        "paper_bgcolor": "#F5F6F9",
        "plot_bgcolor": "#F5F6F9",
        "template": {
         "data": {
          "bar": [
           {
            "error_x": {
             "color": "#2a3f5f"
            },
            "error_y": {
             "color": "#2a3f5f"
            },
            "marker": {
             "line": {
              "color": "#E5ECF6",
              "width": 0.5
             }
            },
            "type": "bar"
           }
          ],
          "barpolar": [
           {
            "marker": {
             "line": {
              "color": "#E5ECF6",
              "width": 0.5
             }
            },
            "type": "barpolar"
           }
          ],
          "carpet": [
           {
            "aaxis": {
             "endlinecolor": "#2a3f5f",
             "gridcolor": "white",
             "linecolor": "white",
             "minorgridcolor": "white",
             "startlinecolor": "#2a3f5f"
            },
            "baxis": {
             "endlinecolor": "#2a3f5f",
             "gridcolor": "white",
             "linecolor": "white",
             "minorgridcolor": "white",
             "startlinecolor": "#2a3f5f"
            },
            "type": "carpet"
           }
          ],
          "choropleth": [
           {
            "colorbar": {
             "outlinewidth": 0,
             "ticks": ""
            },
            "type": "choropleth"
           }
          ],
          "contour": [
           {
            "colorbar": {
             "outlinewidth": 0,
             "ticks": ""
            },
            "colorscale": [
             [
              0,
              "#0d0887"
             ],
             [
              0.1111111111111111,
              "#46039f"
             ],
             [
              0.2222222222222222,
              "#7201a8"
             ],
             [
              0.3333333333333333,
              "#9c179e"
             ],
             [
              0.4444444444444444,
              "#bd3786"
             ],
             [
              0.5555555555555556,
              "#d8576b"
             ],
             [
              0.6666666666666666,
              "#ed7953"
             ],
             [
              0.7777777777777778,
              "#fb9f3a"
             ],
             [
              0.8888888888888888,
              "#fdca26"
             ],
             [
              1,
              "#f0f921"
             ]
            ],
            "type": "contour"
           }
          ],
          "contourcarpet": [
           {
            "colorbar": {
             "outlinewidth": 0,
             "ticks": ""
            },
            "type": "contourcarpet"
           }
          ],
          "heatmap": [
           {
            "colorbar": {
             "outlinewidth": 0,
             "ticks": ""
            },
            "colorscale": [
             [
              0,
              "#0d0887"
             ],
             [
              0.1111111111111111,
              "#46039f"
             ],
             [
              0.2222222222222222,
              "#7201a8"
             ],
             [
              0.3333333333333333,
              "#9c179e"
             ],
             [
              0.4444444444444444,
              "#bd3786"
             ],
             [
              0.5555555555555556,
              "#d8576b"
             ],
             [
              0.6666666666666666,
              "#ed7953"
             ],
             [
              0.7777777777777778,
              "#fb9f3a"
             ],
             [
              0.8888888888888888,
              "#fdca26"
             ],
             [
              1,
              "#f0f921"
             ]
            ],
            "type": "heatmap"
           }
          ],
          "heatmapgl": [
           {
            "colorbar": {
             "outlinewidth": 0,
             "ticks": ""
            },
            "colorscale": [
             [
              0,
              "#0d0887"
             ],
             [
              0.1111111111111111,
              "#46039f"
             ],
             [
              0.2222222222222222,
              "#7201a8"
             ],
             [
              0.3333333333333333,
              "#9c179e"
             ],
             [
              0.4444444444444444,
              "#bd3786"
             ],
             [
              0.5555555555555556,
              "#d8576b"
             ],
             [
              0.6666666666666666,
              "#ed7953"
             ],
             [
              0.7777777777777778,
              "#fb9f3a"
             ],
             [
              0.8888888888888888,
              "#fdca26"
             ],
             [
              1,
              "#f0f921"
             ]
            ],
            "type": "heatmapgl"
           }
          ],
          "histogram": [
           {
            "marker": {
             "colorbar": {
              "outlinewidth": 0,
              "ticks": ""
             }
            },
            "type": "histogram"
           }
          ],
          "histogram2d": [
           {
            "colorbar": {
             "outlinewidth": 0,
             "ticks": ""
            },
            "colorscale": [
             [
              0,
              "#0d0887"
             ],
             [
              0.1111111111111111,
              "#46039f"
             ],
             [
              0.2222222222222222,
              "#7201a8"
             ],
             [
              0.3333333333333333,
              "#9c179e"
             ],
             [
              0.4444444444444444,
              "#bd3786"
             ],
             [
              0.5555555555555556,
              "#d8576b"
             ],
             [
              0.6666666666666666,
              "#ed7953"
             ],
             [
              0.7777777777777778,
              "#fb9f3a"
             ],
             [
              0.8888888888888888,
              "#fdca26"
             ],
             [
              1,
              "#f0f921"
             ]
            ],
            "type": "histogram2d"
           }
          ],
          "histogram2dcontour": [
           {
            "colorbar": {
             "outlinewidth": 0,
             "ticks": ""
            },
            "colorscale": [
             [
              0,
              "#0d0887"
             ],
             [
              0.1111111111111111,
              "#46039f"
             ],
             [
              0.2222222222222222,
              "#7201a8"
             ],
             [
              0.3333333333333333,
              "#9c179e"
             ],
             [
              0.4444444444444444,
              "#bd3786"
             ],
             [
              0.5555555555555556,
              "#d8576b"
             ],
             [
              0.6666666666666666,
              "#ed7953"
             ],
             [
              0.7777777777777778,
              "#fb9f3a"
             ],
             [
              0.8888888888888888,
              "#fdca26"
             ],
             [
              1,
              "#f0f921"
             ]
            ],
            "type": "histogram2dcontour"
           }
          ],
          "mesh3d": [
           {
            "colorbar": {
             "outlinewidth": 0,
             "ticks": ""
            },
            "type": "mesh3d"
           }
          ],
          "parcoords": [
           {
            "line": {
             "colorbar": {
              "outlinewidth": 0,
              "ticks": ""
             }
            },
            "type": "parcoords"
           }
          ],
          "pie": [
           {
            "automargin": true,
            "type": "pie"
           }
          ],
          "scatter": [
           {
            "marker": {
             "colorbar": {
              "outlinewidth": 0,
              "ticks": ""
             }
            },
            "type": "scatter"
           }
          ],
          "scatter3d": [
           {
            "line": {
             "colorbar": {
              "outlinewidth": 0,
              "ticks": ""
             }
            },
            "marker": {
             "colorbar": {
              "outlinewidth": 0,
              "ticks": ""
             }
            },
            "type": "scatter3d"
           }
          ],
          "scattercarpet": [
           {
            "marker": {
             "colorbar": {
              "outlinewidth": 0,
              "ticks": ""
             }
            },
            "type": "scattercarpet"
           }
          ],
          "scattergeo": [
           {
            "marker": {
             "colorbar": {
              "outlinewidth": 0,
              "ticks": ""
             }
            },
            "type": "scattergeo"
           }
          ],
          "scattergl": [
           {
            "marker": {
             "colorbar": {
              "outlinewidth": 0,
              "ticks": ""
             }
            },
            "type": "scattergl"
           }
          ],
          "scattermapbox": [
           {
            "marker": {
             "colorbar": {
              "outlinewidth": 0,
              "ticks": ""
             }
            },
            "type": "scattermapbox"
           }
          ],
          "scatterpolar": [
           {
            "marker": {
             "colorbar": {
              "outlinewidth": 0,
              "ticks": ""
             }
            },
            "type": "scatterpolar"
           }
          ],
          "scatterpolargl": [
           {
            "marker": {
             "colorbar": {
              "outlinewidth": 0,
              "ticks": ""
             }
            },
            "type": "scatterpolargl"
           }
          ],
          "scatterternary": [
           {
            "marker": {
             "colorbar": {
              "outlinewidth": 0,
              "ticks": ""
             }
            },
            "type": "scatterternary"
           }
          ],
          "surface": [
           {
            "colorbar": {
             "outlinewidth": 0,
             "ticks": ""
            },
            "colorscale": [
             [
              0,
              "#0d0887"
             ],
             [
              0.1111111111111111,
              "#46039f"
             ],
             [
              0.2222222222222222,
              "#7201a8"
             ],
             [
              0.3333333333333333,
              "#9c179e"
             ],
             [
              0.4444444444444444,
              "#bd3786"
             ],
             [
              0.5555555555555556,
              "#d8576b"
             ],
             [
              0.6666666666666666,
              "#ed7953"
             ],
             [
              0.7777777777777778,
              "#fb9f3a"
             ],
             [
              0.8888888888888888,
              "#fdca26"
             ],
             [
              1,
              "#f0f921"
             ]
            ],
            "type": "surface"
           }
          ],
          "table": [
           {
            "cells": {
             "fill": {
              "color": "#EBF0F8"
             },
             "line": {
              "color": "white"
             }
            },
            "header": {
             "fill": {
              "color": "#C8D4E3"
             },
             "line": {
              "color": "white"
             }
            },
            "type": "table"
           }
          ]
         },
         "layout": {
          "annotationdefaults": {
           "arrowcolor": "#2a3f5f",
           "arrowhead": 0,
           "arrowwidth": 1
          },
          "coloraxis": {
           "colorbar": {
            "outlinewidth": 0,
            "ticks": ""
           }
          },
          "colorscale": {
           "diverging": [
            [
             0,
             "#8e0152"
            ],
            [
             0.1,
             "#c51b7d"
            ],
            [
             0.2,
             "#de77ae"
            ],
            [
             0.3,
             "#f1b6da"
            ],
            [
             0.4,
             "#fde0ef"
            ],
            [
             0.5,
             "#f7f7f7"
            ],
            [
             0.6,
             "#e6f5d0"
            ],
            [
             0.7,
             "#b8e186"
            ],
            [
             0.8,
             "#7fbc41"
            ],
            [
             0.9,
             "#4d9221"
            ],
            [
             1,
             "#276419"
            ]
           ],
           "sequential": [
            [
             0,
             "#0d0887"
            ],
            [
             0.1111111111111111,
             "#46039f"
            ],
            [
             0.2222222222222222,
             "#7201a8"
            ],
            [
             0.3333333333333333,
             "#9c179e"
            ],
            [
             0.4444444444444444,
             "#bd3786"
            ],
            [
             0.5555555555555556,
             "#d8576b"
            ],
            [
             0.6666666666666666,
             "#ed7953"
            ],
            [
             0.7777777777777778,
             "#fb9f3a"
            ],
            [
             0.8888888888888888,
             "#fdca26"
            ],
            [
             1,
             "#f0f921"
            ]
           ],
           "sequentialminus": [
            [
             0,
             "#0d0887"
            ],
            [
             0.1111111111111111,
             "#46039f"
            ],
            [
             0.2222222222222222,
             "#7201a8"
            ],
            [
             0.3333333333333333,
             "#9c179e"
            ],
            [
             0.4444444444444444,
             "#bd3786"
            ],
            [
             0.5555555555555556,
             "#d8576b"
            ],
            [
             0.6666666666666666,
             "#ed7953"
            ],
            [
             0.7777777777777778,
             "#fb9f3a"
            ],
            [
             0.8888888888888888,
             "#fdca26"
            ],
            [
             1,
             "#f0f921"
            ]
           ]
          },
          "colorway": [
           "#636efa",
           "#EF553B",
           "#00cc96",
           "#ab63fa",
           "#FFA15A",
           "#19d3f3",
           "#FF6692",
           "#B6E880",
           "#FF97FF",
           "#FECB52"
          ],
          "font": {
           "color": "#2a3f5f"
          },
          "geo": {
           "bgcolor": "white",
           "lakecolor": "white",
           "landcolor": "#E5ECF6",
           "showlakes": true,
           "showland": true,
           "subunitcolor": "white"
          },
          "hoverlabel": {
           "align": "left"
          },
          "hovermode": "closest",
          "mapbox": {
           "style": "light"
          },
          "paper_bgcolor": "white",
          "plot_bgcolor": "#E5ECF6",
          "polar": {
           "angularaxis": {
            "gridcolor": "white",
            "linecolor": "white",
            "ticks": ""
           },
           "bgcolor": "#E5ECF6",
           "radialaxis": {
            "gridcolor": "white",
            "linecolor": "white",
            "ticks": ""
           }
          },
          "scene": {
           "xaxis": {
            "backgroundcolor": "#E5ECF6",
            "gridcolor": "white",
            "gridwidth": 2,
            "linecolor": "white",
            "showbackground": true,
            "ticks": "",
            "zerolinecolor": "white"
           },
           "yaxis": {
            "backgroundcolor": "#E5ECF6",
            "gridcolor": "white",
            "gridwidth": 2,
            "linecolor": "white",
            "showbackground": true,
            "ticks": "",
            "zerolinecolor": "white"
           },
           "zaxis": {
            "backgroundcolor": "#E5ECF6",
            "gridcolor": "white",
            "gridwidth": 2,
            "linecolor": "white",
            "showbackground": true,
            "ticks": "",
            "zerolinecolor": "white"
           }
          },
          "shapedefaults": {
           "line": {
            "color": "#2a3f5f"
           }
          },
          "ternary": {
           "aaxis": {
            "gridcolor": "white",
            "linecolor": "white",
            "ticks": ""
           },
           "baxis": {
            "gridcolor": "white",
            "linecolor": "white",
            "ticks": ""
           },
           "bgcolor": "#E5ECF6",
           "caxis": {
            "gridcolor": "white",
            "linecolor": "white",
            "ticks": ""
           }
          },
          "title": {
           "x": 0.05
          },
          "xaxis": {
           "automargin": true,
           "gridcolor": "white",
           "linecolor": "white",
           "ticks": "",
           "title": {
            "standoff": 15
           },
           "zerolinecolor": "white",
           "zerolinewidth": 2
          },
          "yaxis": {
           "automargin": true,
           "gridcolor": "white",
           "linecolor": "white",
           "ticks": "",
           "title": {
            "standoff": 15
           },
           "zerolinecolor": "white",
           "zerolinewidth": 2
          }
         }
        },
        "title": {
         "font": {
          "color": "#4D5663"
         }
        },
        "xaxis": {
         "gridcolor": "#E1E5ED",
         "showgrid": true,
         "tickfont": {
          "color": "#4D5663"
         },
         "title": {
          "font": {
           "color": "#4D5663"
          },
          "text": ""
         },
         "zerolinecolor": "#E1E5ED"
        },
        "yaxis": {
         "gridcolor": "#E1E5ED",
         "showgrid": true,
         "tickfont": {
          "color": "#4D5663"
         },
         "title": {
          "font": {
           "color": "#4D5663"
          },
          "text": ""
         },
         "zerolinecolor": "#E1E5ED"
        }
       }
      },
      "text/html": [
       "<div>\n",
       "        \n",
       "        \n",
       "            <div id=\"1ec3c08f-6c78-489d-8d83-044129d87d89\" class=\"plotly-graph-div\" style=\"height:525px; width:100%;\"></div>\n",
       "            <script type=\"text/javascript\">\n",
       "                require([\"plotly\"], function(Plotly) {\n",
       "                    window.PLOTLYENV=window.PLOTLYENV || {};\n",
       "                    window.PLOTLYENV.BASE_URL='https://plot.ly';\n",
       "                    \n",
       "                if (document.getElementById(\"1ec3c08f-6c78-489d-8d83-044129d87d89\")) {\n",
       "                    Plotly.newPlot(\n",
       "                        '1ec3c08f-6c78-489d-8d83-044129d87d89',\n",
       "                        [{\"line\": {\"color\": \"rgba(255, 153, 51, 1.0)\", \"dash\": \"solid\", \"shape\": \"linear\", \"width\": 1.3}, \"mode\": \"lines\", \"name\": \"B\", \"text\": \"\", \"type\": \"scatter\", \"x\": [1.5142186544122638, 0.27895064943248915, -1.2772201606503015, 0.7176215978752194, 1.0242630534311887, -0.18782350124528943, -0.15971406208206046, -0.09450672113595138, 1.101557217961529, 1.760246324420678, 0.4957627962412397, 1.4410840240165774, 0.890736201554487, -0.1973859512432099, -0.22647367315349648, 0.9600258803516739, -0.22695644558189895, 0.9014455961017745, -1.0352942125712694, 1.3614210778771305, 1.438341742803549, 0.0062457188416346066, -0.34075842820041674, 1.1645719966781778, 3.251475167837798, 0.3585119159665232, 0.35559795617521023, -1.4927235063683504, -0.09654662808693423, -0.057294310675322785, -0.48183583073170233, -0.5382944548854823, 0.9208574046073155, -0.6302021900122878, 0.30933377625955083, -0.46552971679190036, -0.912246971568453, 0.663008040972662, 1.2686499433429357, 0.36508507101402465, 0.13357487450389904, -0.20648604070240084, 0.49234018847418437, -1.0079776998156387, -1.3502695696598568, 0.5959137955318851, -0.3372748183372034, -1.7190172045328507, 0.3701065313721388, -1.109452713943562, 0.11680700607062913, -0.8627209126237989, -0.8575591132443635, -0.044169557298888655, -0.7955907040068338, 0.12234260476958768, -1.0760163613813911, -0.8283533358210704, 0.268329750244207, 1.066892146131821, -0.6553844559897053, -0.644878025080047, 0.28702367749052854, -0.41938747626877115, 1.959073984465897, -1.1269742470876678, 3.8538700868814058, 0.8705990773885701, 0.5240821424022016, 0.33280913610094887, 0.4259038558689888, -1.2700198508155802, -0.5263315245506245, -0.1637455667230135, 2.213359350383037, -0.4878057724962988, -0.46568550675433373, 0.9524119005427031, 1.7669535874688445, 0.9320713319598105, 1.0426693299362813, -1.7119433140080471, -0.2723835374814382, -1.4597336316316212, 0.7187397058115067, 0.5706065969920404, 0.023982717991074275, -0.7639207845885283, -0.9117422967467312, -0.5438741254817734, -0.7489289965331479, 1.0933015307053855, -0.33036206127818424, 0.573877123376443, 1.548344828251328, -0.2994560355888004, 0.47710475522997875, -1.7490432446344575, -0.615644586432859, -0.0696319730489194], \"y\": [-0.9153410714929735, 1.6358976547955704, 0.09255099576014963, 1.5400934402495086, 0.6425658299894662, -0.26179888744269847, 1.0273186956146738, -0.6307535418604402, -2.5346978546476517, -2.1897817281056837, 0.8311035354450367, 0.6399383182121887, -0.9403607387553982, 0.7078174444510166, -0.45457637870870515, 1.1980318577308495, -0.11554976053470527, 0.30680062220353793, -0.9217244314001211, -0.6663874786748377, 1.32120609432077, 1.0109233247836378, -0.1824269769280658, -1.0488991304782136, 1.0662243347339762, -0.9034244394440355, -0.3263330312314083, -0.2607788207729719, -2.4278016862124088, -0.12711866662850796, -0.36884387842295946, 0.6429063120523958, 0.14881899593559214, -0.43653258631725117, 1.1884826095900352, 2.178398074485583, -0.06233515306434373, 0.2587311274407884, -0.3741404646665351, 0.30626494513246, -2.126751910804884, -2.060133981135926, 1.5529239103471126, -0.38836926178255654, 0.3942599587482798, 1.5803964142097777, -1.0523833241987806, -0.01657286604126695, -0.770066526216671, 0.9920549755691876, 0.22018622155780793, 0.9478438860931523, 2.5346802705488365, 0.30453558445497775, 0.44999869484970006, 0.1329256362940828, 0.5257532229366679, 0.6353351705845959, 1.3939366249738248, -0.22346756860341713, 1.1700863549033256, -0.6893141589265049, -0.7284549415162579, 1.0979628734277693, -0.9852892186534995, 0.04408684809316521, -0.3768717795879098, -0.09487210728594804, 0.40576310664905313, 0.4280661826615465, -0.8014571020621714, -1.192492353104392, 0.9009984970801053, -0.6804664819337662, -0.05322152993200261, -0.5406055085130784, -1.1648516692905604, -0.4866434874688328, -0.2527643374481889, -0.49051314591226564, 0.4483948614666029, -0.1286617016280999, 0.7375815043599231, -1.2179161391289677, 1.329503329537658, 0.6406407101277446, -0.3885952375410158, -1.3344868258260545, 0.021479658397961912, 0.14220431097964045, 0.6956144127780031, -1.2274294853474346, 0.8445551976348453, -0.27707728983608126, -1.044478370898736, -1.0342492050125447, 1.8384683805763349, -0.47129373877017977, 0.2826769281895832, 0.29606799065000583]}],\n",
       "                        {\"legend\": {\"bgcolor\": \"#F5F6F9\", \"font\": {\"color\": \"#4D5663\"}}, \"paper_bgcolor\": \"#F5F6F9\", \"plot_bgcolor\": \"#F5F6F9\", \"template\": {\"data\": {\"bar\": [{\"error_x\": {\"color\": \"#2a3f5f\"}, \"error_y\": {\"color\": \"#2a3f5f\"}, \"marker\": {\"line\": {\"color\": \"#E5ECF6\", \"width\": 0.5}}, \"type\": \"bar\"}], \"barpolar\": [{\"marker\": {\"line\": {\"color\": \"#E5ECF6\", \"width\": 0.5}}, \"type\": \"barpolar\"}], \"carpet\": [{\"aaxis\": {\"endlinecolor\": \"#2a3f5f\", \"gridcolor\": \"white\", \"linecolor\": \"white\", \"minorgridcolor\": \"white\", \"startlinecolor\": \"#2a3f5f\"}, \"baxis\": {\"endlinecolor\": \"#2a3f5f\", \"gridcolor\": \"white\", \"linecolor\": \"white\", \"minorgridcolor\": \"white\", \"startlinecolor\": \"#2a3f5f\"}, \"type\": \"carpet\"}], \"choropleth\": [{\"colorbar\": {\"outlinewidth\": 0, \"ticks\": \"\"}, \"type\": \"choropleth\"}], \"contour\": [{\"colorbar\": {\"outlinewidth\": 0, \"ticks\": \"\"}, \"colorscale\": [[0.0, \"#0d0887\"], [0.1111111111111111, \"#46039f\"], [0.2222222222222222, \"#7201a8\"], [0.3333333333333333, \"#9c179e\"], [0.4444444444444444, \"#bd3786\"], [0.5555555555555556, \"#d8576b\"], [0.6666666666666666, \"#ed7953\"], [0.7777777777777778, \"#fb9f3a\"], [0.8888888888888888, \"#fdca26\"], [1.0, \"#f0f921\"]], \"type\": \"contour\"}], \"contourcarpet\": [{\"colorbar\": {\"outlinewidth\": 0, \"ticks\": \"\"}, \"type\": \"contourcarpet\"}], \"heatmap\": [{\"colorbar\": {\"outlinewidth\": 0, \"ticks\": \"\"}, \"colorscale\": [[0.0, \"#0d0887\"], [0.1111111111111111, \"#46039f\"], [0.2222222222222222, \"#7201a8\"], [0.3333333333333333, \"#9c179e\"], [0.4444444444444444, \"#bd3786\"], [0.5555555555555556, \"#d8576b\"], [0.6666666666666666, \"#ed7953\"], [0.7777777777777778, \"#fb9f3a\"], [0.8888888888888888, \"#fdca26\"], [1.0, \"#f0f921\"]], \"type\": \"heatmap\"}], \"heatmapgl\": [{\"colorbar\": {\"outlinewidth\": 0, \"ticks\": \"\"}, \"colorscale\": [[0.0, \"#0d0887\"], [0.1111111111111111, \"#46039f\"], [0.2222222222222222, \"#7201a8\"], [0.3333333333333333, \"#9c179e\"], [0.4444444444444444, \"#bd3786\"], [0.5555555555555556, \"#d8576b\"], [0.6666666666666666, \"#ed7953\"], [0.7777777777777778, \"#fb9f3a\"], [0.8888888888888888, \"#fdca26\"], [1.0, \"#f0f921\"]], \"type\": \"heatmapgl\"}], \"histogram\": [{\"marker\": {\"colorbar\": {\"outlinewidth\": 0, \"ticks\": \"\"}}, \"type\": \"histogram\"}], \"histogram2d\": [{\"colorbar\": {\"outlinewidth\": 0, \"ticks\": \"\"}, \"colorscale\": [[0.0, \"#0d0887\"], [0.1111111111111111, \"#46039f\"], [0.2222222222222222, \"#7201a8\"], [0.3333333333333333, \"#9c179e\"], [0.4444444444444444, \"#bd3786\"], [0.5555555555555556, \"#d8576b\"], [0.6666666666666666, \"#ed7953\"], [0.7777777777777778, \"#fb9f3a\"], [0.8888888888888888, \"#fdca26\"], [1.0, \"#f0f921\"]], \"type\": \"histogram2d\"}], \"histogram2dcontour\": [{\"colorbar\": {\"outlinewidth\": 0, \"ticks\": \"\"}, \"colorscale\": [[0.0, \"#0d0887\"], [0.1111111111111111, \"#46039f\"], [0.2222222222222222, \"#7201a8\"], [0.3333333333333333, \"#9c179e\"], [0.4444444444444444, \"#bd3786\"], [0.5555555555555556, \"#d8576b\"], [0.6666666666666666, \"#ed7953\"], [0.7777777777777778, \"#fb9f3a\"], [0.8888888888888888, \"#fdca26\"], [1.0, \"#f0f921\"]], \"type\": \"histogram2dcontour\"}], \"mesh3d\": [{\"colorbar\": {\"outlinewidth\": 0, \"ticks\": \"\"}, \"type\": \"mesh3d\"}], \"parcoords\": [{\"line\": {\"colorbar\": {\"outlinewidth\": 0, \"ticks\": \"\"}}, \"type\": \"parcoords\"}], \"pie\": [{\"automargin\": true, \"type\": \"pie\"}], \"scatter\": [{\"marker\": {\"colorbar\": {\"outlinewidth\": 0, \"ticks\": \"\"}}, \"type\": \"scatter\"}], \"scatter3d\": [{\"line\": {\"colorbar\": {\"outlinewidth\": 0, \"ticks\": \"\"}}, \"marker\": {\"colorbar\": {\"outlinewidth\": 0, \"ticks\": \"\"}}, \"type\": \"scatter3d\"}], \"scattercarpet\": [{\"marker\": {\"colorbar\": {\"outlinewidth\": 0, \"ticks\": \"\"}}, \"type\": \"scattercarpet\"}], \"scattergeo\": [{\"marker\": {\"colorbar\": {\"outlinewidth\": 0, \"ticks\": \"\"}}, \"type\": \"scattergeo\"}], \"scattergl\": [{\"marker\": {\"colorbar\": {\"outlinewidth\": 0, \"ticks\": \"\"}}, \"type\": \"scattergl\"}], \"scattermapbox\": [{\"marker\": {\"colorbar\": {\"outlinewidth\": 0, \"ticks\": \"\"}}, \"type\": \"scattermapbox\"}], \"scatterpolar\": [{\"marker\": {\"colorbar\": {\"outlinewidth\": 0, \"ticks\": \"\"}}, \"type\": \"scatterpolar\"}], \"scatterpolargl\": [{\"marker\": {\"colorbar\": {\"outlinewidth\": 0, \"ticks\": \"\"}}, \"type\": \"scatterpolargl\"}], \"scatterternary\": [{\"marker\": {\"colorbar\": {\"outlinewidth\": 0, \"ticks\": \"\"}}, \"type\": \"scatterternary\"}], \"surface\": [{\"colorbar\": {\"outlinewidth\": 0, \"ticks\": \"\"}, \"colorscale\": [[0.0, \"#0d0887\"], [0.1111111111111111, \"#46039f\"], [0.2222222222222222, \"#7201a8\"], [0.3333333333333333, \"#9c179e\"], [0.4444444444444444, \"#bd3786\"], [0.5555555555555556, \"#d8576b\"], [0.6666666666666666, \"#ed7953\"], [0.7777777777777778, \"#fb9f3a\"], [0.8888888888888888, \"#fdca26\"], [1.0, \"#f0f921\"]], \"type\": \"surface\"}], \"table\": [{\"cells\": {\"fill\": {\"color\": \"#EBF0F8\"}, \"line\": {\"color\": \"white\"}}, \"header\": {\"fill\": {\"color\": \"#C8D4E3\"}, \"line\": {\"color\": \"white\"}}, \"type\": \"table\"}]}, \"layout\": {\"annotationdefaults\": {\"arrowcolor\": \"#2a3f5f\", \"arrowhead\": 0, \"arrowwidth\": 1}, \"coloraxis\": {\"colorbar\": {\"outlinewidth\": 0, \"ticks\": \"\"}}, \"colorscale\": {\"diverging\": [[0, \"#8e0152\"], [0.1, \"#c51b7d\"], [0.2, \"#de77ae\"], [0.3, \"#f1b6da\"], [0.4, \"#fde0ef\"], [0.5, \"#f7f7f7\"], [0.6, \"#e6f5d0\"], [0.7, \"#b8e186\"], [0.8, \"#7fbc41\"], [0.9, \"#4d9221\"], [1, \"#276419\"]], \"sequential\": [[0.0, \"#0d0887\"], [0.1111111111111111, \"#46039f\"], [0.2222222222222222, \"#7201a8\"], [0.3333333333333333, \"#9c179e\"], [0.4444444444444444, \"#bd3786\"], [0.5555555555555556, \"#d8576b\"], [0.6666666666666666, \"#ed7953\"], [0.7777777777777778, \"#fb9f3a\"], [0.8888888888888888, \"#fdca26\"], [1.0, \"#f0f921\"]], \"sequentialminus\": [[0.0, \"#0d0887\"], [0.1111111111111111, \"#46039f\"], [0.2222222222222222, \"#7201a8\"], [0.3333333333333333, \"#9c179e\"], [0.4444444444444444, \"#bd3786\"], [0.5555555555555556, \"#d8576b\"], [0.6666666666666666, \"#ed7953\"], [0.7777777777777778, \"#fb9f3a\"], [0.8888888888888888, \"#fdca26\"], [1.0, \"#f0f921\"]]}, \"colorway\": [\"#636efa\", \"#EF553B\", \"#00cc96\", \"#ab63fa\", \"#FFA15A\", \"#19d3f3\", \"#FF6692\", \"#B6E880\", \"#FF97FF\", \"#FECB52\"], \"font\": {\"color\": \"#2a3f5f\"}, \"geo\": {\"bgcolor\": \"white\", \"lakecolor\": \"white\", \"landcolor\": \"#E5ECF6\", \"showlakes\": true, \"showland\": true, \"subunitcolor\": \"white\"}, \"hoverlabel\": {\"align\": \"left\"}, \"hovermode\": \"closest\", \"mapbox\": {\"style\": \"light\"}, \"paper_bgcolor\": \"white\", \"plot_bgcolor\": \"#E5ECF6\", \"polar\": {\"angularaxis\": {\"gridcolor\": \"white\", \"linecolor\": \"white\", \"ticks\": \"\"}, \"bgcolor\": \"#E5ECF6\", \"radialaxis\": {\"gridcolor\": \"white\", \"linecolor\": \"white\", \"ticks\": \"\"}}, \"scene\": {\"xaxis\": {\"backgroundcolor\": \"#E5ECF6\", \"gridcolor\": \"white\", \"gridwidth\": 2, \"linecolor\": \"white\", \"showbackground\": true, \"ticks\": \"\", \"zerolinecolor\": \"white\"}, \"yaxis\": {\"backgroundcolor\": \"#E5ECF6\", \"gridcolor\": \"white\", \"gridwidth\": 2, \"linecolor\": \"white\", \"showbackground\": true, \"ticks\": \"\", \"zerolinecolor\": \"white\"}, \"zaxis\": {\"backgroundcolor\": \"#E5ECF6\", \"gridcolor\": \"white\", \"gridwidth\": 2, \"linecolor\": \"white\", \"showbackground\": true, \"ticks\": \"\", \"zerolinecolor\": \"white\"}}, \"shapedefaults\": {\"line\": {\"color\": \"#2a3f5f\"}}, \"ternary\": {\"aaxis\": {\"gridcolor\": \"white\", \"linecolor\": \"white\", \"ticks\": \"\"}, \"baxis\": {\"gridcolor\": \"white\", \"linecolor\": \"white\", \"ticks\": \"\"}, \"bgcolor\": \"#E5ECF6\", \"caxis\": {\"gridcolor\": \"white\", \"linecolor\": \"white\", \"ticks\": \"\"}}, \"title\": {\"x\": 0.05}, \"xaxis\": {\"automargin\": true, \"gridcolor\": \"white\", \"linecolor\": \"white\", \"ticks\": \"\", \"title\": {\"standoff\": 15}, \"zerolinecolor\": \"white\", \"zerolinewidth\": 2}, \"yaxis\": {\"automargin\": true, \"gridcolor\": \"white\", \"linecolor\": \"white\", \"ticks\": \"\", \"title\": {\"standoff\": 15}, \"zerolinecolor\": \"white\", \"zerolinewidth\": 2}}}, \"title\": {\"font\": {\"color\": \"#4D5663\"}}, \"xaxis\": {\"gridcolor\": \"#E1E5ED\", \"showgrid\": true, \"tickfont\": {\"color\": \"#4D5663\"}, \"title\": {\"font\": {\"color\": \"#4D5663\"}, \"text\": \"\"}, \"zerolinecolor\": \"#E1E5ED\"}, \"yaxis\": {\"gridcolor\": \"#E1E5ED\", \"showgrid\": true, \"tickfont\": {\"color\": \"#4D5663\"}, \"title\": {\"font\": {\"color\": \"#4D5663\"}, \"text\": \"\"}, \"zerolinecolor\": \"#E1E5ED\"}},\n",
       "                        {\"showLink\": true, \"linkText\": \"Export to plot.ly\", \"plotlyServerURL\": \"https://plot.ly\", \"responsive\": true}\n",
       "                    ).then(function(){\n",
       "                            \n",
       "var gd = document.getElementById('1ec3c08f-6c78-489d-8d83-044129d87d89');\n",
       "var x = new MutationObserver(function (mutations, observer) {{\n",
       "        var display = window.getComputedStyle(gd).display;\n",
       "        if (!display || display === 'none') {{\n",
       "            console.log([gd, 'removed!']);\n",
       "            Plotly.purge(gd);\n",
       "            observer.disconnect();\n",
       "        }}\n",
       "}});\n",
       "\n",
       "// Listen for the removal of the full notebook cells\n",
       "var notebookContainer = gd.closest('#notebook-container');\n",
       "if (notebookContainer) {{\n",
       "    x.observe(notebookContainer, {childList: true});\n",
       "}}\n",
       "\n",
       "// Listen for the clearing of the current output cell\n",
       "var outputEl = gd.closest('.output');\n",
       "if (outputEl) {{\n",
       "    x.observe(outputEl, {childList: true});\n",
       "}}\n",
       "\n",
       "                        })\n",
       "                };\n",
       "                });\n",
       "            </script>\n",
       "        </div>"
      ]
     },
     "metadata": {},
     "output_type": "display_data"
    }
   ],
   "source": [
    "df.iplot(kind='scatter', x='A', y='B')"
   ]
  },
  {
   "cell_type": "code",
   "execution_count": 14,
   "metadata": {},
   "outputs": [
    {
     "data": {
      "application/vnd.plotly.v1+json": {
       "config": {
        "linkText": "Export to plot.ly",
        "plotlyServerURL": "https://plot.ly",
        "showLink": true
       },
       "data": [
        {
         "line": {
          "color": "rgba(255, 153, 51, 1.0)",
          "dash": "solid",
          "shape": "linear",
          "width": 1.3
         },
         "marker": {
          "size": 12,
          "symbol": "circle"
         },
         "mode": "markers",
         "name": "B",
         "text": "",
         "type": "scatter",
         "x": [
          1.5142186544122638,
          0.27895064943248915,
          -1.2772201606503015,
          0.7176215978752194,
          1.0242630534311887,
          -0.18782350124528943,
          -0.15971406208206046,
          -0.09450672113595138,
          1.101557217961529,
          1.760246324420678,
          0.4957627962412397,
          1.4410840240165774,
          0.890736201554487,
          -0.1973859512432099,
          -0.22647367315349648,
          0.9600258803516739,
          -0.22695644558189895,
          0.9014455961017745,
          -1.0352942125712694,
          1.3614210778771305,
          1.438341742803549,
          0.0062457188416346066,
          -0.34075842820041674,
          1.1645719966781778,
          3.251475167837798,
          0.3585119159665232,
          0.35559795617521023,
          -1.4927235063683504,
          -0.09654662808693423,
          -0.057294310675322785,
          -0.48183583073170233,
          -0.5382944548854823,
          0.9208574046073155,
          -0.6302021900122878,
          0.30933377625955083,
          -0.46552971679190036,
          -0.912246971568453,
          0.663008040972662,
          1.2686499433429357,
          0.36508507101402465,
          0.13357487450389904,
          -0.20648604070240084,
          0.49234018847418437,
          -1.0079776998156387,
          -1.3502695696598568,
          0.5959137955318851,
          -0.3372748183372034,
          -1.7190172045328507,
          0.3701065313721388,
          -1.109452713943562,
          0.11680700607062913,
          -0.8627209126237989,
          -0.8575591132443635,
          -0.044169557298888655,
          -0.7955907040068338,
          0.12234260476958768,
          -1.0760163613813911,
          -0.8283533358210704,
          0.268329750244207,
          1.066892146131821,
          -0.6553844559897053,
          -0.644878025080047,
          0.28702367749052854,
          -0.41938747626877115,
          1.959073984465897,
          -1.1269742470876678,
          3.8538700868814058,
          0.8705990773885701,
          0.5240821424022016,
          0.33280913610094887,
          0.4259038558689888,
          -1.2700198508155802,
          -0.5263315245506245,
          -0.1637455667230135,
          2.213359350383037,
          -0.4878057724962988,
          -0.46568550675433373,
          0.9524119005427031,
          1.7669535874688445,
          0.9320713319598105,
          1.0426693299362813,
          -1.7119433140080471,
          -0.2723835374814382,
          -1.4597336316316212,
          0.7187397058115067,
          0.5706065969920404,
          0.023982717991074275,
          -0.7639207845885283,
          -0.9117422967467312,
          -0.5438741254817734,
          -0.7489289965331479,
          1.0933015307053855,
          -0.33036206127818424,
          0.573877123376443,
          1.548344828251328,
          -0.2994560355888004,
          0.47710475522997875,
          -1.7490432446344575,
          -0.615644586432859,
          -0.0696319730489194
         ],
         "y": [
          -0.9153410714929735,
          1.6358976547955704,
          0.09255099576014963,
          1.5400934402495086,
          0.6425658299894662,
          -0.26179888744269847,
          1.0273186956146738,
          -0.6307535418604402,
          -2.5346978546476517,
          -2.1897817281056837,
          0.8311035354450367,
          0.6399383182121887,
          -0.9403607387553982,
          0.7078174444510166,
          -0.45457637870870515,
          1.1980318577308495,
          -0.11554976053470527,
          0.30680062220353793,
          -0.9217244314001211,
          -0.6663874786748377,
          1.32120609432077,
          1.0109233247836378,
          -0.1824269769280658,
          -1.0488991304782136,
          1.0662243347339762,
          -0.9034244394440355,
          -0.3263330312314083,
          -0.2607788207729719,
          -2.4278016862124088,
          -0.12711866662850796,
          -0.36884387842295946,
          0.6429063120523958,
          0.14881899593559214,
          -0.43653258631725117,
          1.1884826095900352,
          2.178398074485583,
          -0.06233515306434373,
          0.2587311274407884,
          -0.3741404646665351,
          0.30626494513246,
          -2.126751910804884,
          -2.060133981135926,
          1.5529239103471126,
          -0.38836926178255654,
          0.3942599587482798,
          1.5803964142097777,
          -1.0523833241987806,
          -0.01657286604126695,
          -0.770066526216671,
          0.9920549755691876,
          0.22018622155780793,
          0.9478438860931523,
          2.5346802705488365,
          0.30453558445497775,
          0.44999869484970006,
          0.1329256362940828,
          0.5257532229366679,
          0.6353351705845959,
          1.3939366249738248,
          -0.22346756860341713,
          1.1700863549033256,
          -0.6893141589265049,
          -0.7284549415162579,
          1.0979628734277693,
          -0.9852892186534995,
          0.04408684809316521,
          -0.3768717795879098,
          -0.09487210728594804,
          0.40576310664905313,
          0.4280661826615465,
          -0.8014571020621714,
          -1.192492353104392,
          0.9009984970801053,
          -0.6804664819337662,
          -0.05322152993200261,
          -0.5406055085130784,
          -1.1648516692905604,
          -0.4866434874688328,
          -0.2527643374481889,
          -0.49051314591226564,
          0.4483948614666029,
          -0.1286617016280999,
          0.7375815043599231,
          -1.2179161391289677,
          1.329503329537658,
          0.6406407101277446,
          -0.3885952375410158,
          -1.3344868258260545,
          0.021479658397961912,
          0.14220431097964045,
          0.6956144127780031,
          -1.2274294853474346,
          0.8445551976348453,
          -0.27707728983608126,
          -1.044478370898736,
          -1.0342492050125447,
          1.8384683805763349,
          -0.47129373877017977,
          0.2826769281895832,
          0.29606799065000583
         ]
        }
       ],
       "layout": {
        "legend": {
         "bgcolor": "#F5F6F9",
         "font": {
          "color": "#4D5663"
         }
        },
        "paper_bgcolor": "#F5F6F9",
        "plot_bgcolor": "#F5F6F9",
        "template": {
         "data": {
          "bar": [
           {
            "error_x": {
             "color": "#2a3f5f"
            },
            "error_y": {
             "color": "#2a3f5f"
            },
            "marker": {
             "line": {
              "color": "#E5ECF6",
              "width": 0.5
             }
            },
            "type": "bar"
           }
          ],
          "barpolar": [
           {
            "marker": {
             "line": {
              "color": "#E5ECF6",
              "width": 0.5
             }
            },
            "type": "barpolar"
           }
          ],
          "carpet": [
           {
            "aaxis": {
             "endlinecolor": "#2a3f5f",
             "gridcolor": "white",
             "linecolor": "white",
             "minorgridcolor": "white",
             "startlinecolor": "#2a3f5f"
            },
            "baxis": {
             "endlinecolor": "#2a3f5f",
             "gridcolor": "white",
             "linecolor": "white",
             "minorgridcolor": "white",
             "startlinecolor": "#2a3f5f"
            },
            "type": "carpet"
           }
          ],
          "choropleth": [
           {
            "colorbar": {
             "outlinewidth": 0,
             "ticks": ""
            },
            "type": "choropleth"
           }
          ],
          "contour": [
           {
            "colorbar": {
             "outlinewidth": 0,
             "ticks": ""
            },
            "colorscale": [
             [
              0,
              "#0d0887"
             ],
             [
              0.1111111111111111,
              "#46039f"
             ],
             [
              0.2222222222222222,
              "#7201a8"
             ],
             [
              0.3333333333333333,
              "#9c179e"
             ],
             [
              0.4444444444444444,
              "#bd3786"
             ],
             [
              0.5555555555555556,
              "#d8576b"
             ],
             [
              0.6666666666666666,
              "#ed7953"
             ],
             [
              0.7777777777777778,
              "#fb9f3a"
             ],
             [
              0.8888888888888888,
              "#fdca26"
             ],
             [
              1,
              "#f0f921"
             ]
            ],
            "type": "contour"
           }
          ],
          "contourcarpet": [
           {
            "colorbar": {
             "outlinewidth": 0,
             "ticks": ""
            },
            "type": "contourcarpet"
           }
          ],
          "heatmap": [
           {
            "colorbar": {
             "outlinewidth": 0,
             "ticks": ""
            },
            "colorscale": [
             [
              0,
              "#0d0887"
             ],
             [
              0.1111111111111111,
              "#46039f"
             ],
             [
              0.2222222222222222,
              "#7201a8"
             ],
             [
              0.3333333333333333,
              "#9c179e"
             ],
             [
              0.4444444444444444,
              "#bd3786"
             ],
             [
              0.5555555555555556,
              "#d8576b"
             ],
             [
              0.6666666666666666,
              "#ed7953"
             ],
             [
              0.7777777777777778,
              "#fb9f3a"
             ],
             [
              0.8888888888888888,
              "#fdca26"
             ],
             [
              1,
              "#f0f921"
             ]
            ],
            "type": "heatmap"
           }
          ],
          "heatmapgl": [
           {
            "colorbar": {
             "outlinewidth": 0,
             "ticks": ""
            },
            "colorscale": [
             [
              0,
              "#0d0887"
             ],
             [
              0.1111111111111111,
              "#46039f"
             ],
             [
              0.2222222222222222,
              "#7201a8"
             ],
             [
              0.3333333333333333,
              "#9c179e"
             ],
             [
              0.4444444444444444,
              "#bd3786"
             ],
             [
              0.5555555555555556,
              "#d8576b"
             ],
             [
              0.6666666666666666,
              "#ed7953"
             ],
             [
              0.7777777777777778,
              "#fb9f3a"
             ],
             [
              0.8888888888888888,
              "#fdca26"
             ],
             [
              1,
              "#f0f921"
             ]
            ],
            "type": "heatmapgl"
           }
          ],
          "histogram": [
           {
            "marker": {
             "colorbar": {
              "outlinewidth": 0,
              "ticks": ""
             }
            },
            "type": "histogram"
           }
          ],
          "histogram2d": [
           {
            "colorbar": {
             "outlinewidth": 0,
             "ticks": ""
            },
            "colorscale": [
             [
              0,
              "#0d0887"
             ],
             [
              0.1111111111111111,
              "#46039f"
             ],
             [
              0.2222222222222222,
              "#7201a8"
             ],
             [
              0.3333333333333333,
              "#9c179e"
             ],
             [
              0.4444444444444444,
              "#bd3786"
             ],
             [
              0.5555555555555556,
              "#d8576b"
             ],
             [
              0.6666666666666666,
              "#ed7953"
             ],
             [
              0.7777777777777778,
              "#fb9f3a"
             ],
             [
              0.8888888888888888,
              "#fdca26"
             ],
             [
              1,
              "#f0f921"
             ]
            ],
            "type": "histogram2d"
           }
          ],
          "histogram2dcontour": [
           {
            "colorbar": {
             "outlinewidth": 0,
             "ticks": ""
            },
            "colorscale": [
             [
              0,
              "#0d0887"
             ],
             [
              0.1111111111111111,
              "#46039f"
             ],
             [
              0.2222222222222222,
              "#7201a8"
             ],
             [
              0.3333333333333333,
              "#9c179e"
             ],
             [
              0.4444444444444444,
              "#bd3786"
             ],
             [
              0.5555555555555556,
              "#d8576b"
             ],
             [
              0.6666666666666666,
              "#ed7953"
             ],
             [
              0.7777777777777778,
              "#fb9f3a"
             ],
             [
              0.8888888888888888,
              "#fdca26"
             ],
             [
              1,
              "#f0f921"
             ]
            ],
            "type": "histogram2dcontour"
           }
          ],
          "mesh3d": [
           {
            "colorbar": {
             "outlinewidth": 0,
             "ticks": ""
            },
            "type": "mesh3d"
           }
          ],
          "parcoords": [
           {
            "line": {
             "colorbar": {
              "outlinewidth": 0,
              "ticks": ""
             }
            },
            "type": "parcoords"
           }
          ],
          "pie": [
           {
            "automargin": true,
            "type": "pie"
           }
          ],
          "scatter": [
           {
            "marker": {
             "colorbar": {
              "outlinewidth": 0,
              "ticks": ""
             }
            },
            "type": "scatter"
           }
          ],
          "scatter3d": [
           {
            "line": {
             "colorbar": {
              "outlinewidth": 0,
              "ticks": ""
             }
            },
            "marker": {
             "colorbar": {
              "outlinewidth": 0,
              "ticks": ""
             }
            },
            "type": "scatter3d"
           }
          ],
          "scattercarpet": [
           {
            "marker": {
             "colorbar": {
              "outlinewidth": 0,
              "ticks": ""
             }
            },
            "type": "scattercarpet"
           }
          ],
          "scattergeo": [
           {
            "marker": {
             "colorbar": {
              "outlinewidth": 0,
              "ticks": ""
             }
            },
            "type": "scattergeo"
           }
          ],
          "scattergl": [
           {
            "marker": {
             "colorbar": {
              "outlinewidth": 0,
              "ticks": ""
             }
            },
            "type": "scattergl"
           }
          ],
          "scattermapbox": [
           {
            "marker": {
             "colorbar": {
              "outlinewidth": 0,
              "ticks": ""
             }
            },
            "type": "scattermapbox"
           }
          ],
          "scatterpolar": [
           {
            "marker": {
             "colorbar": {
              "outlinewidth": 0,
              "ticks": ""
             }
            },
            "type": "scatterpolar"
           }
          ],
          "scatterpolargl": [
           {
            "marker": {
             "colorbar": {
              "outlinewidth": 0,
              "ticks": ""
             }
            },
            "type": "scatterpolargl"
           }
          ],
          "scatterternary": [
           {
            "marker": {
             "colorbar": {
              "outlinewidth": 0,
              "ticks": ""
             }
            },
            "type": "scatterternary"
           }
          ],
          "surface": [
           {
            "colorbar": {
             "outlinewidth": 0,
             "ticks": ""
            },
            "colorscale": [
             [
              0,
              "#0d0887"
             ],
             [
              0.1111111111111111,
              "#46039f"
             ],
             [
              0.2222222222222222,
              "#7201a8"
             ],
             [
              0.3333333333333333,
              "#9c179e"
             ],
             [
              0.4444444444444444,
              "#bd3786"
             ],
             [
              0.5555555555555556,
              "#d8576b"
             ],
             [
              0.6666666666666666,
              "#ed7953"
             ],
             [
              0.7777777777777778,
              "#fb9f3a"
             ],
             [
              0.8888888888888888,
              "#fdca26"
             ],
             [
              1,
              "#f0f921"
             ]
            ],
            "type": "surface"
           }
          ],
          "table": [
           {
            "cells": {
             "fill": {
              "color": "#EBF0F8"
             },
             "line": {
              "color": "white"
             }
            },
            "header": {
             "fill": {
              "color": "#C8D4E3"
             },
             "line": {
              "color": "white"
             }
            },
            "type": "table"
           }
          ]
         },
         "layout": {
          "annotationdefaults": {
           "arrowcolor": "#2a3f5f",
           "arrowhead": 0,
           "arrowwidth": 1
          },
          "coloraxis": {
           "colorbar": {
            "outlinewidth": 0,
            "ticks": ""
           }
          },
          "colorscale": {
           "diverging": [
            [
             0,
             "#8e0152"
            ],
            [
             0.1,
             "#c51b7d"
            ],
            [
             0.2,
             "#de77ae"
            ],
            [
             0.3,
             "#f1b6da"
            ],
            [
             0.4,
             "#fde0ef"
            ],
            [
             0.5,
             "#f7f7f7"
            ],
            [
             0.6,
             "#e6f5d0"
            ],
            [
             0.7,
             "#b8e186"
            ],
            [
             0.8,
             "#7fbc41"
            ],
            [
             0.9,
             "#4d9221"
            ],
            [
             1,
             "#276419"
            ]
           ],
           "sequential": [
            [
             0,
             "#0d0887"
            ],
            [
             0.1111111111111111,
             "#46039f"
            ],
            [
             0.2222222222222222,
             "#7201a8"
            ],
            [
             0.3333333333333333,
             "#9c179e"
            ],
            [
             0.4444444444444444,
             "#bd3786"
            ],
            [
             0.5555555555555556,
             "#d8576b"
            ],
            [
             0.6666666666666666,
             "#ed7953"
            ],
            [
             0.7777777777777778,
             "#fb9f3a"
            ],
            [
             0.8888888888888888,
             "#fdca26"
            ],
            [
             1,
             "#f0f921"
            ]
           ],
           "sequentialminus": [
            [
             0,
             "#0d0887"
            ],
            [
             0.1111111111111111,
             "#46039f"
            ],
            [
             0.2222222222222222,
             "#7201a8"
            ],
            [
             0.3333333333333333,
             "#9c179e"
            ],
            [
             0.4444444444444444,
             "#bd3786"
            ],
            [
             0.5555555555555556,
             "#d8576b"
            ],
            [
             0.6666666666666666,
             "#ed7953"
            ],
            [
             0.7777777777777778,
             "#fb9f3a"
            ],
            [
             0.8888888888888888,
             "#fdca26"
            ],
            [
             1,
             "#f0f921"
            ]
           ]
          },
          "colorway": [
           "#636efa",
           "#EF553B",
           "#00cc96",
           "#ab63fa",
           "#FFA15A",
           "#19d3f3",
           "#FF6692",
           "#B6E880",
           "#FF97FF",
           "#FECB52"
          ],
          "font": {
           "color": "#2a3f5f"
          },
          "geo": {
           "bgcolor": "white",
           "lakecolor": "white",
           "landcolor": "#E5ECF6",
           "showlakes": true,
           "showland": true,
           "subunitcolor": "white"
          },
          "hoverlabel": {
           "align": "left"
          },
          "hovermode": "closest",
          "mapbox": {
           "style": "light"
          },
          "paper_bgcolor": "white",
          "plot_bgcolor": "#E5ECF6",
          "polar": {
           "angularaxis": {
            "gridcolor": "white",
            "linecolor": "white",
            "ticks": ""
           },
           "bgcolor": "#E5ECF6",
           "radialaxis": {
            "gridcolor": "white",
            "linecolor": "white",
            "ticks": ""
           }
          },
          "scene": {
           "xaxis": {
            "backgroundcolor": "#E5ECF6",
            "gridcolor": "white",
            "gridwidth": 2,
            "linecolor": "white",
            "showbackground": true,
            "ticks": "",
            "zerolinecolor": "white"
           },
           "yaxis": {
            "backgroundcolor": "#E5ECF6",
            "gridcolor": "white",
            "gridwidth": 2,
            "linecolor": "white",
            "showbackground": true,
            "ticks": "",
            "zerolinecolor": "white"
           },
           "zaxis": {
            "backgroundcolor": "#E5ECF6",
            "gridcolor": "white",
            "gridwidth": 2,
            "linecolor": "white",
            "showbackground": true,
            "ticks": "",
            "zerolinecolor": "white"
           }
          },
          "shapedefaults": {
           "line": {
            "color": "#2a3f5f"
           }
          },
          "ternary": {
           "aaxis": {
            "gridcolor": "white",
            "linecolor": "white",
            "ticks": ""
           },
           "baxis": {
            "gridcolor": "white",
            "linecolor": "white",
            "ticks": ""
           },
           "bgcolor": "#E5ECF6",
           "caxis": {
            "gridcolor": "white",
            "linecolor": "white",
            "ticks": ""
           }
          },
          "title": {
           "x": 0.05
          },
          "xaxis": {
           "automargin": true,
           "gridcolor": "white",
           "linecolor": "white",
           "ticks": "",
           "title": {
            "standoff": 15
           },
           "zerolinecolor": "white",
           "zerolinewidth": 2
          },
          "yaxis": {
           "automargin": true,
           "gridcolor": "white",
           "linecolor": "white",
           "ticks": "",
           "title": {
            "standoff": 15
           },
           "zerolinecolor": "white",
           "zerolinewidth": 2
          }
         }
        },
        "title": {
         "font": {
          "color": "#4D5663"
         }
        },
        "xaxis": {
         "gridcolor": "#E1E5ED",
         "showgrid": true,
         "tickfont": {
          "color": "#4D5663"
         },
         "title": {
          "font": {
           "color": "#4D5663"
          },
          "text": ""
         },
         "zerolinecolor": "#E1E5ED"
        },
        "yaxis": {
         "gridcolor": "#E1E5ED",
         "showgrid": true,
         "tickfont": {
          "color": "#4D5663"
         },
         "title": {
          "font": {
           "color": "#4D5663"
          },
          "text": ""
         },
         "zerolinecolor": "#E1E5ED"
        }
       }
      },
      "text/html": [
       "<div>\n",
       "        \n",
       "        \n",
       "            <div id=\"046838f9-b357-4ff9-a290-ce0972012a20\" class=\"plotly-graph-div\" style=\"height:525px; width:100%;\"></div>\n",
       "            <script type=\"text/javascript\">\n",
       "                require([\"plotly\"], function(Plotly) {\n",
       "                    window.PLOTLYENV=window.PLOTLYENV || {};\n",
       "                    window.PLOTLYENV.BASE_URL='https://plot.ly';\n",
       "                    \n",
       "                if (document.getElementById(\"046838f9-b357-4ff9-a290-ce0972012a20\")) {\n",
       "                    Plotly.newPlot(\n",
       "                        '046838f9-b357-4ff9-a290-ce0972012a20',\n",
       "                        [{\"line\": {\"color\": \"rgba(255, 153, 51, 1.0)\", \"dash\": \"solid\", \"shape\": \"linear\", \"width\": 1.3}, \"marker\": {\"size\": 12, \"symbol\": \"circle\"}, \"mode\": \"markers\", \"name\": \"B\", \"text\": \"\", \"type\": \"scatter\", \"x\": [1.5142186544122638, 0.27895064943248915, -1.2772201606503015, 0.7176215978752194, 1.0242630534311887, -0.18782350124528943, -0.15971406208206046, -0.09450672113595138, 1.101557217961529, 1.760246324420678, 0.4957627962412397, 1.4410840240165774, 0.890736201554487, -0.1973859512432099, -0.22647367315349648, 0.9600258803516739, -0.22695644558189895, 0.9014455961017745, -1.0352942125712694, 1.3614210778771305, 1.438341742803549, 0.0062457188416346066, -0.34075842820041674, 1.1645719966781778, 3.251475167837798, 0.3585119159665232, 0.35559795617521023, -1.4927235063683504, -0.09654662808693423, -0.057294310675322785, -0.48183583073170233, -0.5382944548854823, 0.9208574046073155, -0.6302021900122878, 0.30933377625955083, -0.46552971679190036, -0.912246971568453, 0.663008040972662, 1.2686499433429357, 0.36508507101402465, 0.13357487450389904, -0.20648604070240084, 0.49234018847418437, -1.0079776998156387, -1.3502695696598568, 0.5959137955318851, -0.3372748183372034, -1.7190172045328507, 0.3701065313721388, -1.109452713943562, 0.11680700607062913, -0.8627209126237989, -0.8575591132443635, -0.044169557298888655, -0.7955907040068338, 0.12234260476958768, -1.0760163613813911, -0.8283533358210704, 0.268329750244207, 1.066892146131821, -0.6553844559897053, -0.644878025080047, 0.28702367749052854, -0.41938747626877115, 1.959073984465897, -1.1269742470876678, 3.8538700868814058, 0.8705990773885701, 0.5240821424022016, 0.33280913610094887, 0.4259038558689888, -1.2700198508155802, -0.5263315245506245, -0.1637455667230135, 2.213359350383037, -0.4878057724962988, -0.46568550675433373, 0.9524119005427031, 1.7669535874688445, 0.9320713319598105, 1.0426693299362813, -1.7119433140080471, -0.2723835374814382, -1.4597336316316212, 0.7187397058115067, 0.5706065969920404, 0.023982717991074275, -0.7639207845885283, -0.9117422967467312, -0.5438741254817734, -0.7489289965331479, 1.0933015307053855, -0.33036206127818424, 0.573877123376443, 1.548344828251328, -0.2994560355888004, 0.47710475522997875, -1.7490432446344575, -0.615644586432859, -0.0696319730489194], \"y\": [-0.9153410714929735, 1.6358976547955704, 0.09255099576014963, 1.5400934402495086, 0.6425658299894662, -0.26179888744269847, 1.0273186956146738, -0.6307535418604402, -2.5346978546476517, -2.1897817281056837, 0.8311035354450367, 0.6399383182121887, -0.9403607387553982, 0.7078174444510166, -0.45457637870870515, 1.1980318577308495, -0.11554976053470527, 0.30680062220353793, -0.9217244314001211, -0.6663874786748377, 1.32120609432077, 1.0109233247836378, -0.1824269769280658, -1.0488991304782136, 1.0662243347339762, -0.9034244394440355, -0.3263330312314083, -0.2607788207729719, -2.4278016862124088, -0.12711866662850796, -0.36884387842295946, 0.6429063120523958, 0.14881899593559214, -0.43653258631725117, 1.1884826095900352, 2.178398074485583, -0.06233515306434373, 0.2587311274407884, -0.3741404646665351, 0.30626494513246, -2.126751910804884, -2.060133981135926, 1.5529239103471126, -0.38836926178255654, 0.3942599587482798, 1.5803964142097777, -1.0523833241987806, -0.01657286604126695, -0.770066526216671, 0.9920549755691876, 0.22018622155780793, 0.9478438860931523, 2.5346802705488365, 0.30453558445497775, 0.44999869484970006, 0.1329256362940828, 0.5257532229366679, 0.6353351705845959, 1.3939366249738248, -0.22346756860341713, 1.1700863549033256, -0.6893141589265049, -0.7284549415162579, 1.0979628734277693, -0.9852892186534995, 0.04408684809316521, -0.3768717795879098, -0.09487210728594804, 0.40576310664905313, 0.4280661826615465, -0.8014571020621714, -1.192492353104392, 0.9009984970801053, -0.6804664819337662, -0.05322152993200261, -0.5406055085130784, -1.1648516692905604, -0.4866434874688328, -0.2527643374481889, -0.49051314591226564, 0.4483948614666029, -0.1286617016280999, 0.7375815043599231, -1.2179161391289677, 1.329503329537658, 0.6406407101277446, -0.3885952375410158, -1.3344868258260545, 0.021479658397961912, 0.14220431097964045, 0.6956144127780031, -1.2274294853474346, 0.8445551976348453, -0.27707728983608126, -1.044478370898736, -1.0342492050125447, 1.8384683805763349, -0.47129373877017977, 0.2826769281895832, 0.29606799065000583]}],\n",
       "                        {\"legend\": {\"bgcolor\": \"#F5F6F9\", \"font\": {\"color\": \"#4D5663\"}}, \"paper_bgcolor\": \"#F5F6F9\", \"plot_bgcolor\": \"#F5F6F9\", \"template\": {\"data\": {\"bar\": [{\"error_x\": {\"color\": \"#2a3f5f\"}, \"error_y\": {\"color\": \"#2a3f5f\"}, \"marker\": {\"line\": {\"color\": \"#E5ECF6\", \"width\": 0.5}}, \"type\": \"bar\"}], \"barpolar\": [{\"marker\": {\"line\": {\"color\": \"#E5ECF6\", \"width\": 0.5}}, \"type\": \"barpolar\"}], \"carpet\": [{\"aaxis\": {\"endlinecolor\": \"#2a3f5f\", \"gridcolor\": \"white\", \"linecolor\": \"white\", \"minorgridcolor\": \"white\", \"startlinecolor\": \"#2a3f5f\"}, \"baxis\": {\"endlinecolor\": \"#2a3f5f\", \"gridcolor\": \"white\", \"linecolor\": \"white\", \"minorgridcolor\": \"white\", \"startlinecolor\": \"#2a3f5f\"}, \"type\": \"carpet\"}], \"choropleth\": [{\"colorbar\": {\"outlinewidth\": 0, \"ticks\": \"\"}, \"type\": \"choropleth\"}], \"contour\": [{\"colorbar\": {\"outlinewidth\": 0, \"ticks\": \"\"}, \"colorscale\": [[0.0, \"#0d0887\"], [0.1111111111111111, \"#46039f\"], [0.2222222222222222, \"#7201a8\"], [0.3333333333333333, \"#9c179e\"], [0.4444444444444444, \"#bd3786\"], [0.5555555555555556, \"#d8576b\"], [0.6666666666666666, \"#ed7953\"], [0.7777777777777778, \"#fb9f3a\"], [0.8888888888888888, \"#fdca26\"], [1.0, \"#f0f921\"]], \"type\": \"contour\"}], \"contourcarpet\": [{\"colorbar\": {\"outlinewidth\": 0, \"ticks\": \"\"}, \"type\": \"contourcarpet\"}], \"heatmap\": [{\"colorbar\": {\"outlinewidth\": 0, \"ticks\": \"\"}, \"colorscale\": [[0.0, \"#0d0887\"], [0.1111111111111111, \"#46039f\"], [0.2222222222222222, \"#7201a8\"], [0.3333333333333333, \"#9c179e\"], [0.4444444444444444, \"#bd3786\"], [0.5555555555555556, \"#d8576b\"], [0.6666666666666666, \"#ed7953\"], [0.7777777777777778, \"#fb9f3a\"], [0.8888888888888888, \"#fdca26\"], [1.0, \"#f0f921\"]], \"type\": \"heatmap\"}], \"heatmapgl\": [{\"colorbar\": {\"outlinewidth\": 0, \"ticks\": \"\"}, \"colorscale\": [[0.0, \"#0d0887\"], [0.1111111111111111, \"#46039f\"], [0.2222222222222222, \"#7201a8\"], [0.3333333333333333, \"#9c179e\"], [0.4444444444444444, \"#bd3786\"], [0.5555555555555556, \"#d8576b\"], [0.6666666666666666, \"#ed7953\"], [0.7777777777777778, \"#fb9f3a\"], [0.8888888888888888, \"#fdca26\"], [1.0, \"#f0f921\"]], \"type\": \"heatmapgl\"}], \"histogram\": [{\"marker\": {\"colorbar\": {\"outlinewidth\": 0, \"ticks\": \"\"}}, \"type\": \"histogram\"}], \"histogram2d\": [{\"colorbar\": {\"outlinewidth\": 0, \"ticks\": \"\"}, \"colorscale\": [[0.0, \"#0d0887\"], [0.1111111111111111, \"#46039f\"], [0.2222222222222222, \"#7201a8\"], [0.3333333333333333, \"#9c179e\"], [0.4444444444444444, \"#bd3786\"], [0.5555555555555556, \"#d8576b\"], [0.6666666666666666, \"#ed7953\"], [0.7777777777777778, \"#fb9f3a\"], [0.8888888888888888, \"#fdca26\"], [1.0, \"#f0f921\"]], \"type\": \"histogram2d\"}], \"histogram2dcontour\": [{\"colorbar\": {\"outlinewidth\": 0, \"ticks\": \"\"}, \"colorscale\": [[0.0, \"#0d0887\"], [0.1111111111111111, \"#46039f\"], [0.2222222222222222, \"#7201a8\"], [0.3333333333333333, \"#9c179e\"], [0.4444444444444444, \"#bd3786\"], [0.5555555555555556, \"#d8576b\"], [0.6666666666666666, \"#ed7953\"], [0.7777777777777778, \"#fb9f3a\"], [0.8888888888888888, \"#fdca26\"], [1.0, \"#f0f921\"]], \"type\": \"histogram2dcontour\"}], \"mesh3d\": [{\"colorbar\": {\"outlinewidth\": 0, \"ticks\": \"\"}, \"type\": \"mesh3d\"}], \"parcoords\": [{\"line\": {\"colorbar\": {\"outlinewidth\": 0, \"ticks\": \"\"}}, \"type\": \"parcoords\"}], \"pie\": [{\"automargin\": true, \"type\": \"pie\"}], \"scatter\": [{\"marker\": {\"colorbar\": {\"outlinewidth\": 0, \"ticks\": \"\"}}, \"type\": \"scatter\"}], \"scatter3d\": [{\"line\": {\"colorbar\": {\"outlinewidth\": 0, \"ticks\": \"\"}}, \"marker\": {\"colorbar\": {\"outlinewidth\": 0, \"ticks\": \"\"}}, \"type\": \"scatter3d\"}], \"scattercarpet\": [{\"marker\": {\"colorbar\": {\"outlinewidth\": 0, \"ticks\": \"\"}}, \"type\": \"scattercarpet\"}], \"scattergeo\": [{\"marker\": {\"colorbar\": {\"outlinewidth\": 0, \"ticks\": \"\"}}, \"type\": \"scattergeo\"}], \"scattergl\": [{\"marker\": {\"colorbar\": {\"outlinewidth\": 0, \"ticks\": \"\"}}, \"type\": \"scattergl\"}], \"scattermapbox\": [{\"marker\": {\"colorbar\": {\"outlinewidth\": 0, \"ticks\": \"\"}}, \"type\": \"scattermapbox\"}], \"scatterpolar\": [{\"marker\": {\"colorbar\": {\"outlinewidth\": 0, \"ticks\": \"\"}}, \"type\": \"scatterpolar\"}], \"scatterpolargl\": [{\"marker\": {\"colorbar\": {\"outlinewidth\": 0, \"ticks\": \"\"}}, \"type\": \"scatterpolargl\"}], \"scatterternary\": [{\"marker\": {\"colorbar\": {\"outlinewidth\": 0, \"ticks\": \"\"}}, \"type\": \"scatterternary\"}], \"surface\": [{\"colorbar\": {\"outlinewidth\": 0, \"ticks\": \"\"}, \"colorscale\": [[0.0, \"#0d0887\"], [0.1111111111111111, \"#46039f\"], [0.2222222222222222, \"#7201a8\"], [0.3333333333333333, \"#9c179e\"], [0.4444444444444444, \"#bd3786\"], [0.5555555555555556, \"#d8576b\"], [0.6666666666666666, \"#ed7953\"], [0.7777777777777778, \"#fb9f3a\"], [0.8888888888888888, \"#fdca26\"], [1.0, \"#f0f921\"]], \"type\": \"surface\"}], \"table\": [{\"cells\": {\"fill\": {\"color\": \"#EBF0F8\"}, \"line\": {\"color\": \"white\"}}, \"header\": {\"fill\": {\"color\": \"#C8D4E3\"}, \"line\": {\"color\": \"white\"}}, \"type\": \"table\"}]}, \"layout\": {\"annotationdefaults\": {\"arrowcolor\": \"#2a3f5f\", \"arrowhead\": 0, \"arrowwidth\": 1}, \"coloraxis\": {\"colorbar\": {\"outlinewidth\": 0, \"ticks\": \"\"}}, \"colorscale\": {\"diverging\": [[0, \"#8e0152\"], [0.1, \"#c51b7d\"], [0.2, \"#de77ae\"], [0.3, \"#f1b6da\"], [0.4, \"#fde0ef\"], [0.5, \"#f7f7f7\"], [0.6, \"#e6f5d0\"], [0.7, \"#b8e186\"], [0.8, \"#7fbc41\"], [0.9, \"#4d9221\"], [1, \"#276419\"]], \"sequential\": [[0.0, \"#0d0887\"], [0.1111111111111111, \"#46039f\"], [0.2222222222222222, \"#7201a8\"], [0.3333333333333333, \"#9c179e\"], [0.4444444444444444, \"#bd3786\"], [0.5555555555555556, \"#d8576b\"], [0.6666666666666666, \"#ed7953\"], [0.7777777777777778, \"#fb9f3a\"], [0.8888888888888888, \"#fdca26\"], [1.0, \"#f0f921\"]], \"sequentialminus\": [[0.0, \"#0d0887\"], [0.1111111111111111, \"#46039f\"], [0.2222222222222222, \"#7201a8\"], [0.3333333333333333, \"#9c179e\"], [0.4444444444444444, \"#bd3786\"], [0.5555555555555556, \"#d8576b\"], [0.6666666666666666, \"#ed7953\"], [0.7777777777777778, \"#fb9f3a\"], [0.8888888888888888, \"#fdca26\"], [1.0, \"#f0f921\"]]}, \"colorway\": [\"#636efa\", \"#EF553B\", \"#00cc96\", \"#ab63fa\", \"#FFA15A\", \"#19d3f3\", \"#FF6692\", \"#B6E880\", \"#FF97FF\", \"#FECB52\"], \"font\": {\"color\": \"#2a3f5f\"}, \"geo\": {\"bgcolor\": \"white\", \"lakecolor\": \"white\", \"landcolor\": \"#E5ECF6\", \"showlakes\": true, \"showland\": true, \"subunitcolor\": \"white\"}, \"hoverlabel\": {\"align\": \"left\"}, \"hovermode\": \"closest\", \"mapbox\": {\"style\": \"light\"}, \"paper_bgcolor\": \"white\", \"plot_bgcolor\": \"#E5ECF6\", \"polar\": {\"angularaxis\": {\"gridcolor\": \"white\", \"linecolor\": \"white\", \"ticks\": \"\"}, \"bgcolor\": \"#E5ECF6\", \"radialaxis\": {\"gridcolor\": \"white\", \"linecolor\": \"white\", \"ticks\": \"\"}}, \"scene\": {\"xaxis\": {\"backgroundcolor\": \"#E5ECF6\", \"gridcolor\": \"white\", \"gridwidth\": 2, \"linecolor\": \"white\", \"showbackground\": true, \"ticks\": \"\", \"zerolinecolor\": \"white\"}, \"yaxis\": {\"backgroundcolor\": \"#E5ECF6\", \"gridcolor\": \"white\", \"gridwidth\": 2, \"linecolor\": \"white\", \"showbackground\": true, \"ticks\": \"\", \"zerolinecolor\": \"white\"}, \"zaxis\": {\"backgroundcolor\": \"#E5ECF6\", \"gridcolor\": \"white\", \"gridwidth\": 2, \"linecolor\": \"white\", \"showbackground\": true, \"ticks\": \"\", \"zerolinecolor\": \"white\"}}, \"shapedefaults\": {\"line\": {\"color\": \"#2a3f5f\"}}, \"ternary\": {\"aaxis\": {\"gridcolor\": \"white\", \"linecolor\": \"white\", \"ticks\": \"\"}, \"baxis\": {\"gridcolor\": \"white\", \"linecolor\": \"white\", \"ticks\": \"\"}, \"bgcolor\": \"#E5ECF6\", \"caxis\": {\"gridcolor\": \"white\", \"linecolor\": \"white\", \"ticks\": \"\"}}, \"title\": {\"x\": 0.05}, \"xaxis\": {\"automargin\": true, \"gridcolor\": \"white\", \"linecolor\": \"white\", \"ticks\": \"\", \"title\": {\"standoff\": 15}, \"zerolinecolor\": \"white\", \"zerolinewidth\": 2}, \"yaxis\": {\"automargin\": true, \"gridcolor\": \"white\", \"linecolor\": \"white\", \"ticks\": \"\", \"title\": {\"standoff\": 15}, \"zerolinecolor\": \"white\", \"zerolinewidth\": 2}}}, \"title\": {\"font\": {\"color\": \"#4D5663\"}}, \"xaxis\": {\"gridcolor\": \"#E1E5ED\", \"showgrid\": true, \"tickfont\": {\"color\": \"#4D5663\"}, \"title\": {\"font\": {\"color\": \"#4D5663\"}, \"text\": \"\"}, \"zerolinecolor\": \"#E1E5ED\"}, \"yaxis\": {\"gridcolor\": \"#E1E5ED\", \"showgrid\": true, \"tickfont\": {\"color\": \"#4D5663\"}, \"title\": {\"font\": {\"color\": \"#4D5663\"}, \"text\": \"\"}, \"zerolinecolor\": \"#E1E5ED\"}},\n",
       "                        {\"showLink\": true, \"linkText\": \"Export to plot.ly\", \"plotlyServerURL\": \"https://plot.ly\", \"responsive\": true}\n",
       "                    ).then(function(){\n",
       "                            \n",
       "var gd = document.getElementById('046838f9-b357-4ff9-a290-ce0972012a20');\n",
       "var x = new MutationObserver(function (mutations, observer) {{\n",
       "        var display = window.getComputedStyle(gd).display;\n",
       "        if (!display || display === 'none') {{\n",
       "            console.log([gd, 'removed!']);\n",
       "            Plotly.purge(gd);\n",
       "            observer.disconnect();\n",
       "        }}\n",
       "}});\n",
       "\n",
       "// Listen for the removal of the full notebook cells\n",
       "var notebookContainer = gd.closest('#notebook-container');\n",
       "if (notebookContainer) {{\n",
       "    x.observe(notebookContainer, {childList: true});\n",
       "}}\n",
       "\n",
       "// Listen for the clearing of the current output cell\n",
       "var outputEl = gd.closest('.output');\n",
       "if (outputEl) {{\n",
       "    x.observe(outputEl, {childList: true});\n",
       "}}\n",
       "\n",
       "                        })\n",
       "                };\n",
       "                });\n",
       "            </script>\n",
       "        </div>"
      ]
     },
     "metadata": {},
     "output_type": "display_data"
    }
   ],
   "source": [
    "df.iplot(kind='scatter', x='A', y='B', mode='markers')"
   ]
  },
  {
   "cell_type": "markdown",
   "metadata": {},
   "source": [
    "Em barra:"
   ]
  },
  {
   "cell_type": "code",
   "execution_count": 16,
   "metadata": {},
   "outputs": [
    {
     "data": {
      "application/vnd.plotly.v1+json": {
       "config": {
        "linkText": "Export to plot.ly",
        "plotlyServerURL": "https://plot.ly",
        "showLink": true
       },
       "data": [
        {
         "marker": {
          "color": "rgba(255, 153, 51, 0.6)",
          "line": {
           "color": "rgba(255, 153, 51, 1.0)",
           "width": 1
          }
         },
         "name": "Valores",
         "orientation": "v",
         "text": "",
         "type": "bar",
         "x": [
          "A",
          "B",
          "C"
         ],
         "y": [
          32,
          43,
          50
         ]
        }
       ],
       "layout": {
        "legend": {
         "bgcolor": "#F5F6F9",
         "font": {
          "color": "#4D5663"
         }
        },
        "paper_bgcolor": "#F5F6F9",
        "plot_bgcolor": "#F5F6F9",
        "template": {
         "data": {
          "bar": [
           {
            "error_x": {
             "color": "#2a3f5f"
            },
            "error_y": {
             "color": "#2a3f5f"
            },
            "marker": {
             "line": {
              "color": "#E5ECF6",
              "width": 0.5
             }
            },
            "type": "bar"
           }
          ],
          "barpolar": [
           {
            "marker": {
             "line": {
              "color": "#E5ECF6",
              "width": 0.5
             }
            },
            "type": "barpolar"
           }
          ],
          "carpet": [
           {
            "aaxis": {
             "endlinecolor": "#2a3f5f",
             "gridcolor": "white",
             "linecolor": "white",
             "minorgridcolor": "white",
             "startlinecolor": "#2a3f5f"
            },
            "baxis": {
             "endlinecolor": "#2a3f5f",
             "gridcolor": "white",
             "linecolor": "white",
             "minorgridcolor": "white",
             "startlinecolor": "#2a3f5f"
            },
            "type": "carpet"
           }
          ],
          "choropleth": [
           {
            "colorbar": {
             "outlinewidth": 0,
             "ticks": ""
            },
            "type": "choropleth"
           }
          ],
          "contour": [
           {
            "colorbar": {
             "outlinewidth": 0,
             "ticks": ""
            },
            "colorscale": [
             [
              0,
              "#0d0887"
             ],
             [
              0.1111111111111111,
              "#46039f"
             ],
             [
              0.2222222222222222,
              "#7201a8"
             ],
             [
              0.3333333333333333,
              "#9c179e"
             ],
             [
              0.4444444444444444,
              "#bd3786"
             ],
             [
              0.5555555555555556,
              "#d8576b"
             ],
             [
              0.6666666666666666,
              "#ed7953"
             ],
             [
              0.7777777777777778,
              "#fb9f3a"
             ],
             [
              0.8888888888888888,
              "#fdca26"
             ],
             [
              1,
              "#f0f921"
             ]
            ],
            "type": "contour"
           }
          ],
          "contourcarpet": [
           {
            "colorbar": {
             "outlinewidth": 0,
             "ticks": ""
            },
            "type": "contourcarpet"
           }
          ],
          "heatmap": [
           {
            "colorbar": {
             "outlinewidth": 0,
             "ticks": ""
            },
            "colorscale": [
             [
              0,
              "#0d0887"
             ],
             [
              0.1111111111111111,
              "#46039f"
             ],
             [
              0.2222222222222222,
              "#7201a8"
             ],
             [
              0.3333333333333333,
              "#9c179e"
             ],
             [
              0.4444444444444444,
              "#bd3786"
             ],
             [
              0.5555555555555556,
              "#d8576b"
             ],
             [
              0.6666666666666666,
              "#ed7953"
             ],
             [
              0.7777777777777778,
              "#fb9f3a"
             ],
             [
              0.8888888888888888,
              "#fdca26"
             ],
             [
              1,
              "#f0f921"
             ]
            ],
            "type": "heatmap"
           }
          ],
          "heatmapgl": [
           {
            "colorbar": {
             "outlinewidth": 0,
             "ticks": ""
            },
            "colorscale": [
             [
              0,
              "#0d0887"
             ],
             [
              0.1111111111111111,
              "#46039f"
             ],
             [
              0.2222222222222222,
              "#7201a8"
             ],
             [
              0.3333333333333333,
              "#9c179e"
             ],
             [
              0.4444444444444444,
              "#bd3786"
             ],
             [
              0.5555555555555556,
              "#d8576b"
             ],
             [
              0.6666666666666666,
              "#ed7953"
             ],
             [
              0.7777777777777778,
              "#fb9f3a"
             ],
             [
              0.8888888888888888,
              "#fdca26"
             ],
             [
              1,
              "#f0f921"
             ]
            ],
            "type": "heatmapgl"
           }
          ],
          "histogram": [
           {
            "marker": {
             "colorbar": {
              "outlinewidth": 0,
              "ticks": ""
             }
            },
            "type": "histogram"
           }
          ],
          "histogram2d": [
           {
            "colorbar": {
             "outlinewidth": 0,
             "ticks": ""
            },
            "colorscale": [
             [
              0,
              "#0d0887"
             ],
             [
              0.1111111111111111,
              "#46039f"
             ],
             [
              0.2222222222222222,
              "#7201a8"
             ],
             [
              0.3333333333333333,
              "#9c179e"
             ],
             [
              0.4444444444444444,
              "#bd3786"
             ],
             [
              0.5555555555555556,
              "#d8576b"
             ],
             [
              0.6666666666666666,
              "#ed7953"
             ],
             [
              0.7777777777777778,
              "#fb9f3a"
             ],
             [
              0.8888888888888888,
              "#fdca26"
             ],
             [
              1,
              "#f0f921"
             ]
            ],
            "type": "histogram2d"
           }
          ],
          "histogram2dcontour": [
           {
            "colorbar": {
             "outlinewidth": 0,
             "ticks": ""
            },
            "colorscale": [
             [
              0,
              "#0d0887"
             ],
             [
              0.1111111111111111,
              "#46039f"
             ],
             [
              0.2222222222222222,
              "#7201a8"
             ],
             [
              0.3333333333333333,
              "#9c179e"
             ],
             [
              0.4444444444444444,
              "#bd3786"
             ],
             [
              0.5555555555555556,
              "#d8576b"
             ],
             [
              0.6666666666666666,
              "#ed7953"
             ],
             [
              0.7777777777777778,
              "#fb9f3a"
             ],
             [
              0.8888888888888888,
              "#fdca26"
             ],
             [
              1,
              "#f0f921"
             ]
            ],
            "type": "histogram2dcontour"
           }
          ],
          "mesh3d": [
           {
            "colorbar": {
             "outlinewidth": 0,
             "ticks": ""
            },
            "type": "mesh3d"
           }
          ],
          "parcoords": [
           {
            "line": {
             "colorbar": {
              "outlinewidth": 0,
              "ticks": ""
             }
            },
            "type": "parcoords"
           }
          ],
          "pie": [
           {
            "automargin": true,
            "type": "pie"
           }
          ],
          "scatter": [
           {
            "marker": {
             "colorbar": {
              "outlinewidth": 0,
              "ticks": ""
             }
            },
            "type": "scatter"
           }
          ],
          "scatter3d": [
           {
            "line": {
             "colorbar": {
              "outlinewidth": 0,
              "ticks": ""
             }
            },
            "marker": {
             "colorbar": {
              "outlinewidth": 0,
              "ticks": ""
             }
            },
            "type": "scatter3d"
           }
          ],
          "scattercarpet": [
           {
            "marker": {
             "colorbar": {
              "outlinewidth": 0,
              "ticks": ""
             }
            },
            "type": "scattercarpet"
           }
          ],
          "scattergeo": [
           {
            "marker": {
             "colorbar": {
              "outlinewidth": 0,
              "ticks": ""
             }
            },
            "type": "scattergeo"
           }
          ],
          "scattergl": [
           {
            "marker": {
             "colorbar": {
              "outlinewidth": 0,
              "ticks": ""
             }
            },
            "type": "scattergl"
           }
          ],
          "scattermapbox": [
           {
            "marker": {
             "colorbar": {
              "outlinewidth": 0,
              "ticks": ""
             }
            },
            "type": "scattermapbox"
           }
          ],
          "scatterpolar": [
           {
            "marker": {
             "colorbar": {
              "outlinewidth": 0,
              "ticks": ""
             }
            },
            "type": "scatterpolar"
           }
          ],
          "scatterpolargl": [
           {
            "marker": {
             "colorbar": {
              "outlinewidth": 0,
              "ticks": ""
             }
            },
            "type": "scatterpolargl"
           }
          ],
          "scatterternary": [
           {
            "marker": {
             "colorbar": {
              "outlinewidth": 0,
              "ticks": ""
             }
            },
            "type": "scatterternary"
           }
          ],
          "surface": [
           {
            "colorbar": {
             "outlinewidth": 0,
             "ticks": ""
            },
            "colorscale": [
             [
              0,
              "#0d0887"
             ],
             [
              0.1111111111111111,
              "#46039f"
             ],
             [
              0.2222222222222222,
              "#7201a8"
             ],
             [
              0.3333333333333333,
              "#9c179e"
             ],
             [
              0.4444444444444444,
              "#bd3786"
             ],
             [
              0.5555555555555556,
              "#d8576b"
             ],
             [
              0.6666666666666666,
              "#ed7953"
             ],
             [
              0.7777777777777778,
              "#fb9f3a"
             ],
             [
              0.8888888888888888,
              "#fdca26"
             ],
             [
              1,
              "#f0f921"
             ]
            ],
            "type": "surface"
           }
          ],
          "table": [
           {
            "cells": {
             "fill": {
              "color": "#EBF0F8"
             },
             "line": {
              "color": "white"
             }
            },
            "header": {
             "fill": {
              "color": "#C8D4E3"
             },
             "line": {
              "color": "white"
             }
            },
            "type": "table"
           }
          ]
         },
         "layout": {
          "annotationdefaults": {
           "arrowcolor": "#2a3f5f",
           "arrowhead": 0,
           "arrowwidth": 1
          },
          "coloraxis": {
           "colorbar": {
            "outlinewidth": 0,
            "ticks": ""
           }
          },
          "colorscale": {
           "diverging": [
            [
             0,
             "#8e0152"
            ],
            [
             0.1,
             "#c51b7d"
            ],
            [
             0.2,
             "#de77ae"
            ],
            [
             0.3,
             "#f1b6da"
            ],
            [
             0.4,
             "#fde0ef"
            ],
            [
             0.5,
             "#f7f7f7"
            ],
            [
             0.6,
             "#e6f5d0"
            ],
            [
             0.7,
             "#b8e186"
            ],
            [
             0.8,
             "#7fbc41"
            ],
            [
             0.9,
             "#4d9221"
            ],
            [
             1,
             "#276419"
            ]
           ],
           "sequential": [
            [
             0,
             "#0d0887"
            ],
            [
             0.1111111111111111,
             "#46039f"
            ],
            [
             0.2222222222222222,
             "#7201a8"
            ],
            [
             0.3333333333333333,
             "#9c179e"
            ],
            [
             0.4444444444444444,
             "#bd3786"
            ],
            [
             0.5555555555555556,
             "#d8576b"
            ],
            [
             0.6666666666666666,
             "#ed7953"
            ],
            [
             0.7777777777777778,
             "#fb9f3a"
            ],
            [
             0.8888888888888888,
             "#fdca26"
            ],
            [
             1,
             "#f0f921"
            ]
           ],
           "sequentialminus": [
            [
             0,
             "#0d0887"
            ],
            [
             0.1111111111111111,
             "#46039f"
            ],
            [
             0.2222222222222222,
             "#7201a8"
            ],
            [
             0.3333333333333333,
             "#9c179e"
            ],
            [
             0.4444444444444444,
             "#bd3786"
            ],
            [
             0.5555555555555556,
             "#d8576b"
            ],
            [
             0.6666666666666666,
             "#ed7953"
            ],
            [
             0.7777777777777778,
             "#fb9f3a"
            ],
            [
             0.8888888888888888,
             "#fdca26"
            ],
            [
             1,
             "#f0f921"
            ]
           ]
          },
          "colorway": [
           "#636efa",
           "#EF553B",
           "#00cc96",
           "#ab63fa",
           "#FFA15A",
           "#19d3f3",
           "#FF6692",
           "#B6E880",
           "#FF97FF",
           "#FECB52"
          ],
          "font": {
           "color": "#2a3f5f"
          },
          "geo": {
           "bgcolor": "white",
           "lakecolor": "white",
           "landcolor": "#E5ECF6",
           "showlakes": true,
           "showland": true,
           "subunitcolor": "white"
          },
          "hoverlabel": {
           "align": "left"
          },
          "hovermode": "closest",
          "mapbox": {
           "style": "light"
          },
          "paper_bgcolor": "white",
          "plot_bgcolor": "#E5ECF6",
          "polar": {
           "angularaxis": {
            "gridcolor": "white",
            "linecolor": "white",
            "ticks": ""
           },
           "bgcolor": "#E5ECF6",
           "radialaxis": {
            "gridcolor": "white",
            "linecolor": "white",
            "ticks": ""
           }
          },
          "scene": {
           "xaxis": {
            "backgroundcolor": "#E5ECF6",
            "gridcolor": "white",
            "gridwidth": 2,
            "linecolor": "white",
            "showbackground": true,
            "ticks": "",
            "zerolinecolor": "white"
           },
           "yaxis": {
            "backgroundcolor": "#E5ECF6",
            "gridcolor": "white",
            "gridwidth": 2,
            "linecolor": "white",
            "showbackground": true,
            "ticks": "",
            "zerolinecolor": "white"
           },
           "zaxis": {
            "backgroundcolor": "#E5ECF6",
            "gridcolor": "white",
            "gridwidth": 2,
            "linecolor": "white",
            "showbackground": true,
            "ticks": "",
            "zerolinecolor": "white"
           }
          },
          "shapedefaults": {
           "line": {
            "color": "#2a3f5f"
           }
          },
          "ternary": {
           "aaxis": {
            "gridcolor": "white",
            "linecolor": "white",
            "ticks": ""
           },
           "baxis": {
            "gridcolor": "white",
            "linecolor": "white",
            "ticks": ""
           },
           "bgcolor": "#E5ECF6",
           "caxis": {
            "gridcolor": "white",
            "linecolor": "white",
            "ticks": ""
           }
          },
          "title": {
           "x": 0.05
          },
          "xaxis": {
           "automargin": true,
           "gridcolor": "white",
           "linecolor": "white",
           "ticks": "",
           "title": {
            "standoff": 15
           },
           "zerolinecolor": "white",
           "zerolinewidth": 2
          },
          "yaxis": {
           "automargin": true,
           "gridcolor": "white",
           "linecolor": "white",
           "ticks": "",
           "title": {
            "standoff": 15
           },
           "zerolinecolor": "white",
           "zerolinewidth": 2
          }
         }
        },
        "title": {
         "font": {
          "color": "#4D5663"
         }
        },
        "xaxis": {
         "gridcolor": "#E1E5ED",
         "showgrid": true,
         "tickfont": {
          "color": "#4D5663"
         },
         "title": {
          "font": {
           "color": "#4D5663"
          },
          "text": ""
         },
         "zerolinecolor": "#E1E5ED"
        },
        "yaxis": {
         "gridcolor": "#E1E5ED",
         "showgrid": true,
         "tickfont": {
          "color": "#4D5663"
         },
         "title": {
          "font": {
           "color": "#4D5663"
          },
          "text": ""
         },
         "zerolinecolor": "#E1E5ED"
        }
       }
      },
      "text/html": [
       "<div>\n",
       "        \n",
       "        \n",
       "            <div id=\"ccc2033d-86e2-4130-a460-755f00398289\" class=\"plotly-graph-div\" style=\"height:525px; width:100%;\"></div>\n",
       "            <script type=\"text/javascript\">\n",
       "                require([\"plotly\"], function(Plotly) {\n",
       "                    window.PLOTLYENV=window.PLOTLYENV || {};\n",
       "                    window.PLOTLYENV.BASE_URL='https://plot.ly';\n",
       "                    \n",
       "                if (document.getElementById(\"ccc2033d-86e2-4130-a460-755f00398289\")) {\n",
       "                    Plotly.newPlot(\n",
       "                        'ccc2033d-86e2-4130-a460-755f00398289',\n",
       "                        [{\"marker\": {\"color\": \"rgba(255, 153, 51, 0.6)\", \"line\": {\"color\": \"rgba(255, 153, 51, 1.0)\", \"width\": 1}}, \"name\": \"Valores\", \"orientation\": \"v\", \"text\": \"\", \"type\": \"bar\", \"x\": [\"A\", \"B\", \"C\"], \"y\": [32, 43, 50]}],\n",
       "                        {\"legend\": {\"bgcolor\": \"#F5F6F9\", \"font\": {\"color\": \"#4D5663\"}}, \"paper_bgcolor\": \"#F5F6F9\", \"plot_bgcolor\": \"#F5F6F9\", \"template\": {\"data\": {\"bar\": [{\"error_x\": {\"color\": \"#2a3f5f\"}, \"error_y\": {\"color\": \"#2a3f5f\"}, \"marker\": {\"line\": {\"color\": \"#E5ECF6\", \"width\": 0.5}}, \"type\": \"bar\"}], \"barpolar\": [{\"marker\": {\"line\": {\"color\": \"#E5ECF6\", \"width\": 0.5}}, \"type\": \"barpolar\"}], \"carpet\": [{\"aaxis\": {\"endlinecolor\": \"#2a3f5f\", \"gridcolor\": \"white\", \"linecolor\": \"white\", \"minorgridcolor\": \"white\", \"startlinecolor\": \"#2a3f5f\"}, \"baxis\": {\"endlinecolor\": \"#2a3f5f\", \"gridcolor\": \"white\", \"linecolor\": \"white\", \"minorgridcolor\": \"white\", \"startlinecolor\": \"#2a3f5f\"}, \"type\": \"carpet\"}], \"choropleth\": [{\"colorbar\": {\"outlinewidth\": 0, \"ticks\": \"\"}, \"type\": \"choropleth\"}], \"contour\": [{\"colorbar\": {\"outlinewidth\": 0, \"ticks\": \"\"}, \"colorscale\": [[0.0, \"#0d0887\"], [0.1111111111111111, \"#46039f\"], [0.2222222222222222, \"#7201a8\"], [0.3333333333333333, \"#9c179e\"], [0.4444444444444444, \"#bd3786\"], [0.5555555555555556, \"#d8576b\"], [0.6666666666666666, \"#ed7953\"], [0.7777777777777778, \"#fb9f3a\"], [0.8888888888888888, \"#fdca26\"], [1.0, \"#f0f921\"]], \"type\": \"contour\"}], \"contourcarpet\": [{\"colorbar\": {\"outlinewidth\": 0, \"ticks\": \"\"}, \"type\": \"contourcarpet\"}], \"heatmap\": [{\"colorbar\": {\"outlinewidth\": 0, \"ticks\": \"\"}, \"colorscale\": [[0.0, \"#0d0887\"], [0.1111111111111111, \"#46039f\"], [0.2222222222222222, \"#7201a8\"], [0.3333333333333333, \"#9c179e\"], [0.4444444444444444, \"#bd3786\"], [0.5555555555555556, \"#d8576b\"], [0.6666666666666666, \"#ed7953\"], [0.7777777777777778, \"#fb9f3a\"], [0.8888888888888888, \"#fdca26\"], [1.0, \"#f0f921\"]], \"type\": \"heatmap\"}], \"heatmapgl\": [{\"colorbar\": {\"outlinewidth\": 0, \"ticks\": \"\"}, \"colorscale\": [[0.0, \"#0d0887\"], [0.1111111111111111, \"#46039f\"], [0.2222222222222222, \"#7201a8\"], [0.3333333333333333, \"#9c179e\"], [0.4444444444444444, \"#bd3786\"], [0.5555555555555556, \"#d8576b\"], [0.6666666666666666, \"#ed7953\"], [0.7777777777777778, \"#fb9f3a\"], [0.8888888888888888, \"#fdca26\"], [1.0, \"#f0f921\"]], \"type\": \"heatmapgl\"}], \"histogram\": [{\"marker\": {\"colorbar\": {\"outlinewidth\": 0, \"ticks\": \"\"}}, \"type\": \"histogram\"}], \"histogram2d\": [{\"colorbar\": {\"outlinewidth\": 0, \"ticks\": \"\"}, \"colorscale\": [[0.0, \"#0d0887\"], [0.1111111111111111, \"#46039f\"], [0.2222222222222222, \"#7201a8\"], [0.3333333333333333, \"#9c179e\"], [0.4444444444444444, \"#bd3786\"], [0.5555555555555556, \"#d8576b\"], [0.6666666666666666, \"#ed7953\"], [0.7777777777777778, \"#fb9f3a\"], [0.8888888888888888, \"#fdca26\"], [1.0, \"#f0f921\"]], \"type\": \"histogram2d\"}], \"histogram2dcontour\": [{\"colorbar\": {\"outlinewidth\": 0, \"ticks\": \"\"}, \"colorscale\": [[0.0, \"#0d0887\"], [0.1111111111111111, \"#46039f\"], [0.2222222222222222, \"#7201a8\"], [0.3333333333333333, \"#9c179e\"], [0.4444444444444444, \"#bd3786\"], [0.5555555555555556, \"#d8576b\"], [0.6666666666666666, \"#ed7953\"], [0.7777777777777778, \"#fb9f3a\"], [0.8888888888888888, \"#fdca26\"], [1.0, \"#f0f921\"]], \"type\": \"histogram2dcontour\"}], \"mesh3d\": [{\"colorbar\": {\"outlinewidth\": 0, \"ticks\": \"\"}, \"type\": \"mesh3d\"}], \"parcoords\": [{\"line\": {\"colorbar\": {\"outlinewidth\": 0, \"ticks\": \"\"}}, \"type\": \"parcoords\"}], \"pie\": [{\"automargin\": true, \"type\": \"pie\"}], \"scatter\": [{\"marker\": {\"colorbar\": {\"outlinewidth\": 0, \"ticks\": \"\"}}, \"type\": \"scatter\"}], \"scatter3d\": [{\"line\": {\"colorbar\": {\"outlinewidth\": 0, \"ticks\": \"\"}}, \"marker\": {\"colorbar\": {\"outlinewidth\": 0, \"ticks\": \"\"}}, \"type\": \"scatter3d\"}], \"scattercarpet\": [{\"marker\": {\"colorbar\": {\"outlinewidth\": 0, \"ticks\": \"\"}}, \"type\": \"scattercarpet\"}], \"scattergeo\": [{\"marker\": {\"colorbar\": {\"outlinewidth\": 0, \"ticks\": \"\"}}, \"type\": \"scattergeo\"}], \"scattergl\": [{\"marker\": {\"colorbar\": {\"outlinewidth\": 0, \"ticks\": \"\"}}, \"type\": \"scattergl\"}], \"scattermapbox\": [{\"marker\": {\"colorbar\": {\"outlinewidth\": 0, \"ticks\": \"\"}}, \"type\": \"scattermapbox\"}], \"scatterpolar\": [{\"marker\": {\"colorbar\": {\"outlinewidth\": 0, \"ticks\": \"\"}}, \"type\": \"scatterpolar\"}], \"scatterpolargl\": [{\"marker\": {\"colorbar\": {\"outlinewidth\": 0, \"ticks\": \"\"}}, \"type\": \"scatterpolargl\"}], \"scatterternary\": [{\"marker\": {\"colorbar\": {\"outlinewidth\": 0, \"ticks\": \"\"}}, \"type\": \"scatterternary\"}], \"surface\": [{\"colorbar\": {\"outlinewidth\": 0, \"ticks\": \"\"}, \"colorscale\": [[0.0, \"#0d0887\"], [0.1111111111111111, \"#46039f\"], [0.2222222222222222, \"#7201a8\"], [0.3333333333333333, \"#9c179e\"], [0.4444444444444444, \"#bd3786\"], [0.5555555555555556, \"#d8576b\"], [0.6666666666666666, \"#ed7953\"], [0.7777777777777778, \"#fb9f3a\"], [0.8888888888888888, \"#fdca26\"], [1.0, \"#f0f921\"]], \"type\": \"surface\"}], \"table\": [{\"cells\": {\"fill\": {\"color\": \"#EBF0F8\"}, \"line\": {\"color\": \"white\"}}, \"header\": {\"fill\": {\"color\": \"#C8D4E3\"}, \"line\": {\"color\": \"white\"}}, \"type\": \"table\"}]}, \"layout\": {\"annotationdefaults\": {\"arrowcolor\": \"#2a3f5f\", \"arrowhead\": 0, \"arrowwidth\": 1}, \"coloraxis\": {\"colorbar\": {\"outlinewidth\": 0, \"ticks\": \"\"}}, \"colorscale\": {\"diverging\": [[0, \"#8e0152\"], [0.1, \"#c51b7d\"], [0.2, \"#de77ae\"], [0.3, \"#f1b6da\"], [0.4, \"#fde0ef\"], [0.5, \"#f7f7f7\"], [0.6, \"#e6f5d0\"], [0.7, \"#b8e186\"], [0.8, \"#7fbc41\"], [0.9, \"#4d9221\"], [1, \"#276419\"]], \"sequential\": [[0.0, \"#0d0887\"], [0.1111111111111111, \"#46039f\"], [0.2222222222222222, \"#7201a8\"], [0.3333333333333333, \"#9c179e\"], [0.4444444444444444, \"#bd3786\"], [0.5555555555555556, \"#d8576b\"], [0.6666666666666666, \"#ed7953\"], [0.7777777777777778, \"#fb9f3a\"], [0.8888888888888888, \"#fdca26\"], [1.0, \"#f0f921\"]], \"sequentialminus\": [[0.0, \"#0d0887\"], [0.1111111111111111, \"#46039f\"], [0.2222222222222222, \"#7201a8\"], [0.3333333333333333, \"#9c179e\"], [0.4444444444444444, \"#bd3786\"], [0.5555555555555556, \"#d8576b\"], [0.6666666666666666, \"#ed7953\"], [0.7777777777777778, \"#fb9f3a\"], [0.8888888888888888, \"#fdca26\"], [1.0, \"#f0f921\"]]}, \"colorway\": [\"#636efa\", \"#EF553B\", \"#00cc96\", \"#ab63fa\", \"#FFA15A\", \"#19d3f3\", \"#FF6692\", \"#B6E880\", \"#FF97FF\", \"#FECB52\"], \"font\": {\"color\": \"#2a3f5f\"}, \"geo\": {\"bgcolor\": \"white\", \"lakecolor\": \"white\", \"landcolor\": \"#E5ECF6\", \"showlakes\": true, \"showland\": true, \"subunitcolor\": \"white\"}, \"hoverlabel\": {\"align\": \"left\"}, \"hovermode\": \"closest\", \"mapbox\": {\"style\": \"light\"}, \"paper_bgcolor\": \"white\", \"plot_bgcolor\": \"#E5ECF6\", \"polar\": {\"angularaxis\": {\"gridcolor\": \"white\", \"linecolor\": \"white\", \"ticks\": \"\"}, \"bgcolor\": \"#E5ECF6\", \"radialaxis\": {\"gridcolor\": \"white\", \"linecolor\": \"white\", \"ticks\": \"\"}}, \"scene\": {\"xaxis\": {\"backgroundcolor\": \"#E5ECF6\", \"gridcolor\": \"white\", \"gridwidth\": 2, \"linecolor\": \"white\", \"showbackground\": true, \"ticks\": \"\", \"zerolinecolor\": \"white\"}, \"yaxis\": {\"backgroundcolor\": \"#E5ECF6\", \"gridcolor\": \"white\", \"gridwidth\": 2, \"linecolor\": \"white\", \"showbackground\": true, \"ticks\": \"\", \"zerolinecolor\": \"white\"}, \"zaxis\": {\"backgroundcolor\": \"#E5ECF6\", \"gridcolor\": \"white\", \"gridwidth\": 2, \"linecolor\": \"white\", \"showbackground\": true, \"ticks\": \"\", \"zerolinecolor\": \"white\"}}, \"shapedefaults\": {\"line\": {\"color\": \"#2a3f5f\"}}, \"ternary\": {\"aaxis\": {\"gridcolor\": \"white\", \"linecolor\": \"white\", \"ticks\": \"\"}, \"baxis\": {\"gridcolor\": \"white\", \"linecolor\": \"white\", \"ticks\": \"\"}, \"bgcolor\": \"#E5ECF6\", \"caxis\": {\"gridcolor\": \"white\", \"linecolor\": \"white\", \"ticks\": \"\"}}, \"title\": {\"x\": 0.05}, \"xaxis\": {\"automargin\": true, \"gridcolor\": \"white\", \"linecolor\": \"white\", \"ticks\": \"\", \"title\": {\"standoff\": 15}, \"zerolinecolor\": \"white\", \"zerolinewidth\": 2}, \"yaxis\": {\"automargin\": true, \"gridcolor\": \"white\", \"linecolor\": \"white\", \"ticks\": \"\", \"title\": {\"standoff\": 15}, \"zerolinecolor\": \"white\", \"zerolinewidth\": 2}}}, \"title\": {\"font\": {\"color\": \"#4D5663\"}}, \"xaxis\": {\"gridcolor\": \"#E1E5ED\", \"showgrid\": true, \"tickfont\": {\"color\": \"#4D5663\"}, \"title\": {\"font\": {\"color\": \"#4D5663\"}, \"text\": \"\"}, \"zerolinecolor\": \"#E1E5ED\"}, \"yaxis\": {\"gridcolor\": \"#E1E5ED\", \"showgrid\": true, \"tickfont\": {\"color\": \"#4D5663\"}, \"title\": {\"font\": {\"color\": \"#4D5663\"}, \"text\": \"\"}, \"zerolinecolor\": \"#E1E5ED\"}},\n",
       "                        {\"showLink\": true, \"linkText\": \"Export to plot.ly\", \"plotlyServerURL\": \"https://plot.ly\", \"responsive\": true}\n",
       "                    ).then(function(){\n",
       "                            \n",
       "var gd = document.getElementById('ccc2033d-86e2-4130-a460-755f00398289');\n",
       "var x = new MutationObserver(function (mutations, observer) {{\n",
       "        var display = window.getComputedStyle(gd).display;\n",
       "        if (!display || display === 'none') {{\n",
       "            console.log([gd, 'removed!']);\n",
       "            Plotly.purge(gd);\n",
       "            observer.disconnect();\n",
       "        }}\n",
       "}});\n",
       "\n",
       "// Listen for the removal of the full notebook cells\n",
       "var notebookContainer = gd.closest('#notebook-container');\n",
       "if (notebookContainer) {{\n",
       "    x.observe(notebookContainer, {childList: true});\n",
       "}}\n",
       "\n",
       "// Listen for the clearing of the current output cell\n",
       "var outputEl = gd.closest('.output');\n",
       "if (outputEl) {{\n",
       "    x.observe(outputEl, {childList: true});\n",
       "}}\n",
       "\n",
       "                        })\n",
       "                };\n",
       "                });\n",
       "            </script>\n",
       "        </div>"
      ]
     },
     "metadata": {},
     "output_type": "display_data"
    }
   ],
   "source": [
    "df2.iplot(kind='bar', x='Categoria', y='Valores')"
   ]
  },
  {
   "cell_type": "code",
   "execution_count": 17,
   "metadata": {},
   "outputs": [
    {
     "data": {
      "application/vnd.plotly.v1+json": {
       "config": {
        "linkText": "Export to plot.ly",
        "plotlyServerURL": "https://plot.ly",
        "showLink": true
       },
       "data": [
        {
         "marker": {
          "color": "rgba(255, 153, 51, 0.6)",
          "line": {
           "color": "rgba(255, 153, 51, 1.0)",
           "width": 1
          }
         },
         "name": "A",
         "orientation": "v",
         "text": "",
         "type": "bar",
         "x": [
          0,
          1,
          2,
          3,
          4,
          5,
          6,
          7,
          8,
          9,
          10,
          11,
          12,
          13,
          14,
          15,
          16,
          17,
          18,
          19,
          20,
          21,
          22,
          23,
          24,
          25,
          26,
          27,
          28,
          29,
          30,
          31,
          32,
          33,
          34,
          35,
          36,
          37,
          38,
          39,
          40,
          41,
          42,
          43,
          44,
          45,
          46,
          47,
          48,
          49,
          50,
          51,
          52,
          53,
          54,
          55,
          56,
          57,
          58,
          59,
          60,
          61,
          62,
          63,
          64,
          65,
          66,
          67,
          68,
          69,
          70,
          71,
          72,
          73,
          74,
          75,
          76,
          77,
          78,
          79,
          80,
          81,
          82,
          83,
          84,
          85,
          86,
          87,
          88,
          89,
          90,
          91,
          92,
          93,
          94,
          95,
          96,
          97,
          98,
          99
         ],
         "y": [
          1.5142186544122638,
          0.27895064943248915,
          -1.2772201606503015,
          0.7176215978752194,
          1.0242630534311887,
          -0.18782350124528943,
          -0.15971406208206046,
          -0.09450672113595138,
          1.101557217961529,
          1.760246324420678,
          0.4957627962412397,
          1.4410840240165774,
          0.890736201554487,
          -0.1973859512432099,
          -0.22647367315349648,
          0.9600258803516739,
          -0.22695644558189895,
          0.9014455961017745,
          -1.0352942125712694,
          1.3614210778771305,
          1.438341742803549,
          0.0062457188416346066,
          -0.34075842820041674,
          1.1645719966781778,
          3.251475167837798,
          0.3585119159665232,
          0.35559795617521023,
          -1.4927235063683504,
          -0.09654662808693423,
          -0.057294310675322785,
          -0.48183583073170233,
          -0.5382944548854823,
          0.9208574046073155,
          -0.6302021900122878,
          0.30933377625955083,
          -0.46552971679190036,
          -0.912246971568453,
          0.663008040972662,
          1.2686499433429357,
          0.36508507101402465,
          0.13357487450389904,
          -0.20648604070240084,
          0.49234018847418437,
          -1.0079776998156387,
          -1.3502695696598568,
          0.5959137955318851,
          -0.3372748183372034,
          -1.7190172045328507,
          0.3701065313721388,
          -1.109452713943562,
          0.11680700607062913,
          -0.8627209126237989,
          -0.8575591132443635,
          -0.044169557298888655,
          -0.7955907040068338,
          0.12234260476958768,
          -1.0760163613813911,
          -0.8283533358210704,
          0.268329750244207,
          1.066892146131821,
          -0.6553844559897053,
          -0.644878025080047,
          0.28702367749052854,
          -0.41938747626877115,
          1.959073984465897,
          -1.1269742470876678,
          3.8538700868814058,
          0.8705990773885701,
          0.5240821424022016,
          0.33280913610094887,
          0.4259038558689888,
          -1.2700198508155802,
          -0.5263315245506245,
          -0.1637455667230135,
          2.213359350383037,
          -0.4878057724962988,
          -0.46568550675433373,
          0.9524119005427031,
          1.7669535874688445,
          0.9320713319598105,
          1.0426693299362813,
          -1.7119433140080471,
          -0.2723835374814382,
          -1.4597336316316212,
          0.7187397058115067,
          0.5706065969920404,
          0.023982717991074275,
          -0.7639207845885283,
          -0.9117422967467312,
          -0.5438741254817734,
          -0.7489289965331479,
          1.0933015307053855,
          -0.33036206127818424,
          0.573877123376443,
          1.548344828251328,
          -0.2994560355888004,
          0.47710475522997875,
          -1.7490432446344575,
          -0.615644586432859,
          -0.0696319730489194
         ]
        },
        {
         "marker": {
          "color": "rgba(55, 128, 191, 0.6)",
          "line": {
           "color": "rgba(55, 128, 191, 1.0)",
           "width": 1
          }
         },
         "name": "B",
         "orientation": "v",
         "text": "",
         "type": "bar",
         "x": [
          0,
          1,
          2,
          3,
          4,
          5,
          6,
          7,
          8,
          9,
          10,
          11,
          12,
          13,
          14,
          15,
          16,
          17,
          18,
          19,
          20,
          21,
          22,
          23,
          24,
          25,
          26,
          27,
          28,
          29,
          30,
          31,
          32,
          33,
          34,
          35,
          36,
          37,
          38,
          39,
          40,
          41,
          42,
          43,
          44,
          45,
          46,
          47,
          48,
          49,
          50,
          51,
          52,
          53,
          54,
          55,
          56,
          57,
          58,
          59,
          60,
          61,
          62,
          63,
          64,
          65,
          66,
          67,
          68,
          69,
          70,
          71,
          72,
          73,
          74,
          75,
          76,
          77,
          78,
          79,
          80,
          81,
          82,
          83,
          84,
          85,
          86,
          87,
          88,
          89,
          90,
          91,
          92,
          93,
          94,
          95,
          96,
          97,
          98,
          99
         ],
         "y": [
          -0.9153410714929735,
          1.6358976547955704,
          0.09255099576014963,
          1.5400934402495086,
          0.6425658299894662,
          -0.26179888744269847,
          1.0273186956146738,
          -0.6307535418604402,
          -2.5346978546476517,
          -2.1897817281056837,
          0.8311035354450367,
          0.6399383182121887,
          -0.9403607387553982,
          0.7078174444510166,
          -0.45457637870870515,
          1.1980318577308495,
          -0.11554976053470527,
          0.30680062220353793,
          -0.9217244314001211,
          -0.6663874786748377,
          1.32120609432077,
          1.0109233247836378,
          -0.1824269769280658,
          -1.0488991304782136,
          1.0662243347339762,
          -0.9034244394440355,
          -0.3263330312314083,
          -0.2607788207729719,
          -2.4278016862124088,
          -0.12711866662850796,
          -0.36884387842295946,
          0.6429063120523958,
          0.14881899593559214,
          -0.43653258631725117,
          1.1884826095900352,
          2.178398074485583,
          -0.06233515306434373,
          0.2587311274407884,
          -0.3741404646665351,
          0.30626494513246,
          -2.126751910804884,
          -2.060133981135926,
          1.5529239103471126,
          -0.38836926178255654,
          0.3942599587482798,
          1.5803964142097777,
          -1.0523833241987806,
          -0.01657286604126695,
          -0.770066526216671,
          0.9920549755691876,
          0.22018622155780793,
          0.9478438860931523,
          2.5346802705488365,
          0.30453558445497775,
          0.44999869484970006,
          0.1329256362940828,
          0.5257532229366679,
          0.6353351705845959,
          1.3939366249738248,
          -0.22346756860341713,
          1.1700863549033256,
          -0.6893141589265049,
          -0.7284549415162579,
          1.0979628734277693,
          -0.9852892186534995,
          0.04408684809316521,
          -0.3768717795879098,
          -0.09487210728594804,
          0.40576310664905313,
          0.4280661826615465,
          -0.8014571020621714,
          -1.192492353104392,
          0.9009984970801053,
          -0.6804664819337662,
          -0.05322152993200261,
          -0.5406055085130784,
          -1.1648516692905604,
          -0.4866434874688328,
          -0.2527643374481889,
          -0.49051314591226564,
          0.4483948614666029,
          -0.1286617016280999,
          0.7375815043599231,
          -1.2179161391289677,
          1.329503329537658,
          0.6406407101277446,
          -0.3885952375410158,
          -1.3344868258260545,
          0.021479658397961912,
          0.14220431097964045,
          0.6956144127780031,
          -1.2274294853474346,
          0.8445551976348453,
          -0.27707728983608126,
          -1.044478370898736,
          -1.0342492050125447,
          1.8384683805763349,
          -0.47129373877017977,
          0.2826769281895832,
          0.29606799065000583
         ]
        },
        {
         "marker": {
          "color": "rgba(50, 171, 96, 0.6)",
          "line": {
           "color": "rgba(50, 171, 96, 1.0)",
           "width": 1
          }
         },
         "name": "C",
         "orientation": "v",
         "text": "",
         "type": "bar",
         "x": [
          0,
          1,
          2,
          3,
          4,
          5,
          6,
          7,
          8,
          9,
          10,
          11,
          12,
          13,
          14,
          15,
          16,
          17,
          18,
          19,
          20,
          21,
          22,
          23,
          24,
          25,
          26,
          27,
          28,
          29,
          30,
          31,
          32,
          33,
          34,
          35,
          36,
          37,
          38,
          39,
          40,
          41,
          42,
          43,
          44,
          45,
          46,
          47,
          48,
          49,
          50,
          51,
          52,
          53,
          54,
          55,
          56,
          57,
          58,
          59,
          60,
          61,
          62,
          63,
          64,
          65,
          66,
          67,
          68,
          69,
          70,
          71,
          72,
          73,
          74,
          75,
          76,
          77,
          78,
          79,
          80,
          81,
          82,
          83,
          84,
          85,
          86,
          87,
          88,
          89,
          90,
          91,
          92,
          93,
          94,
          95,
          96,
          97,
          98,
          99
         ],
         "y": [
          0.952786651656803,
          -0.09014875287851794,
          -1.0685447512507276,
          -0.24921352859048332,
          2.351969169587414,
          -1.8991212435034521,
          0.6177398434531892,
          -1.9917003769460297,
          -1.0424738903012825,
          -0.22691279113960114,
          -1.1970818844517153,
          -0.9394291053149986,
          1.757266845669264,
          -1.2407937962254503,
          -0.40044773536211387,
          -0.07962671261999174,
          -0.37548314235380925,
          -0.07343692394274298,
          -0.7806192817076086,
          -1.0895517338230685,
          0.07176847416090174,
          -1.4131798523976564,
          0.10320382126301453,
          -0.0025574702503611446,
          1.0722971872386773,
          -0.6490361642546468,
          -0.7056080232365795,
          0.036448555060863155,
          -0.46208863048318394,
          0.8909451927211299,
          -0.6075569427489664,
          0.17212712293151589,
          -2.2020227738434768,
          -1.0841246351259266,
          0.5581037439400494,
          0.2270284074491642,
          -0.046827427525527245,
          0.1708416162951795,
          0.097547606722425,
          1.4010504698153223,
          0.28861231333745696,
          -0.6301749435268477,
          0.35197377626014914,
          -0.3744844363117336,
          1.8219207208840351,
          0.45178522279543637,
          -0.948872768524955,
          1.1216879067308498,
          -0.5051281113933614,
          0.14887277205634297,
          0.1999556486992249,
          -1.6697997275559426,
          -0.1291673926643688,
          -2.5955074455319127,
          0.6071560525654458,
          0.45124691331754824,
          0.7445534695030128,
          1.9102827990950306,
          -0.09043099370692645,
          0.5476464341750529,
          0.7242806242042513,
          -0.34666807435880964,
          -0.9422400923509909,
          1.1944115944422067,
          0.849108361722817,
          -0.587274031667396,
          -1.3004657379502034,
          -0.3963526474289799,
          1.0932422210457229,
          0.16544951931799912,
          -1.2065330083577088,
          -0.10963490444821293,
          -0.1114314635928556,
          -0.8267519161472029,
          -0.39792190493483864,
          2.5060855702308453,
          0.39020636907104783,
          -0.01212829595721143,
          -0.4392766502407867,
          1.0688639552065233,
          -0.13031115107888877,
          0.28125713641044503,
          -1.6253646017719803,
          1.8681690447660622,
          0.22493645123791964,
          0.155567443654224,
          -0.9993681981030387,
          -1.0466997336123318,
          -0.38095818629242206,
          0.5261496897186589,
          0.37650394037431884,
          -0.7025636954005036,
          1.3869796947122683,
          0.4014752796351428,
          -0.3809755265193317,
          -0.1821895709489874,
          0.7181743276632854,
          1.2436847673042648,
          -0.025319473946945892,
          0.33927367748534265
         ]
        },
        {
         "marker": {
          "color": "rgba(128, 0, 128, 0.6)",
          "line": {
           "color": "rgba(128, 0, 128, 1.0)",
           "width": 1
          }
         },
         "name": "D",
         "orientation": "v",
         "text": "",
         "type": "bar",
         "x": [
          0,
          1,
          2,
          3,
          4,
          5,
          6,
          7,
          8,
          9,
          10,
          11,
          12,
          13,
          14,
          15,
          16,
          17,
          18,
          19,
          20,
          21,
          22,
          23,
          24,
          25,
          26,
          27,
          28,
          29,
          30,
          31,
          32,
          33,
          34,
          35,
          36,
          37,
          38,
          39,
          40,
          41,
          42,
          43,
          44,
          45,
          46,
          47,
          48,
          49,
          50,
          51,
          52,
          53,
          54,
          55,
          56,
          57,
          58,
          59,
          60,
          61,
          62,
          63,
          64,
          65,
          66,
          67,
          68,
          69,
          70,
          71,
          72,
          73,
          74,
          75,
          76,
          77,
          78,
          79,
          80,
          81,
          82,
          83,
          84,
          85,
          86,
          87,
          88,
          89,
          90,
          91,
          92,
          93,
          94,
          95,
          96,
          97,
          98,
          99
         ],
         "y": [
          0.9851061875011242,
          0.8582380403595017,
          -0.33705763147266227,
          1.143348296440449,
          -1.9284318445340969,
          1.5529263867241374,
          -0.3314073487210843,
          0.210048778366087,
          0.9772419857702811,
          -0.40555144197030035,
          -0.03211290723392089,
          -0.4051763413170174,
          0.09342461976286336,
          -0.15276548116126995,
          -1.6084766676061713,
          1.3300326843843588,
          -1.7656908341411746,
          1.2849327788844074,
          -1.3035053069028695,
          -1.126224479833057,
          -0.47929533400944885,
          0.5842022873922668,
          0.7904004155000492,
          -0.4891013768360308,
          -0.9520557829866434,
          -0.18334612929308258,
          -0.09699582855961543,
          1.7165193982806102,
          -0.10761765897950101,
          0.6172874068505037,
          1.4847093487359413,
          0.02905190240144271,
          -1.5013129289762308,
          -0.07744689448045243,
          -1.6624800651633258,
          -1.0265472229548933,
          0.8670916714520461,
          1.0426914109891925,
          1.5030112811283998,
          -0.04381679624688889,
          -0.254722581440965,
          0.20537035874761547,
          0.509188461141092,
          -0.4734633460511219,
          -1.905286227779699,
          0.8174965064193349,
          0.11002512874214922,
          0.08973189298899235,
          -0.24371056251516976,
          0.2076202668019951,
          1.3109703381511797,
          -0.23907632790672884,
          -1.131640138377444,
          -0.8681530405257885,
          -0.3316765752439354,
          -0.850094737879196,
          -1.0813888543664887,
          -0.25880086892959125,
          0.4280135636448433,
          -0.9759241685645935,
          0.42732918890384125,
          1.0476821350885444,
          0.09125930196634753,
          -1.3844686576162293,
          -0.7203766720244728,
          0.8944611600520691,
          1.1389195308685285,
          -0.1510571781929448,
          -0.5429626616143252,
          1.6438594470823837,
          -2.387324111421106,
          3.186390712511004,
          -0.3052502835085717,
          0.019401789993793443,
          0.33201005735944206,
          -0.14371547257048126,
          -0.9506788298248029,
          -2.3746285541474883,
          0.18565111413334542,
          1.3406813726300504,
          1.0987267753039165,
          0.24286780703230978,
          0.3587389155096219,
          1.6950598095884886,
          2.280543254135361,
          1.6244332636667975,
          0.6735605616645972,
          -0.6468507158570499,
          -0.3573522725347921,
          -0.23897454250813613,
          1.0850473640524714,
          0.9350061122313391,
          -0.32181332418719005,
          0.015078998276582507,
          0.37012978990539697,
          -0.5591163022749365,
          -1.8576703885043584,
          0.8418962768961537,
          1.2053095774559155,
          0.5658824440956434
         ]
        }
       ],
       "layout": {
        "legend": {
         "bgcolor": "#F5F6F9",
         "font": {
          "color": "#4D5663"
         }
        },
        "paper_bgcolor": "#F5F6F9",
        "plot_bgcolor": "#F5F6F9",
        "template": {
         "data": {
          "bar": [
           {
            "error_x": {
             "color": "#2a3f5f"
            },
            "error_y": {
             "color": "#2a3f5f"
            },
            "marker": {
             "line": {
              "color": "#E5ECF6",
              "width": 0.5
             }
            },
            "type": "bar"
           }
          ],
          "barpolar": [
           {
            "marker": {
             "line": {
              "color": "#E5ECF6",
              "width": 0.5
             }
            },
            "type": "barpolar"
           }
          ],
          "carpet": [
           {
            "aaxis": {
             "endlinecolor": "#2a3f5f",
             "gridcolor": "white",
             "linecolor": "white",
             "minorgridcolor": "white",
             "startlinecolor": "#2a3f5f"
            },
            "baxis": {
             "endlinecolor": "#2a3f5f",
             "gridcolor": "white",
             "linecolor": "white",
             "minorgridcolor": "white",
             "startlinecolor": "#2a3f5f"
            },
            "type": "carpet"
           }
          ],
          "choropleth": [
           {
            "colorbar": {
             "outlinewidth": 0,
             "ticks": ""
            },
            "type": "choropleth"
           }
          ],
          "contour": [
           {
            "colorbar": {
             "outlinewidth": 0,
             "ticks": ""
            },
            "colorscale": [
             [
              0,
              "#0d0887"
             ],
             [
              0.1111111111111111,
              "#46039f"
             ],
             [
              0.2222222222222222,
              "#7201a8"
             ],
             [
              0.3333333333333333,
              "#9c179e"
             ],
             [
              0.4444444444444444,
              "#bd3786"
             ],
             [
              0.5555555555555556,
              "#d8576b"
             ],
             [
              0.6666666666666666,
              "#ed7953"
             ],
             [
              0.7777777777777778,
              "#fb9f3a"
             ],
             [
              0.8888888888888888,
              "#fdca26"
             ],
             [
              1,
              "#f0f921"
             ]
            ],
            "type": "contour"
           }
          ],
          "contourcarpet": [
           {
            "colorbar": {
             "outlinewidth": 0,
             "ticks": ""
            },
            "type": "contourcarpet"
           }
          ],
          "heatmap": [
           {
            "colorbar": {
             "outlinewidth": 0,
             "ticks": ""
            },
            "colorscale": [
             [
              0,
              "#0d0887"
             ],
             [
              0.1111111111111111,
              "#46039f"
             ],
             [
              0.2222222222222222,
              "#7201a8"
             ],
             [
              0.3333333333333333,
              "#9c179e"
             ],
             [
              0.4444444444444444,
              "#bd3786"
             ],
             [
              0.5555555555555556,
              "#d8576b"
             ],
             [
              0.6666666666666666,
              "#ed7953"
             ],
             [
              0.7777777777777778,
              "#fb9f3a"
             ],
             [
              0.8888888888888888,
              "#fdca26"
             ],
             [
              1,
              "#f0f921"
             ]
            ],
            "type": "heatmap"
           }
          ],
          "heatmapgl": [
           {
            "colorbar": {
             "outlinewidth": 0,
             "ticks": ""
            },
            "colorscale": [
             [
              0,
              "#0d0887"
             ],
             [
              0.1111111111111111,
              "#46039f"
             ],
             [
              0.2222222222222222,
              "#7201a8"
             ],
             [
              0.3333333333333333,
              "#9c179e"
             ],
             [
              0.4444444444444444,
              "#bd3786"
             ],
             [
              0.5555555555555556,
              "#d8576b"
             ],
             [
              0.6666666666666666,
              "#ed7953"
             ],
             [
              0.7777777777777778,
              "#fb9f3a"
             ],
             [
              0.8888888888888888,
              "#fdca26"
             ],
             [
              1,
              "#f0f921"
             ]
            ],
            "type": "heatmapgl"
           }
          ],
          "histogram": [
           {
            "marker": {
             "colorbar": {
              "outlinewidth": 0,
              "ticks": ""
             }
            },
            "type": "histogram"
           }
          ],
          "histogram2d": [
           {
            "colorbar": {
             "outlinewidth": 0,
             "ticks": ""
            },
            "colorscale": [
             [
              0,
              "#0d0887"
             ],
             [
              0.1111111111111111,
              "#46039f"
             ],
             [
              0.2222222222222222,
              "#7201a8"
             ],
             [
              0.3333333333333333,
              "#9c179e"
             ],
             [
              0.4444444444444444,
              "#bd3786"
             ],
             [
              0.5555555555555556,
              "#d8576b"
             ],
             [
              0.6666666666666666,
              "#ed7953"
             ],
             [
              0.7777777777777778,
              "#fb9f3a"
             ],
             [
              0.8888888888888888,
              "#fdca26"
             ],
             [
              1,
              "#f0f921"
             ]
            ],
            "type": "histogram2d"
           }
          ],
          "histogram2dcontour": [
           {
            "colorbar": {
             "outlinewidth": 0,
             "ticks": ""
            },
            "colorscale": [
             [
              0,
              "#0d0887"
             ],
             [
              0.1111111111111111,
              "#46039f"
             ],
             [
              0.2222222222222222,
              "#7201a8"
             ],
             [
              0.3333333333333333,
              "#9c179e"
             ],
             [
              0.4444444444444444,
              "#bd3786"
             ],
             [
              0.5555555555555556,
              "#d8576b"
             ],
             [
              0.6666666666666666,
              "#ed7953"
             ],
             [
              0.7777777777777778,
              "#fb9f3a"
             ],
             [
              0.8888888888888888,
              "#fdca26"
             ],
             [
              1,
              "#f0f921"
             ]
            ],
            "type": "histogram2dcontour"
           }
          ],
          "mesh3d": [
           {
            "colorbar": {
             "outlinewidth": 0,
             "ticks": ""
            },
            "type": "mesh3d"
           }
          ],
          "parcoords": [
           {
            "line": {
             "colorbar": {
              "outlinewidth": 0,
              "ticks": ""
             }
            },
            "type": "parcoords"
           }
          ],
          "pie": [
           {
            "automargin": true,
            "type": "pie"
           }
          ],
          "scatter": [
           {
            "marker": {
             "colorbar": {
              "outlinewidth": 0,
              "ticks": ""
             }
            },
            "type": "scatter"
           }
          ],
          "scatter3d": [
           {
            "line": {
             "colorbar": {
              "outlinewidth": 0,
              "ticks": ""
             }
            },
            "marker": {
             "colorbar": {
              "outlinewidth": 0,
              "ticks": ""
             }
            },
            "type": "scatter3d"
           }
          ],
          "scattercarpet": [
           {
            "marker": {
             "colorbar": {
              "outlinewidth": 0,
              "ticks": ""
             }
            },
            "type": "scattercarpet"
           }
          ],
          "scattergeo": [
           {
            "marker": {
             "colorbar": {
              "outlinewidth": 0,
              "ticks": ""
             }
            },
            "type": "scattergeo"
           }
          ],
          "scattergl": [
           {
            "marker": {
             "colorbar": {
              "outlinewidth": 0,
              "ticks": ""
             }
            },
            "type": "scattergl"
           }
          ],
          "scattermapbox": [
           {
            "marker": {
             "colorbar": {
              "outlinewidth": 0,
              "ticks": ""
             }
            },
            "type": "scattermapbox"
           }
          ],
          "scatterpolar": [
           {
            "marker": {
             "colorbar": {
              "outlinewidth": 0,
              "ticks": ""
             }
            },
            "type": "scatterpolar"
           }
          ],
          "scatterpolargl": [
           {
            "marker": {
             "colorbar": {
              "outlinewidth": 0,
              "ticks": ""
             }
            },
            "type": "scatterpolargl"
           }
          ],
          "scatterternary": [
           {
            "marker": {
             "colorbar": {
              "outlinewidth": 0,
              "ticks": ""
             }
            },
            "type": "scatterternary"
           }
          ],
          "surface": [
           {
            "colorbar": {
             "outlinewidth": 0,
             "ticks": ""
            },
            "colorscale": [
             [
              0,
              "#0d0887"
             ],
             [
              0.1111111111111111,
              "#46039f"
             ],
             [
              0.2222222222222222,
              "#7201a8"
             ],
             [
              0.3333333333333333,
              "#9c179e"
             ],
             [
              0.4444444444444444,
              "#bd3786"
             ],
             [
              0.5555555555555556,
              "#d8576b"
             ],
             [
              0.6666666666666666,
              "#ed7953"
             ],
             [
              0.7777777777777778,
              "#fb9f3a"
             ],
             [
              0.8888888888888888,
              "#fdca26"
             ],
             [
              1,
              "#f0f921"
             ]
            ],
            "type": "surface"
           }
          ],
          "table": [
           {
            "cells": {
             "fill": {
              "color": "#EBF0F8"
             },
             "line": {
              "color": "white"
             }
            },
            "header": {
             "fill": {
              "color": "#C8D4E3"
             },
             "line": {
              "color": "white"
             }
            },
            "type": "table"
           }
          ]
         },
         "layout": {
          "annotationdefaults": {
           "arrowcolor": "#2a3f5f",
           "arrowhead": 0,
           "arrowwidth": 1
          },
          "coloraxis": {
           "colorbar": {
            "outlinewidth": 0,
            "ticks": ""
           }
          },
          "colorscale": {
           "diverging": [
            [
             0,
             "#8e0152"
            ],
            [
             0.1,
             "#c51b7d"
            ],
            [
             0.2,
             "#de77ae"
            ],
            [
             0.3,
             "#f1b6da"
            ],
            [
             0.4,
             "#fde0ef"
            ],
            [
             0.5,
             "#f7f7f7"
            ],
            [
             0.6,
             "#e6f5d0"
            ],
            [
             0.7,
             "#b8e186"
            ],
            [
             0.8,
             "#7fbc41"
            ],
            [
             0.9,
             "#4d9221"
            ],
            [
             1,
             "#276419"
            ]
           ],
           "sequential": [
            [
             0,
             "#0d0887"
            ],
            [
             0.1111111111111111,
             "#46039f"
            ],
            [
             0.2222222222222222,
             "#7201a8"
            ],
            [
             0.3333333333333333,
             "#9c179e"
            ],
            [
             0.4444444444444444,
             "#bd3786"
            ],
            [
             0.5555555555555556,
             "#d8576b"
            ],
            [
             0.6666666666666666,
             "#ed7953"
            ],
            [
             0.7777777777777778,
             "#fb9f3a"
            ],
            [
             0.8888888888888888,
             "#fdca26"
            ],
            [
             1,
             "#f0f921"
            ]
           ],
           "sequentialminus": [
            [
             0,
             "#0d0887"
            ],
            [
             0.1111111111111111,
             "#46039f"
            ],
            [
             0.2222222222222222,
             "#7201a8"
            ],
            [
             0.3333333333333333,
             "#9c179e"
            ],
            [
             0.4444444444444444,
             "#bd3786"
            ],
            [
             0.5555555555555556,
             "#d8576b"
            ],
            [
             0.6666666666666666,
             "#ed7953"
            ],
            [
             0.7777777777777778,
             "#fb9f3a"
            ],
            [
             0.8888888888888888,
             "#fdca26"
            ],
            [
             1,
             "#f0f921"
            ]
           ]
          },
          "colorway": [
           "#636efa",
           "#EF553B",
           "#00cc96",
           "#ab63fa",
           "#FFA15A",
           "#19d3f3",
           "#FF6692",
           "#B6E880",
           "#FF97FF",
           "#FECB52"
          ],
          "font": {
           "color": "#2a3f5f"
          },
          "geo": {
           "bgcolor": "white",
           "lakecolor": "white",
           "landcolor": "#E5ECF6",
           "showlakes": true,
           "showland": true,
           "subunitcolor": "white"
          },
          "hoverlabel": {
           "align": "left"
          },
          "hovermode": "closest",
          "mapbox": {
           "style": "light"
          },
          "paper_bgcolor": "white",
          "plot_bgcolor": "#E5ECF6",
          "polar": {
           "angularaxis": {
            "gridcolor": "white",
            "linecolor": "white",
            "ticks": ""
           },
           "bgcolor": "#E5ECF6",
           "radialaxis": {
            "gridcolor": "white",
            "linecolor": "white",
            "ticks": ""
           }
          },
          "scene": {
           "xaxis": {
            "backgroundcolor": "#E5ECF6",
            "gridcolor": "white",
            "gridwidth": 2,
            "linecolor": "white",
            "showbackground": true,
            "ticks": "",
            "zerolinecolor": "white"
           },
           "yaxis": {
            "backgroundcolor": "#E5ECF6",
            "gridcolor": "white",
            "gridwidth": 2,
            "linecolor": "white",
            "showbackground": true,
            "ticks": "",
            "zerolinecolor": "white"
           },
           "zaxis": {
            "backgroundcolor": "#E5ECF6",
            "gridcolor": "white",
            "gridwidth": 2,
            "linecolor": "white",
            "showbackground": true,
            "ticks": "",
            "zerolinecolor": "white"
           }
          },
          "shapedefaults": {
           "line": {
            "color": "#2a3f5f"
           }
          },
          "ternary": {
           "aaxis": {
            "gridcolor": "white",
            "linecolor": "white",
            "ticks": ""
           },
           "baxis": {
            "gridcolor": "white",
            "linecolor": "white",
            "ticks": ""
           },
           "bgcolor": "#E5ECF6",
           "caxis": {
            "gridcolor": "white",
            "linecolor": "white",
            "ticks": ""
           }
          },
          "title": {
           "x": 0.05
          },
          "xaxis": {
           "automargin": true,
           "gridcolor": "white",
           "linecolor": "white",
           "ticks": "",
           "title": {
            "standoff": 15
           },
           "zerolinecolor": "white",
           "zerolinewidth": 2
          },
          "yaxis": {
           "automargin": true,
           "gridcolor": "white",
           "linecolor": "white",
           "ticks": "",
           "title": {
            "standoff": 15
           },
           "zerolinecolor": "white",
           "zerolinewidth": 2
          }
         }
        },
        "title": {
         "font": {
          "color": "#4D5663"
         }
        },
        "xaxis": {
         "gridcolor": "#E1E5ED",
         "showgrid": true,
         "tickfont": {
          "color": "#4D5663"
         },
         "title": {
          "font": {
           "color": "#4D5663"
          },
          "text": ""
         },
         "zerolinecolor": "#E1E5ED"
        },
        "yaxis": {
         "gridcolor": "#E1E5ED",
         "showgrid": true,
         "tickfont": {
          "color": "#4D5663"
         },
         "title": {
          "font": {
           "color": "#4D5663"
          },
          "text": ""
         },
         "zerolinecolor": "#E1E5ED"
        }
       }
      },
      "text/html": [
       "<div>\n",
       "        \n",
       "        \n",
       "            <div id=\"07f35a98-fa8f-4b4f-9c2c-7dad40c913e7\" class=\"plotly-graph-div\" style=\"height:525px; width:100%;\"></div>\n",
       "            <script type=\"text/javascript\">\n",
       "                require([\"plotly\"], function(Plotly) {\n",
       "                    window.PLOTLYENV=window.PLOTLYENV || {};\n",
       "                    window.PLOTLYENV.BASE_URL='https://plot.ly';\n",
       "                    \n",
       "                if (document.getElementById(\"07f35a98-fa8f-4b4f-9c2c-7dad40c913e7\")) {\n",
       "                    Plotly.newPlot(\n",
       "                        '07f35a98-fa8f-4b4f-9c2c-7dad40c913e7',\n",
       "                        [{\"marker\": {\"color\": \"rgba(255, 153, 51, 0.6)\", \"line\": {\"color\": \"rgba(255, 153, 51, 1.0)\", \"width\": 1}}, \"name\": \"A\", \"orientation\": \"v\", \"text\": \"\", \"type\": \"bar\", \"x\": [0, 1, 2, 3, 4, 5, 6, 7, 8, 9, 10, 11, 12, 13, 14, 15, 16, 17, 18, 19, 20, 21, 22, 23, 24, 25, 26, 27, 28, 29, 30, 31, 32, 33, 34, 35, 36, 37, 38, 39, 40, 41, 42, 43, 44, 45, 46, 47, 48, 49, 50, 51, 52, 53, 54, 55, 56, 57, 58, 59, 60, 61, 62, 63, 64, 65, 66, 67, 68, 69, 70, 71, 72, 73, 74, 75, 76, 77, 78, 79, 80, 81, 82, 83, 84, 85, 86, 87, 88, 89, 90, 91, 92, 93, 94, 95, 96, 97, 98, 99], \"y\": [1.5142186544122638, 0.27895064943248915, -1.2772201606503015, 0.7176215978752194, 1.0242630534311887, -0.18782350124528943, -0.15971406208206046, -0.09450672113595138, 1.101557217961529, 1.760246324420678, 0.4957627962412397, 1.4410840240165774, 0.890736201554487, -0.1973859512432099, -0.22647367315349648, 0.9600258803516739, -0.22695644558189895, 0.9014455961017745, -1.0352942125712694, 1.3614210778771305, 1.438341742803549, 0.0062457188416346066, -0.34075842820041674, 1.1645719966781778, 3.251475167837798, 0.3585119159665232, 0.35559795617521023, -1.4927235063683504, -0.09654662808693423, -0.057294310675322785, -0.48183583073170233, -0.5382944548854823, 0.9208574046073155, -0.6302021900122878, 0.30933377625955083, -0.46552971679190036, -0.912246971568453, 0.663008040972662, 1.2686499433429357, 0.36508507101402465, 0.13357487450389904, -0.20648604070240084, 0.49234018847418437, -1.0079776998156387, -1.3502695696598568, 0.5959137955318851, -0.3372748183372034, -1.7190172045328507, 0.3701065313721388, -1.109452713943562, 0.11680700607062913, -0.8627209126237989, -0.8575591132443635, -0.044169557298888655, -0.7955907040068338, 0.12234260476958768, -1.0760163613813911, -0.8283533358210704, 0.268329750244207, 1.066892146131821, -0.6553844559897053, -0.644878025080047, 0.28702367749052854, -0.41938747626877115, 1.959073984465897, -1.1269742470876678, 3.8538700868814058, 0.8705990773885701, 0.5240821424022016, 0.33280913610094887, 0.4259038558689888, -1.2700198508155802, -0.5263315245506245, -0.1637455667230135, 2.213359350383037, -0.4878057724962988, -0.46568550675433373, 0.9524119005427031, 1.7669535874688445, 0.9320713319598105, 1.0426693299362813, -1.7119433140080471, -0.2723835374814382, -1.4597336316316212, 0.7187397058115067, 0.5706065969920404, 0.023982717991074275, -0.7639207845885283, -0.9117422967467312, -0.5438741254817734, -0.7489289965331479, 1.0933015307053855, -0.33036206127818424, 0.573877123376443, 1.548344828251328, -0.2994560355888004, 0.47710475522997875, -1.7490432446344575, -0.615644586432859, -0.0696319730489194]}, {\"marker\": {\"color\": \"rgba(55, 128, 191, 0.6)\", \"line\": {\"color\": \"rgba(55, 128, 191, 1.0)\", \"width\": 1}}, \"name\": \"B\", \"orientation\": \"v\", \"text\": \"\", \"type\": \"bar\", \"x\": [0, 1, 2, 3, 4, 5, 6, 7, 8, 9, 10, 11, 12, 13, 14, 15, 16, 17, 18, 19, 20, 21, 22, 23, 24, 25, 26, 27, 28, 29, 30, 31, 32, 33, 34, 35, 36, 37, 38, 39, 40, 41, 42, 43, 44, 45, 46, 47, 48, 49, 50, 51, 52, 53, 54, 55, 56, 57, 58, 59, 60, 61, 62, 63, 64, 65, 66, 67, 68, 69, 70, 71, 72, 73, 74, 75, 76, 77, 78, 79, 80, 81, 82, 83, 84, 85, 86, 87, 88, 89, 90, 91, 92, 93, 94, 95, 96, 97, 98, 99], \"y\": [-0.9153410714929735, 1.6358976547955704, 0.09255099576014963, 1.5400934402495086, 0.6425658299894662, -0.26179888744269847, 1.0273186956146738, -0.6307535418604402, -2.5346978546476517, -2.1897817281056837, 0.8311035354450367, 0.6399383182121887, -0.9403607387553982, 0.7078174444510166, -0.45457637870870515, 1.1980318577308495, -0.11554976053470527, 0.30680062220353793, -0.9217244314001211, -0.6663874786748377, 1.32120609432077, 1.0109233247836378, -0.1824269769280658, -1.0488991304782136, 1.0662243347339762, -0.9034244394440355, -0.3263330312314083, -0.2607788207729719, -2.4278016862124088, -0.12711866662850796, -0.36884387842295946, 0.6429063120523958, 0.14881899593559214, -0.43653258631725117, 1.1884826095900352, 2.178398074485583, -0.06233515306434373, 0.2587311274407884, -0.3741404646665351, 0.30626494513246, -2.126751910804884, -2.060133981135926, 1.5529239103471126, -0.38836926178255654, 0.3942599587482798, 1.5803964142097777, -1.0523833241987806, -0.01657286604126695, -0.770066526216671, 0.9920549755691876, 0.22018622155780793, 0.9478438860931523, 2.5346802705488365, 0.30453558445497775, 0.44999869484970006, 0.1329256362940828, 0.5257532229366679, 0.6353351705845959, 1.3939366249738248, -0.22346756860341713, 1.1700863549033256, -0.6893141589265049, -0.7284549415162579, 1.0979628734277693, -0.9852892186534995, 0.04408684809316521, -0.3768717795879098, -0.09487210728594804, 0.40576310664905313, 0.4280661826615465, -0.8014571020621714, -1.192492353104392, 0.9009984970801053, -0.6804664819337662, -0.05322152993200261, -0.5406055085130784, -1.1648516692905604, -0.4866434874688328, -0.2527643374481889, -0.49051314591226564, 0.4483948614666029, -0.1286617016280999, 0.7375815043599231, -1.2179161391289677, 1.329503329537658, 0.6406407101277446, -0.3885952375410158, -1.3344868258260545, 0.021479658397961912, 0.14220431097964045, 0.6956144127780031, -1.2274294853474346, 0.8445551976348453, -0.27707728983608126, -1.044478370898736, -1.0342492050125447, 1.8384683805763349, -0.47129373877017977, 0.2826769281895832, 0.29606799065000583]}, {\"marker\": {\"color\": \"rgba(50, 171, 96, 0.6)\", \"line\": {\"color\": \"rgba(50, 171, 96, 1.0)\", \"width\": 1}}, \"name\": \"C\", \"orientation\": \"v\", \"text\": \"\", \"type\": \"bar\", \"x\": [0, 1, 2, 3, 4, 5, 6, 7, 8, 9, 10, 11, 12, 13, 14, 15, 16, 17, 18, 19, 20, 21, 22, 23, 24, 25, 26, 27, 28, 29, 30, 31, 32, 33, 34, 35, 36, 37, 38, 39, 40, 41, 42, 43, 44, 45, 46, 47, 48, 49, 50, 51, 52, 53, 54, 55, 56, 57, 58, 59, 60, 61, 62, 63, 64, 65, 66, 67, 68, 69, 70, 71, 72, 73, 74, 75, 76, 77, 78, 79, 80, 81, 82, 83, 84, 85, 86, 87, 88, 89, 90, 91, 92, 93, 94, 95, 96, 97, 98, 99], \"y\": [0.952786651656803, -0.09014875287851794, -1.0685447512507276, -0.24921352859048332, 2.351969169587414, -1.8991212435034521, 0.6177398434531892, -1.9917003769460297, -1.0424738903012825, -0.22691279113960114, -1.1970818844517153, -0.9394291053149986, 1.757266845669264, -1.2407937962254503, -0.40044773536211387, -0.07962671261999174, -0.37548314235380925, -0.07343692394274298, -0.7806192817076086, -1.0895517338230685, 0.07176847416090174, -1.4131798523976564, 0.10320382126301453, -0.0025574702503611446, 1.0722971872386773, -0.6490361642546468, -0.7056080232365795, 0.036448555060863155, -0.46208863048318394, 0.8909451927211299, -0.6075569427489664, 0.17212712293151589, -2.2020227738434768, -1.0841246351259266, 0.5581037439400494, 0.2270284074491642, -0.046827427525527245, 0.1708416162951795, 0.097547606722425, 1.4010504698153223, 0.28861231333745696, -0.6301749435268477, 0.35197377626014914, -0.3744844363117336, 1.8219207208840351, 0.45178522279543637, -0.948872768524955, 1.1216879067308498, -0.5051281113933614, 0.14887277205634297, 0.1999556486992249, -1.6697997275559426, -0.1291673926643688, -2.5955074455319127, 0.6071560525654458, 0.45124691331754824, 0.7445534695030128, 1.9102827990950306, -0.09043099370692645, 0.5476464341750529, 0.7242806242042513, -0.34666807435880964, -0.9422400923509909, 1.1944115944422067, 0.849108361722817, -0.587274031667396, -1.3004657379502034, -0.3963526474289799, 1.0932422210457229, 0.16544951931799912, -1.2065330083577088, -0.10963490444821293, -0.1114314635928556, -0.8267519161472029, -0.39792190493483864, 2.5060855702308453, 0.39020636907104783, -0.01212829595721143, -0.4392766502407867, 1.0688639552065233, -0.13031115107888877, 0.28125713641044503, -1.6253646017719803, 1.8681690447660622, 0.22493645123791964, 0.155567443654224, -0.9993681981030387, -1.0466997336123318, -0.38095818629242206, 0.5261496897186589, 0.37650394037431884, -0.7025636954005036, 1.3869796947122683, 0.4014752796351428, -0.3809755265193317, -0.1821895709489874, 0.7181743276632854, 1.2436847673042648, -0.025319473946945892, 0.33927367748534265]}, {\"marker\": {\"color\": \"rgba(128, 0, 128, 0.6)\", \"line\": {\"color\": \"rgba(128, 0, 128, 1.0)\", \"width\": 1}}, \"name\": \"D\", \"orientation\": \"v\", \"text\": \"\", \"type\": \"bar\", \"x\": [0, 1, 2, 3, 4, 5, 6, 7, 8, 9, 10, 11, 12, 13, 14, 15, 16, 17, 18, 19, 20, 21, 22, 23, 24, 25, 26, 27, 28, 29, 30, 31, 32, 33, 34, 35, 36, 37, 38, 39, 40, 41, 42, 43, 44, 45, 46, 47, 48, 49, 50, 51, 52, 53, 54, 55, 56, 57, 58, 59, 60, 61, 62, 63, 64, 65, 66, 67, 68, 69, 70, 71, 72, 73, 74, 75, 76, 77, 78, 79, 80, 81, 82, 83, 84, 85, 86, 87, 88, 89, 90, 91, 92, 93, 94, 95, 96, 97, 98, 99], \"y\": [0.9851061875011242, 0.8582380403595017, -0.33705763147266227, 1.143348296440449, -1.9284318445340969, 1.5529263867241374, -0.3314073487210843, 0.210048778366087, 0.9772419857702811, -0.40555144197030035, -0.03211290723392089, -0.4051763413170174, 0.09342461976286336, -0.15276548116126995, -1.6084766676061713, 1.3300326843843588, -1.7656908341411746, 1.2849327788844074, -1.3035053069028695, -1.126224479833057, -0.47929533400944885, 0.5842022873922668, 0.7904004155000492, -0.4891013768360308, -0.9520557829866434, -0.18334612929308258, -0.09699582855961543, 1.7165193982806102, -0.10761765897950101, 0.6172874068505037, 1.4847093487359413, 0.02905190240144271, -1.5013129289762308, -0.07744689448045243, -1.6624800651633258, -1.0265472229548933, 0.8670916714520461, 1.0426914109891925, 1.5030112811283998, -0.04381679624688889, -0.254722581440965, 0.20537035874761547, 0.509188461141092, -0.4734633460511219, -1.905286227779699, 0.8174965064193349, 0.11002512874214922, 0.08973189298899235, -0.24371056251516976, 0.2076202668019951, 1.3109703381511797, -0.23907632790672884, -1.131640138377444, -0.8681530405257885, -0.3316765752439354, -0.850094737879196, -1.0813888543664887, -0.25880086892959125, 0.4280135636448433, -0.9759241685645935, 0.42732918890384125, 1.0476821350885444, 0.09125930196634753, -1.3844686576162293, -0.7203766720244728, 0.8944611600520691, 1.1389195308685285, -0.1510571781929448, -0.5429626616143252, 1.6438594470823837, -2.387324111421106, 3.186390712511004, -0.3052502835085717, 0.019401789993793443, 0.33201005735944206, -0.14371547257048126, -0.9506788298248029, -2.3746285541474883, 0.18565111413334542, 1.3406813726300504, 1.0987267753039165, 0.24286780703230978, 0.3587389155096219, 1.6950598095884886, 2.280543254135361, 1.6244332636667975, 0.6735605616645972, -0.6468507158570499, -0.3573522725347921, -0.23897454250813613, 1.0850473640524714, 0.9350061122313391, -0.32181332418719005, 0.015078998276582507, 0.37012978990539697, -0.5591163022749365, -1.8576703885043584, 0.8418962768961537, 1.2053095774559155, 0.5658824440956434]}],\n",
       "                        {\"legend\": {\"bgcolor\": \"#F5F6F9\", \"font\": {\"color\": \"#4D5663\"}}, \"paper_bgcolor\": \"#F5F6F9\", \"plot_bgcolor\": \"#F5F6F9\", \"template\": {\"data\": {\"bar\": [{\"error_x\": {\"color\": \"#2a3f5f\"}, \"error_y\": {\"color\": \"#2a3f5f\"}, \"marker\": {\"line\": {\"color\": \"#E5ECF6\", \"width\": 0.5}}, \"type\": \"bar\"}], \"barpolar\": [{\"marker\": {\"line\": {\"color\": \"#E5ECF6\", \"width\": 0.5}}, \"type\": \"barpolar\"}], \"carpet\": [{\"aaxis\": {\"endlinecolor\": \"#2a3f5f\", \"gridcolor\": \"white\", \"linecolor\": \"white\", \"minorgridcolor\": \"white\", \"startlinecolor\": \"#2a3f5f\"}, \"baxis\": {\"endlinecolor\": \"#2a3f5f\", \"gridcolor\": \"white\", \"linecolor\": \"white\", \"minorgridcolor\": \"white\", \"startlinecolor\": \"#2a3f5f\"}, \"type\": \"carpet\"}], \"choropleth\": [{\"colorbar\": {\"outlinewidth\": 0, \"ticks\": \"\"}, \"type\": \"choropleth\"}], \"contour\": [{\"colorbar\": {\"outlinewidth\": 0, \"ticks\": \"\"}, \"colorscale\": [[0.0, \"#0d0887\"], [0.1111111111111111, \"#46039f\"], [0.2222222222222222, \"#7201a8\"], [0.3333333333333333, \"#9c179e\"], [0.4444444444444444, \"#bd3786\"], [0.5555555555555556, \"#d8576b\"], [0.6666666666666666, \"#ed7953\"], [0.7777777777777778, \"#fb9f3a\"], [0.8888888888888888, \"#fdca26\"], [1.0, \"#f0f921\"]], \"type\": \"contour\"}], \"contourcarpet\": [{\"colorbar\": {\"outlinewidth\": 0, \"ticks\": \"\"}, \"type\": \"contourcarpet\"}], \"heatmap\": [{\"colorbar\": {\"outlinewidth\": 0, \"ticks\": \"\"}, \"colorscale\": [[0.0, \"#0d0887\"], [0.1111111111111111, \"#46039f\"], [0.2222222222222222, \"#7201a8\"], [0.3333333333333333, \"#9c179e\"], [0.4444444444444444, \"#bd3786\"], [0.5555555555555556, \"#d8576b\"], [0.6666666666666666, \"#ed7953\"], [0.7777777777777778, \"#fb9f3a\"], [0.8888888888888888, \"#fdca26\"], [1.0, \"#f0f921\"]], \"type\": \"heatmap\"}], \"heatmapgl\": [{\"colorbar\": {\"outlinewidth\": 0, \"ticks\": \"\"}, \"colorscale\": [[0.0, \"#0d0887\"], [0.1111111111111111, \"#46039f\"], [0.2222222222222222, \"#7201a8\"], [0.3333333333333333, \"#9c179e\"], [0.4444444444444444, \"#bd3786\"], [0.5555555555555556, \"#d8576b\"], [0.6666666666666666, \"#ed7953\"], [0.7777777777777778, \"#fb9f3a\"], [0.8888888888888888, \"#fdca26\"], [1.0, \"#f0f921\"]], \"type\": \"heatmapgl\"}], \"histogram\": [{\"marker\": {\"colorbar\": {\"outlinewidth\": 0, \"ticks\": \"\"}}, \"type\": \"histogram\"}], \"histogram2d\": [{\"colorbar\": {\"outlinewidth\": 0, \"ticks\": \"\"}, \"colorscale\": [[0.0, \"#0d0887\"], [0.1111111111111111, \"#46039f\"], [0.2222222222222222, \"#7201a8\"], [0.3333333333333333, \"#9c179e\"], [0.4444444444444444, \"#bd3786\"], [0.5555555555555556, \"#d8576b\"], [0.6666666666666666, \"#ed7953\"], [0.7777777777777778, \"#fb9f3a\"], [0.8888888888888888, \"#fdca26\"], [1.0, \"#f0f921\"]], \"type\": \"histogram2d\"}], \"histogram2dcontour\": [{\"colorbar\": {\"outlinewidth\": 0, \"ticks\": \"\"}, \"colorscale\": [[0.0, \"#0d0887\"], [0.1111111111111111, \"#46039f\"], [0.2222222222222222, \"#7201a8\"], [0.3333333333333333, \"#9c179e\"], [0.4444444444444444, \"#bd3786\"], [0.5555555555555556, \"#d8576b\"], [0.6666666666666666, \"#ed7953\"], [0.7777777777777778, \"#fb9f3a\"], [0.8888888888888888, \"#fdca26\"], [1.0, \"#f0f921\"]], \"type\": \"histogram2dcontour\"}], \"mesh3d\": [{\"colorbar\": {\"outlinewidth\": 0, \"ticks\": \"\"}, \"type\": \"mesh3d\"}], \"parcoords\": [{\"line\": {\"colorbar\": {\"outlinewidth\": 0, \"ticks\": \"\"}}, \"type\": \"parcoords\"}], \"pie\": [{\"automargin\": true, \"type\": \"pie\"}], \"scatter\": [{\"marker\": {\"colorbar\": {\"outlinewidth\": 0, \"ticks\": \"\"}}, \"type\": \"scatter\"}], \"scatter3d\": [{\"line\": {\"colorbar\": {\"outlinewidth\": 0, \"ticks\": \"\"}}, \"marker\": {\"colorbar\": {\"outlinewidth\": 0, \"ticks\": \"\"}}, \"type\": \"scatter3d\"}], \"scattercarpet\": [{\"marker\": {\"colorbar\": {\"outlinewidth\": 0, \"ticks\": \"\"}}, \"type\": \"scattercarpet\"}], \"scattergeo\": [{\"marker\": {\"colorbar\": {\"outlinewidth\": 0, \"ticks\": \"\"}}, \"type\": \"scattergeo\"}], \"scattergl\": [{\"marker\": {\"colorbar\": {\"outlinewidth\": 0, \"ticks\": \"\"}}, \"type\": \"scattergl\"}], \"scattermapbox\": [{\"marker\": {\"colorbar\": {\"outlinewidth\": 0, \"ticks\": \"\"}}, \"type\": \"scattermapbox\"}], \"scatterpolar\": [{\"marker\": {\"colorbar\": {\"outlinewidth\": 0, \"ticks\": \"\"}}, \"type\": \"scatterpolar\"}], \"scatterpolargl\": [{\"marker\": {\"colorbar\": {\"outlinewidth\": 0, \"ticks\": \"\"}}, \"type\": \"scatterpolargl\"}], \"scatterternary\": [{\"marker\": {\"colorbar\": {\"outlinewidth\": 0, \"ticks\": \"\"}}, \"type\": \"scatterternary\"}], \"surface\": [{\"colorbar\": {\"outlinewidth\": 0, \"ticks\": \"\"}, \"colorscale\": [[0.0, \"#0d0887\"], [0.1111111111111111, \"#46039f\"], [0.2222222222222222, \"#7201a8\"], [0.3333333333333333, \"#9c179e\"], [0.4444444444444444, \"#bd3786\"], [0.5555555555555556, \"#d8576b\"], [0.6666666666666666, \"#ed7953\"], [0.7777777777777778, \"#fb9f3a\"], [0.8888888888888888, \"#fdca26\"], [1.0, \"#f0f921\"]], \"type\": \"surface\"}], \"table\": [{\"cells\": {\"fill\": {\"color\": \"#EBF0F8\"}, \"line\": {\"color\": \"white\"}}, \"header\": {\"fill\": {\"color\": \"#C8D4E3\"}, \"line\": {\"color\": \"white\"}}, \"type\": \"table\"}]}, \"layout\": {\"annotationdefaults\": {\"arrowcolor\": \"#2a3f5f\", \"arrowhead\": 0, \"arrowwidth\": 1}, \"coloraxis\": {\"colorbar\": {\"outlinewidth\": 0, \"ticks\": \"\"}}, \"colorscale\": {\"diverging\": [[0, \"#8e0152\"], [0.1, \"#c51b7d\"], [0.2, \"#de77ae\"], [0.3, \"#f1b6da\"], [0.4, \"#fde0ef\"], [0.5, \"#f7f7f7\"], [0.6, \"#e6f5d0\"], [0.7, \"#b8e186\"], [0.8, \"#7fbc41\"], [0.9, \"#4d9221\"], [1, \"#276419\"]], \"sequential\": [[0.0, \"#0d0887\"], [0.1111111111111111, \"#46039f\"], [0.2222222222222222, \"#7201a8\"], [0.3333333333333333, \"#9c179e\"], [0.4444444444444444, \"#bd3786\"], [0.5555555555555556, \"#d8576b\"], [0.6666666666666666, \"#ed7953\"], [0.7777777777777778, \"#fb9f3a\"], [0.8888888888888888, \"#fdca26\"], [1.0, \"#f0f921\"]], \"sequentialminus\": [[0.0, \"#0d0887\"], [0.1111111111111111, \"#46039f\"], [0.2222222222222222, \"#7201a8\"], [0.3333333333333333, \"#9c179e\"], [0.4444444444444444, \"#bd3786\"], [0.5555555555555556, \"#d8576b\"], [0.6666666666666666, \"#ed7953\"], [0.7777777777777778, \"#fb9f3a\"], [0.8888888888888888, \"#fdca26\"], [1.0, \"#f0f921\"]]}, \"colorway\": [\"#636efa\", \"#EF553B\", \"#00cc96\", \"#ab63fa\", \"#FFA15A\", \"#19d3f3\", \"#FF6692\", \"#B6E880\", \"#FF97FF\", \"#FECB52\"], \"font\": {\"color\": \"#2a3f5f\"}, \"geo\": {\"bgcolor\": \"white\", \"lakecolor\": \"white\", \"landcolor\": \"#E5ECF6\", \"showlakes\": true, \"showland\": true, \"subunitcolor\": \"white\"}, \"hoverlabel\": {\"align\": \"left\"}, \"hovermode\": \"closest\", \"mapbox\": {\"style\": \"light\"}, \"paper_bgcolor\": \"white\", \"plot_bgcolor\": \"#E5ECF6\", \"polar\": {\"angularaxis\": {\"gridcolor\": \"white\", \"linecolor\": \"white\", \"ticks\": \"\"}, \"bgcolor\": \"#E5ECF6\", \"radialaxis\": {\"gridcolor\": \"white\", \"linecolor\": \"white\", \"ticks\": \"\"}}, \"scene\": {\"xaxis\": {\"backgroundcolor\": \"#E5ECF6\", \"gridcolor\": \"white\", \"gridwidth\": 2, \"linecolor\": \"white\", \"showbackground\": true, \"ticks\": \"\", \"zerolinecolor\": \"white\"}, \"yaxis\": {\"backgroundcolor\": \"#E5ECF6\", \"gridcolor\": \"white\", \"gridwidth\": 2, \"linecolor\": \"white\", \"showbackground\": true, \"ticks\": \"\", \"zerolinecolor\": \"white\"}, \"zaxis\": {\"backgroundcolor\": \"#E5ECF6\", \"gridcolor\": \"white\", \"gridwidth\": 2, \"linecolor\": \"white\", \"showbackground\": true, \"ticks\": \"\", \"zerolinecolor\": \"white\"}}, \"shapedefaults\": {\"line\": {\"color\": \"#2a3f5f\"}}, \"ternary\": {\"aaxis\": {\"gridcolor\": \"white\", \"linecolor\": \"white\", \"ticks\": \"\"}, \"baxis\": {\"gridcolor\": \"white\", \"linecolor\": \"white\", \"ticks\": \"\"}, \"bgcolor\": \"#E5ECF6\", \"caxis\": {\"gridcolor\": \"white\", \"linecolor\": \"white\", \"ticks\": \"\"}}, \"title\": {\"x\": 0.05}, \"xaxis\": {\"automargin\": true, \"gridcolor\": \"white\", \"linecolor\": \"white\", \"ticks\": \"\", \"title\": {\"standoff\": 15}, \"zerolinecolor\": \"white\", \"zerolinewidth\": 2}, \"yaxis\": {\"automargin\": true, \"gridcolor\": \"white\", \"linecolor\": \"white\", \"ticks\": \"\", \"title\": {\"standoff\": 15}, \"zerolinecolor\": \"white\", \"zerolinewidth\": 2}}}, \"title\": {\"font\": {\"color\": \"#4D5663\"}}, \"xaxis\": {\"gridcolor\": \"#E1E5ED\", \"showgrid\": true, \"tickfont\": {\"color\": \"#4D5663\"}, \"title\": {\"font\": {\"color\": \"#4D5663\"}, \"text\": \"\"}, \"zerolinecolor\": \"#E1E5ED\"}, \"yaxis\": {\"gridcolor\": \"#E1E5ED\", \"showgrid\": true, \"tickfont\": {\"color\": \"#4D5663\"}, \"title\": {\"font\": {\"color\": \"#4D5663\"}, \"text\": \"\"}, \"zerolinecolor\": \"#E1E5ED\"}},\n",
       "                        {\"showLink\": true, \"linkText\": \"Export to plot.ly\", \"plotlyServerURL\": \"https://plot.ly\", \"responsive\": true}\n",
       "                    ).then(function(){\n",
       "                            \n",
       "var gd = document.getElementById('07f35a98-fa8f-4b4f-9c2c-7dad40c913e7');\n",
       "var x = new MutationObserver(function (mutations, observer) {{\n",
       "        var display = window.getComputedStyle(gd).display;\n",
       "        if (!display || display === 'none') {{\n",
       "            console.log([gd, 'removed!']);\n",
       "            Plotly.purge(gd);\n",
       "            observer.disconnect();\n",
       "        }}\n",
       "}});\n",
       "\n",
       "// Listen for the removal of the full notebook cells\n",
       "var notebookContainer = gd.closest('#notebook-container');\n",
       "if (notebookContainer) {{\n",
       "    x.observe(notebookContainer, {childList: true});\n",
       "}}\n",
       "\n",
       "// Listen for the clearing of the current output cell\n",
       "var outputEl = gd.closest('.output');\n",
       "if (outputEl) {{\n",
       "    x.observe(outputEl, {childList: true});\n",
       "}}\n",
       "\n",
       "                        })\n",
       "                };\n",
       "                });\n",
       "            </script>\n",
       "        </div>"
      ]
     },
     "metadata": {},
     "output_type": "display_data"
    }
   ],
   "source": [
    "df.iplot(kind='bar')"
   ]
  },
  {
   "cell_type": "code",
   "execution_count": 18,
   "metadata": {},
   "outputs": [
    {
     "data": {
      "application/vnd.plotly.v1+json": {
       "config": {
        "linkText": "Export to plot.ly",
        "plotlyServerURL": "https://plot.ly",
        "showLink": true
       },
       "data": [
        {
         "marker": {
          "color": "rgba(255, 153, 51, 0.6)",
          "line": {
           "color": "rgba(255, 153, 51, 1.0)",
           "width": 1
          }
         },
         "name": "None",
         "orientation": "v",
         "text": "",
         "type": "bar",
         "x": [
          "A",
          "B",
          "C",
          "D"
         ],
         "y": [
          100,
          100,
          100,
          100
         ]
        }
       ],
       "layout": {
        "legend": {
         "bgcolor": "#F5F6F9",
         "font": {
          "color": "#4D5663"
         }
        },
        "paper_bgcolor": "#F5F6F9",
        "plot_bgcolor": "#F5F6F9",
        "template": {
         "data": {
          "bar": [
           {
            "error_x": {
             "color": "#2a3f5f"
            },
            "error_y": {
             "color": "#2a3f5f"
            },
            "marker": {
             "line": {
              "color": "#E5ECF6",
              "width": 0.5
             }
            },
            "type": "bar"
           }
          ],
          "barpolar": [
           {
            "marker": {
             "line": {
              "color": "#E5ECF6",
              "width": 0.5
             }
            },
            "type": "barpolar"
           }
          ],
          "carpet": [
           {
            "aaxis": {
             "endlinecolor": "#2a3f5f",
             "gridcolor": "white",
             "linecolor": "white",
             "minorgridcolor": "white",
             "startlinecolor": "#2a3f5f"
            },
            "baxis": {
             "endlinecolor": "#2a3f5f",
             "gridcolor": "white",
             "linecolor": "white",
             "minorgridcolor": "white",
             "startlinecolor": "#2a3f5f"
            },
            "type": "carpet"
           }
          ],
          "choropleth": [
           {
            "colorbar": {
             "outlinewidth": 0,
             "ticks": ""
            },
            "type": "choropleth"
           }
          ],
          "contour": [
           {
            "colorbar": {
             "outlinewidth": 0,
             "ticks": ""
            },
            "colorscale": [
             [
              0,
              "#0d0887"
             ],
             [
              0.1111111111111111,
              "#46039f"
             ],
             [
              0.2222222222222222,
              "#7201a8"
             ],
             [
              0.3333333333333333,
              "#9c179e"
             ],
             [
              0.4444444444444444,
              "#bd3786"
             ],
             [
              0.5555555555555556,
              "#d8576b"
             ],
             [
              0.6666666666666666,
              "#ed7953"
             ],
             [
              0.7777777777777778,
              "#fb9f3a"
             ],
             [
              0.8888888888888888,
              "#fdca26"
             ],
             [
              1,
              "#f0f921"
             ]
            ],
            "type": "contour"
           }
          ],
          "contourcarpet": [
           {
            "colorbar": {
             "outlinewidth": 0,
             "ticks": ""
            },
            "type": "contourcarpet"
           }
          ],
          "heatmap": [
           {
            "colorbar": {
             "outlinewidth": 0,
             "ticks": ""
            },
            "colorscale": [
             [
              0,
              "#0d0887"
             ],
             [
              0.1111111111111111,
              "#46039f"
             ],
             [
              0.2222222222222222,
              "#7201a8"
             ],
             [
              0.3333333333333333,
              "#9c179e"
             ],
             [
              0.4444444444444444,
              "#bd3786"
             ],
             [
              0.5555555555555556,
              "#d8576b"
             ],
             [
              0.6666666666666666,
              "#ed7953"
             ],
             [
              0.7777777777777778,
              "#fb9f3a"
             ],
             [
              0.8888888888888888,
              "#fdca26"
             ],
             [
              1,
              "#f0f921"
             ]
            ],
            "type": "heatmap"
           }
          ],
          "heatmapgl": [
           {
            "colorbar": {
             "outlinewidth": 0,
             "ticks": ""
            },
            "colorscale": [
             [
              0,
              "#0d0887"
             ],
             [
              0.1111111111111111,
              "#46039f"
             ],
             [
              0.2222222222222222,
              "#7201a8"
             ],
             [
              0.3333333333333333,
              "#9c179e"
             ],
             [
              0.4444444444444444,
              "#bd3786"
             ],
             [
              0.5555555555555556,
              "#d8576b"
             ],
             [
              0.6666666666666666,
              "#ed7953"
             ],
             [
              0.7777777777777778,
              "#fb9f3a"
             ],
             [
              0.8888888888888888,
              "#fdca26"
             ],
             [
              1,
              "#f0f921"
             ]
            ],
            "type": "heatmapgl"
           }
          ],
          "histogram": [
           {
            "marker": {
             "colorbar": {
              "outlinewidth": 0,
              "ticks": ""
             }
            },
            "type": "histogram"
           }
          ],
          "histogram2d": [
           {
            "colorbar": {
             "outlinewidth": 0,
             "ticks": ""
            },
            "colorscale": [
             [
              0,
              "#0d0887"
             ],
             [
              0.1111111111111111,
              "#46039f"
             ],
             [
              0.2222222222222222,
              "#7201a8"
             ],
             [
              0.3333333333333333,
              "#9c179e"
             ],
             [
              0.4444444444444444,
              "#bd3786"
             ],
             [
              0.5555555555555556,
              "#d8576b"
             ],
             [
              0.6666666666666666,
              "#ed7953"
             ],
             [
              0.7777777777777778,
              "#fb9f3a"
             ],
             [
              0.8888888888888888,
              "#fdca26"
             ],
             [
              1,
              "#f0f921"
             ]
            ],
            "type": "histogram2d"
           }
          ],
          "histogram2dcontour": [
           {
            "colorbar": {
             "outlinewidth": 0,
             "ticks": ""
            },
            "colorscale": [
             [
              0,
              "#0d0887"
             ],
             [
              0.1111111111111111,
              "#46039f"
             ],
             [
              0.2222222222222222,
              "#7201a8"
             ],
             [
              0.3333333333333333,
              "#9c179e"
             ],
             [
              0.4444444444444444,
              "#bd3786"
             ],
             [
              0.5555555555555556,
              "#d8576b"
             ],
             [
              0.6666666666666666,
              "#ed7953"
             ],
             [
              0.7777777777777778,
              "#fb9f3a"
             ],
             [
              0.8888888888888888,
              "#fdca26"
             ],
             [
              1,
              "#f0f921"
             ]
            ],
            "type": "histogram2dcontour"
           }
          ],
          "mesh3d": [
           {
            "colorbar": {
             "outlinewidth": 0,
             "ticks": ""
            },
            "type": "mesh3d"
           }
          ],
          "parcoords": [
           {
            "line": {
             "colorbar": {
              "outlinewidth": 0,
              "ticks": ""
             }
            },
            "type": "parcoords"
           }
          ],
          "pie": [
           {
            "automargin": true,
            "type": "pie"
           }
          ],
          "scatter": [
           {
            "marker": {
             "colorbar": {
              "outlinewidth": 0,
              "ticks": ""
             }
            },
            "type": "scatter"
           }
          ],
          "scatter3d": [
           {
            "line": {
             "colorbar": {
              "outlinewidth": 0,
              "ticks": ""
             }
            },
            "marker": {
             "colorbar": {
              "outlinewidth": 0,
              "ticks": ""
             }
            },
            "type": "scatter3d"
           }
          ],
          "scattercarpet": [
           {
            "marker": {
             "colorbar": {
              "outlinewidth": 0,
              "ticks": ""
             }
            },
            "type": "scattercarpet"
           }
          ],
          "scattergeo": [
           {
            "marker": {
             "colorbar": {
              "outlinewidth": 0,
              "ticks": ""
             }
            },
            "type": "scattergeo"
           }
          ],
          "scattergl": [
           {
            "marker": {
             "colorbar": {
              "outlinewidth": 0,
              "ticks": ""
             }
            },
            "type": "scattergl"
           }
          ],
          "scattermapbox": [
           {
            "marker": {
             "colorbar": {
              "outlinewidth": 0,
              "ticks": ""
             }
            },
            "type": "scattermapbox"
           }
          ],
          "scatterpolar": [
           {
            "marker": {
             "colorbar": {
              "outlinewidth": 0,
              "ticks": ""
             }
            },
            "type": "scatterpolar"
           }
          ],
          "scatterpolargl": [
           {
            "marker": {
             "colorbar": {
              "outlinewidth": 0,
              "ticks": ""
             }
            },
            "type": "scatterpolargl"
           }
          ],
          "scatterternary": [
           {
            "marker": {
             "colorbar": {
              "outlinewidth": 0,
              "ticks": ""
             }
            },
            "type": "scatterternary"
           }
          ],
          "surface": [
           {
            "colorbar": {
             "outlinewidth": 0,
             "ticks": ""
            },
            "colorscale": [
             [
              0,
              "#0d0887"
             ],
             [
              0.1111111111111111,
              "#46039f"
             ],
             [
              0.2222222222222222,
              "#7201a8"
             ],
             [
              0.3333333333333333,
              "#9c179e"
             ],
             [
              0.4444444444444444,
              "#bd3786"
             ],
             [
              0.5555555555555556,
              "#d8576b"
             ],
             [
              0.6666666666666666,
              "#ed7953"
             ],
             [
              0.7777777777777778,
              "#fb9f3a"
             ],
             [
              0.8888888888888888,
              "#fdca26"
             ],
             [
              1,
              "#f0f921"
             ]
            ],
            "type": "surface"
           }
          ],
          "table": [
           {
            "cells": {
             "fill": {
              "color": "#EBF0F8"
             },
             "line": {
              "color": "white"
             }
            },
            "header": {
             "fill": {
              "color": "#C8D4E3"
             },
             "line": {
              "color": "white"
             }
            },
            "type": "table"
           }
          ]
         },
         "layout": {
          "annotationdefaults": {
           "arrowcolor": "#2a3f5f",
           "arrowhead": 0,
           "arrowwidth": 1
          },
          "coloraxis": {
           "colorbar": {
            "outlinewidth": 0,
            "ticks": ""
           }
          },
          "colorscale": {
           "diverging": [
            [
             0,
             "#8e0152"
            ],
            [
             0.1,
             "#c51b7d"
            ],
            [
             0.2,
             "#de77ae"
            ],
            [
             0.3,
             "#f1b6da"
            ],
            [
             0.4,
             "#fde0ef"
            ],
            [
             0.5,
             "#f7f7f7"
            ],
            [
             0.6,
             "#e6f5d0"
            ],
            [
             0.7,
             "#b8e186"
            ],
            [
             0.8,
             "#7fbc41"
            ],
            [
             0.9,
             "#4d9221"
            ],
            [
             1,
             "#276419"
            ]
           ],
           "sequential": [
            [
             0,
             "#0d0887"
            ],
            [
             0.1111111111111111,
             "#46039f"
            ],
            [
             0.2222222222222222,
             "#7201a8"
            ],
            [
             0.3333333333333333,
             "#9c179e"
            ],
            [
             0.4444444444444444,
             "#bd3786"
            ],
            [
             0.5555555555555556,
             "#d8576b"
            ],
            [
             0.6666666666666666,
             "#ed7953"
            ],
            [
             0.7777777777777778,
             "#fb9f3a"
            ],
            [
             0.8888888888888888,
             "#fdca26"
            ],
            [
             1,
             "#f0f921"
            ]
           ],
           "sequentialminus": [
            [
             0,
             "#0d0887"
            ],
            [
             0.1111111111111111,
             "#46039f"
            ],
            [
             0.2222222222222222,
             "#7201a8"
            ],
            [
             0.3333333333333333,
             "#9c179e"
            ],
            [
             0.4444444444444444,
             "#bd3786"
            ],
            [
             0.5555555555555556,
             "#d8576b"
            ],
            [
             0.6666666666666666,
             "#ed7953"
            ],
            [
             0.7777777777777778,
             "#fb9f3a"
            ],
            [
             0.8888888888888888,
             "#fdca26"
            ],
            [
             1,
             "#f0f921"
            ]
           ]
          },
          "colorway": [
           "#636efa",
           "#EF553B",
           "#00cc96",
           "#ab63fa",
           "#FFA15A",
           "#19d3f3",
           "#FF6692",
           "#B6E880",
           "#FF97FF",
           "#FECB52"
          ],
          "font": {
           "color": "#2a3f5f"
          },
          "geo": {
           "bgcolor": "white",
           "lakecolor": "white",
           "landcolor": "#E5ECF6",
           "showlakes": true,
           "showland": true,
           "subunitcolor": "white"
          },
          "hoverlabel": {
           "align": "left"
          },
          "hovermode": "closest",
          "mapbox": {
           "style": "light"
          },
          "paper_bgcolor": "white",
          "plot_bgcolor": "#E5ECF6",
          "polar": {
           "angularaxis": {
            "gridcolor": "white",
            "linecolor": "white",
            "ticks": ""
           },
           "bgcolor": "#E5ECF6",
           "radialaxis": {
            "gridcolor": "white",
            "linecolor": "white",
            "ticks": ""
           }
          },
          "scene": {
           "xaxis": {
            "backgroundcolor": "#E5ECF6",
            "gridcolor": "white",
            "gridwidth": 2,
            "linecolor": "white",
            "showbackground": true,
            "ticks": "",
            "zerolinecolor": "white"
           },
           "yaxis": {
            "backgroundcolor": "#E5ECF6",
            "gridcolor": "white",
            "gridwidth": 2,
            "linecolor": "white",
            "showbackground": true,
            "ticks": "",
            "zerolinecolor": "white"
           },
           "zaxis": {
            "backgroundcolor": "#E5ECF6",
            "gridcolor": "white",
            "gridwidth": 2,
            "linecolor": "white",
            "showbackground": true,
            "ticks": "",
            "zerolinecolor": "white"
           }
          },
          "shapedefaults": {
           "line": {
            "color": "#2a3f5f"
           }
          },
          "ternary": {
           "aaxis": {
            "gridcolor": "white",
            "linecolor": "white",
            "ticks": ""
           },
           "baxis": {
            "gridcolor": "white",
            "linecolor": "white",
            "ticks": ""
           },
           "bgcolor": "#E5ECF6",
           "caxis": {
            "gridcolor": "white",
            "linecolor": "white",
            "ticks": ""
           }
          },
          "title": {
           "x": 0.05
          },
          "xaxis": {
           "automargin": true,
           "gridcolor": "white",
           "linecolor": "white",
           "ticks": "",
           "title": {
            "standoff": 15
           },
           "zerolinecolor": "white",
           "zerolinewidth": 2
          },
          "yaxis": {
           "automargin": true,
           "gridcolor": "white",
           "linecolor": "white",
           "ticks": "",
           "title": {
            "standoff": 15
           },
           "zerolinecolor": "white",
           "zerolinewidth": 2
          }
         }
        },
        "title": {
         "font": {
          "color": "#4D5663"
         }
        },
        "xaxis": {
         "gridcolor": "#E1E5ED",
         "showgrid": true,
         "tickfont": {
          "color": "#4D5663"
         },
         "title": {
          "font": {
           "color": "#4D5663"
          },
          "text": ""
         },
         "zerolinecolor": "#E1E5ED"
        },
        "yaxis": {
         "gridcolor": "#E1E5ED",
         "showgrid": true,
         "tickfont": {
          "color": "#4D5663"
         },
         "title": {
          "font": {
           "color": "#4D5663"
          },
          "text": ""
         },
         "zerolinecolor": "#E1E5ED"
        }
       }
      },
      "text/html": [
       "<div>\n",
       "        \n",
       "        \n",
       "            <div id=\"2cbc92e3-d47e-48f4-8220-32fc086f8f71\" class=\"plotly-graph-div\" style=\"height:525px; width:100%;\"></div>\n",
       "            <script type=\"text/javascript\">\n",
       "                require([\"plotly\"], function(Plotly) {\n",
       "                    window.PLOTLYENV=window.PLOTLYENV || {};\n",
       "                    window.PLOTLYENV.BASE_URL='https://plot.ly';\n",
       "                    \n",
       "                if (document.getElementById(\"2cbc92e3-d47e-48f4-8220-32fc086f8f71\")) {\n",
       "                    Plotly.newPlot(\n",
       "                        '2cbc92e3-d47e-48f4-8220-32fc086f8f71',\n",
       "                        [{\"marker\": {\"color\": \"rgba(255, 153, 51, 0.6)\", \"line\": {\"color\": \"rgba(255, 153, 51, 1.0)\", \"width\": 1}}, \"name\": \"None\", \"orientation\": \"v\", \"text\": \"\", \"type\": \"bar\", \"x\": [\"A\", \"B\", \"C\", \"D\"], \"y\": [100, 100, 100, 100]}],\n",
       "                        {\"legend\": {\"bgcolor\": \"#F5F6F9\", \"font\": {\"color\": \"#4D5663\"}}, \"paper_bgcolor\": \"#F5F6F9\", \"plot_bgcolor\": \"#F5F6F9\", \"template\": {\"data\": {\"bar\": [{\"error_x\": {\"color\": \"#2a3f5f\"}, \"error_y\": {\"color\": \"#2a3f5f\"}, \"marker\": {\"line\": {\"color\": \"#E5ECF6\", \"width\": 0.5}}, \"type\": \"bar\"}], \"barpolar\": [{\"marker\": {\"line\": {\"color\": \"#E5ECF6\", \"width\": 0.5}}, \"type\": \"barpolar\"}], \"carpet\": [{\"aaxis\": {\"endlinecolor\": \"#2a3f5f\", \"gridcolor\": \"white\", \"linecolor\": \"white\", \"minorgridcolor\": \"white\", \"startlinecolor\": \"#2a3f5f\"}, \"baxis\": {\"endlinecolor\": \"#2a3f5f\", \"gridcolor\": \"white\", \"linecolor\": \"white\", \"minorgridcolor\": \"white\", \"startlinecolor\": \"#2a3f5f\"}, \"type\": \"carpet\"}], \"choropleth\": [{\"colorbar\": {\"outlinewidth\": 0, \"ticks\": \"\"}, \"type\": \"choropleth\"}], \"contour\": [{\"colorbar\": {\"outlinewidth\": 0, \"ticks\": \"\"}, \"colorscale\": [[0.0, \"#0d0887\"], [0.1111111111111111, \"#46039f\"], [0.2222222222222222, \"#7201a8\"], [0.3333333333333333, \"#9c179e\"], [0.4444444444444444, \"#bd3786\"], [0.5555555555555556, \"#d8576b\"], [0.6666666666666666, \"#ed7953\"], [0.7777777777777778, \"#fb9f3a\"], [0.8888888888888888, \"#fdca26\"], [1.0, \"#f0f921\"]], \"type\": \"contour\"}], \"contourcarpet\": [{\"colorbar\": {\"outlinewidth\": 0, \"ticks\": \"\"}, \"type\": \"contourcarpet\"}], \"heatmap\": [{\"colorbar\": {\"outlinewidth\": 0, \"ticks\": \"\"}, \"colorscale\": [[0.0, \"#0d0887\"], [0.1111111111111111, \"#46039f\"], [0.2222222222222222, \"#7201a8\"], [0.3333333333333333, \"#9c179e\"], [0.4444444444444444, \"#bd3786\"], [0.5555555555555556, \"#d8576b\"], [0.6666666666666666, \"#ed7953\"], [0.7777777777777778, \"#fb9f3a\"], [0.8888888888888888, \"#fdca26\"], [1.0, \"#f0f921\"]], \"type\": \"heatmap\"}], \"heatmapgl\": [{\"colorbar\": {\"outlinewidth\": 0, \"ticks\": \"\"}, \"colorscale\": [[0.0, \"#0d0887\"], [0.1111111111111111, \"#46039f\"], [0.2222222222222222, \"#7201a8\"], [0.3333333333333333, \"#9c179e\"], [0.4444444444444444, \"#bd3786\"], [0.5555555555555556, \"#d8576b\"], [0.6666666666666666, \"#ed7953\"], [0.7777777777777778, \"#fb9f3a\"], [0.8888888888888888, \"#fdca26\"], [1.0, \"#f0f921\"]], \"type\": \"heatmapgl\"}], \"histogram\": [{\"marker\": {\"colorbar\": {\"outlinewidth\": 0, \"ticks\": \"\"}}, \"type\": \"histogram\"}], \"histogram2d\": [{\"colorbar\": {\"outlinewidth\": 0, \"ticks\": \"\"}, \"colorscale\": [[0.0, \"#0d0887\"], [0.1111111111111111, \"#46039f\"], [0.2222222222222222, \"#7201a8\"], [0.3333333333333333, \"#9c179e\"], [0.4444444444444444, \"#bd3786\"], [0.5555555555555556, \"#d8576b\"], [0.6666666666666666, \"#ed7953\"], [0.7777777777777778, \"#fb9f3a\"], [0.8888888888888888, \"#fdca26\"], [1.0, \"#f0f921\"]], \"type\": \"histogram2d\"}], \"histogram2dcontour\": [{\"colorbar\": {\"outlinewidth\": 0, \"ticks\": \"\"}, \"colorscale\": [[0.0, \"#0d0887\"], [0.1111111111111111, \"#46039f\"], [0.2222222222222222, \"#7201a8\"], [0.3333333333333333, \"#9c179e\"], [0.4444444444444444, \"#bd3786\"], [0.5555555555555556, \"#d8576b\"], [0.6666666666666666, \"#ed7953\"], [0.7777777777777778, \"#fb9f3a\"], [0.8888888888888888, \"#fdca26\"], [1.0, \"#f0f921\"]], \"type\": \"histogram2dcontour\"}], \"mesh3d\": [{\"colorbar\": {\"outlinewidth\": 0, \"ticks\": \"\"}, \"type\": \"mesh3d\"}], \"parcoords\": [{\"line\": {\"colorbar\": {\"outlinewidth\": 0, \"ticks\": \"\"}}, \"type\": \"parcoords\"}], \"pie\": [{\"automargin\": true, \"type\": \"pie\"}], \"scatter\": [{\"marker\": {\"colorbar\": {\"outlinewidth\": 0, \"ticks\": \"\"}}, \"type\": \"scatter\"}], \"scatter3d\": [{\"line\": {\"colorbar\": {\"outlinewidth\": 0, \"ticks\": \"\"}}, \"marker\": {\"colorbar\": {\"outlinewidth\": 0, \"ticks\": \"\"}}, \"type\": \"scatter3d\"}], \"scattercarpet\": [{\"marker\": {\"colorbar\": {\"outlinewidth\": 0, \"ticks\": \"\"}}, \"type\": \"scattercarpet\"}], \"scattergeo\": [{\"marker\": {\"colorbar\": {\"outlinewidth\": 0, \"ticks\": \"\"}}, \"type\": \"scattergeo\"}], \"scattergl\": [{\"marker\": {\"colorbar\": {\"outlinewidth\": 0, \"ticks\": \"\"}}, \"type\": \"scattergl\"}], \"scattermapbox\": [{\"marker\": {\"colorbar\": {\"outlinewidth\": 0, \"ticks\": \"\"}}, \"type\": \"scattermapbox\"}], \"scatterpolar\": [{\"marker\": {\"colorbar\": {\"outlinewidth\": 0, \"ticks\": \"\"}}, \"type\": \"scatterpolar\"}], \"scatterpolargl\": [{\"marker\": {\"colorbar\": {\"outlinewidth\": 0, \"ticks\": \"\"}}, \"type\": \"scatterpolargl\"}], \"scatterternary\": [{\"marker\": {\"colorbar\": {\"outlinewidth\": 0, \"ticks\": \"\"}}, \"type\": \"scatterternary\"}], \"surface\": [{\"colorbar\": {\"outlinewidth\": 0, \"ticks\": \"\"}, \"colorscale\": [[0.0, \"#0d0887\"], [0.1111111111111111, \"#46039f\"], [0.2222222222222222, \"#7201a8\"], [0.3333333333333333, \"#9c179e\"], [0.4444444444444444, \"#bd3786\"], [0.5555555555555556, \"#d8576b\"], [0.6666666666666666, \"#ed7953\"], [0.7777777777777778, \"#fb9f3a\"], [0.8888888888888888, \"#fdca26\"], [1.0, \"#f0f921\"]], \"type\": \"surface\"}], \"table\": [{\"cells\": {\"fill\": {\"color\": \"#EBF0F8\"}, \"line\": {\"color\": \"white\"}}, \"header\": {\"fill\": {\"color\": \"#C8D4E3\"}, \"line\": {\"color\": \"white\"}}, \"type\": \"table\"}]}, \"layout\": {\"annotationdefaults\": {\"arrowcolor\": \"#2a3f5f\", \"arrowhead\": 0, \"arrowwidth\": 1}, \"coloraxis\": {\"colorbar\": {\"outlinewidth\": 0, \"ticks\": \"\"}}, \"colorscale\": {\"diverging\": [[0, \"#8e0152\"], [0.1, \"#c51b7d\"], [0.2, \"#de77ae\"], [0.3, \"#f1b6da\"], [0.4, \"#fde0ef\"], [0.5, \"#f7f7f7\"], [0.6, \"#e6f5d0\"], [0.7, \"#b8e186\"], [0.8, \"#7fbc41\"], [0.9, \"#4d9221\"], [1, \"#276419\"]], \"sequential\": [[0.0, \"#0d0887\"], [0.1111111111111111, \"#46039f\"], [0.2222222222222222, \"#7201a8\"], [0.3333333333333333, \"#9c179e\"], [0.4444444444444444, \"#bd3786\"], [0.5555555555555556, \"#d8576b\"], [0.6666666666666666, \"#ed7953\"], [0.7777777777777778, \"#fb9f3a\"], [0.8888888888888888, \"#fdca26\"], [1.0, \"#f0f921\"]], \"sequentialminus\": [[0.0, \"#0d0887\"], [0.1111111111111111, \"#46039f\"], [0.2222222222222222, \"#7201a8\"], [0.3333333333333333, \"#9c179e\"], [0.4444444444444444, \"#bd3786\"], [0.5555555555555556, \"#d8576b\"], [0.6666666666666666, \"#ed7953\"], [0.7777777777777778, \"#fb9f3a\"], [0.8888888888888888, \"#fdca26\"], [1.0, \"#f0f921\"]]}, \"colorway\": [\"#636efa\", \"#EF553B\", \"#00cc96\", \"#ab63fa\", \"#FFA15A\", \"#19d3f3\", \"#FF6692\", \"#B6E880\", \"#FF97FF\", \"#FECB52\"], \"font\": {\"color\": \"#2a3f5f\"}, \"geo\": {\"bgcolor\": \"white\", \"lakecolor\": \"white\", \"landcolor\": \"#E5ECF6\", \"showlakes\": true, \"showland\": true, \"subunitcolor\": \"white\"}, \"hoverlabel\": {\"align\": \"left\"}, \"hovermode\": \"closest\", \"mapbox\": {\"style\": \"light\"}, \"paper_bgcolor\": \"white\", \"plot_bgcolor\": \"#E5ECF6\", \"polar\": {\"angularaxis\": {\"gridcolor\": \"white\", \"linecolor\": \"white\", \"ticks\": \"\"}, \"bgcolor\": \"#E5ECF6\", \"radialaxis\": {\"gridcolor\": \"white\", \"linecolor\": \"white\", \"ticks\": \"\"}}, \"scene\": {\"xaxis\": {\"backgroundcolor\": \"#E5ECF6\", \"gridcolor\": \"white\", \"gridwidth\": 2, \"linecolor\": \"white\", \"showbackground\": true, \"ticks\": \"\", \"zerolinecolor\": \"white\"}, \"yaxis\": {\"backgroundcolor\": \"#E5ECF6\", \"gridcolor\": \"white\", \"gridwidth\": 2, \"linecolor\": \"white\", \"showbackground\": true, \"ticks\": \"\", \"zerolinecolor\": \"white\"}, \"zaxis\": {\"backgroundcolor\": \"#E5ECF6\", \"gridcolor\": \"white\", \"gridwidth\": 2, \"linecolor\": \"white\", \"showbackground\": true, \"ticks\": \"\", \"zerolinecolor\": \"white\"}}, \"shapedefaults\": {\"line\": {\"color\": \"#2a3f5f\"}}, \"ternary\": {\"aaxis\": {\"gridcolor\": \"white\", \"linecolor\": \"white\", \"ticks\": \"\"}, \"baxis\": {\"gridcolor\": \"white\", \"linecolor\": \"white\", \"ticks\": \"\"}, \"bgcolor\": \"#E5ECF6\", \"caxis\": {\"gridcolor\": \"white\", \"linecolor\": \"white\", \"ticks\": \"\"}}, \"title\": {\"x\": 0.05}, \"xaxis\": {\"automargin\": true, \"gridcolor\": \"white\", \"linecolor\": \"white\", \"ticks\": \"\", \"title\": {\"standoff\": 15}, \"zerolinecolor\": \"white\", \"zerolinewidth\": 2}, \"yaxis\": {\"automargin\": true, \"gridcolor\": \"white\", \"linecolor\": \"white\", \"ticks\": \"\", \"title\": {\"standoff\": 15}, \"zerolinecolor\": \"white\", \"zerolinewidth\": 2}}}, \"title\": {\"font\": {\"color\": \"#4D5663\"}}, \"xaxis\": {\"gridcolor\": \"#E1E5ED\", \"showgrid\": true, \"tickfont\": {\"color\": \"#4D5663\"}, \"title\": {\"font\": {\"color\": \"#4D5663\"}, \"text\": \"\"}, \"zerolinecolor\": \"#E1E5ED\"}, \"yaxis\": {\"gridcolor\": \"#E1E5ED\", \"showgrid\": true, \"tickfont\": {\"color\": \"#4D5663\"}, \"title\": {\"font\": {\"color\": \"#4D5663\"}, \"text\": \"\"}, \"zerolinecolor\": \"#E1E5ED\"}},\n",
       "                        {\"showLink\": true, \"linkText\": \"Export to plot.ly\", \"plotlyServerURL\": \"https://plot.ly\", \"responsive\": true}\n",
       "                    ).then(function(){\n",
       "                            \n",
       "var gd = document.getElementById('2cbc92e3-d47e-48f4-8220-32fc086f8f71');\n",
       "var x = new MutationObserver(function (mutations, observer) {{\n",
       "        var display = window.getComputedStyle(gd).display;\n",
       "        if (!display || display === 'none') {{\n",
       "            console.log([gd, 'removed!']);\n",
       "            Plotly.purge(gd);\n",
       "            observer.disconnect();\n",
       "        }}\n",
       "}});\n",
       "\n",
       "// Listen for the removal of the full notebook cells\n",
       "var notebookContainer = gd.closest('#notebook-container');\n",
       "if (notebookContainer) {{\n",
       "    x.observe(notebookContainer, {childList: true});\n",
       "}}\n",
       "\n",
       "// Listen for the clearing of the current output cell\n",
       "var outputEl = gd.closest('.output');\n",
       "if (outputEl) {{\n",
       "    x.observe(outputEl, {childList: true});\n",
       "}}\n",
       "\n",
       "                        })\n",
       "                };\n",
       "                });\n",
       "            </script>\n",
       "        </div>"
      ]
     },
     "metadata": {},
     "output_type": "display_data"
    }
   ],
   "source": [
    "df.count().iplot(kind='bar')"
   ]
  },
  {
   "cell_type": "markdown",
   "metadata": {},
   "source": [
    "Box plot:"
   ]
  },
  {
   "cell_type": "code",
   "execution_count": 19,
   "metadata": {},
   "outputs": [
    {
     "data": {
      "application/vnd.plotly.v1+json": {
       "config": {
        "linkText": "Export to plot.ly",
        "plotlyServerURL": "https://plot.ly",
        "showLink": true
       },
       "data": [
        {
         "boxpoints": false,
         "line": {
          "width": 1.3
         },
         "marker": {
          "color": "rgba(255, 153, 51, 1.0)"
         },
         "name": "A",
         "orientation": "v",
         "type": "box",
         "y": [
          1.5142186544122638,
          0.27895064943248915,
          -1.2772201606503015,
          0.7176215978752194,
          1.0242630534311887,
          -0.18782350124528943,
          -0.15971406208206046,
          -0.09450672113595138,
          1.101557217961529,
          1.760246324420678,
          0.4957627962412397,
          1.4410840240165774,
          0.890736201554487,
          -0.1973859512432099,
          -0.22647367315349648,
          0.9600258803516739,
          -0.22695644558189895,
          0.9014455961017745,
          -1.0352942125712694,
          1.3614210778771305,
          1.438341742803549,
          0.0062457188416346066,
          -0.34075842820041674,
          1.1645719966781778,
          3.251475167837798,
          0.3585119159665232,
          0.35559795617521023,
          -1.4927235063683504,
          -0.09654662808693423,
          -0.057294310675322785,
          -0.48183583073170233,
          -0.5382944548854823,
          0.9208574046073155,
          -0.6302021900122878,
          0.30933377625955083,
          -0.46552971679190036,
          -0.912246971568453,
          0.663008040972662,
          1.2686499433429357,
          0.36508507101402465,
          0.13357487450389904,
          -0.20648604070240084,
          0.49234018847418437,
          -1.0079776998156387,
          -1.3502695696598568,
          0.5959137955318851,
          -0.3372748183372034,
          -1.7190172045328507,
          0.3701065313721388,
          -1.109452713943562,
          0.11680700607062913,
          -0.8627209126237989,
          -0.8575591132443635,
          -0.044169557298888655,
          -0.7955907040068338,
          0.12234260476958768,
          -1.0760163613813911,
          -0.8283533358210704,
          0.268329750244207,
          1.066892146131821,
          -0.6553844559897053,
          -0.644878025080047,
          0.28702367749052854,
          -0.41938747626877115,
          1.959073984465897,
          -1.1269742470876678,
          3.8538700868814058,
          0.8705990773885701,
          0.5240821424022016,
          0.33280913610094887,
          0.4259038558689888,
          -1.2700198508155802,
          -0.5263315245506245,
          -0.1637455667230135,
          2.213359350383037,
          -0.4878057724962988,
          -0.46568550675433373,
          0.9524119005427031,
          1.7669535874688445,
          0.9320713319598105,
          1.0426693299362813,
          -1.7119433140080471,
          -0.2723835374814382,
          -1.4597336316316212,
          0.7187397058115067,
          0.5706065969920404,
          0.023982717991074275,
          -0.7639207845885283,
          -0.9117422967467312,
          -0.5438741254817734,
          -0.7489289965331479,
          1.0933015307053855,
          -0.33036206127818424,
          0.573877123376443,
          1.548344828251328,
          -0.2994560355888004,
          0.47710475522997875,
          -1.7490432446344575,
          -0.615644586432859,
          -0.0696319730489194
         ]
        },
        {
         "boxpoints": false,
         "line": {
          "width": 1.3
         },
         "marker": {
          "color": "rgba(55, 128, 191, 1.0)"
         },
         "name": "B",
         "orientation": "v",
         "type": "box",
         "y": [
          -0.9153410714929735,
          1.6358976547955704,
          0.09255099576014963,
          1.5400934402495086,
          0.6425658299894662,
          -0.26179888744269847,
          1.0273186956146738,
          -0.6307535418604402,
          -2.5346978546476517,
          -2.1897817281056837,
          0.8311035354450367,
          0.6399383182121887,
          -0.9403607387553982,
          0.7078174444510166,
          -0.45457637870870515,
          1.1980318577308495,
          -0.11554976053470527,
          0.30680062220353793,
          -0.9217244314001211,
          -0.6663874786748377,
          1.32120609432077,
          1.0109233247836378,
          -0.1824269769280658,
          -1.0488991304782136,
          1.0662243347339762,
          -0.9034244394440355,
          -0.3263330312314083,
          -0.2607788207729719,
          -2.4278016862124088,
          -0.12711866662850796,
          -0.36884387842295946,
          0.6429063120523958,
          0.14881899593559214,
          -0.43653258631725117,
          1.1884826095900352,
          2.178398074485583,
          -0.06233515306434373,
          0.2587311274407884,
          -0.3741404646665351,
          0.30626494513246,
          -2.126751910804884,
          -2.060133981135926,
          1.5529239103471126,
          -0.38836926178255654,
          0.3942599587482798,
          1.5803964142097777,
          -1.0523833241987806,
          -0.01657286604126695,
          -0.770066526216671,
          0.9920549755691876,
          0.22018622155780793,
          0.9478438860931523,
          2.5346802705488365,
          0.30453558445497775,
          0.44999869484970006,
          0.1329256362940828,
          0.5257532229366679,
          0.6353351705845959,
          1.3939366249738248,
          -0.22346756860341713,
          1.1700863549033256,
          -0.6893141589265049,
          -0.7284549415162579,
          1.0979628734277693,
          -0.9852892186534995,
          0.04408684809316521,
          -0.3768717795879098,
          -0.09487210728594804,
          0.40576310664905313,
          0.4280661826615465,
          -0.8014571020621714,
          -1.192492353104392,
          0.9009984970801053,
          -0.6804664819337662,
          -0.05322152993200261,
          -0.5406055085130784,
          -1.1648516692905604,
          -0.4866434874688328,
          -0.2527643374481889,
          -0.49051314591226564,
          0.4483948614666029,
          -0.1286617016280999,
          0.7375815043599231,
          -1.2179161391289677,
          1.329503329537658,
          0.6406407101277446,
          -0.3885952375410158,
          -1.3344868258260545,
          0.021479658397961912,
          0.14220431097964045,
          0.6956144127780031,
          -1.2274294853474346,
          0.8445551976348453,
          -0.27707728983608126,
          -1.044478370898736,
          -1.0342492050125447,
          1.8384683805763349,
          -0.47129373877017977,
          0.2826769281895832,
          0.29606799065000583
         ]
        },
        {
         "boxpoints": false,
         "line": {
          "width": 1.3
         },
         "marker": {
          "color": "rgba(50, 171, 96, 1.0)"
         },
         "name": "C",
         "orientation": "v",
         "type": "box",
         "y": [
          0.952786651656803,
          -0.09014875287851794,
          -1.0685447512507276,
          -0.24921352859048332,
          2.351969169587414,
          -1.8991212435034521,
          0.6177398434531892,
          -1.9917003769460297,
          -1.0424738903012825,
          -0.22691279113960114,
          -1.1970818844517153,
          -0.9394291053149986,
          1.757266845669264,
          -1.2407937962254503,
          -0.40044773536211387,
          -0.07962671261999174,
          -0.37548314235380925,
          -0.07343692394274298,
          -0.7806192817076086,
          -1.0895517338230685,
          0.07176847416090174,
          -1.4131798523976564,
          0.10320382126301453,
          -0.0025574702503611446,
          1.0722971872386773,
          -0.6490361642546468,
          -0.7056080232365795,
          0.036448555060863155,
          -0.46208863048318394,
          0.8909451927211299,
          -0.6075569427489664,
          0.17212712293151589,
          -2.2020227738434768,
          -1.0841246351259266,
          0.5581037439400494,
          0.2270284074491642,
          -0.046827427525527245,
          0.1708416162951795,
          0.097547606722425,
          1.4010504698153223,
          0.28861231333745696,
          -0.6301749435268477,
          0.35197377626014914,
          -0.3744844363117336,
          1.8219207208840351,
          0.45178522279543637,
          -0.948872768524955,
          1.1216879067308498,
          -0.5051281113933614,
          0.14887277205634297,
          0.1999556486992249,
          -1.6697997275559426,
          -0.1291673926643688,
          -2.5955074455319127,
          0.6071560525654458,
          0.45124691331754824,
          0.7445534695030128,
          1.9102827990950306,
          -0.09043099370692645,
          0.5476464341750529,
          0.7242806242042513,
          -0.34666807435880964,
          -0.9422400923509909,
          1.1944115944422067,
          0.849108361722817,
          -0.587274031667396,
          -1.3004657379502034,
          -0.3963526474289799,
          1.0932422210457229,
          0.16544951931799912,
          -1.2065330083577088,
          -0.10963490444821293,
          -0.1114314635928556,
          -0.8267519161472029,
          -0.39792190493483864,
          2.5060855702308453,
          0.39020636907104783,
          -0.01212829595721143,
          -0.4392766502407867,
          1.0688639552065233,
          -0.13031115107888877,
          0.28125713641044503,
          -1.6253646017719803,
          1.8681690447660622,
          0.22493645123791964,
          0.155567443654224,
          -0.9993681981030387,
          -1.0466997336123318,
          -0.38095818629242206,
          0.5261496897186589,
          0.37650394037431884,
          -0.7025636954005036,
          1.3869796947122683,
          0.4014752796351428,
          -0.3809755265193317,
          -0.1821895709489874,
          0.7181743276632854,
          1.2436847673042648,
          -0.025319473946945892,
          0.33927367748534265
         ]
        },
        {
         "boxpoints": false,
         "line": {
          "width": 1.3
         },
         "marker": {
          "color": "rgba(128, 0, 128, 1.0)"
         },
         "name": "D",
         "orientation": "v",
         "type": "box",
         "y": [
          0.9851061875011242,
          0.8582380403595017,
          -0.33705763147266227,
          1.143348296440449,
          -1.9284318445340969,
          1.5529263867241374,
          -0.3314073487210843,
          0.210048778366087,
          0.9772419857702811,
          -0.40555144197030035,
          -0.03211290723392089,
          -0.4051763413170174,
          0.09342461976286336,
          -0.15276548116126995,
          -1.6084766676061713,
          1.3300326843843588,
          -1.7656908341411746,
          1.2849327788844074,
          -1.3035053069028695,
          -1.126224479833057,
          -0.47929533400944885,
          0.5842022873922668,
          0.7904004155000492,
          -0.4891013768360308,
          -0.9520557829866434,
          -0.18334612929308258,
          -0.09699582855961543,
          1.7165193982806102,
          -0.10761765897950101,
          0.6172874068505037,
          1.4847093487359413,
          0.02905190240144271,
          -1.5013129289762308,
          -0.07744689448045243,
          -1.6624800651633258,
          -1.0265472229548933,
          0.8670916714520461,
          1.0426914109891925,
          1.5030112811283998,
          -0.04381679624688889,
          -0.254722581440965,
          0.20537035874761547,
          0.509188461141092,
          -0.4734633460511219,
          -1.905286227779699,
          0.8174965064193349,
          0.11002512874214922,
          0.08973189298899235,
          -0.24371056251516976,
          0.2076202668019951,
          1.3109703381511797,
          -0.23907632790672884,
          -1.131640138377444,
          -0.8681530405257885,
          -0.3316765752439354,
          -0.850094737879196,
          -1.0813888543664887,
          -0.25880086892959125,
          0.4280135636448433,
          -0.9759241685645935,
          0.42732918890384125,
          1.0476821350885444,
          0.09125930196634753,
          -1.3844686576162293,
          -0.7203766720244728,
          0.8944611600520691,
          1.1389195308685285,
          -0.1510571781929448,
          -0.5429626616143252,
          1.6438594470823837,
          -2.387324111421106,
          3.186390712511004,
          -0.3052502835085717,
          0.019401789993793443,
          0.33201005735944206,
          -0.14371547257048126,
          -0.9506788298248029,
          -2.3746285541474883,
          0.18565111413334542,
          1.3406813726300504,
          1.0987267753039165,
          0.24286780703230978,
          0.3587389155096219,
          1.6950598095884886,
          2.280543254135361,
          1.6244332636667975,
          0.6735605616645972,
          -0.6468507158570499,
          -0.3573522725347921,
          -0.23897454250813613,
          1.0850473640524714,
          0.9350061122313391,
          -0.32181332418719005,
          0.015078998276582507,
          0.37012978990539697,
          -0.5591163022749365,
          -1.8576703885043584,
          0.8418962768961537,
          1.2053095774559155,
          0.5658824440956434
         ]
        }
       ],
       "layout": {
        "legend": {
         "bgcolor": "#F5F6F9",
         "font": {
          "color": "#4D5663"
         }
        },
        "paper_bgcolor": "#F5F6F9",
        "plot_bgcolor": "#F5F6F9",
        "template": {
         "data": {
          "bar": [
           {
            "error_x": {
             "color": "#2a3f5f"
            },
            "error_y": {
             "color": "#2a3f5f"
            },
            "marker": {
             "line": {
              "color": "#E5ECF6",
              "width": 0.5
             }
            },
            "type": "bar"
           }
          ],
          "barpolar": [
           {
            "marker": {
             "line": {
              "color": "#E5ECF6",
              "width": 0.5
             }
            },
            "type": "barpolar"
           }
          ],
          "carpet": [
           {
            "aaxis": {
             "endlinecolor": "#2a3f5f",
             "gridcolor": "white",
             "linecolor": "white",
             "minorgridcolor": "white",
             "startlinecolor": "#2a3f5f"
            },
            "baxis": {
             "endlinecolor": "#2a3f5f",
             "gridcolor": "white",
             "linecolor": "white",
             "minorgridcolor": "white",
             "startlinecolor": "#2a3f5f"
            },
            "type": "carpet"
           }
          ],
          "choropleth": [
           {
            "colorbar": {
             "outlinewidth": 0,
             "ticks": ""
            },
            "type": "choropleth"
           }
          ],
          "contour": [
           {
            "colorbar": {
             "outlinewidth": 0,
             "ticks": ""
            },
            "colorscale": [
             [
              0,
              "#0d0887"
             ],
             [
              0.1111111111111111,
              "#46039f"
             ],
             [
              0.2222222222222222,
              "#7201a8"
             ],
             [
              0.3333333333333333,
              "#9c179e"
             ],
             [
              0.4444444444444444,
              "#bd3786"
             ],
             [
              0.5555555555555556,
              "#d8576b"
             ],
             [
              0.6666666666666666,
              "#ed7953"
             ],
             [
              0.7777777777777778,
              "#fb9f3a"
             ],
             [
              0.8888888888888888,
              "#fdca26"
             ],
             [
              1,
              "#f0f921"
             ]
            ],
            "type": "contour"
           }
          ],
          "contourcarpet": [
           {
            "colorbar": {
             "outlinewidth": 0,
             "ticks": ""
            },
            "type": "contourcarpet"
           }
          ],
          "heatmap": [
           {
            "colorbar": {
             "outlinewidth": 0,
             "ticks": ""
            },
            "colorscale": [
             [
              0,
              "#0d0887"
             ],
             [
              0.1111111111111111,
              "#46039f"
             ],
             [
              0.2222222222222222,
              "#7201a8"
             ],
             [
              0.3333333333333333,
              "#9c179e"
             ],
             [
              0.4444444444444444,
              "#bd3786"
             ],
             [
              0.5555555555555556,
              "#d8576b"
             ],
             [
              0.6666666666666666,
              "#ed7953"
             ],
             [
              0.7777777777777778,
              "#fb9f3a"
             ],
             [
              0.8888888888888888,
              "#fdca26"
             ],
             [
              1,
              "#f0f921"
             ]
            ],
            "type": "heatmap"
           }
          ],
          "heatmapgl": [
           {
            "colorbar": {
             "outlinewidth": 0,
             "ticks": ""
            },
            "colorscale": [
             [
              0,
              "#0d0887"
             ],
             [
              0.1111111111111111,
              "#46039f"
             ],
             [
              0.2222222222222222,
              "#7201a8"
             ],
             [
              0.3333333333333333,
              "#9c179e"
             ],
             [
              0.4444444444444444,
              "#bd3786"
             ],
             [
              0.5555555555555556,
              "#d8576b"
             ],
             [
              0.6666666666666666,
              "#ed7953"
             ],
             [
              0.7777777777777778,
              "#fb9f3a"
             ],
             [
              0.8888888888888888,
              "#fdca26"
             ],
             [
              1,
              "#f0f921"
             ]
            ],
            "type": "heatmapgl"
           }
          ],
          "histogram": [
           {
            "marker": {
             "colorbar": {
              "outlinewidth": 0,
              "ticks": ""
             }
            },
            "type": "histogram"
           }
          ],
          "histogram2d": [
           {
            "colorbar": {
             "outlinewidth": 0,
             "ticks": ""
            },
            "colorscale": [
             [
              0,
              "#0d0887"
             ],
             [
              0.1111111111111111,
              "#46039f"
             ],
             [
              0.2222222222222222,
              "#7201a8"
             ],
             [
              0.3333333333333333,
              "#9c179e"
             ],
             [
              0.4444444444444444,
              "#bd3786"
             ],
             [
              0.5555555555555556,
              "#d8576b"
             ],
             [
              0.6666666666666666,
              "#ed7953"
             ],
             [
              0.7777777777777778,
              "#fb9f3a"
             ],
             [
              0.8888888888888888,
              "#fdca26"
             ],
             [
              1,
              "#f0f921"
             ]
            ],
            "type": "histogram2d"
           }
          ],
          "histogram2dcontour": [
           {
            "colorbar": {
             "outlinewidth": 0,
             "ticks": ""
            },
            "colorscale": [
             [
              0,
              "#0d0887"
             ],
             [
              0.1111111111111111,
              "#46039f"
             ],
             [
              0.2222222222222222,
              "#7201a8"
             ],
             [
              0.3333333333333333,
              "#9c179e"
             ],
             [
              0.4444444444444444,
              "#bd3786"
             ],
             [
              0.5555555555555556,
              "#d8576b"
             ],
             [
              0.6666666666666666,
              "#ed7953"
             ],
             [
              0.7777777777777778,
              "#fb9f3a"
             ],
             [
              0.8888888888888888,
              "#fdca26"
             ],
             [
              1,
              "#f0f921"
             ]
            ],
            "type": "histogram2dcontour"
           }
          ],
          "mesh3d": [
           {
            "colorbar": {
             "outlinewidth": 0,
             "ticks": ""
            },
            "type": "mesh3d"
           }
          ],
          "parcoords": [
           {
            "line": {
             "colorbar": {
              "outlinewidth": 0,
              "ticks": ""
             }
            },
            "type": "parcoords"
           }
          ],
          "pie": [
           {
            "automargin": true,
            "type": "pie"
           }
          ],
          "scatter": [
           {
            "marker": {
             "colorbar": {
              "outlinewidth": 0,
              "ticks": ""
             }
            },
            "type": "scatter"
           }
          ],
          "scatter3d": [
           {
            "line": {
             "colorbar": {
              "outlinewidth": 0,
              "ticks": ""
             }
            },
            "marker": {
             "colorbar": {
              "outlinewidth": 0,
              "ticks": ""
             }
            },
            "type": "scatter3d"
           }
          ],
          "scattercarpet": [
           {
            "marker": {
             "colorbar": {
              "outlinewidth": 0,
              "ticks": ""
             }
            },
            "type": "scattercarpet"
           }
          ],
          "scattergeo": [
           {
            "marker": {
             "colorbar": {
              "outlinewidth": 0,
              "ticks": ""
             }
            },
            "type": "scattergeo"
           }
          ],
          "scattergl": [
           {
            "marker": {
             "colorbar": {
              "outlinewidth": 0,
              "ticks": ""
             }
            },
            "type": "scattergl"
           }
          ],
          "scattermapbox": [
           {
            "marker": {
             "colorbar": {
              "outlinewidth": 0,
              "ticks": ""
             }
            },
            "type": "scattermapbox"
           }
          ],
          "scatterpolar": [
           {
            "marker": {
             "colorbar": {
              "outlinewidth": 0,
              "ticks": ""
             }
            },
            "type": "scatterpolar"
           }
          ],
          "scatterpolargl": [
           {
            "marker": {
             "colorbar": {
              "outlinewidth": 0,
              "ticks": ""
             }
            },
            "type": "scatterpolargl"
           }
          ],
          "scatterternary": [
           {
            "marker": {
             "colorbar": {
              "outlinewidth": 0,
              "ticks": ""
             }
            },
            "type": "scatterternary"
           }
          ],
          "surface": [
           {
            "colorbar": {
             "outlinewidth": 0,
             "ticks": ""
            },
            "colorscale": [
             [
              0,
              "#0d0887"
             ],
             [
              0.1111111111111111,
              "#46039f"
             ],
             [
              0.2222222222222222,
              "#7201a8"
             ],
             [
              0.3333333333333333,
              "#9c179e"
             ],
             [
              0.4444444444444444,
              "#bd3786"
             ],
             [
              0.5555555555555556,
              "#d8576b"
             ],
             [
              0.6666666666666666,
              "#ed7953"
             ],
             [
              0.7777777777777778,
              "#fb9f3a"
             ],
             [
              0.8888888888888888,
              "#fdca26"
             ],
             [
              1,
              "#f0f921"
             ]
            ],
            "type": "surface"
           }
          ],
          "table": [
           {
            "cells": {
             "fill": {
              "color": "#EBF0F8"
             },
             "line": {
              "color": "white"
             }
            },
            "header": {
             "fill": {
              "color": "#C8D4E3"
             },
             "line": {
              "color": "white"
             }
            },
            "type": "table"
           }
          ]
         },
         "layout": {
          "annotationdefaults": {
           "arrowcolor": "#2a3f5f",
           "arrowhead": 0,
           "arrowwidth": 1
          },
          "coloraxis": {
           "colorbar": {
            "outlinewidth": 0,
            "ticks": ""
           }
          },
          "colorscale": {
           "diverging": [
            [
             0,
             "#8e0152"
            ],
            [
             0.1,
             "#c51b7d"
            ],
            [
             0.2,
             "#de77ae"
            ],
            [
             0.3,
             "#f1b6da"
            ],
            [
             0.4,
             "#fde0ef"
            ],
            [
             0.5,
             "#f7f7f7"
            ],
            [
             0.6,
             "#e6f5d0"
            ],
            [
             0.7,
             "#b8e186"
            ],
            [
             0.8,
             "#7fbc41"
            ],
            [
             0.9,
             "#4d9221"
            ],
            [
             1,
             "#276419"
            ]
           ],
           "sequential": [
            [
             0,
             "#0d0887"
            ],
            [
             0.1111111111111111,
             "#46039f"
            ],
            [
             0.2222222222222222,
             "#7201a8"
            ],
            [
             0.3333333333333333,
             "#9c179e"
            ],
            [
             0.4444444444444444,
             "#bd3786"
            ],
            [
             0.5555555555555556,
             "#d8576b"
            ],
            [
             0.6666666666666666,
             "#ed7953"
            ],
            [
             0.7777777777777778,
             "#fb9f3a"
            ],
            [
             0.8888888888888888,
             "#fdca26"
            ],
            [
             1,
             "#f0f921"
            ]
           ],
           "sequentialminus": [
            [
             0,
             "#0d0887"
            ],
            [
             0.1111111111111111,
             "#46039f"
            ],
            [
             0.2222222222222222,
             "#7201a8"
            ],
            [
             0.3333333333333333,
             "#9c179e"
            ],
            [
             0.4444444444444444,
             "#bd3786"
            ],
            [
             0.5555555555555556,
             "#d8576b"
            ],
            [
             0.6666666666666666,
             "#ed7953"
            ],
            [
             0.7777777777777778,
             "#fb9f3a"
            ],
            [
             0.8888888888888888,
             "#fdca26"
            ],
            [
             1,
             "#f0f921"
            ]
           ]
          },
          "colorway": [
           "#636efa",
           "#EF553B",
           "#00cc96",
           "#ab63fa",
           "#FFA15A",
           "#19d3f3",
           "#FF6692",
           "#B6E880",
           "#FF97FF",
           "#FECB52"
          ],
          "font": {
           "color": "#2a3f5f"
          },
          "geo": {
           "bgcolor": "white",
           "lakecolor": "white",
           "landcolor": "#E5ECF6",
           "showlakes": true,
           "showland": true,
           "subunitcolor": "white"
          },
          "hoverlabel": {
           "align": "left"
          },
          "hovermode": "closest",
          "mapbox": {
           "style": "light"
          },
          "paper_bgcolor": "white",
          "plot_bgcolor": "#E5ECF6",
          "polar": {
           "angularaxis": {
            "gridcolor": "white",
            "linecolor": "white",
            "ticks": ""
           },
           "bgcolor": "#E5ECF6",
           "radialaxis": {
            "gridcolor": "white",
            "linecolor": "white",
            "ticks": ""
           }
          },
          "scene": {
           "xaxis": {
            "backgroundcolor": "#E5ECF6",
            "gridcolor": "white",
            "gridwidth": 2,
            "linecolor": "white",
            "showbackground": true,
            "ticks": "",
            "zerolinecolor": "white"
           },
           "yaxis": {
            "backgroundcolor": "#E5ECF6",
            "gridcolor": "white",
            "gridwidth": 2,
            "linecolor": "white",
            "showbackground": true,
            "ticks": "",
            "zerolinecolor": "white"
           },
           "zaxis": {
            "backgroundcolor": "#E5ECF6",
            "gridcolor": "white",
            "gridwidth": 2,
            "linecolor": "white",
            "showbackground": true,
            "ticks": "",
            "zerolinecolor": "white"
           }
          },
          "shapedefaults": {
           "line": {
            "color": "#2a3f5f"
           }
          },
          "ternary": {
           "aaxis": {
            "gridcolor": "white",
            "linecolor": "white",
            "ticks": ""
           },
           "baxis": {
            "gridcolor": "white",
            "linecolor": "white",
            "ticks": ""
           },
           "bgcolor": "#E5ECF6",
           "caxis": {
            "gridcolor": "white",
            "linecolor": "white",
            "ticks": ""
           }
          },
          "title": {
           "x": 0.05
          },
          "xaxis": {
           "automargin": true,
           "gridcolor": "white",
           "linecolor": "white",
           "ticks": "",
           "title": {
            "standoff": 15
           },
           "zerolinecolor": "white",
           "zerolinewidth": 2
          },
          "yaxis": {
           "automargin": true,
           "gridcolor": "white",
           "linecolor": "white",
           "ticks": "",
           "title": {
            "standoff": 15
           },
           "zerolinecolor": "white",
           "zerolinewidth": 2
          }
         }
        },
        "title": {
         "font": {
          "color": "#4D5663"
         }
        },
        "xaxis": {
         "gridcolor": "#E1E5ED",
         "showgrid": true,
         "tickfont": {
          "color": "#4D5663"
         },
         "title": {
          "font": {
           "color": "#4D5663"
          },
          "text": ""
         },
         "zerolinecolor": "#E1E5ED"
        },
        "yaxis": {
         "gridcolor": "#E1E5ED",
         "showgrid": true,
         "tickfont": {
          "color": "#4D5663"
         },
         "title": {
          "font": {
           "color": "#4D5663"
          },
          "text": ""
         },
         "zerolinecolor": "#E1E5ED"
        }
       }
      },
      "text/html": [
       "<div>\n",
       "        \n",
       "        \n",
       "            <div id=\"9472bf43-6a2f-4bf5-b30a-9489dda82ece\" class=\"plotly-graph-div\" style=\"height:525px; width:100%;\"></div>\n",
       "            <script type=\"text/javascript\">\n",
       "                require([\"plotly\"], function(Plotly) {\n",
       "                    window.PLOTLYENV=window.PLOTLYENV || {};\n",
       "                    window.PLOTLYENV.BASE_URL='https://plot.ly';\n",
       "                    \n",
       "                if (document.getElementById(\"9472bf43-6a2f-4bf5-b30a-9489dda82ece\")) {\n",
       "                    Plotly.newPlot(\n",
       "                        '9472bf43-6a2f-4bf5-b30a-9489dda82ece',\n",
       "                        [{\"boxpoints\": false, \"line\": {\"width\": 1.3}, \"marker\": {\"color\": \"rgba(255, 153, 51, 1.0)\"}, \"name\": \"A\", \"orientation\": \"v\", \"type\": \"box\", \"y\": [1.5142186544122638, 0.27895064943248915, -1.2772201606503015, 0.7176215978752194, 1.0242630534311887, -0.18782350124528943, -0.15971406208206046, -0.09450672113595138, 1.101557217961529, 1.760246324420678, 0.4957627962412397, 1.4410840240165774, 0.890736201554487, -0.1973859512432099, -0.22647367315349648, 0.9600258803516739, -0.22695644558189895, 0.9014455961017745, -1.0352942125712694, 1.3614210778771305, 1.438341742803549, 0.0062457188416346066, -0.34075842820041674, 1.1645719966781778, 3.251475167837798, 0.3585119159665232, 0.35559795617521023, -1.4927235063683504, -0.09654662808693423, -0.057294310675322785, -0.48183583073170233, -0.5382944548854823, 0.9208574046073155, -0.6302021900122878, 0.30933377625955083, -0.46552971679190036, -0.912246971568453, 0.663008040972662, 1.2686499433429357, 0.36508507101402465, 0.13357487450389904, -0.20648604070240084, 0.49234018847418437, -1.0079776998156387, -1.3502695696598568, 0.5959137955318851, -0.3372748183372034, -1.7190172045328507, 0.3701065313721388, -1.109452713943562, 0.11680700607062913, -0.8627209126237989, -0.8575591132443635, -0.044169557298888655, -0.7955907040068338, 0.12234260476958768, -1.0760163613813911, -0.8283533358210704, 0.268329750244207, 1.066892146131821, -0.6553844559897053, -0.644878025080047, 0.28702367749052854, -0.41938747626877115, 1.959073984465897, -1.1269742470876678, 3.8538700868814058, 0.8705990773885701, 0.5240821424022016, 0.33280913610094887, 0.4259038558689888, -1.2700198508155802, -0.5263315245506245, -0.1637455667230135, 2.213359350383037, -0.4878057724962988, -0.46568550675433373, 0.9524119005427031, 1.7669535874688445, 0.9320713319598105, 1.0426693299362813, -1.7119433140080471, -0.2723835374814382, -1.4597336316316212, 0.7187397058115067, 0.5706065969920404, 0.023982717991074275, -0.7639207845885283, -0.9117422967467312, -0.5438741254817734, -0.7489289965331479, 1.0933015307053855, -0.33036206127818424, 0.573877123376443, 1.548344828251328, -0.2994560355888004, 0.47710475522997875, -1.7490432446344575, -0.615644586432859, -0.0696319730489194]}, {\"boxpoints\": false, \"line\": {\"width\": 1.3}, \"marker\": {\"color\": \"rgba(55, 128, 191, 1.0)\"}, \"name\": \"B\", \"orientation\": \"v\", \"type\": \"box\", \"y\": [-0.9153410714929735, 1.6358976547955704, 0.09255099576014963, 1.5400934402495086, 0.6425658299894662, -0.26179888744269847, 1.0273186956146738, -0.6307535418604402, -2.5346978546476517, -2.1897817281056837, 0.8311035354450367, 0.6399383182121887, -0.9403607387553982, 0.7078174444510166, -0.45457637870870515, 1.1980318577308495, -0.11554976053470527, 0.30680062220353793, -0.9217244314001211, -0.6663874786748377, 1.32120609432077, 1.0109233247836378, -0.1824269769280658, -1.0488991304782136, 1.0662243347339762, -0.9034244394440355, -0.3263330312314083, -0.2607788207729719, -2.4278016862124088, -0.12711866662850796, -0.36884387842295946, 0.6429063120523958, 0.14881899593559214, -0.43653258631725117, 1.1884826095900352, 2.178398074485583, -0.06233515306434373, 0.2587311274407884, -0.3741404646665351, 0.30626494513246, -2.126751910804884, -2.060133981135926, 1.5529239103471126, -0.38836926178255654, 0.3942599587482798, 1.5803964142097777, -1.0523833241987806, -0.01657286604126695, -0.770066526216671, 0.9920549755691876, 0.22018622155780793, 0.9478438860931523, 2.5346802705488365, 0.30453558445497775, 0.44999869484970006, 0.1329256362940828, 0.5257532229366679, 0.6353351705845959, 1.3939366249738248, -0.22346756860341713, 1.1700863549033256, -0.6893141589265049, -0.7284549415162579, 1.0979628734277693, -0.9852892186534995, 0.04408684809316521, -0.3768717795879098, -0.09487210728594804, 0.40576310664905313, 0.4280661826615465, -0.8014571020621714, -1.192492353104392, 0.9009984970801053, -0.6804664819337662, -0.05322152993200261, -0.5406055085130784, -1.1648516692905604, -0.4866434874688328, -0.2527643374481889, -0.49051314591226564, 0.4483948614666029, -0.1286617016280999, 0.7375815043599231, -1.2179161391289677, 1.329503329537658, 0.6406407101277446, -0.3885952375410158, -1.3344868258260545, 0.021479658397961912, 0.14220431097964045, 0.6956144127780031, -1.2274294853474346, 0.8445551976348453, -0.27707728983608126, -1.044478370898736, -1.0342492050125447, 1.8384683805763349, -0.47129373877017977, 0.2826769281895832, 0.29606799065000583]}, {\"boxpoints\": false, \"line\": {\"width\": 1.3}, \"marker\": {\"color\": \"rgba(50, 171, 96, 1.0)\"}, \"name\": \"C\", \"orientation\": \"v\", \"type\": \"box\", \"y\": [0.952786651656803, -0.09014875287851794, -1.0685447512507276, -0.24921352859048332, 2.351969169587414, -1.8991212435034521, 0.6177398434531892, -1.9917003769460297, -1.0424738903012825, -0.22691279113960114, -1.1970818844517153, -0.9394291053149986, 1.757266845669264, -1.2407937962254503, -0.40044773536211387, -0.07962671261999174, -0.37548314235380925, -0.07343692394274298, -0.7806192817076086, -1.0895517338230685, 0.07176847416090174, -1.4131798523976564, 0.10320382126301453, -0.0025574702503611446, 1.0722971872386773, -0.6490361642546468, -0.7056080232365795, 0.036448555060863155, -0.46208863048318394, 0.8909451927211299, -0.6075569427489664, 0.17212712293151589, -2.2020227738434768, -1.0841246351259266, 0.5581037439400494, 0.2270284074491642, -0.046827427525527245, 0.1708416162951795, 0.097547606722425, 1.4010504698153223, 0.28861231333745696, -0.6301749435268477, 0.35197377626014914, -0.3744844363117336, 1.8219207208840351, 0.45178522279543637, -0.948872768524955, 1.1216879067308498, -0.5051281113933614, 0.14887277205634297, 0.1999556486992249, -1.6697997275559426, -0.1291673926643688, -2.5955074455319127, 0.6071560525654458, 0.45124691331754824, 0.7445534695030128, 1.9102827990950306, -0.09043099370692645, 0.5476464341750529, 0.7242806242042513, -0.34666807435880964, -0.9422400923509909, 1.1944115944422067, 0.849108361722817, -0.587274031667396, -1.3004657379502034, -0.3963526474289799, 1.0932422210457229, 0.16544951931799912, -1.2065330083577088, -0.10963490444821293, -0.1114314635928556, -0.8267519161472029, -0.39792190493483864, 2.5060855702308453, 0.39020636907104783, -0.01212829595721143, -0.4392766502407867, 1.0688639552065233, -0.13031115107888877, 0.28125713641044503, -1.6253646017719803, 1.8681690447660622, 0.22493645123791964, 0.155567443654224, -0.9993681981030387, -1.0466997336123318, -0.38095818629242206, 0.5261496897186589, 0.37650394037431884, -0.7025636954005036, 1.3869796947122683, 0.4014752796351428, -0.3809755265193317, -0.1821895709489874, 0.7181743276632854, 1.2436847673042648, -0.025319473946945892, 0.33927367748534265]}, {\"boxpoints\": false, \"line\": {\"width\": 1.3}, \"marker\": {\"color\": \"rgba(128, 0, 128, 1.0)\"}, \"name\": \"D\", \"orientation\": \"v\", \"type\": \"box\", \"y\": [0.9851061875011242, 0.8582380403595017, -0.33705763147266227, 1.143348296440449, -1.9284318445340969, 1.5529263867241374, -0.3314073487210843, 0.210048778366087, 0.9772419857702811, -0.40555144197030035, -0.03211290723392089, -0.4051763413170174, 0.09342461976286336, -0.15276548116126995, -1.6084766676061713, 1.3300326843843588, -1.7656908341411746, 1.2849327788844074, -1.3035053069028695, -1.126224479833057, -0.47929533400944885, 0.5842022873922668, 0.7904004155000492, -0.4891013768360308, -0.9520557829866434, -0.18334612929308258, -0.09699582855961543, 1.7165193982806102, -0.10761765897950101, 0.6172874068505037, 1.4847093487359413, 0.02905190240144271, -1.5013129289762308, -0.07744689448045243, -1.6624800651633258, -1.0265472229548933, 0.8670916714520461, 1.0426914109891925, 1.5030112811283998, -0.04381679624688889, -0.254722581440965, 0.20537035874761547, 0.509188461141092, -0.4734633460511219, -1.905286227779699, 0.8174965064193349, 0.11002512874214922, 0.08973189298899235, -0.24371056251516976, 0.2076202668019951, 1.3109703381511797, -0.23907632790672884, -1.131640138377444, -0.8681530405257885, -0.3316765752439354, -0.850094737879196, -1.0813888543664887, -0.25880086892959125, 0.4280135636448433, -0.9759241685645935, 0.42732918890384125, 1.0476821350885444, 0.09125930196634753, -1.3844686576162293, -0.7203766720244728, 0.8944611600520691, 1.1389195308685285, -0.1510571781929448, -0.5429626616143252, 1.6438594470823837, -2.387324111421106, 3.186390712511004, -0.3052502835085717, 0.019401789993793443, 0.33201005735944206, -0.14371547257048126, -0.9506788298248029, -2.3746285541474883, 0.18565111413334542, 1.3406813726300504, 1.0987267753039165, 0.24286780703230978, 0.3587389155096219, 1.6950598095884886, 2.280543254135361, 1.6244332636667975, 0.6735605616645972, -0.6468507158570499, -0.3573522725347921, -0.23897454250813613, 1.0850473640524714, 0.9350061122313391, -0.32181332418719005, 0.015078998276582507, 0.37012978990539697, -0.5591163022749365, -1.8576703885043584, 0.8418962768961537, 1.2053095774559155, 0.5658824440956434]}],\n",
       "                        {\"legend\": {\"bgcolor\": \"#F5F6F9\", \"font\": {\"color\": \"#4D5663\"}}, \"paper_bgcolor\": \"#F5F6F9\", \"plot_bgcolor\": \"#F5F6F9\", \"template\": {\"data\": {\"bar\": [{\"error_x\": {\"color\": \"#2a3f5f\"}, \"error_y\": {\"color\": \"#2a3f5f\"}, \"marker\": {\"line\": {\"color\": \"#E5ECF6\", \"width\": 0.5}}, \"type\": \"bar\"}], \"barpolar\": [{\"marker\": {\"line\": {\"color\": \"#E5ECF6\", \"width\": 0.5}}, \"type\": \"barpolar\"}], \"carpet\": [{\"aaxis\": {\"endlinecolor\": \"#2a3f5f\", \"gridcolor\": \"white\", \"linecolor\": \"white\", \"minorgridcolor\": \"white\", \"startlinecolor\": \"#2a3f5f\"}, \"baxis\": {\"endlinecolor\": \"#2a3f5f\", \"gridcolor\": \"white\", \"linecolor\": \"white\", \"minorgridcolor\": \"white\", \"startlinecolor\": \"#2a3f5f\"}, \"type\": \"carpet\"}], \"choropleth\": [{\"colorbar\": {\"outlinewidth\": 0, \"ticks\": \"\"}, \"type\": \"choropleth\"}], \"contour\": [{\"colorbar\": {\"outlinewidth\": 0, \"ticks\": \"\"}, \"colorscale\": [[0.0, \"#0d0887\"], [0.1111111111111111, \"#46039f\"], [0.2222222222222222, \"#7201a8\"], [0.3333333333333333, \"#9c179e\"], [0.4444444444444444, \"#bd3786\"], [0.5555555555555556, \"#d8576b\"], [0.6666666666666666, \"#ed7953\"], [0.7777777777777778, \"#fb9f3a\"], [0.8888888888888888, \"#fdca26\"], [1.0, \"#f0f921\"]], \"type\": \"contour\"}], \"contourcarpet\": [{\"colorbar\": {\"outlinewidth\": 0, \"ticks\": \"\"}, \"type\": \"contourcarpet\"}], \"heatmap\": [{\"colorbar\": {\"outlinewidth\": 0, \"ticks\": \"\"}, \"colorscale\": [[0.0, \"#0d0887\"], [0.1111111111111111, \"#46039f\"], [0.2222222222222222, \"#7201a8\"], [0.3333333333333333, \"#9c179e\"], [0.4444444444444444, \"#bd3786\"], [0.5555555555555556, \"#d8576b\"], [0.6666666666666666, \"#ed7953\"], [0.7777777777777778, \"#fb9f3a\"], [0.8888888888888888, \"#fdca26\"], [1.0, \"#f0f921\"]], \"type\": \"heatmap\"}], \"heatmapgl\": [{\"colorbar\": {\"outlinewidth\": 0, \"ticks\": \"\"}, \"colorscale\": [[0.0, \"#0d0887\"], [0.1111111111111111, \"#46039f\"], [0.2222222222222222, \"#7201a8\"], [0.3333333333333333, \"#9c179e\"], [0.4444444444444444, \"#bd3786\"], [0.5555555555555556, \"#d8576b\"], [0.6666666666666666, \"#ed7953\"], [0.7777777777777778, \"#fb9f3a\"], [0.8888888888888888, \"#fdca26\"], [1.0, \"#f0f921\"]], \"type\": \"heatmapgl\"}], \"histogram\": [{\"marker\": {\"colorbar\": {\"outlinewidth\": 0, \"ticks\": \"\"}}, \"type\": \"histogram\"}], \"histogram2d\": [{\"colorbar\": {\"outlinewidth\": 0, \"ticks\": \"\"}, \"colorscale\": [[0.0, \"#0d0887\"], [0.1111111111111111, \"#46039f\"], [0.2222222222222222, \"#7201a8\"], [0.3333333333333333, \"#9c179e\"], [0.4444444444444444, \"#bd3786\"], [0.5555555555555556, \"#d8576b\"], [0.6666666666666666, \"#ed7953\"], [0.7777777777777778, \"#fb9f3a\"], [0.8888888888888888, \"#fdca26\"], [1.0, \"#f0f921\"]], \"type\": \"histogram2d\"}], \"histogram2dcontour\": [{\"colorbar\": {\"outlinewidth\": 0, \"ticks\": \"\"}, \"colorscale\": [[0.0, \"#0d0887\"], [0.1111111111111111, \"#46039f\"], [0.2222222222222222, \"#7201a8\"], [0.3333333333333333, \"#9c179e\"], [0.4444444444444444, \"#bd3786\"], [0.5555555555555556, \"#d8576b\"], [0.6666666666666666, \"#ed7953\"], [0.7777777777777778, \"#fb9f3a\"], [0.8888888888888888, \"#fdca26\"], [1.0, \"#f0f921\"]], \"type\": \"histogram2dcontour\"}], \"mesh3d\": [{\"colorbar\": {\"outlinewidth\": 0, \"ticks\": \"\"}, \"type\": \"mesh3d\"}], \"parcoords\": [{\"line\": {\"colorbar\": {\"outlinewidth\": 0, \"ticks\": \"\"}}, \"type\": \"parcoords\"}], \"pie\": [{\"automargin\": true, \"type\": \"pie\"}], \"scatter\": [{\"marker\": {\"colorbar\": {\"outlinewidth\": 0, \"ticks\": \"\"}}, \"type\": \"scatter\"}], \"scatter3d\": [{\"line\": {\"colorbar\": {\"outlinewidth\": 0, \"ticks\": \"\"}}, \"marker\": {\"colorbar\": {\"outlinewidth\": 0, \"ticks\": \"\"}}, \"type\": \"scatter3d\"}], \"scattercarpet\": [{\"marker\": {\"colorbar\": {\"outlinewidth\": 0, \"ticks\": \"\"}}, \"type\": \"scattercarpet\"}], \"scattergeo\": [{\"marker\": {\"colorbar\": {\"outlinewidth\": 0, \"ticks\": \"\"}}, \"type\": \"scattergeo\"}], \"scattergl\": [{\"marker\": {\"colorbar\": {\"outlinewidth\": 0, \"ticks\": \"\"}}, \"type\": \"scattergl\"}], \"scattermapbox\": [{\"marker\": {\"colorbar\": {\"outlinewidth\": 0, \"ticks\": \"\"}}, \"type\": \"scattermapbox\"}], \"scatterpolar\": [{\"marker\": {\"colorbar\": {\"outlinewidth\": 0, \"ticks\": \"\"}}, \"type\": \"scatterpolar\"}], \"scatterpolargl\": [{\"marker\": {\"colorbar\": {\"outlinewidth\": 0, \"ticks\": \"\"}}, \"type\": \"scatterpolargl\"}], \"scatterternary\": [{\"marker\": {\"colorbar\": {\"outlinewidth\": 0, \"ticks\": \"\"}}, \"type\": \"scatterternary\"}], \"surface\": [{\"colorbar\": {\"outlinewidth\": 0, \"ticks\": \"\"}, \"colorscale\": [[0.0, \"#0d0887\"], [0.1111111111111111, \"#46039f\"], [0.2222222222222222, \"#7201a8\"], [0.3333333333333333, \"#9c179e\"], [0.4444444444444444, \"#bd3786\"], [0.5555555555555556, \"#d8576b\"], [0.6666666666666666, \"#ed7953\"], [0.7777777777777778, \"#fb9f3a\"], [0.8888888888888888, \"#fdca26\"], [1.0, \"#f0f921\"]], \"type\": \"surface\"}], \"table\": [{\"cells\": {\"fill\": {\"color\": \"#EBF0F8\"}, \"line\": {\"color\": \"white\"}}, \"header\": {\"fill\": {\"color\": \"#C8D4E3\"}, \"line\": {\"color\": \"white\"}}, \"type\": \"table\"}]}, \"layout\": {\"annotationdefaults\": {\"arrowcolor\": \"#2a3f5f\", \"arrowhead\": 0, \"arrowwidth\": 1}, \"coloraxis\": {\"colorbar\": {\"outlinewidth\": 0, \"ticks\": \"\"}}, \"colorscale\": {\"diverging\": [[0, \"#8e0152\"], [0.1, \"#c51b7d\"], [0.2, \"#de77ae\"], [0.3, \"#f1b6da\"], [0.4, \"#fde0ef\"], [0.5, \"#f7f7f7\"], [0.6, \"#e6f5d0\"], [0.7, \"#b8e186\"], [0.8, \"#7fbc41\"], [0.9, \"#4d9221\"], [1, \"#276419\"]], \"sequential\": [[0.0, \"#0d0887\"], [0.1111111111111111, \"#46039f\"], [0.2222222222222222, \"#7201a8\"], [0.3333333333333333, \"#9c179e\"], [0.4444444444444444, \"#bd3786\"], [0.5555555555555556, \"#d8576b\"], [0.6666666666666666, \"#ed7953\"], [0.7777777777777778, \"#fb9f3a\"], [0.8888888888888888, \"#fdca26\"], [1.0, \"#f0f921\"]], \"sequentialminus\": [[0.0, \"#0d0887\"], [0.1111111111111111, \"#46039f\"], [0.2222222222222222, \"#7201a8\"], [0.3333333333333333, \"#9c179e\"], [0.4444444444444444, \"#bd3786\"], [0.5555555555555556, \"#d8576b\"], [0.6666666666666666, \"#ed7953\"], [0.7777777777777778, \"#fb9f3a\"], [0.8888888888888888, \"#fdca26\"], [1.0, \"#f0f921\"]]}, \"colorway\": [\"#636efa\", \"#EF553B\", \"#00cc96\", \"#ab63fa\", \"#FFA15A\", \"#19d3f3\", \"#FF6692\", \"#B6E880\", \"#FF97FF\", \"#FECB52\"], \"font\": {\"color\": \"#2a3f5f\"}, \"geo\": {\"bgcolor\": \"white\", \"lakecolor\": \"white\", \"landcolor\": \"#E5ECF6\", \"showlakes\": true, \"showland\": true, \"subunitcolor\": \"white\"}, \"hoverlabel\": {\"align\": \"left\"}, \"hovermode\": \"closest\", \"mapbox\": {\"style\": \"light\"}, \"paper_bgcolor\": \"white\", \"plot_bgcolor\": \"#E5ECF6\", \"polar\": {\"angularaxis\": {\"gridcolor\": \"white\", \"linecolor\": \"white\", \"ticks\": \"\"}, \"bgcolor\": \"#E5ECF6\", \"radialaxis\": {\"gridcolor\": \"white\", \"linecolor\": \"white\", \"ticks\": \"\"}}, \"scene\": {\"xaxis\": {\"backgroundcolor\": \"#E5ECF6\", \"gridcolor\": \"white\", \"gridwidth\": 2, \"linecolor\": \"white\", \"showbackground\": true, \"ticks\": \"\", \"zerolinecolor\": \"white\"}, \"yaxis\": {\"backgroundcolor\": \"#E5ECF6\", \"gridcolor\": \"white\", \"gridwidth\": 2, \"linecolor\": \"white\", \"showbackground\": true, \"ticks\": \"\", \"zerolinecolor\": \"white\"}, \"zaxis\": {\"backgroundcolor\": \"#E5ECF6\", \"gridcolor\": \"white\", \"gridwidth\": 2, \"linecolor\": \"white\", \"showbackground\": true, \"ticks\": \"\", \"zerolinecolor\": \"white\"}}, \"shapedefaults\": {\"line\": {\"color\": \"#2a3f5f\"}}, \"ternary\": {\"aaxis\": {\"gridcolor\": \"white\", \"linecolor\": \"white\", \"ticks\": \"\"}, \"baxis\": {\"gridcolor\": \"white\", \"linecolor\": \"white\", \"ticks\": \"\"}, \"bgcolor\": \"#E5ECF6\", \"caxis\": {\"gridcolor\": \"white\", \"linecolor\": \"white\", \"ticks\": \"\"}}, \"title\": {\"x\": 0.05}, \"xaxis\": {\"automargin\": true, \"gridcolor\": \"white\", \"linecolor\": \"white\", \"ticks\": \"\", \"title\": {\"standoff\": 15}, \"zerolinecolor\": \"white\", \"zerolinewidth\": 2}, \"yaxis\": {\"automargin\": true, \"gridcolor\": \"white\", \"linecolor\": \"white\", \"ticks\": \"\", \"title\": {\"standoff\": 15}, \"zerolinecolor\": \"white\", \"zerolinewidth\": 2}}}, \"title\": {\"font\": {\"color\": \"#4D5663\"}}, \"xaxis\": {\"gridcolor\": \"#E1E5ED\", \"showgrid\": true, \"tickfont\": {\"color\": \"#4D5663\"}, \"title\": {\"font\": {\"color\": \"#4D5663\"}, \"text\": \"\"}, \"zerolinecolor\": \"#E1E5ED\"}, \"yaxis\": {\"gridcolor\": \"#E1E5ED\", \"showgrid\": true, \"tickfont\": {\"color\": \"#4D5663\"}, \"title\": {\"font\": {\"color\": \"#4D5663\"}, \"text\": \"\"}, \"zerolinecolor\": \"#E1E5ED\"}},\n",
       "                        {\"showLink\": true, \"linkText\": \"Export to plot.ly\", \"plotlyServerURL\": \"https://plot.ly\", \"responsive\": true}\n",
       "                    ).then(function(){\n",
       "                            \n",
       "var gd = document.getElementById('9472bf43-6a2f-4bf5-b30a-9489dda82ece');\n",
       "var x = new MutationObserver(function (mutations, observer) {{\n",
       "        var display = window.getComputedStyle(gd).display;\n",
       "        if (!display || display === 'none') {{\n",
       "            console.log([gd, 'removed!']);\n",
       "            Plotly.purge(gd);\n",
       "            observer.disconnect();\n",
       "        }}\n",
       "}});\n",
       "\n",
       "// Listen for the removal of the full notebook cells\n",
       "var notebookContainer = gd.closest('#notebook-container');\n",
       "if (notebookContainer) {{\n",
       "    x.observe(notebookContainer, {childList: true});\n",
       "}}\n",
       "\n",
       "// Listen for the clearing of the current output cell\n",
       "var outputEl = gd.closest('.output');\n",
       "if (outputEl) {{\n",
       "    x.observe(outputEl, {childList: true});\n",
       "}}\n",
       "\n",
       "                        })\n",
       "                };\n",
       "                });\n",
       "            </script>\n",
       "        </div>"
      ]
     },
     "metadata": {},
     "output_type": "display_data"
    }
   ],
   "source": [
    "df.iplot(kind='box')"
   ]
  },
  {
   "cell_type": "code",
   "execution_count": 20,
   "metadata": {},
   "outputs": [],
   "source": [
    "df3 = pd.DataFrame({'x':[1,2,3,4,5], 'y':[10,20,30,40,50], 'z':[5,4,3,2,1]})"
   ]
  },
  {
   "cell_type": "code",
   "execution_count": 21,
   "metadata": {},
   "outputs": [
    {
     "data": {
      "text/html": [
       "<div>\n",
       "<style scoped>\n",
       "    .dataframe tbody tr th:only-of-type {\n",
       "        vertical-align: middle;\n",
       "    }\n",
       "\n",
       "    .dataframe tbody tr th {\n",
       "        vertical-align: top;\n",
       "    }\n",
       "\n",
       "    .dataframe thead th {\n",
       "        text-align: right;\n",
       "    }\n",
       "</style>\n",
       "<table border=\"1\" class=\"dataframe\">\n",
       "  <thead>\n",
       "    <tr style=\"text-align: right;\">\n",
       "      <th></th>\n",
       "      <th>x</th>\n",
       "      <th>y</th>\n",
       "      <th>z</th>\n",
       "    </tr>\n",
       "  </thead>\n",
       "  <tbody>\n",
       "    <tr>\n",
       "      <th>0</th>\n",
       "      <td>1</td>\n",
       "      <td>10</td>\n",
       "      <td>5</td>\n",
       "    </tr>\n",
       "    <tr>\n",
       "      <th>1</th>\n",
       "      <td>2</td>\n",
       "      <td>20</td>\n",
       "      <td>4</td>\n",
       "    </tr>\n",
       "    <tr>\n",
       "      <th>2</th>\n",
       "      <td>3</td>\n",
       "      <td>30</td>\n",
       "      <td>3</td>\n",
       "    </tr>\n",
       "    <tr>\n",
       "      <th>3</th>\n",
       "      <td>4</td>\n",
       "      <td>40</td>\n",
       "      <td>2</td>\n",
       "    </tr>\n",
       "    <tr>\n",
       "      <th>4</th>\n",
       "      <td>5</td>\n",
       "      <td>50</td>\n",
       "      <td>1</td>\n",
       "    </tr>\n",
       "  </tbody>\n",
       "</table>\n",
       "</div>"
      ],
      "text/plain": [
       "   x   y  z\n",
       "0  1  10  5\n",
       "1  2  20  4\n",
       "2  3  30  3\n",
       "3  4  40  2\n",
       "4  5  50  1"
      ]
     },
     "execution_count": 21,
     "metadata": {},
     "output_type": "execute_result"
    }
   ],
   "source": [
    "df3"
   ]
  },
  {
   "cell_type": "markdown",
   "metadata": {},
   "source": [
    "Surface:"
   ]
  },
  {
   "cell_type": "code",
   "execution_count": 39,
   "metadata": {},
   "outputs": [
    {
     "data": {
      "application/vnd.plotly.v1+json": {
       "config": {
        "linkText": "Export to plot.ly",
        "plotlyServerURL": "https://plot.ly",
        "showLink": true
       },
       "data": [
        {
         "colorscale": [
          [
           0,
           "rgb(255, 153, 51)"
          ],
          [
           0.1111111111111111,
           "rgb(55, 128, 191)"
          ],
          [
           0.2222222222222222,
           "rgb(50, 171, 96)"
          ],
          [
           0.3333333333333333,
           "rgb(128, 0, 128)"
          ],
          [
           0.4444444444444444,
           "rgb(219, 64, 82)"
          ],
          [
           0.5555555555555556,
           "rgb(0, 128, 128)"
          ],
          [
           0.6666666666666666,
           "rgb(255, 255, 51)"
          ],
          [
           0.7777777777777778,
           "rgb(128, 128, 0)"
          ],
          [
           0.8888888888888888,
           "rgb(251, 128, 114)"
          ],
          [
           1,
           "rgb(128, 177, 211)"
          ]
         ],
         "type": "surface",
         "x": [
          0,
          1,
          2,
          3,
          4
         ],
         "y": [
          "x",
          "y",
          "z"
         ],
         "z": [
          [
           1,
           2,
           3,
           4,
           5
          ],
          [
           10,
           20,
           30,
           40,
           50
          ],
          [
           5,
           4,
           3,
           2,
           1
          ]
         ]
        }
       ],
       "layout": {
        "legend": {
         "bgcolor": "#F5F6F9",
         "font": {
          "color": "#4D5663"
         }
        },
        "paper_bgcolor": "#F5F6F9",
        "plot_bgcolor": "#F5F6F9",
        "template": {
         "data": {
          "bar": [
           {
            "error_x": {
             "color": "#2a3f5f"
            },
            "error_y": {
             "color": "#2a3f5f"
            },
            "marker": {
             "line": {
              "color": "#E5ECF6",
              "width": 0.5
             }
            },
            "type": "bar"
           }
          ],
          "barpolar": [
           {
            "marker": {
             "line": {
              "color": "#E5ECF6",
              "width": 0.5
             }
            },
            "type": "barpolar"
           }
          ],
          "carpet": [
           {
            "aaxis": {
             "endlinecolor": "#2a3f5f",
             "gridcolor": "white",
             "linecolor": "white",
             "minorgridcolor": "white",
             "startlinecolor": "#2a3f5f"
            },
            "baxis": {
             "endlinecolor": "#2a3f5f",
             "gridcolor": "white",
             "linecolor": "white",
             "minorgridcolor": "white",
             "startlinecolor": "#2a3f5f"
            },
            "type": "carpet"
           }
          ],
          "choropleth": [
           {
            "colorbar": {
             "outlinewidth": 0,
             "ticks": ""
            },
            "type": "choropleth"
           }
          ],
          "contour": [
           {
            "colorbar": {
             "outlinewidth": 0,
             "ticks": ""
            },
            "colorscale": [
             [
              0,
              "#0d0887"
             ],
             [
              0.1111111111111111,
              "#46039f"
             ],
             [
              0.2222222222222222,
              "#7201a8"
             ],
             [
              0.3333333333333333,
              "#9c179e"
             ],
             [
              0.4444444444444444,
              "#bd3786"
             ],
             [
              0.5555555555555556,
              "#d8576b"
             ],
             [
              0.6666666666666666,
              "#ed7953"
             ],
             [
              0.7777777777777778,
              "#fb9f3a"
             ],
             [
              0.8888888888888888,
              "#fdca26"
             ],
             [
              1,
              "#f0f921"
             ]
            ],
            "type": "contour"
           }
          ],
          "contourcarpet": [
           {
            "colorbar": {
             "outlinewidth": 0,
             "ticks": ""
            },
            "type": "contourcarpet"
           }
          ],
          "heatmap": [
           {
            "colorbar": {
             "outlinewidth": 0,
             "ticks": ""
            },
            "colorscale": [
             [
              0,
              "#0d0887"
             ],
             [
              0.1111111111111111,
              "#46039f"
             ],
             [
              0.2222222222222222,
              "#7201a8"
             ],
             [
              0.3333333333333333,
              "#9c179e"
             ],
             [
              0.4444444444444444,
              "#bd3786"
             ],
             [
              0.5555555555555556,
              "#d8576b"
             ],
             [
              0.6666666666666666,
              "#ed7953"
             ],
             [
              0.7777777777777778,
              "#fb9f3a"
             ],
             [
              0.8888888888888888,
              "#fdca26"
             ],
             [
              1,
              "#f0f921"
             ]
            ],
            "type": "heatmap"
           }
          ],
          "heatmapgl": [
           {
            "colorbar": {
             "outlinewidth": 0,
             "ticks": ""
            },
            "colorscale": [
             [
              0,
              "#0d0887"
             ],
             [
              0.1111111111111111,
              "#46039f"
             ],
             [
              0.2222222222222222,
              "#7201a8"
             ],
             [
              0.3333333333333333,
              "#9c179e"
             ],
             [
              0.4444444444444444,
              "#bd3786"
             ],
             [
              0.5555555555555556,
              "#d8576b"
             ],
             [
              0.6666666666666666,
              "#ed7953"
             ],
             [
              0.7777777777777778,
              "#fb9f3a"
             ],
             [
              0.8888888888888888,
              "#fdca26"
             ],
             [
              1,
              "#f0f921"
             ]
            ],
            "type": "heatmapgl"
           }
          ],
          "histogram": [
           {
            "marker": {
             "colorbar": {
              "outlinewidth": 0,
              "ticks": ""
             }
            },
            "type": "histogram"
           }
          ],
          "histogram2d": [
           {
            "colorbar": {
             "outlinewidth": 0,
             "ticks": ""
            },
            "colorscale": [
             [
              0,
              "#0d0887"
             ],
             [
              0.1111111111111111,
              "#46039f"
             ],
             [
              0.2222222222222222,
              "#7201a8"
             ],
             [
              0.3333333333333333,
              "#9c179e"
             ],
             [
              0.4444444444444444,
              "#bd3786"
             ],
             [
              0.5555555555555556,
              "#d8576b"
             ],
             [
              0.6666666666666666,
              "#ed7953"
             ],
             [
              0.7777777777777778,
              "#fb9f3a"
             ],
             [
              0.8888888888888888,
              "#fdca26"
             ],
             [
              1,
              "#f0f921"
             ]
            ],
            "type": "histogram2d"
           }
          ],
          "histogram2dcontour": [
           {
            "colorbar": {
             "outlinewidth": 0,
             "ticks": ""
            },
            "colorscale": [
             [
              0,
              "#0d0887"
             ],
             [
              0.1111111111111111,
              "#46039f"
             ],
             [
              0.2222222222222222,
              "#7201a8"
             ],
             [
              0.3333333333333333,
              "#9c179e"
             ],
             [
              0.4444444444444444,
              "#bd3786"
             ],
             [
              0.5555555555555556,
              "#d8576b"
             ],
             [
              0.6666666666666666,
              "#ed7953"
             ],
             [
              0.7777777777777778,
              "#fb9f3a"
             ],
             [
              0.8888888888888888,
              "#fdca26"
             ],
             [
              1,
              "#f0f921"
             ]
            ],
            "type": "histogram2dcontour"
           }
          ],
          "mesh3d": [
           {
            "colorbar": {
             "outlinewidth": 0,
             "ticks": ""
            },
            "type": "mesh3d"
           }
          ],
          "parcoords": [
           {
            "line": {
             "colorbar": {
              "outlinewidth": 0,
              "ticks": ""
             }
            },
            "type": "parcoords"
           }
          ],
          "pie": [
           {
            "automargin": true,
            "type": "pie"
           }
          ],
          "scatter": [
           {
            "marker": {
             "colorbar": {
              "outlinewidth": 0,
              "ticks": ""
             }
            },
            "type": "scatter"
           }
          ],
          "scatter3d": [
           {
            "line": {
             "colorbar": {
              "outlinewidth": 0,
              "ticks": ""
             }
            },
            "marker": {
             "colorbar": {
              "outlinewidth": 0,
              "ticks": ""
             }
            },
            "type": "scatter3d"
           }
          ],
          "scattercarpet": [
           {
            "marker": {
             "colorbar": {
              "outlinewidth": 0,
              "ticks": ""
             }
            },
            "type": "scattercarpet"
           }
          ],
          "scattergeo": [
           {
            "marker": {
             "colorbar": {
              "outlinewidth": 0,
              "ticks": ""
             }
            },
            "type": "scattergeo"
           }
          ],
          "scattergl": [
           {
            "marker": {
             "colorbar": {
              "outlinewidth": 0,
              "ticks": ""
             }
            },
            "type": "scattergl"
           }
          ],
          "scattermapbox": [
           {
            "marker": {
             "colorbar": {
              "outlinewidth": 0,
              "ticks": ""
             }
            },
            "type": "scattermapbox"
           }
          ],
          "scatterpolar": [
           {
            "marker": {
             "colorbar": {
              "outlinewidth": 0,
              "ticks": ""
             }
            },
            "type": "scatterpolar"
           }
          ],
          "scatterpolargl": [
           {
            "marker": {
             "colorbar": {
              "outlinewidth": 0,
              "ticks": ""
             }
            },
            "type": "scatterpolargl"
           }
          ],
          "scatterternary": [
           {
            "marker": {
             "colorbar": {
              "outlinewidth": 0,
              "ticks": ""
             }
            },
            "type": "scatterternary"
           }
          ],
          "surface": [
           {
            "colorbar": {
             "outlinewidth": 0,
             "ticks": ""
            },
            "colorscale": [
             [
              0,
              "#0d0887"
             ],
             [
              0.1111111111111111,
              "#46039f"
             ],
             [
              0.2222222222222222,
              "#7201a8"
             ],
             [
              0.3333333333333333,
              "#9c179e"
             ],
             [
              0.4444444444444444,
              "#bd3786"
             ],
             [
              0.5555555555555556,
              "#d8576b"
             ],
             [
              0.6666666666666666,
              "#ed7953"
             ],
             [
              0.7777777777777778,
              "#fb9f3a"
             ],
             [
              0.8888888888888888,
              "#fdca26"
             ],
             [
              1,
              "#f0f921"
             ]
            ],
            "type": "surface"
           }
          ],
          "table": [
           {
            "cells": {
             "fill": {
              "color": "#EBF0F8"
             },
             "line": {
              "color": "white"
             }
            },
            "header": {
             "fill": {
              "color": "#C8D4E3"
             },
             "line": {
              "color": "white"
             }
            },
            "type": "table"
           }
          ]
         },
         "layout": {
          "annotationdefaults": {
           "arrowcolor": "#2a3f5f",
           "arrowhead": 0,
           "arrowwidth": 1
          },
          "coloraxis": {
           "colorbar": {
            "outlinewidth": 0,
            "ticks": ""
           }
          },
          "colorscale": {
           "diverging": [
            [
             0,
             "#8e0152"
            ],
            [
             0.1,
             "#c51b7d"
            ],
            [
             0.2,
             "#de77ae"
            ],
            [
             0.3,
             "#f1b6da"
            ],
            [
             0.4,
             "#fde0ef"
            ],
            [
             0.5,
             "#f7f7f7"
            ],
            [
             0.6,
             "#e6f5d0"
            ],
            [
             0.7,
             "#b8e186"
            ],
            [
             0.8,
             "#7fbc41"
            ],
            [
             0.9,
             "#4d9221"
            ],
            [
             1,
             "#276419"
            ]
           ],
           "sequential": [
            [
             0,
             "#0d0887"
            ],
            [
             0.1111111111111111,
             "#46039f"
            ],
            [
             0.2222222222222222,
             "#7201a8"
            ],
            [
             0.3333333333333333,
             "#9c179e"
            ],
            [
             0.4444444444444444,
             "#bd3786"
            ],
            [
             0.5555555555555556,
             "#d8576b"
            ],
            [
             0.6666666666666666,
             "#ed7953"
            ],
            [
             0.7777777777777778,
             "#fb9f3a"
            ],
            [
             0.8888888888888888,
             "#fdca26"
            ],
            [
             1,
             "#f0f921"
            ]
           ],
           "sequentialminus": [
            [
             0,
             "#0d0887"
            ],
            [
             0.1111111111111111,
             "#46039f"
            ],
            [
             0.2222222222222222,
             "#7201a8"
            ],
            [
             0.3333333333333333,
             "#9c179e"
            ],
            [
             0.4444444444444444,
             "#bd3786"
            ],
            [
             0.5555555555555556,
             "#d8576b"
            ],
            [
             0.6666666666666666,
             "#ed7953"
            ],
            [
             0.7777777777777778,
             "#fb9f3a"
            ],
            [
             0.8888888888888888,
             "#fdca26"
            ],
            [
             1,
             "#f0f921"
            ]
           ]
          },
          "colorway": [
           "#636efa",
           "#EF553B",
           "#00cc96",
           "#ab63fa",
           "#FFA15A",
           "#19d3f3",
           "#FF6692",
           "#B6E880",
           "#FF97FF",
           "#FECB52"
          ],
          "font": {
           "color": "#2a3f5f"
          },
          "geo": {
           "bgcolor": "white",
           "lakecolor": "white",
           "landcolor": "#E5ECF6",
           "showlakes": true,
           "showland": true,
           "subunitcolor": "white"
          },
          "hoverlabel": {
           "align": "left"
          },
          "hovermode": "closest",
          "mapbox": {
           "style": "light"
          },
          "paper_bgcolor": "white",
          "plot_bgcolor": "#E5ECF6",
          "polar": {
           "angularaxis": {
            "gridcolor": "white",
            "linecolor": "white",
            "ticks": ""
           },
           "bgcolor": "#E5ECF6",
           "radialaxis": {
            "gridcolor": "white",
            "linecolor": "white",
            "ticks": ""
           }
          },
          "scene": {
           "xaxis": {
            "backgroundcolor": "#E5ECF6",
            "gridcolor": "white",
            "gridwidth": 2,
            "linecolor": "white",
            "showbackground": true,
            "ticks": "",
            "zerolinecolor": "white"
           },
           "yaxis": {
            "backgroundcolor": "#E5ECF6",
            "gridcolor": "white",
            "gridwidth": 2,
            "linecolor": "white",
            "showbackground": true,
            "ticks": "",
            "zerolinecolor": "white"
           },
           "zaxis": {
            "backgroundcolor": "#E5ECF6",
            "gridcolor": "white",
            "gridwidth": 2,
            "linecolor": "white",
            "showbackground": true,
            "ticks": "",
            "zerolinecolor": "white"
           }
          },
          "shapedefaults": {
           "line": {
            "color": "#2a3f5f"
           }
          },
          "ternary": {
           "aaxis": {
            "gridcolor": "white",
            "linecolor": "white",
            "ticks": ""
           },
           "baxis": {
            "gridcolor": "white",
            "linecolor": "white",
            "ticks": ""
           },
           "bgcolor": "#E5ECF6",
           "caxis": {
            "gridcolor": "white",
            "linecolor": "white",
            "ticks": ""
           }
          },
          "title": {
           "x": 0.05
          },
          "xaxis": {
           "automargin": true,
           "gridcolor": "white",
           "linecolor": "white",
           "ticks": "",
           "title": {
            "standoff": 15
           },
           "zerolinecolor": "white",
           "zerolinewidth": 2
          },
          "yaxis": {
           "automargin": true,
           "gridcolor": "white",
           "linecolor": "white",
           "ticks": "",
           "title": {
            "standoff": 15
           },
           "zerolinecolor": "white",
           "zerolinewidth": 2
          }
         }
        },
        "title": {
         "font": {
          "color": "#4D5663"
         }
        },
        "xaxis": {
         "gridcolor": "#E1E5ED",
         "showgrid": true,
         "tickfont": {
          "color": "#4D5663"
         },
         "title": {
          "font": {
           "color": "#4D5663"
          },
          "text": ""
         },
         "zerolinecolor": "#E1E5ED"
        },
        "yaxis": {
         "gridcolor": "#E1E5ED",
         "showgrid": true,
         "tickfont": {
          "color": "#4D5663"
         },
         "title": {
          "font": {
           "color": "#4D5663"
          },
          "text": ""
         },
         "zerolinecolor": "#E1E5ED"
        }
       }
      },
      "text/html": [
       "<div>\n",
       "        \n",
       "        \n",
       "            <div id=\"2da9dac4-d8c0-4504-88ce-9c6c2710c9c5\" class=\"plotly-graph-div\" style=\"height:525px; width:100%;\"></div>\n",
       "            <script type=\"text/javascript\">\n",
       "                require([\"plotly\"], function(Plotly) {\n",
       "                    window.PLOTLYENV=window.PLOTLYENV || {};\n",
       "                    window.PLOTLYENV.BASE_URL='https://plot.ly';\n",
       "                    \n",
       "                if (document.getElementById(\"2da9dac4-d8c0-4504-88ce-9c6c2710c9c5\")) {\n",
       "                    Plotly.newPlot(\n",
       "                        '2da9dac4-d8c0-4504-88ce-9c6c2710c9c5',\n",
       "                        [{\"colorscale\": [[0.0, \"rgb(255, 153, 51)\"], [0.1111111111111111, \"rgb(55, 128, 191)\"], [0.2222222222222222, \"rgb(50, 171, 96)\"], [0.3333333333333333, \"rgb(128, 0, 128)\"], [0.4444444444444444, \"rgb(219, 64, 82)\"], [0.5555555555555556, \"rgb(0, 128, 128)\"], [0.6666666666666666, \"rgb(255, 255, 51)\"], [0.7777777777777778, \"rgb(128, 128, 0)\"], [0.8888888888888888, \"rgb(251, 128, 114)\"], [1.0, \"rgb(128, 177, 211)\"]], \"type\": \"surface\", \"x\": [0, 1, 2, 3, 4], \"y\": [\"x\", \"y\", \"z\"], \"z\": [[1, 2, 3, 4, 5], [10, 20, 30, 40, 50], [5, 4, 3, 2, 1]]}],\n",
       "                        {\"legend\": {\"bgcolor\": \"#F5F6F9\", \"font\": {\"color\": \"#4D5663\"}}, \"paper_bgcolor\": \"#F5F6F9\", \"plot_bgcolor\": \"#F5F6F9\", \"template\": {\"data\": {\"bar\": [{\"error_x\": {\"color\": \"#2a3f5f\"}, \"error_y\": {\"color\": \"#2a3f5f\"}, \"marker\": {\"line\": {\"color\": \"#E5ECF6\", \"width\": 0.5}}, \"type\": \"bar\"}], \"barpolar\": [{\"marker\": {\"line\": {\"color\": \"#E5ECF6\", \"width\": 0.5}}, \"type\": \"barpolar\"}], \"carpet\": [{\"aaxis\": {\"endlinecolor\": \"#2a3f5f\", \"gridcolor\": \"white\", \"linecolor\": \"white\", \"minorgridcolor\": \"white\", \"startlinecolor\": \"#2a3f5f\"}, \"baxis\": {\"endlinecolor\": \"#2a3f5f\", \"gridcolor\": \"white\", \"linecolor\": \"white\", \"minorgridcolor\": \"white\", \"startlinecolor\": \"#2a3f5f\"}, \"type\": \"carpet\"}], \"choropleth\": [{\"colorbar\": {\"outlinewidth\": 0, \"ticks\": \"\"}, \"type\": \"choropleth\"}], \"contour\": [{\"colorbar\": {\"outlinewidth\": 0, \"ticks\": \"\"}, \"colorscale\": [[0.0, \"#0d0887\"], [0.1111111111111111, \"#46039f\"], [0.2222222222222222, \"#7201a8\"], [0.3333333333333333, \"#9c179e\"], [0.4444444444444444, \"#bd3786\"], [0.5555555555555556, \"#d8576b\"], [0.6666666666666666, \"#ed7953\"], [0.7777777777777778, \"#fb9f3a\"], [0.8888888888888888, \"#fdca26\"], [1.0, \"#f0f921\"]], \"type\": \"contour\"}], \"contourcarpet\": [{\"colorbar\": {\"outlinewidth\": 0, \"ticks\": \"\"}, \"type\": \"contourcarpet\"}], \"heatmap\": [{\"colorbar\": {\"outlinewidth\": 0, \"ticks\": \"\"}, \"colorscale\": [[0.0, \"#0d0887\"], [0.1111111111111111, \"#46039f\"], [0.2222222222222222, \"#7201a8\"], [0.3333333333333333, \"#9c179e\"], [0.4444444444444444, \"#bd3786\"], [0.5555555555555556, \"#d8576b\"], [0.6666666666666666, \"#ed7953\"], [0.7777777777777778, \"#fb9f3a\"], [0.8888888888888888, \"#fdca26\"], [1.0, \"#f0f921\"]], \"type\": \"heatmap\"}], \"heatmapgl\": [{\"colorbar\": {\"outlinewidth\": 0, \"ticks\": \"\"}, \"colorscale\": [[0.0, \"#0d0887\"], [0.1111111111111111, \"#46039f\"], [0.2222222222222222, \"#7201a8\"], [0.3333333333333333, \"#9c179e\"], [0.4444444444444444, \"#bd3786\"], [0.5555555555555556, \"#d8576b\"], [0.6666666666666666, \"#ed7953\"], [0.7777777777777778, \"#fb9f3a\"], [0.8888888888888888, \"#fdca26\"], [1.0, \"#f0f921\"]], \"type\": \"heatmapgl\"}], \"histogram\": [{\"marker\": {\"colorbar\": {\"outlinewidth\": 0, \"ticks\": \"\"}}, \"type\": \"histogram\"}], \"histogram2d\": [{\"colorbar\": {\"outlinewidth\": 0, \"ticks\": \"\"}, \"colorscale\": [[0.0, \"#0d0887\"], [0.1111111111111111, \"#46039f\"], [0.2222222222222222, \"#7201a8\"], [0.3333333333333333, \"#9c179e\"], [0.4444444444444444, \"#bd3786\"], [0.5555555555555556, \"#d8576b\"], [0.6666666666666666, \"#ed7953\"], [0.7777777777777778, \"#fb9f3a\"], [0.8888888888888888, \"#fdca26\"], [1.0, \"#f0f921\"]], \"type\": \"histogram2d\"}], \"histogram2dcontour\": [{\"colorbar\": {\"outlinewidth\": 0, \"ticks\": \"\"}, \"colorscale\": [[0.0, \"#0d0887\"], [0.1111111111111111, \"#46039f\"], [0.2222222222222222, \"#7201a8\"], [0.3333333333333333, \"#9c179e\"], [0.4444444444444444, \"#bd3786\"], [0.5555555555555556, \"#d8576b\"], [0.6666666666666666, \"#ed7953\"], [0.7777777777777778, \"#fb9f3a\"], [0.8888888888888888, \"#fdca26\"], [1.0, \"#f0f921\"]], \"type\": \"histogram2dcontour\"}], \"mesh3d\": [{\"colorbar\": {\"outlinewidth\": 0, \"ticks\": \"\"}, \"type\": \"mesh3d\"}], \"parcoords\": [{\"line\": {\"colorbar\": {\"outlinewidth\": 0, \"ticks\": \"\"}}, \"type\": \"parcoords\"}], \"pie\": [{\"automargin\": true, \"type\": \"pie\"}], \"scatter\": [{\"marker\": {\"colorbar\": {\"outlinewidth\": 0, \"ticks\": \"\"}}, \"type\": \"scatter\"}], \"scatter3d\": [{\"line\": {\"colorbar\": {\"outlinewidth\": 0, \"ticks\": \"\"}}, \"marker\": {\"colorbar\": {\"outlinewidth\": 0, \"ticks\": \"\"}}, \"type\": \"scatter3d\"}], \"scattercarpet\": [{\"marker\": {\"colorbar\": {\"outlinewidth\": 0, \"ticks\": \"\"}}, \"type\": \"scattercarpet\"}], \"scattergeo\": [{\"marker\": {\"colorbar\": {\"outlinewidth\": 0, \"ticks\": \"\"}}, \"type\": \"scattergeo\"}], \"scattergl\": [{\"marker\": {\"colorbar\": {\"outlinewidth\": 0, \"ticks\": \"\"}}, \"type\": \"scattergl\"}], \"scattermapbox\": [{\"marker\": {\"colorbar\": {\"outlinewidth\": 0, \"ticks\": \"\"}}, \"type\": \"scattermapbox\"}], \"scatterpolar\": [{\"marker\": {\"colorbar\": {\"outlinewidth\": 0, \"ticks\": \"\"}}, \"type\": \"scatterpolar\"}], \"scatterpolargl\": [{\"marker\": {\"colorbar\": {\"outlinewidth\": 0, \"ticks\": \"\"}}, \"type\": \"scatterpolargl\"}], \"scatterternary\": [{\"marker\": {\"colorbar\": {\"outlinewidth\": 0, \"ticks\": \"\"}}, \"type\": \"scatterternary\"}], \"surface\": [{\"colorbar\": {\"outlinewidth\": 0, \"ticks\": \"\"}, \"colorscale\": [[0.0, \"#0d0887\"], [0.1111111111111111, \"#46039f\"], [0.2222222222222222, \"#7201a8\"], [0.3333333333333333, \"#9c179e\"], [0.4444444444444444, \"#bd3786\"], [0.5555555555555556, \"#d8576b\"], [0.6666666666666666, \"#ed7953\"], [0.7777777777777778, \"#fb9f3a\"], [0.8888888888888888, \"#fdca26\"], [1.0, \"#f0f921\"]], \"type\": \"surface\"}], \"table\": [{\"cells\": {\"fill\": {\"color\": \"#EBF0F8\"}, \"line\": {\"color\": \"white\"}}, \"header\": {\"fill\": {\"color\": \"#C8D4E3\"}, \"line\": {\"color\": \"white\"}}, \"type\": \"table\"}]}, \"layout\": {\"annotationdefaults\": {\"arrowcolor\": \"#2a3f5f\", \"arrowhead\": 0, \"arrowwidth\": 1}, \"coloraxis\": {\"colorbar\": {\"outlinewidth\": 0, \"ticks\": \"\"}}, \"colorscale\": {\"diverging\": [[0, \"#8e0152\"], [0.1, \"#c51b7d\"], [0.2, \"#de77ae\"], [0.3, \"#f1b6da\"], [0.4, \"#fde0ef\"], [0.5, \"#f7f7f7\"], [0.6, \"#e6f5d0\"], [0.7, \"#b8e186\"], [0.8, \"#7fbc41\"], [0.9, \"#4d9221\"], [1, \"#276419\"]], \"sequential\": [[0.0, \"#0d0887\"], [0.1111111111111111, \"#46039f\"], [0.2222222222222222, \"#7201a8\"], [0.3333333333333333, \"#9c179e\"], [0.4444444444444444, \"#bd3786\"], [0.5555555555555556, \"#d8576b\"], [0.6666666666666666, \"#ed7953\"], [0.7777777777777778, \"#fb9f3a\"], [0.8888888888888888, \"#fdca26\"], [1.0, \"#f0f921\"]], \"sequentialminus\": [[0.0, \"#0d0887\"], [0.1111111111111111, \"#46039f\"], [0.2222222222222222, \"#7201a8\"], [0.3333333333333333, \"#9c179e\"], [0.4444444444444444, \"#bd3786\"], [0.5555555555555556, \"#d8576b\"], [0.6666666666666666, \"#ed7953\"], [0.7777777777777778, \"#fb9f3a\"], [0.8888888888888888, \"#fdca26\"], [1.0, \"#f0f921\"]]}, \"colorway\": [\"#636efa\", \"#EF553B\", \"#00cc96\", \"#ab63fa\", \"#FFA15A\", \"#19d3f3\", \"#FF6692\", \"#B6E880\", \"#FF97FF\", \"#FECB52\"], \"font\": {\"color\": \"#2a3f5f\"}, \"geo\": {\"bgcolor\": \"white\", \"lakecolor\": \"white\", \"landcolor\": \"#E5ECF6\", \"showlakes\": true, \"showland\": true, \"subunitcolor\": \"white\"}, \"hoverlabel\": {\"align\": \"left\"}, \"hovermode\": \"closest\", \"mapbox\": {\"style\": \"light\"}, \"paper_bgcolor\": \"white\", \"plot_bgcolor\": \"#E5ECF6\", \"polar\": {\"angularaxis\": {\"gridcolor\": \"white\", \"linecolor\": \"white\", \"ticks\": \"\"}, \"bgcolor\": \"#E5ECF6\", \"radialaxis\": {\"gridcolor\": \"white\", \"linecolor\": \"white\", \"ticks\": \"\"}}, \"scene\": {\"xaxis\": {\"backgroundcolor\": \"#E5ECF6\", \"gridcolor\": \"white\", \"gridwidth\": 2, \"linecolor\": \"white\", \"showbackground\": true, \"ticks\": \"\", \"zerolinecolor\": \"white\"}, \"yaxis\": {\"backgroundcolor\": \"#E5ECF6\", \"gridcolor\": \"white\", \"gridwidth\": 2, \"linecolor\": \"white\", \"showbackground\": true, \"ticks\": \"\", \"zerolinecolor\": \"white\"}, \"zaxis\": {\"backgroundcolor\": \"#E5ECF6\", \"gridcolor\": \"white\", \"gridwidth\": 2, \"linecolor\": \"white\", \"showbackground\": true, \"ticks\": \"\", \"zerolinecolor\": \"white\"}}, \"shapedefaults\": {\"line\": {\"color\": \"#2a3f5f\"}}, \"ternary\": {\"aaxis\": {\"gridcolor\": \"white\", \"linecolor\": \"white\", \"ticks\": \"\"}, \"baxis\": {\"gridcolor\": \"white\", \"linecolor\": \"white\", \"ticks\": \"\"}, \"bgcolor\": \"#E5ECF6\", \"caxis\": {\"gridcolor\": \"white\", \"linecolor\": \"white\", \"ticks\": \"\"}}, \"title\": {\"x\": 0.05}, \"xaxis\": {\"automargin\": true, \"gridcolor\": \"white\", \"linecolor\": \"white\", \"ticks\": \"\", \"title\": {\"standoff\": 15}, \"zerolinecolor\": \"white\", \"zerolinewidth\": 2}, \"yaxis\": {\"automargin\": true, \"gridcolor\": \"white\", \"linecolor\": \"white\", \"ticks\": \"\", \"title\": {\"standoff\": 15}, \"zerolinecolor\": \"white\", \"zerolinewidth\": 2}}}, \"title\": {\"font\": {\"color\": \"#4D5663\"}}, \"xaxis\": {\"gridcolor\": \"#E1E5ED\", \"showgrid\": true, \"tickfont\": {\"color\": \"#4D5663\"}, \"title\": {\"font\": {\"color\": \"#4D5663\"}, \"text\": \"\"}, \"zerolinecolor\": \"#E1E5ED\"}, \"yaxis\": {\"gridcolor\": \"#E1E5ED\", \"showgrid\": true, \"tickfont\": {\"color\": \"#4D5663\"}, \"title\": {\"font\": {\"color\": \"#4D5663\"}, \"text\": \"\"}, \"zerolinecolor\": \"#E1E5ED\"}},\n",
       "                        {\"showLink\": true, \"linkText\": \"Export to plot.ly\", \"plotlyServerURL\": \"https://plot.ly\", \"responsive\": true}\n",
       "                    ).then(function(){\n",
       "                            \n",
       "var gd = document.getElementById('2da9dac4-d8c0-4504-88ce-9c6c2710c9c5');\n",
       "var x = new MutationObserver(function (mutations, observer) {{\n",
       "        var display = window.getComputedStyle(gd).display;\n",
       "        if (!display || display === 'none') {{\n",
       "            console.log([gd, 'removed!']);\n",
       "            Plotly.purge(gd);\n",
       "            observer.disconnect();\n",
       "        }}\n",
       "}});\n",
       "\n",
       "// Listen for the removal of the full notebook cells\n",
       "var notebookContainer = gd.closest('#notebook-container');\n",
       "if (notebookContainer) {{\n",
       "    x.observe(notebookContainer, {childList: true});\n",
       "}}\n",
       "\n",
       "// Listen for the clearing of the current output cell\n",
       "var outputEl = gd.closest('.output');\n",
       "if (outputEl) {{\n",
       "    x.observe(outputEl, {childList: true});\n",
       "}}\n",
       "\n",
       "                        })\n",
       "                };\n",
       "                });\n",
       "            </script>\n",
       "        </div>"
      ]
     },
     "metadata": {},
     "output_type": "display_data"
    }
   ],
   "source": [
    "df3.iplot(kind='surface')"
   ]
  },
  {
   "cell_type": "markdown",
   "metadata": {},
   "source": [
    "Trocando color:"
   ]
  },
  {
   "cell_type": "code",
   "execution_count": 40,
   "metadata": {},
   "outputs": [
    {
     "data": {
      "application/vnd.plotly.v1+json": {
       "config": {
        "linkText": "Export to plot.ly",
        "plotlyServerURL": "https://plot.ly",
        "showLink": true
       },
       "data": [
        {
         "colorscale": [
          [
           0,
           "rgb(165,0,38)"
          ],
          [
           0.1,
           "rgb(215,48,39)"
          ],
          [
           0.2,
           "rgb(244,109,67)"
          ],
          [
           0.3,
           "rgb(253,174,97)"
          ],
          [
           0.4,
           "rgb(254,224,144)"
          ],
          [
           0.5,
           "rgb(255,255,191)"
          ],
          [
           0.6,
           "rgb(224,243,248)"
          ],
          [
           0.7,
           "rgb(171,217,233)"
          ],
          [
           0.8,
           "rgb(116,173,209)"
          ],
          [
           0.9,
           "rgb(69,117,180)"
          ],
          [
           1,
           "rgb(49,54,149)"
          ]
         ],
         "type": "surface",
         "x": [
          0,
          1,
          2,
          3,
          4
         ],
         "y": [
          "x",
          "y",
          "z"
         ],
         "z": [
          [
           1,
           2,
           3,
           4,
           5
          ],
          [
           10,
           20,
           30,
           40,
           50
          ],
          [
           5,
           4,
           3,
           2,
           1
          ]
         ]
        }
       ],
       "layout": {
        "legend": {
         "bgcolor": "#F5F6F9",
         "font": {
          "color": "#4D5663"
         }
        },
        "paper_bgcolor": "#F5F6F9",
        "plot_bgcolor": "#F5F6F9",
        "template": {
         "data": {
          "bar": [
           {
            "error_x": {
             "color": "#2a3f5f"
            },
            "error_y": {
             "color": "#2a3f5f"
            },
            "marker": {
             "line": {
              "color": "#E5ECF6",
              "width": 0.5
             }
            },
            "type": "bar"
           }
          ],
          "barpolar": [
           {
            "marker": {
             "line": {
              "color": "#E5ECF6",
              "width": 0.5
             }
            },
            "type": "barpolar"
           }
          ],
          "carpet": [
           {
            "aaxis": {
             "endlinecolor": "#2a3f5f",
             "gridcolor": "white",
             "linecolor": "white",
             "minorgridcolor": "white",
             "startlinecolor": "#2a3f5f"
            },
            "baxis": {
             "endlinecolor": "#2a3f5f",
             "gridcolor": "white",
             "linecolor": "white",
             "minorgridcolor": "white",
             "startlinecolor": "#2a3f5f"
            },
            "type": "carpet"
           }
          ],
          "choropleth": [
           {
            "colorbar": {
             "outlinewidth": 0,
             "ticks": ""
            },
            "type": "choropleth"
           }
          ],
          "contour": [
           {
            "colorbar": {
             "outlinewidth": 0,
             "ticks": ""
            },
            "colorscale": [
             [
              0,
              "#0d0887"
             ],
             [
              0.1111111111111111,
              "#46039f"
             ],
             [
              0.2222222222222222,
              "#7201a8"
             ],
             [
              0.3333333333333333,
              "#9c179e"
             ],
             [
              0.4444444444444444,
              "#bd3786"
             ],
             [
              0.5555555555555556,
              "#d8576b"
             ],
             [
              0.6666666666666666,
              "#ed7953"
             ],
             [
              0.7777777777777778,
              "#fb9f3a"
             ],
             [
              0.8888888888888888,
              "#fdca26"
             ],
             [
              1,
              "#f0f921"
             ]
            ],
            "type": "contour"
           }
          ],
          "contourcarpet": [
           {
            "colorbar": {
             "outlinewidth": 0,
             "ticks": ""
            },
            "type": "contourcarpet"
           }
          ],
          "heatmap": [
           {
            "colorbar": {
             "outlinewidth": 0,
             "ticks": ""
            },
            "colorscale": [
             [
              0,
              "#0d0887"
             ],
             [
              0.1111111111111111,
              "#46039f"
             ],
             [
              0.2222222222222222,
              "#7201a8"
             ],
             [
              0.3333333333333333,
              "#9c179e"
             ],
             [
              0.4444444444444444,
              "#bd3786"
             ],
             [
              0.5555555555555556,
              "#d8576b"
             ],
             [
              0.6666666666666666,
              "#ed7953"
             ],
             [
              0.7777777777777778,
              "#fb9f3a"
             ],
             [
              0.8888888888888888,
              "#fdca26"
             ],
             [
              1,
              "#f0f921"
             ]
            ],
            "type": "heatmap"
           }
          ],
          "heatmapgl": [
           {
            "colorbar": {
             "outlinewidth": 0,
             "ticks": ""
            },
            "colorscale": [
             [
              0,
              "#0d0887"
             ],
             [
              0.1111111111111111,
              "#46039f"
             ],
             [
              0.2222222222222222,
              "#7201a8"
             ],
             [
              0.3333333333333333,
              "#9c179e"
             ],
             [
              0.4444444444444444,
              "#bd3786"
             ],
             [
              0.5555555555555556,
              "#d8576b"
             ],
             [
              0.6666666666666666,
              "#ed7953"
             ],
             [
              0.7777777777777778,
              "#fb9f3a"
             ],
             [
              0.8888888888888888,
              "#fdca26"
             ],
             [
              1,
              "#f0f921"
             ]
            ],
            "type": "heatmapgl"
           }
          ],
          "histogram": [
           {
            "marker": {
             "colorbar": {
              "outlinewidth": 0,
              "ticks": ""
             }
            },
            "type": "histogram"
           }
          ],
          "histogram2d": [
           {
            "colorbar": {
             "outlinewidth": 0,
             "ticks": ""
            },
            "colorscale": [
             [
              0,
              "#0d0887"
             ],
             [
              0.1111111111111111,
              "#46039f"
             ],
             [
              0.2222222222222222,
              "#7201a8"
             ],
             [
              0.3333333333333333,
              "#9c179e"
             ],
             [
              0.4444444444444444,
              "#bd3786"
             ],
             [
              0.5555555555555556,
              "#d8576b"
             ],
             [
              0.6666666666666666,
              "#ed7953"
             ],
             [
              0.7777777777777778,
              "#fb9f3a"
             ],
             [
              0.8888888888888888,
              "#fdca26"
             ],
             [
              1,
              "#f0f921"
             ]
            ],
            "type": "histogram2d"
           }
          ],
          "histogram2dcontour": [
           {
            "colorbar": {
             "outlinewidth": 0,
             "ticks": ""
            },
            "colorscale": [
             [
              0,
              "#0d0887"
             ],
             [
              0.1111111111111111,
              "#46039f"
             ],
             [
              0.2222222222222222,
              "#7201a8"
             ],
             [
              0.3333333333333333,
              "#9c179e"
             ],
             [
              0.4444444444444444,
              "#bd3786"
             ],
             [
              0.5555555555555556,
              "#d8576b"
             ],
             [
              0.6666666666666666,
              "#ed7953"
             ],
             [
              0.7777777777777778,
              "#fb9f3a"
             ],
             [
              0.8888888888888888,
              "#fdca26"
             ],
             [
              1,
              "#f0f921"
             ]
            ],
            "type": "histogram2dcontour"
           }
          ],
          "mesh3d": [
           {
            "colorbar": {
             "outlinewidth": 0,
             "ticks": ""
            },
            "type": "mesh3d"
           }
          ],
          "parcoords": [
           {
            "line": {
             "colorbar": {
              "outlinewidth": 0,
              "ticks": ""
             }
            },
            "type": "parcoords"
           }
          ],
          "pie": [
           {
            "automargin": true,
            "type": "pie"
           }
          ],
          "scatter": [
           {
            "marker": {
             "colorbar": {
              "outlinewidth": 0,
              "ticks": ""
             }
            },
            "type": "scatter"
           }
          ],
          "scatter3d": [
           {
            "line": {
             "colorbar": {
              "outlinewidth": 0,
              "ticks": ""
             }
            },
            "marker": {
             "colorbar": {
              "outlinewidth": 0,
              "ticks": ""
             }
            },
            "type": "scatter3d"
           }
          ],
          "scattercarpet": [
           {
            "marker": {
             "colorbar": {
              "outlinewidth": 0,
              "ticks": ""
             }
            },
            "type": "scattercarpet"
           }
          ],
          "scattergeo": [
           {
            "marker": {
             "colorbar": {
              "outlinewidth": 0,
              "ticks": ""
             }
            },
            "type": "scattergeo"
           }
          ],
          "scattergl": [
           {
            "marker": {
             "colorbar": {
              "outlinewidth": 0,
              "ticks": ""
             }
            },
            "type": "scattergl"
           }
          ],
          "scattermapbox": [
           {
            "marker": {
             "colorbar": {
              "outlinewidth": 0,
              "ticks": ""
             }
            },
            "type": "scattermapbox"
           }
          ],
          "scatterpolar": [
           {
            "marker": {
             "colorbar": {
              "outlinewidth": 0,
              "ticks": ""
             }
            },
            "type": "scatterpolar"
           }
          ],
          "scatterpolargl": [
           {
            "marker": {
             "colorbar": {
              "outlinewidth": 0,
              "ticks": ""
             }
            },
            "type": "scatterpolargl"
           }
          ],
          "scatterternary": [
           {
            "marker": {
             "colorbar": {
              "outlinewidth": 0,
              "ticks": ""
             }
            },
            "type": "scatterternary"
           }
          ],
          "surface": [
           {
            "colorbar": {
             "outlinewidth": 0,
             "ticks": ""
            },
            "colorscale": [
             [
              0,
              "#0d0887"
             ],
             [
              0.1111111111111111,
              "#46039f"
             ],
             [
              0.2222222222222222,
              "#7201a8"
             ],
             [
              0.3333333333333333,
              "#9c179e"
             ],
             [
              0.4444444444444444,
              "#bd3786"
             ],
             [
              0.5555555555555556,
              "#d8576b"
             ],
             [
              0.6666666666666666,
              "#ed7953"
             ],
             [
              0.7777777777777778,
              "#fb9f3a"
             ],
             [
              0.8888888888888888,
              "#fdca26"
             ],
             [
              1,
              "#f0f921"
             ]
            ],
            "type": "surface"
           }
          ],
          "table": [
           {
            "cells": {
             "fill": {
              "color": "#EBF0F8"
             },
             "line": {
              "color": "white"
             }
            },
            "header": {
             "fill": {
              "color": "#C8D4E3"
             },
             "line": {
              "color": "white"
             }
            },
            "type": "table"
           }
          ]
         },
         "layout": {
          "annotationdefaults": {
           "arrowcolor": "#2a3f5f",
           "arrowhead": 0,
           "arrowwidth": 1
          },
          "coloraxis": {
           "colorbar": {
            "outlinewidth": 0,
            "ticks": ""
           }
          },
          "colorscale": {
           "diverging": [
            [
             0,
             "#8e0152"
            ],
            [
             0.1,
             "#c51b7d"
            ],
            [
             0.2,
             "#de77ae"
            ],
            [
             0.3,
             "#f1b6da"
            ],
            [
             0.4,
             "#fde0ef"
            ],
            [
             0.5,
             "#f7f7f7"
            ],
            [
             0.6,
             "#e6f5d0"
            ],
            [
             0.7,
             "#b8e186"
            ],
            [
             0.8,
             "#7fbc41"
            ],
            [
             0.9,
             "#4d9221"
            ],
            [
             1,
             "#276419"
            ]
           ],
           "sequential": [
            [
             0,
             "#0d0887"
            ],
            [
             0.1111111111111111,
             "#46039f"
            ],
            [
             0.2222222222222222,
             "#7201a8"
            ],
            [
             0.3333333333333333,
             "#9c179e"
            ],
            [
             0.4444444444444444,
             "#bd3786"
            ],
            [
             0.5555555555555556,
             "#d8576b"
            ],
            [
             0.6666666666666666,
             "#ed7953"
            ],
            [
             0.7777777777777778,
             "#fb9f3a"
            ],
            [
             0.8888888888888888,
             "#fdca26"
            ],
            [
             1,
             "#f0f921"
            ]
           ],
           "sequentialminus": [
            [
             0,
             "#0d0887"
            ],
            [
             0.1111111111111111,
             "#46039f"
            ],
            [
             0.2222222222222222,
             "#7201a8"
            ],
            [
             0.3333333333333333,
             "#9c179e"
            ],
            [
             0.4444444444444444,
             "#bd3786"
            ],
            [
             0.5555555555555556,
             "#d8576b"
            ],
            [
             0.6666666666666666,
             "#ed7953"
            ],
            [
             0.7777777777777778,
             "#fb9f3a"
            ],
            [
             0.8888888888888888,
             "#fdca26"
            ],
            [
             1,
             "#f0f921"
            ]
           ]
          },
          "colorway": [
           "#636efa",
           "#EF553B",
           "#00cc96",
           "#ab63fa",
           "#FFA15A",
           "#19d3f3",
           "#FF6692",
           "#B6E880",
           "#FF97FF",
           "#FECB52"
          ],
          "font": {
           "color": "#2a3f5f"
          },
          "geo": {
           "bgcolor": "white",
           "lakecolor": "white",
           "landcolor": "#E5ECF6",
           "showlakes": true,
           "showland": true,
           "subunitcolor": "white"
          },
          "hoverlabel": {
           "align": "left"
          },
          "hovermode": "closest",
          "mapbox": {
           "style": "light"
          },
          "paper_bgcolor": "white",
          "plot_bgcolor": "#E5ECF6",
          "polar": {
           "angularaxis": {
            "gridcolor": "white",
            "linecolor": "white",
            "ticks": ""
           },
           "bgcolor": "#E5ECF6",
           "radialaxis": {
            "gridcolor": "white",
            "linecolor": "white",
            "ticks": ""
           }
          },
          "scene": {
           "xaxis": {
            "backgroundcolor": "#E5ECF6",
            "gridcolor": "white",
            "gridwidth": 2,
            "linecolor": "white",
            "showbackground": true,
            "ticks": "",
            "zerolinecolor": "white"
           },
           "yaxis": {
            "backgroundcolor": "#E5ECF6",
            "gridcolor": "white",
            "gridwidth": 2,
            "linecolor": "white",
            "showbackground": true,
            "ticks": "",
            "zerolinecolor": "white"
           },
           "zaxis": {
            "backgroundcolor": "#E5ECF6",
            "gridcolor": "white",
            "gridwidth": 2,
            "linecolor": "white",
            "showbackground": true,
            "ticks": "",
            "zerolinecolor": "white"
           }
          },
          "shapedefaults": {
           "line": {
            "color": "#2a3f5f"
           }
          },
          "ternary": {
           "aaxis": {
            "gridcolor": "white",
            "linecolor": "white",
            "ticks": ""
           },
           "baxis": {
            "gridcolor": "white",
            "linecolor": "white",
            "ticks": ""
           },
           "bgcolor": "#E5ECF6",
           "caxis": {
            "gridcolor": "white",
            "linecolor": "white",
            "ticks": ""
           }
          },
          "title": {
           "x": 0.05
          },
          "xaxis": {
           "automargin": true,
           "gridcolor": "white",
           "linecolor": "white",
           "ticks": "",
           "title": {
            "standoff": 15
           },
           "zerolinecolor": "white",
           "zerolinewidth": 2
          },
          "yaxis": {
           "automargin": true,
           "gridcolor": "white",
           "linecolor": "white",
           "ticks": "",
           "title": {
            "standoff": 15
           },
           "zerolinecolor": "white",
           "zerolinewidth": 2
          }
         }
        },
        "title": {
         "font": {
          "color": "#4D5663"
         }
        },
        "xaxis": {
         "gridcolor": "#E1E5ED",
         "showgrid": true,
         "tickfont": {
          "color": "#4D5663"
         },
         "title": {
          "font": {
           "color": "#4D5663"
          },
          "text": ""
         },
         "zerolinecolor": "#E1E5ED"
        },
        "yaxis": {
         "gridcolor": "#E1E5ED",
         "showgrid": true,
         "tickfont": {
          "color": "#4D5663"
         },
         "title": {
          "font": {
           "color": "#4D5663"
          },
          "text": ""
         },
         "zerolinecolor": "#E1E5ED"
        }
       }
      },
      "text/html": [
       "<div>\n",
       "        \n",
       "        \n",
       "            <div id=\"63e2cc5e-e72e-40ff-8e99-4b5246e4a36a\" class=\"plotly-graph-div\" style=\"height:525px; width:100%;\"></div>\n",
       "            <script type=\"text/javascript\">\n",
       "                require([\"plotly\"], function(Plotly) {\n",
       "                    window.PLOTLYENV=window.PLOTLYENV || {};\n",
       "                    window.PLOTLYENV.BASE_URL='https://plot.ly';\n",
       "                    \n",
       "                if (document.getElementById(\"63e2cc5e-e72e-40ff-8e99-4b5246e4a36a\")) {\n",
       "                    Plotly.newPlot(\n",
       "                        '63e2cc5e-e72e-40ff-8e99-4b5246e4a36a',\n",
       "                        [{\"colorscale\": [[0.0, \"rgb(165,0,38)\"], [0.1, \"rgb(215,48,39)\"], [0.2, \"rgb(244,109,67)\"], [0.3, \"rgb(253,174,97)\"], [0.4, \"rgb(254,224,144)\"], [0.5, \"rgb(255,255,191)\"], [0.6, \"rgb(224,243,248)\"], [0.7, \"rgb(171,217,233)\"], [0.8, \"rgb(116,173,209)\"], [0.9, \"rgb(69,117,180)\"], [1.0, \"rgb(49,54,149)\"]], \"type\": \"surface\", \"x\": [0, 1, 2, 3, 4], \"y\": [\"x\", \"y\", \"z\"], \"z\": [[1, 2, 3, 4, 5], [10, 20, 30, 40, 50], [5, 4, 3, 2, 1]]}],\n",
       "                        {\"legend\": {\"bgcolor\": \"#F5F6F9\", \"font\": {\"color\": \"#4D5663\"}}, \"paper_bgcolor\": \"#F5F6F9\", \"plot_bgcolor\": \"#F5F6F9\", \"template\": {\"data\": {\"bar\": [{\"error_x\": {\"color\": \"#2a3f5f\"}, \"error_y\": {\"color\": \"#2a3f5f\"}, \"marker\": {\"line\": {\"color\": \"#E5ECF6\", \"width\": 0.5}}, \"type\": \"bar\"}], \"barpolar\": [{\"marker\": {\"line\": {\"color\": \"#E5ECF6\", \"width\": 0.5}}, \"type\": \"barpolar\"}], \"carpet\": [{\"aaxis\": {\"endlinecolor\": \"#2a3f5f\", \"gridcolor\": \"white\", \"linecolor\": \"white\", \"minorgridcolor\": \"white\", \"startlinecolor\": \"#2a3f5f\"}, \"baxis\": {\"endlinecolor\": \"#2a3f5f\", \"gridcolor\": \"white\", \"linecolor\": \"white\", \"minorgridcolor\": \"white\", \"startlinecolor\": \"#2a3f5f\"}, \"type\": \"carpet\"}], \"choropleth\": [{\"colorbar\": {\"outlinewidth\": 0, \"ticks\": \"\"}, \"type\": \"choropleth\"}], \"contour\": [{\"colorbar\": {\"outlinewidth\": 0, \"ticks\": \"\"}, \"colorscale\": [[0.0, \"#0d0887\"], [0.1111111111111111, \"#46039f\"], [0.2222222222222222, \"#7201a8\"], [0.3333333333333333, \"#9c179e\"], [0.4444444444444444, \"#bd3786\"], [0.5555555555555556, \"#d8576b\"], [0.6666666666666666, \"#ed7953\"], [0.7777777777777778, \"#fb9f3a\"], [0.8888888888888888, \"#fdca26\"], [1.0, \"#f0f921\"]], \"type\": \"contour\"}], \"contourcarpet\": [{\"colorbar\": {\"outlinewidth\": 0, \"ticks\": \"\"}, \"type\": \"contourcarpet\"}], \"heatmap\": [{\"colorbar\": {\"outlinewidth\": 0, \"ticks\": \"\"}, \"colorscale\": [[0.0, \"#0d0887\"], [0.1111111111111111, \"#46039f\"], [0.2222222222222222, \"#7201a8\"], [0.3333333333333333, \"#9c179e\"], [0.4444444444444444, \"#bd3786\"], [0.5555555555555556, \"#d8576b\"], [0.6666666666666666, \"#ed7953\"], [0.7777777777777778, \"#fb9f3a\"], [0.8888888888888888, \"#fdca26\"], [1.0, \"#f0f921\"]], \"type\": \"heatmap\"}], \"heatmapgl\": [{\"colorbar\": {\"outlinewidth\": 0, \"ticks\": \"\"}, \"colorscale\": [[0.0, \"#0d0887\"], [0.1111111111111111, \"#46039f\"], [0.2222222222222222, \"#7201a8\"], [0.3333333333333333, \"#9c179e\"], [0.4444444444444444, \"#bd3786\"], [0.5555555555555556, \"#d8576b\"], [0.6666666666666666, \"#ed7953\"], [0.7777777777777778, \"#fb9f3a\"], [0.8888888888888888, \"#fdca26\"], [1.0, \"#f0f921\"]], \"type\": \"heatmapgl\"}], \"histogram\": [{\"marker\": {\"colorbar\": {\"outlinewidth\": 0, \"ticks\": \"\"}}, \"type\": \"histogram\"}], \"histogram2d\": [{\"colorbar\": {\"outlinewidth\": 0, \"ticks\": \"\"}, \"colorscale\": [[0.0, \"#0d0887\"], [0.1111111111111111, \"#46039f\"], [0.2222222222222222, \"#7201a8\"], [0.3333333333333333, \"#9c179e\"], [0.4444444444444444, \"#bd3786\"], [0.5555555555555556, \"#d8576b\"], [0.6666666666666666, \"#ed7953\"], [0.7777777777777778, \"#fb9f3a\"], [0.8888888888888888, \"#fdca26\"], [1.0, \"#f0f921\"]], \"type\": \"histogram2d\"}], \"histogram2dcontour\": [{\"colorbar\": {\"outlinewidth\": 0, \"ticks\": \"\"}, \"colorscale\": [[0.0, \"#0d0887\"], [0.1111111111111111, \"#46039f\"], [0.2222222222222222, \"#7201a8\"], [0.3333333333333333, \"#9c179e\"], [0.4444444444444444, \"#bd3786\"], [0.5555555555555556, \"#d8576b\"], [0.6666666666666666, \"#ed7953\"], [0.7777777777777778, \"#fb9f3a\"], [0.8888888888888888, \"#fdca26\"], [1.0, \"#f0f921\"]], \"type\": \"histogram2dcontour\"}], \"mesh3d\": [{\"colorbar\": {\"outlinewidth\": 0, \"ticks\": \"\"}, \"type\": \"mesh3d\"}], \"parcoords\": [{\"line\": {\"colorbar\": {\"outlinewidth\": 0, \"ticks\": \"\"}}, \"type\": \"parcoords\"}], \"pie\": [{\"automargin\": true, \"type\": \"pie\"}], \"scatter\": [{\"marker\": {\"colorbar\": {\"outlinewidth\": 0, \"ticks\": \"\"}}, \"type\": \"scatter\"}], \"scatter3d\": [{\"line\": {\"colorbar\": {\"outlinewidth\": 0, \"ticks\": \"\"}}, \"marker\": {\"colorbar\": {\"outlinewidth\": 0, \"ticks\": \"\"}}, \"type\": \"scatter3d\"}], \"scattercarpet\": [{\"marker\": {\"colorbar\": {\"outlinewidth\": 0, \"ticks\": \"\"}}, \"type\": \"scattercarpet\"}], \"scattergeo\": [{\"marker\": {\"colorbar\": {\"outlinewidth\": 0, \"ticks\": \"\"}}, \"type\": \"scattergeo\"}], \"scattergl\": [{\"marker\": {\"colorbar\": {\"outlinewidth\": 0, \"ticks\": \"\"}}, \"type\": \"scattergl\"}], \"scattermapbox\": [{\"marker\": {\"colorbar\": {\"outlinewidth\": 0, \"ticks\": \"\"}}, \"type\": \"scattermapbox\"}], \"scatterpolar\": [{\"marker\": {\"colorbar\": {\"outlinewidth\": 0, \"ticks\": \"\"}}, \"type\": \"scatterpolar\"}], \"scatterpolargl\": [{\"marker\": {\"colorbar\": {\"outlinewidth\": 0, \"ticks\": \"\"}}, \"type\": \"scatterpolargl\"}], \"scatterternary\": [{\"marker\": {\"colorbar\": {\"outlinewidth\": 0, \"ticks\": \"\"}}, \"type\": \"scatterternary\"}], \"surface\": [{\"colorbar\": {\"outlinewidth\": 0, \"ticks\": \"\"}, \"colorscale\": [[0.0, \"#0d0887\"], [0.1111111111111111, \"#46039f\"], [0.2222222222222222, \"#7201a8\"], [0.3333333333333333, \"#9c179e\"], [0.4444444444444444, \"#bd3786\"], [0.5555555555555556, \"#d8576b\"], [0.6666666666666666, \"#ed7953\"], [0.7777777777777778, \"#fb9f3a\"], [0.8888888888888888, \"#fdca26\"], [1.0, \"#f0f921\"]], \"type\": \"surface\"}], \"table\": [{\"cells\": {\"fill\": {\"color\": \"#EBF0F8\"}, \"line\": {\"color\": \"white\"}}, \"header\": {\"fill\": {\"color\": \"#C8D4E3\"}, \"line\": {\"color\": \"white\"}}, \"type\": \"table\"}]}, \"layout\": {\"annotationdefaults\": {\"arrowcolor\": \"#2a3f5f\", \"arrowhead\": 0, \"arrowwidth\": 1}, \"coloraxis\": {\"colorbar\": {\"outlinewidth\": 0, \"ticks\": \"\"}}, \"colorscale\": {\"diverging\": [[0, \"#8e0152\"], [0.1, \"#c51b7d\"], [0.2, \"#de77ae\"], [0.3, \"#f1b6da\"], [0.4, \"#fde0ef\"], [0.5, \"#f7f7f7\"], [0.6, \"#e6f5d0\"], [0.7, \"#b8e186\"], [0.8, \"#7fbc41\"], [0.9, \"#4d9221\"], [1, \"#276419\"]], \"sequential\": [[0.0, \"#0d0887\"], [0.1111111111111111, \"#46039f\"], [0.2222222222222222, \"#7201a8\"], [0.3333333333333333, \"#9c179e\"], [0.4444444444444444, \"#bd3786\"], [0.5555555555555556, \"#d8576b\"], [0.6666666666666666, \"#ed7953\"], [0.7777777777777778, \"#fb9f3a\"], [0.8888888888888888, \"#fdca26\"], [1.0, \"#f0f921\"]], \"sequentialminus\": [[0.0, \"#0d0887\"], [0.1111111111111111, \"#46039f\"], [0.2222222222222222, \"#7201a8\"], [0.3333333333333333, \"#9c179e\"], [0.4444444444444444, \"#bd3786\"], [0.5555555555555556, \"#d8576b\"], [0.6666666666666666, \"#ed7953\"], [0.7777777777777778, \"#fb9f3a\"], [0.8888888888888888, \"#fdca26\"], [1.0, \"#f0f921\"]]}, \"colorway\": [\"#636efa\", \"#EF553B\", \"#00cc96\", \"#ab63fa\", \"#FFA15A\", \"#19d3f3\", \"#FF6692\", \"#B6E880\", \"#FF97FF\", \"#FECB52\"], \"font\": {\"color\": \"#2a3f5f\"}, \"geo\": {\"bgcolor\": \"white\", \"lakecolor\": \"white\", \"landcolor\": \"#E5ECF6\", \"showlakes\": true, \"showland\": true, \"subunitcolor\": \"white\"}, \"hoverlabel\": {\"align\": \"left\"}, \"hovermode\": \"closest\", \"mapbox\": {\"style\": \"light\"}, \"paper_bgcolor\": \"white\", \"plot_bgcolor\": \"#E5ECF6\", \"polar\": {\"angularaxis\": {\"gridcolor\": \"white\", \"linecolor\": \"white\", \"ticks\": \"\"}, \"bgcolor\": \"#E5ECF6\", \"radialaxis\": {\"gridcolor\": \"white\", \"linecolor\": \"white\", \"ticks\": \"\"}}, \"scene\": {\"xaxis\": {\"backgroundcolor\": \"#E5ECF6\", \"gridcolor\": \"white\", \"gridwidth\": 2, \"linecolor\": \"white\", \"showbackground\": true, \"ticks\": \"\", \"zerolinecolor\": \"white\"}, \"yaxis\": {\"backgroundcolor\": \"#E5ECF6\", \"gridcolor\": \"white\", \"gridwidth\": 2, \"linecolor\": \"white\", \"showbackground\": true, \"ticks\": \"\", \"zerolinecolor\": \"white\"}, \"zaxis\": {\"backgroundcolor\": \"#E5ECF6\", \"gridcolor\": \"white\", \"gridwidth\": 2, \"linecolor\": \"white\", \"showbackground\": true, \"ticks\": \"\", \"zerolinecolor\": \"white\"}}, \"shapedefaults\": {\"line\": {\"color\": \"#2a3f5f\"}}, \"ternary\": {\"aaxis\": {\"gridcolor\": \"white\", \"linecolor\": \"white\", \"ticks\": \"\"}, \"baxis\": {\"gridcolor\": \"white\", \"linecolor\": \"white\", \"ticks\": \"\"}, \"bgcolor\": \"#E5ECF6\", \"caxis\": {\"gridcolor\": \"white\", \"linecolor\": \"white\", \"ticks\": \"\"}}, \"title\": {\"x\": 0.05}, \"xaxis\": {\"automargin\": true, \"gridcolor\": \"white\", \"linecolor\": \"white\", \"ticks\": \"\", \"title\": {\"standoff\": 15}, \"zerolinecolor\": \"white\", \"zerolinewidth\": 2}, \"yaxis\": {\"automargin\": true, \"gridcolor\": \"white\", \"linecolor\": \"white\", \"ticks\": \"\", \"title\": {\"standoff\": 15}, \"zerolinecolor\": \"white\", \"zerolinewidth\": 2}}}, \"title\": {\"font\": {\"color\": \"#4D5663\"}}, \"xaxis\": {\"gridcolor\": \"#E1E5ED\", \"showgrid\": true, \"tickfont\": {\"color\": \"#4D5663\"}, \"title\": {\"font\": {\"color\": \"#4D5663\"}, \"text\": \"\"}, \"zerolinecolor\": \"#E1E5ED\"}, \"yaxis\": {\"gridcolor\": \"#E1E5ED\", \"showgrid\": true, \"tickfont\": {\"color\": \"#4D5663\"}, \"title\": {\"font\": {\"color\": \"#4D5663\"}, \"text\": \"\"}, \"zerolinecolor\": \"#E1E5ED\"}},\n",
       "                        {\"showLink\": true, \"linkText\": \"Export to plot.ly\", \"plotlyServerURL\": \"https://plot.ly\", \"responsive\": true}\n",
       "                    ).then(function(){\n",
       "                            \n",
       "var gd = document.getElementById('63e2cc5e-e72e-40ff-8e99-4b5246e4a36a');\n",
       "var x = new MutationObserver(function (mutations, observer) {{\n",
       "        var display = window.getComputedStyle(gd).display;\n",
       "        if (!display || display === 'none') {{\n",
       "            console.log([gd, 'removed!']);\n",
       "            Plotly.purge(gd);\n",
       "            observer.disconnect();\n",
       "        }}\n",
       "}});\n",
       "\n",
       "// Listen for the removal of the full notebook cells\n",
       "var notebookContainer = gd.closest('#notebook-container');\n",
       "if (notebookContainer) {{\n",
       "    x.observe(notebookContainer, {childList: true});\n",
       "}}\n",
       "\n",
       "// Listen for the clearing of the current output cell\n",
       "var outputEl = gd.closest('.output');\n",
       "if (outputEl) {{\n",
       "    x.observe(outputEl, {childList: true});\n",
       "}}\n",
       "\n",
       "                        })\n",
       "                };\n",
       "                });\n",
       "            </script>\n",
       "        </div>"
      ]
     },
     "metadata": {},
     "output_type": "display_data"
    }
   ],
   "source": [
    "df3.iplot(kind='surface', colorscale='rdylbu')"
   ]
  },
  {
   "cell_type": "markdown",
   "metadata": {},
   "source": [
    "Comparando duas variáveis em relação ao tempo:"
   ]
  },
  {
   "cell_type": "code",
   "execution_count": 24,
   "metadata": {},
   "outputs": [
    {
     "data": {
      "application/vnd.plotly.v1+json": {
       "config": {
        "linkText": "Export to plot.ly",
        "plotlyServerURL": "https://plot.ly",
        "showLink": true
       },
       "data": [
        {
         "line": {
          "color": "rgba(255, 153, 51, 1.0)",
          "dash": "solid",
          "shape": "linear",
          "width": 1.3
         },
         "mode": "lines",
         "name": "A",
         "text": "",
         "type": "scatter",
         "x": [
          0,
          1,
          2,
          3,
          4,
          5,
          6,
          7,
          8,
          9,
          10,
          11,
          12,
          13,
          14,
          15,
          16,
          17,
          18,
          19,
          20,
          21,
          22,
          23,
          24,
          25,
          26,
          27,
          28,
          29,
          30,
          31,
          32,
          33,
          34,
          35,
          36,
          37,
          38,
          39,
          40,
          41,
          42,
          43,
          44,
          45,
          46,
          47,
          48,
          49,
          50,
          51,
          52,
          53,
          54,
          55,
          56,
          57,
          58,
          59,
          60,
          61,
          62,
          63,
          64,
          65,
          66,
          67,
          68,
          69,
          70,
          71,
          72,
          73,
          74,
          75,
          76,
          77,
          78,
          79,
          80,
          81,
          82,
          83,
          84,
          85,
          86,
          87,
          88,
          89,
          90,
          91,
          92,
          93,
          94,
          95,
          96,
          97,
          98,
          99
         ],
         "y": [
          1.5142186544122638,
          0.27895064943248915,
          -1.2772201606503015,
          0.7176215978752194,
          1.0242630534311887,
          -0.18782350124528943,
          -0.15971406208206046,
          -0.09450672113595138,
          1.101557217961529,
          1.760246324420678,
          0.4957627962412397,
          1.4410840240165774,
          0.890736201554487,
          -0.1973859512432099,
          -0.22647367315349648,
          0.9600258803516739,
          -0.22695644558189895,
          0.9014455961017745,
          -1.0352942125712694,
          1.3614210778771305,
          1.438341742803549,
          0.0062457188416346066,
          -0.34075842820041674,
          1.1645719966781778,
          3.251475167837798,
          0.3585119159665232,
          0.35559795617521023,
          -1.4927235063683504,
          -0.09654662808693423,
          -0.057294310675322785,
          -0.48183583073170233,
          -0.5382944548854823,
          0.9208574046073155,
          -0.6302021900122878,
          0.30933377625955083,
          -0.46552971679190036,
          -0.912246971568453,
          0.663008040972662,
          1.2686499433429357,
          0.36508507101402465,
          0.13357487450389904,
          -0.20648604070240084,
          0.49234018847418437,
          -1.0079776998156387,
          -1.3502695696598568,
          0.5959137955318851,
          -0.3372748183372034,
          -1.7190172045328507,
          0.3701065313721388,
          -1.109452713943562,
          0.11680700607062913,
          -0.8627209126237989,
          -0.8575591132443635,
          -0.044169557298888655,
          -0.7955907040068338,
          0.12234260476958768,
          -1.0760163613813911,
          -0.8283533358210704,
          0.268329750244207,
          1.066892146131821,
          -0.6553844559897053,
          -0.644878025080047,
          0.28702367749052854,
          -0.41938747626877115,
          1.959073984465897,
          -1.1269742470876678,
          3.8538700868814058,
          0.8705990773885701,
          0.5240821424022016,
          0.33280913610094887,
          0.4259038558689888,
          -1.2700198508155802,
          -0.5263315245506245,
          -0.1637455667230135,
          2.213359350383037,
          -0.4878057724962988,
          -0.46568550675433373,
          0.9524119005427031,
          1.7669535874688445,
          0.9320713319598105,
          1.0426693299362813,
          -1.7119433140080471,
          -0.2723835374814382,
          -1.4597336316316212,
          0.7187397058115067,
          0.5706065969920404,
          0.023982717991074275,
          -0.7639207845885283,
          -0.9117422967467312,
          -0.5438741254817734,
          -0.7489289965331479,
          1.0933015307053855,
          -0.33036206127818424,
          0.573877123376443,
          1.548344828251328,
          -0.2994560355888004,
          0.47710475522997875,
          -1.7490432446344575,
          -0.615644586432859,
          -0.0696319730489194
         ]
        },
        {
         "line": {
          "color": "rgba(55, 128, 191, 1.0)",
          "dash": "solid",
          "shape": "linear",
          "width": 1.3
         },
         "mode": "lines",
         "name": "B",
         "text": "",
         "type": "scatter",
         "x": [
          0,
          1,
          2,
          3,
          4,
          5,
          6,
          7,
          8,
          9,
          10,
          11,
          12,
          13,
          14,
          15,
          16,
          17,
          18,
          19,
          20,
          21,
          22,
          23,
          24,
          25,
          26,
          27,
          28,
          29,
          30,
          31,
          32,
          33,
          34,
          35,
          36,
          37,
          38,
          39,
          40,
          41,
          42,
          43,
          44,
          45,
          46,
          47,
          48,
          49,
          50,
          51,
          52,
          53,
          54,
          55,
          56,
          57,
          58,
          59,
          60,
          61,
          62,
          63,
          64,
          65,
          66,
          67,
          68,
          69,
          70,
          71,
          72,
          73,
          74,
          75,
          76,
          77,
          78,
          79,
          80,
          81,
          82,
          83,
          84,
          85,
          86,
          87,
          88,
          89,
          90,
          91,
          92,
          93,
          94,
          95,
          96,
          97,
          98,
          99
         ],
         "y": [
          -0.9153410714929735,
          1.6358976547955704,
          0.09255099576014963,
          1.5400934402495086,
          0.6425658299894662,
          -0.26179888744269847,
          1.0273186956146738,
          -0.6307535418604402,
          -2.5346978546476517,
          -2.1897817281056837,
          0.8311035354450367,
          0.6399383182121887,
          -0.9403607387553982,
          0.7078174444510166,
          -0.45457637870870515,
          1.1980318577308495,
          -0.11554976053470527,
          0.30680062220353793,
          -0.9217244314001211,
          -0.6663874786748377,
          1.32120609432077,
          1.0109233247836378,
          -0.1824269769280658,
          -1.0488991304782136,
          1.0662243347339762,
          -0.9034244394440355,
          -0.3263330312314083,
          -0.2607788207729719,
          -2.4278016862124088,
          -0.12711866662850796,
          -0.36884387842295946,
          0.6429063120523958,
          0.14881899593559214,
          -0.43653258631725117,
          1.1884826095900352,
          2.178398074485583,
          -0.06233515306434373,
          0.2587311274407884,
          -0.3741404646665351,
          0.30626494513246,
          -2.126751910804884,
          -2.060133981135926,
          1.5529239103471126,
          -0.38836926178255654,
          0.3942599587482798,
          1.5803964142097777,
          -1.0523833241987806,
          -0.01657286604126695,
          -0.770066526216671,
          0.9920549755691876,
          0.22018622155780793,
          0.9478438860931523,
          2.5346802705488365,
          0.30453558445497775,
          0.44999869484970006,
          0.1329256362940828,
          0.5257532229366679,
          0.6353351705845959,
          1.3939366249738248,
          -0.22346756860341713,
          1.1700863549033256,
          -0.6893141589265049,
          -0.7284549415162579,
          1.0979628734277693,
          -0.9852892186534995,
          0.04408684809316521,
          -0.3768717795879098,
          -0.09487210728594804,
          0.40576310664905313,
          0.4280661826615465,
          -0.8014571020621714,
          -1.192492353104392,
          0.9009984970801053,
          -0.6804664819337662,
          -0.05322152993200261,
          -0.5406055085130784,
          -1.1648516692905604,
          -0.4866434874688328,
          -0.2527643374481889,
          -0.49051314591226564,
          0.4483948614666029,
          -0.1286617016280999,
          0.7375815043599231,
          -1.2179161391289677,
          1.329503329537658,
          0.6406407101277446,
          -0.3885952375410158,
          -1.3344868258260545,
          0.021479658397961912,
          0.14220431097964045,
          0.6956144127780031,
          -1.2274294853474346,
          0.8445551976348453,
          -0.27707728983608126,
          -1.044478370898736,
          -1.0342492050125447,
          1.8384683805763349,
          -0.47129373877017977,
          0.2826769281895832,
          0.29606799065000583
         ]
        },
        {
         "connectgaps": false,
         "fill": "tozeroy",
         "line": {
          "color": "green",
          "dash": "solid",
          "shape": "linear",
          "width": 0.5
         },
         "mode": "lines",
         "name": "Spread",
         "showlegend": false,
         "type": "scatter",
         "x": [
          0,
          1,
          2,
          3,
          4,
          5,
          6,
          7,
          8,
          9,
          10,
          11,
          12,
          13,
          14,
          15,
          16,
          17,
          18,
          19,
          20,
          21,
          22,
          23,
          24,
          25,
          26,
          27,
          28,
          29,
          30,
          31,
          32,
          33,
          34,
          35,
          36,
          37,
          38,
          39,
          40,
          41,
          42,
          43,
          44,
          45,
          46,
          47,
          48,
          49,
          50,
          51,
          52,
          53,
          54,
          55,
          56,
          57,
          58,
          59,
          60,
          61,
          62,
          63,
          64,
          65,
          66,
          67,
          68,
          69,
          70,
          71,
          72,
          73,
          74,
          75,
          76,
          77,
          78,
          79,
          80,
          81,
          82,
          83,
          84,
          85,
          86,
          87,
          88,
          89,
          90,
          91,
          92,
          93,
          94,
          95,
          96,
          97,
          98,
          99
         ],
         "xaxis": "x2",
         "y": [
          2.4295597259052375,
          "",
          "",
          "",
          0.3816972234417225,
          0.07397538619740904,
          "",
          0.5362468207244888,
          3.6362550726091807,
          3.9500280525263616,
          "",
          0.8011457058043887,
          1.8310969403098851,
          "",
          0.22810270555520867,
          "",
          "",
          0.5946449738982367,
          "",
          2.0278085565519683,
          0.11713564848277902,
          "",
          "",
          2.2134711271563914,
          2.185250833103822,
          1.2619363554105587,
          0.6819309874066185,
          "",
          2.3312550581254747,
          0.06982435595318517,
          "",
          "",
          0.7720384086717234,
          "",
          "",
          "",
          "",
          0.40427691353187356,
          1.6427904080094708,
          0.058820125881564655,
          2.260326785308783,
          1.8536479404335249,
          "",
          "",
          "",
          "",
          0.7151085058615771,
          "",
          1.1401730575888098,
          "",
          "",
          "",
          "",
          "",
          "",
          "",
          "",
          "",
          "",
          1.2903597147352381,
          "",
          0.04443613384645795,
          1.0154786190067864,
          "",
          2.9443632031193965,
          "",
          4.230741866469316,
          0.9654711846745182,
          0.1183190357531485,
          "",
          1.2273609579311602,
          "",
          "",
          0.5167209152107528,
          2.2665808803150393,
          0.05279973601677962,
          0.6991661625362267,
          1.439055388011536,
          2.019717924917033,
          1.4225844778720762,
          0.5942744684696784,
          "",
          "",
          "",
          "",
          "",
          0.4125779555320901,
          0.5705660412375262,
          "",
          "",
          "",
          2.32073101605282,
          "",
          0.8509544132125243,
          2.5928231991500637,
          0.7347931694237443,
          "",
          "",
          "",
          ""
         ],
         "yaxis": "y2"
        },
        {
         "connectgaps": false,
         "fill": "tozeroy",
         "line": {
          "color": "red",
          "dash": "solid",
          "shape": "linear",
          "width": 0.5
         },
         "mode": "lines",
         "name": "Spread",
         "showlegend": false,
         "type": "scatter",
         "x": [
          0,
          1,
          2,
          3,
          4,
          5,
          6,
          7,
          8,
          9,
          10,
          11,
          12,
          13,
          14,
          15,
          16,
          17,
          18,
          19,
          20,
          21,
          22,
          23,
          24,
          25,
          26,
          27,
          28,
          29,
          30,
          31,
          32,
          33,
          34,
          35,
          36,
          37,
          38,
          39,
          40,
          41,
          42,
          43,
          44,
          45,
          46,
          47,
          48,
          49,
          50,
          51,
          52,
          53,
          54,
          55,
          56,
          57,
          58,
          59,
          60,
          61,
          62,
          63,
          64,
          65,
          66,
          67,
          68,
          69,
          70,
          71,
          72,
          73,
          74,
          75,
          76,
          77,
          78,
          79,
          80,
          81,
          82,
          83,
          84,
          85,
          86,
          87,
          88,
          89,
          90,
          91,
          92,
          93,
          94,
          95,
          96,
          97,
          98,
          99
         ],
         "xaxis": "x2",
         "y": [
          "",
          -1.3569470053630812,
          -1.369771156410451,
          -0.8224718423742892,
          "",
          "",
          -1.1870327576967343,
          "",
          "",
          "",
          -0.335340739203797,
          "",
          "",
          -0.9052033956942265,
          "",
          -0.23800597737917562,
          -0.11140668504719368,
          "",
          -0.11356978117114835,
          "",
          "",
          -1.0046776059420033,
          -0.15833145127235093,
          "",
          "",
          "",
          "",
          -1.2319446855953786,
          "",
          "",
          -0.11299195230874287,
          -1.1812007669378781,
          "",
          -0.19366960369503666,
          -0.8791488333304843,
          -2.6439277912774832,
          -0.8499118185041092,
          "",
          "",
          "",
          "",
          "",
          -1.0605837218729284,
          -0.6196084380330822,
          -1.7445295284081366,
          -0.9844826186778927,
          "",
          -1.7024443384915837,
          "",
          -2.10150768951275,
          -0.1033792154871788,
          -1.810564798716951,
          -3.3922393837932,
          -0.3487051417538664,
          -1.2455893988565339,
          -0.01058303152449512,
          -1.601769584318059,
          -1.4636885064056662,
          -1.1256068747296177,
          "",
          -1.8254708108930309,
          "",
          "",
          -1.5173503496965406,
          "",
          -1.171061095180833,
          "",
          "",
          "",
          -0.09525704656059764,
          "",
          -0.07752749771118816,
          -1.4273300216307296,
          "",
          "",
          "",
          "",
          "",
          "",
          "",
          "",
          -1.5832816123799471,
          -1.0099650418413613,
          -0.2418174925026535,
          -0.6107636237261512,
          -0.07003411313570418,
          "",
          "",
          -0.9332219551446932,
          -0.6860784364614139,
          -1.444543409311151,
          "",
          -1.1749172589130294,
          "",
          "",
          "",
          -1.3613636253463561,
          -1.2777495058642776,
          -0.8983215146224421,
          -0.3656999636989252
         ],
         "yaxis": "y2"
        }
       ],
       "layout": {
        "hovermode": "x",
        "legend": {
         "bgcolor": "#F5F6F9",
         "font": {
          "color": "#4D5663"
         }
        },
        "paper_bgcolor": "#F5F6F9",
        "plot_bgcolor": "#F5F6F9",
        "template": {
         "data": {
          "bar": [
           {
            "error_x": {
             "color": "#2a3f5f"
            },
            "error_y": {
             "color": "#2a3f5f"
            },
            "marker": {
             "line": {
              "color": "#E5ECF6",
              "width": 0.5
             }
            },
            "type": "bar"
           }
          ],
          "barpolar": [
           {
            "marker": {
             "line": {
              "color": "#E5ECF6",
              "width": 0.5
             }
            },
            "type": "barpolar"
           }
          ],
          "carpet": [
           {
            "aaxis": {
             "endlinecolor": "#2a3f5f",
             "gridcolor": "white",
             "linecolor": "white",
             "minorgridcolor": "white",
             "startlinecolor": "#2a3f5f"
            },
            "baxis": {
             "endlinecolor": "#2a3f5f",
             "gridcolor": "white",
             "linecolor": "white",
             "minorgridcolor": "white",
             "startlinecolor": "#2a3f5f"
            },
            "type": "carpet"
           }
          ],
          "choropleth": [
           {
            "colorbar": {
             "outlinewidth": 0,
             "ticks": ""
            },
            "type": "choropleth"
           }
          ],
          "contour": [
           {
            "colorbar": {
             "outlinewidth": 0,
             "ticks": ""
            },
            "colorscale": [
             [
              0,
              "#0d0887"
             ],
             [
              0.1111111111111111,
              "#46039f"
             ],
             [
              0.2222222222222222,
              "#7201a8"
             ],
             [
              0.3333333333333333,
              "#9c179e"
             ],
             [
              0.4444444444444444,
              "#bd3786"
             ],
             [
              0.5555555555555556,
              "#d8576b"
             ],
             [
              0.6666666666666666,
              "#ed7953"
             ],
             [
              0.7777777777777778,
              "#fb9f3a"
             ],
             [
              0.8888888888888888,
              "#fdca26"
             ],
             [
              1,
              "#f0f921"
             ]
            ],
            "type": "contour"
           }
          ],
          "contourcarpet": [
           {
            "colorbar": {
             "outlinewidth": 0,
             "ticks": ""
            },
            "type": "contourcarpet"
           }
          ],
          "heatmap": [
           {
            "colorbar": {
             "outlinewidth": 0,
             "ticks": ""
            },
            "colorscale": [
             [
              0,
              "#0d0887"
             ],
             [
              0.1111111111111111,
              "#46039f"
             ],
             [
              0.2222222222222222,
              "#7201a8"
             ],
             [
              0.3333333333333333,
              "#9c179e"
             ],
             [
              0.4444444444444444,
              "#bd3786"
             ],
             [
              0.5555555555555556,
              "#d8576b"
             ],
             [
              0.6666666666666666,
              "#ed7953"
             ],
             [
              0.7777777777777778,
              "#fb9f3a"
             ],
             [
              0.8888888888888888,
              "#fdca26"
             ],
             [
              1,
              "#f0f921"
             ]
            ],
            "type": "heatmap"
           }
          ],
          "heatmapgl": [
           {
            "colorbar": {
             "outlinewidth": 0,
             "ticks": ""
            },
            "colorscale": [
             [
              0,
              "#0d0887"
             ],
             [
              0.1111111111111111,
              "#46039f"
             ],
             [
              0.2222222222222222,
              "#7201a8"
             ],
             [
              0.3333333333333333,
              "#9c179e"
             ],
             [
              0.4444444444444444,
              "#bd3786"
             ],
             [
              0.5555555555555556,
              "#d8576b"
             ],
             [
              0.6666666666666666,
              "#ed7953"
             ],
             [
              0.7777777777777778,
              "#fb9f3a"
             ],
             [
              0.8888888888888888,
              "#fdca26"
             ],
             [
              1,
              "#f0f921"
             ]
            ],
            "type": "heatmapgl"
           }
          ],
          "histogram": [
           {
            "marker": {
             "colorbar": {
              "outlinewidth": 0,
              "ticks": ""
             }
            },
            "type": "histogram"
           }
          ],
          "histogram2d": [
           {
            "colorbar": {
             "outlinewidth": 0,
             "ticks": ""
            },
            "colorscale": [
             [
              0,
              "#0d0887"
             ],
             [
              0.1111111111111111,
              "#46039f"
             ],
             [
              0.2222222222222222,
              "#7201a8"
             ],
             [
              0.3333333333333333,
              "#9c179e"
             ],
             [
              0.4444444444444444,
              "#bd3786"
             ],
             [
              0.5555555555555556,
              "#d8576b"
             ],
             [
              0.6666666666666666,
              "#ed7953"
             ],
             [
              0.7777777777777778,
              "#fb9f3a"
             ],
             [
              0.8888888888888888,
              "#fdca26"
             ],
             [
              1,
              "#f0f921"
             ]
            ],
            "type": "histogram2d"
           }
          ],
          "histogram2dcontour": [
           {
            "colorbar": {
             "outlinewidth": 0,
             "ticks": ""
            },
            "colorscale": [
             [
              0,
              "#0d0887"
             ],
             [
              0.1111111111111111,
              "#46039f"
             ],
             [
              0.2222222222222222,
              "#7201a8"
             ],
             [
              0.3333333333333333,
              "#9c179e"
             ],
             [
              0.4444444444444444,
              "#bd3786"
             ],
             [
              0.5555555555555556,
              "#d8576b"
             ],
             [
              0.6666666666666666,
              "#ed7953"
             ],
             [
              0.7777777777777778,
              "#fb9f3a"
             ],
             [
              0.8888888888888888,
              "#fdca26"
             ],
             [
              1,
              "#f0f921"
             ]
            ],
            "type": "histogram2dcontour"
           }
          ],
          "mesh3d": [
           {
            "colorbar": {
             "outlinewidth": 0,
             "ticks": ""
            },
            "type": "mesh3d"
           }
          ],
          "parcoords": [
           {
            "line": {
             "colorbar": {
              "outlinewidth": 0,
              "ticks": ""
             }
            },
            "type": "parcoords"
           }
          ],
          "pie": [
           {
            "automargin": true,
            "type": "pie"
           }
          ],
          "scatter": [
           {
            "marker": {
             "colorbar": {
              "outlinewidth": 0,
              "ticks": ""
             }
            },
            "type": "scatter"
           }
          ],
          "scatter3d": [
           {
            "line": {
             "colorbar": {
              "outlinewidth": 0,
              "ticks": ""
             }
            },
            "marker": {
             "colorbar": {
              "outlinewidth": 0,
              "ticks": ""
             }
            },
            "type": "scatter3d"
           }
          ],
          "scattercarpet": [
           {
            "marker": {
             "colorbar": {
              "outlinewidth": 0,
              "ticks": ""
             }
            },
            "type": "scattercarpet"
           }
          ],
          "scattergeo": [
           {
            "marker": {
             "colorbar": {
              "outlinewidth": 0,
              "ticks": ""
             }
            },
            "type": "scattergeo"
           }
          ],
          "scattergl": [
           {
            "marker": {
             "colorbar": {
              "outlinewidth": 0,
              "ticks": ""
             }
            },
            "type": "scattergl"
           }
          ],
          "scattermapbox": [
           {
            "marker": {
             "colorbar": {
              "outlinewidth": 0,
              "ticks": ""
             }
            },
            "type": "scattermapbox"
           }
          ],
          "scatterpolar": [
           {
            "marker": {
             "colorbar": {
              "outlinewidth": 0,
              "ticks": ""
             }
            },
            "type": "scatterpolar"
           }
          ],
          "scatterpolargl": [
           {
            "marker": {
             "colorbar": {
              "outlinewidth": 0,
              "ticks": ""
             }
            },
            "type": "scatterpolargl"
           }
          ],
          "scatterternary": [
           {
            "marker": {
             "colorbar": {
              "outlinewidth": 0,
              "ticks": ""
             }
            },
            "type": "scatterternary"
           }
          ],
          "surface": [
           {
            "colorbar": {
             "outlinewidth": 0,
             "ticks": ""
            },
            "colorscale": [
             [
              0,
              "#0d0887"
             ],
             [
              0.1111111111111111,
              "#46039f"
             ],
             [
              0.2222222222222222,
              "#7201a8"
             ],
             [
              0.3333333333333333,
              "#9c179e"
             ],
             [
              0.4444444444444444,
              "#bd3786"
             ],
             [
              0.5555555555555556,
              "#d8576b"
             ],
             [
              0.6666666666666666,
              "#ed7953"
             ],
             [
              0.7777777777777778,
              "#fb9f3a"
             ],
             [
              0.8888888888888888,
              "#fdca26"
             ],
             [
              1,
              "#f0f921"
             ]
            ],
            "type": "surface"
           }
          ],
          "table": [
           {
            "cells": {
             "fill": {
              "color": "#EBF0F8"
             },
             "line": {
              "color": "white"
             }
            },
            "header": {
             "fill": {
              "color": "#C8D4E3"
             },
             "line": {
              "color": "white"
             }
            },
            "type": "table"
           }
          ]
         },
         "layout": {
          "annotationdefaults": {
           "arrowcolor": "#2a3f5f",
           "arrowhead": 0,
           "arrowwidth": 1
          },
          "coloraxis": {
           "colorbar": {
            "outlinewidth": 0,
            "ticks": ""
           }
          },
          "colorscale": {
           "diverging": [
            [
             0,
             "#8e0152"
            ],
            [
             0.1,
             "#c51b7d"
            ],
            [
             0.2,
             "#de77ae"
            ],
            [
             0.3,
             "#f1b6da"
            ],
            [
             0.4,
             "#fde0ef"
            ],
            [
             0.5,
             "#f7f7f7"
            ],
            [
             0.6,
             "#e6f5d0"
            ],
            [
             0.7,
             "#b8e186"
            ],
            [
             0.8,
             "#7fbc41"
            ],
            [
             0.9,
             "#4d9221"
            ],
            [
             1,
             "#276419"
            ]
           ],
           "sequential": [
            [
             0,
             "#0d0887"
            ],
            [
             0.1111111111111111,
             "#46039f"
            ],
            [
             0.2222222222222222,
             "#7201a8"
            ],
            [
             0.3333333333333333,
             "#9c179e"
            ],
            [
             0.4444444444444444,
             "#bd3786"
            ],
            [
             0.5555555555555556,
             "#d8576b"
            ],
            [
             0.6666666666666666,
             "#ed7953"
            ],
            [
             0.7777777777777778,
             "#fb9f3a"
            ],
            [
             0.8888888888888888,
             "#fdca26"
            ],
            [
             1,
             "#f0f921"
            ]
           ],
           "sequentialminus": [
            [
             0,
             "#0d0887"
            ],
            [
             0.1111111111111111,
             "#46039f"
            ],
            [
             0.2222222222222222,
             "#7201a8"
            ],
            [
             0.3333333333333333,
             "#9c179e"
            ],
            [
             0.4444444444444444,
             "#bd3786"
            ],
            [
             0.5555555555555556,
             "#d8576b"
            ],
            [
             0.6666666666666666,
             "#ed7953"
            ],
            [
             0.7777777777777778,
             "#fb9f3a"
            ],
            [
             0.8888888888888888,
             "#fdca26"
            ],
            [
             1,
             "#f0f921"
            ]
           ]
          },
          "colorway": [
           "#636efa",
           "#EF553B",
           "#00cc96",
           "#ab63fa",
           "#FFA15A",
           "#19d3f3",
           "#FF6692",
           "#B6E880",
           "#FF97FF",
           "#FECB52"
          ],
          "font": {
           "color": "#2a3f5f"
          },
          "geo": {
           "bgcolor": "white",
           "lakecolor": "white",
           "landcolor": "#E5ECF6",
           "showlakes": true,
           "showland": true,
           "subunitcolor": "white"
          },
          "hoverlabel": {
           "align": "left"
          },
          "hovermode": "closest",
          "mapbox": {
           "style": "light"
          },
          "paper_bgcolor": "white",
          "plot_bgcolor": "#E5ECF6",
          "polar": {
           "angularaxis": {
            "gridcolor": "white",
            "linecolor": "white",
            "ticks": ""
           },
           "bgcolor": "#E5ECF6",
           "radialaxis": {
            "gridcolor": "white",
            "linecolor": "white",
            "ticks": ""
           }
          },
          "scene": {
           "xaxis": {
            "backgroundcolor": "#E5ECF6",
            "gridcolor": "white",
            "gridwidth": 2,
            "linecolor": "white",
            "showbackground": true,
            "ticks": "",
            "zerolinecolor": "white"
           },
           "yaxis": {
            "backgroundcolor": "#E5ECF6",
            "gridcolor": "white",
            "gridwidth": 2,
            "linecolor": "white",
            "showbackground": true,
            "ticks": "",
            "zerolinecolor": "white"
           },
           "zaxis": {
            "backgroundcolor": "#E5ECF6",
            "gridcolor": "white",
            "gridwidth": 2,
            "linecolor": "white",
            "showbackground": true,
            "ticks": "",
            "zerolinecolor": "white"
           }
          },
          "shapedefaults": {
           "line": {
            "color": "#2a3f5f"
           }
          },
          "ternary": {
           "aaxis": {
            "gridcolor": "white",
            "linecolor": "white",
            "ticks": ""
           },
           "baxis": {
            "gridcolor": "white",
            "linecolor": "white",
            "ticks": ""
           },
           "bgcolor": "#E5ECF6",
           "caxis": {
            "gridcolor": "white",
            "linecolor": "white",
            "ticks": ""
           }
          },
          "title": {
           "x": 0.05
          },
          "xaxis": {
           "automargin": true,
           "gridcolor": "white",
           "linecolor": "white",
           "ticks": "",
           "title": {
            "standoff": 15
           },
           "zerolinecolor": "white",
           "zerolinewidth": 2
          },
          "yaxis": {
           "automargin": true,
           "gridcolor": "white",
           "linecolor": "white",
           "ticks": "",
           "title": {
            "standoff": 15
           },
           "zerolinecolor": "white",
           "zerolinewidth": 2
          }
         }
        },
        "title": {
         "font": {
          "color": "#4D5663"
         }
        },
        "xaxis": {
         "gridcolor": "#E1E5ED",
         "showgrid": true,
         "tickfont": {
          "color": "#4D5663"
         },
         "title": {
          "font": {
           "color": "#4D5663"
          },
          "text": ""
         },
         "zerolinecolor": "#E1E5ED"
        },
        "xaxis2": {
         "anchor": "y2",
         "gridcolor": "#E1E5ED",
         "showgrid": true,
         "showticklabels": false,
         "tickfont": {
          "color": "#4D5663"
         },
         "title": {
          "font": {
           "color": "#4D5663"
          },
          "text": ""
         },
         "zerolinecolor": "#E1E5ED"
        },
        "yaxis": {
         "domain": [
          0.3,
          1
         ],
         "gridcolor": "#E1E5ED",
         "showgrid": true,
         "tickfont": {
          "color": "#4D5663"
         },
         "title": {
          "font": {
           "color": "#4D5663"
          },
          "text": ""
         },
         "zerolinecolor": "#E1E5ED"
        },
        "yaxis2": {
         "domain": [
          0,
          0.25
         ],
         "gridcolor": "#E1E5ED",
         "showgrid": true,
         "tickfont": {
          "color": "#4D5663"
         },
         "title": {
          "font": {
           "color": "#4D5663"
          },
          "text": "Spread"
         },
         "zerolinecolor": "#E1E5ED"
        }
       }
      },
      "text/html": [
       "<div>\n",
       "        \n",
       "        \n",
       "            <div id=\"0b7cbae8-732a-4e10-b6c7-a338ab3a65c1\" class=\"plotly-graph-div\" style=\"height:525px; width:100%;\"></div>\n",
       "            <script type=\"text/javascript\">\n",
       "                require([\"plotly\"], function(Plotly) {\n",
       "                    window.PLOTLYENV=window.PLOTLYENV || {};\n",
       "                    window.PLOTLYENV.BASE_URL='https://plot.ly';\n",
       "                    \n",
       "                if (document.getElementById(\"0b7cbae8-732a-4e10-b6c7-a338ab3a65c1\")) {\n",
       "                    Plotly.newPlot(\n",
       "                        '0b7cbae8-732a-4e10-b6c7-a338ab3a65c1',\n",
       "                        [{\"line\": {\"color\": \"rgba(255, 153, 51, 1.0)\", \"dash\": \"solid\", \"shape\": \"linear\", \"width\": 1.3}, \"mode\": \"lines\", \"name\": \"A\", \"text\": \"\", \"type\": \"scatter\", \"x\": [0, 1, 2, 3, 4, 5, 6, 7, 8, 9, 10, 11, 12, 13, 14, 15, 16, 17, 18, 19, 20, 21, 22, 23, 24, 25, 26, 27, 28, 29, 30, 31, 32, 33, 34, 35, 36, 37, 38, 39, 40, 41, 42, 43, 44, 45, 46, 47, 48, 49, 50, 51, 52, 53, 54, 55, 56, 57, 58, 59, 60, 61, 62, 63, 64, 65, 66, 67, 68, 69, 70, 71, 72, 73, 74, 75, 76, 77, 78, 79, 80, 81, 82, 83, 84, 85, 86, 87, 88, 89, 90, 91, 92, 93, 94, 95, 96, 97, 98, 99], \"y\": [1.5142186544122638, 0.27895064943248915, -1.2772201606503015, 0.7176215978752194, 1.0242630534311887, -0.18782350124528943, -0.15971406208206046, -0.09450672113595138, 1.101557217961529, 1.760246324420678, 0.4957627962412397, 1.4410840240165774, 0.890736201554487, -0.1973859512432099, -0.22647367315349648, 0.9600258803516739, -0.22695644558189895, 0.9014455961017745, -1.0352942125712694, 1.3614210778771305, 1.438341742803549, 0.0062457188416346066, -0.34075842820041674, 1.1645719966781778, 3.251475167837798, 0.3585119159665232, 0.35559795617521023, -1.4927235063683504, -0.09654662808693423, -0.057294310675322785, -0.48183583073170233, -0.5382944548854823, 0.9208574046073155, -0.6302021900122878, 0.30933377625955083, -0.46552971679190036, -0.912246971568453, 0.663008040972662, 1.2686499433429357, 0.36508507101402465, 0.13357487450389904, -0.20648604070240084, 0.49234018847418437, -1.0079776998156387, -1.3502695696598568, 0.5959137955318851, -0.3372748183372034, -1.7190172045328507, 0.3701065313721388, -1.109452713943562, 0.11680700607062913, -0.8627209126237989, -0.8575591132443635, -0.044169557298888655, -0.7955907040068338, 0.12234260476958768, -1.0760163613813911, -0.8283533358210704, 0.268329750244207, 1.066892146131821, -0.6553844559897053, -0.644878025080047, 0.28702367749052854, -0.41938747626877115, 1.959073984465897, -1.1269742470876678, 3.8538700868814058, 0.8705990773885701, 0.5240821424022016, 0.33280913610094887, 0.4259038558689888, -1.2700198508155802, -0.5263315245506245, -0.1637455667230135, 2.213359350383037, -0.4878057724962988, -0.46568550675433373, 0.9524119005427031, 1.7669535874688445, 0.9320713319598105, 1.0426693299362813, -1.7119433140080471, -0.2723835374814382, -1.4597336316316212, 0.7187397058115067, 0.5706065969920404, 0.023982717991074275, -0.7639207845885283, -0.9117422967467312, -0.5438741254817734, -0.7489289965331479, 1.0933015307053855, -0.33036206127818424, 0.573877123376443, 1.548344828251328, -0.2994560355888004, 0.47710475522997875, -1.7490432446344575, -0.615644586432859, -0.0696319730489194]}, {\"line\": {\"color\": \"rgba(55, 128, 191, 1.0)\", \"dash\": \"solid\", \"shape\": \"linear\", \"width\": 1.3}, \"mode\": \"lines\", \"name\": \"B\", \"text\": \"\", \"type\": \"scatter\", \"x\": [0, 1, 2, 3, 4, 5, 6, 7, 8, 9, 10, 11, 12, 13, 14, 15, 16, 17, 18, 19, 20, 21, 22, 23, 24, 25, 26, 27, 28, 29, 30, 31, 32, 33, 34, 35, 36, 37, 38, 39, 40, 41, 42, 43, 44, 45, 46, 47, 48, 49, 50, 51, 52, 53, 54, 55, 56, 57, 58, 59, 60, 61, 62, 63, 64, 65, 66, 67, 68, 69, 70, 71, 72, 73, 74, 75, 76, 77, 78, 79, 80, 81, 82, 83, 84, 85, 86, 87, 88, 89, 90, 91, 92, 93, 94, 95, 96, 97, 98, 99], \"y\": [-0.9153410714929735, 1.6358976547955704, 0.09255099576014963, 1.5400934402495086, 0.6425658299894662, -0.26179888744269847, 1.0273186956146738, -0.6307535418604402, -2.5346978546476517, -2.1897817281056837, 0.8311035354450367, 0.6399383182121887, -0.9403607387553982, 0.7078174444510166, -0.45457637870870515, 1.1980318577308495, -0.11554976053470527, 0.30680062220353793, -0.9217244314001211, -0.6663874786748377, 1.32120609432077, 1.0109233247836378, -0.1824269769280658, -1.0488991304782136, 1.0662243347339762, -0.9034244394440355, -0.3263330312314083, -0.2607788207729719, -2.4278016862124088, -0.12711866662850796, -0.36884387842295946, 0.6429063120523958, 0.14881899593559214, -0.43653258631725117, 1.1884826095900352, 2.178398074485583, -0.06233515306434373, 0.2587311274407884, -0.3741404646665351, 0.30626494513246, -2.126751910804884, -2.060133981135926, 1.5529239103471126, -0.38836926178255654, 0.3942599587482798, 1.5803964142097777, -1.0523833241987806, -0.01657286604126695, -0.770066526216671, 0.9920549755691876, 0.22018622155780793, 0.9478438860931523, 2.5346802705488365, 0.30453558445497775, 0.44999869484970006, 0.1329256362940828, 0.5257532229366679, 0.6353351705845959, 1.3939366249738248, -0.22346756860341713, 1.1700863549033256, -0.6893141589265049, -0.7284549415162579, 1.0979628734277693, -0.9852892186534995, 0.04408684809316521, -0.3768717795879098, -0.09487210728594804, 0.40576310664905313, 0.4280661826615465, -0.8014571020621714, -1.192492353104392, 0.9009984970801053, -0.6804664819337662, -0.05322152993200261, -0.5406055085130784, -1.1648516692905604, -0.4866434874688328, -0.2527643374481889, -0.49051314591226564, 0.4483948614666029, -0.1286617016280999, 0.7375815043599231, -1.2179161391289677, 1.329503329537658, 0.6406407101277446, -0.3885952375410158, -1.3344868258260545, 0.021479658397961912, 0.14220431097964045, 0.6956144127780031, -1.2274294853474346, 0.8445551976348453, -0.27707728983608126, -1.044478370898736, -1.0342492050125447, 1.8384683805763349, -0.47129373877017977, 0.2826769281895832, 0.29606799065000583]}, {\"connectgaps\": false, \"fill\": \"tozeroy\", \"line\": {\"color\": \"green\", \"dash\": \"solid\", \"shape\": \"linear\", \"width\": 0.5}, \"mode\": \"lines\", \"name\": \"Spread\", \"showlegend\": false, \"type\": \"scatter\", \"x\": [0, 1, 2, 3, 4, 5, 6, 7, 8, 9, 10, 11, 12, 13, 14, 15, 16, 17, 18, 19, 20, 21, 22, 23, 24, 25, 26, 27, 28, 29, 30, 31, 32, 33, 34, 35, 36, 37, 38, 39, 40, 41, 42, 43, 44, 45, 46, 47, 48, 49, 50, 51, 52, 53, 54, 55, 56, 57, 58, 59, 60, 61, 62, 63, 64, 65, 66, 67, 68, 69, 70, 71, 72, 73, 74, 75, 76, 77, 78, 79, 80, 81, 82, 83, 84, 85, 86, 87, 88, 89, 90, 91, 92, 93, 94, 95, 96, 97, 98, 99], \"xaxis\": \"x2\", \"y\": [2.4295597259052375, \"\", \"\", \"\", 0.3816972234417225, 0.07397538619740904, \"\", 0.5362468207244888, 3.6362550726091807, 3.9500280525263616, \"\", 0.8011457058043887, 1.8310969403098851, \"\", 0.22810270555520867, \"\", \"\", 0.5946449738982367, \"\", 2.0278085565519683, 0.11713564848277902, \"\", \"\", 2.2134711271563914, 2.185250833103822, 1.2619363554105587, 0.6819309874066185, \"\", 2.3312550581254747, 0.06982435595318517, \"\", \"\", 0.7720384086717234, \"\", \"\", \"\", \"\", 0.40427691353187356, 1.6427904080094708, 0.058820125881564655, 2.260326785308783, 1.8536479404335249, \"\", \"\", \"\", \"\", 0.7151085058615771, \"\", 1.1401730575888098, \"\", \"\", \"\", \"\", \"\", \"\", \"\", \"\", \"\", \"\", 1.2903597147352381, \"\", 0.04443613384645795, 1.0154786190067864, \"\", 2.9443632031193965, \"\", 4.230741866469316, 0.9654711846745182, 0.1183190357531485, \"\", 1.2273609579311602, \"\", \"\", 0.5167209152107528, 2.2665808803150393, 0.05279973601677962, 0.6991661625362267, 1.439055388011536, 2.019717924917033, 1.4225844778720762, 0.5942744684696784, \"\", \"\", \"\", \"\", \"\", 0.4125779555320901, 0.5705660412375262, \"\", \"\", \"\", 2.32073101605282, \"\", 0.8509544132125243, 2.5928231991500637, 0.7347931694237443, \"\", \"\", \"\", \"\"], \"yaxis\": \"y2\"}, {\"connectgaps\": false, \"fill\": \"tozeroy\", \"line\": {\"color\": \"red\", \"dash\": \"solid\", \"shape\": \"linear\", \"width\": 0.5}, \"mode\": \"lines\", \"name\": \"Spread\", \"showlegend\": false, \"type\": \"scatter\", \"x\": [0, 1, 2, 3, 4, 5, 6, 7, 8, 9, 10, 11, 12, 13, 14, 15, 16, 17, 18, 19, 20, 21, 22, 23, 24, 25, 26, 27, 28, 29, 30, 31, 32, 33, 34, 35, 36, 37, 38, 39, 40, 41, 42, 43, 44, 45, 46, 47, 48, 49, 50, 51, 52, 53, 54, 55, 56, 57, 58, 59, 60, 61, 62, 63, 64, 65, 66, 67, 68, 69, 70, 71, 72, 73, 74, 75, 76, 77, 78, 79, 80, 81, 82, 83, 84, 85, 86, 87, 88, 89, 90, 91, 92, 93, 94, 95, 96, 97, 98, 99], \"xaxis\": \"x2\", \"y\": [\"\", -1.3569470053630812, -1.369771156410451, -0.8224718423742892, \"\", \"\", -1.1870327576967343, \"\", \"\", \"\", -0.335340739203797, \"\", \"\", -0.9052033956942265, \"\", -0.23800597737917562, -0.11140668504719368, \"\", -0.11356978117114835, \"\", \"\", -1.0046776059420033, -0.15833145127235093, \"\", \"\", \"\", \"\", -1.2319446855953786, \"\", \"\", -0.11299195230874287, -1.1812007669378781, \"\", -0.19366960369503666, -0.8791488333304843, -2.6439277912774832, -0.8499118185041092, \"\", \"\", \"\", \"\", \"\", -1.0605837218729284, -0.6196084380330822, -1.7445295284081366, -0.9844826186778927, \"\", -1.7024443384915837, \"\", -2.10150768951275, -0.1033792154871788, -1.810564798716951, -3.3922393837932, -0.3487051417538664, -1.2455893988565339, -0.01058303152449512, -1.601769584318059, -1.4636885064056662, -1.1256068747296177, \"\", -1.8254708108930309, \"\", \"\", -1.5173503496965406, \"\", -1.171061095180833, \"\", \"\", \"\", -0.09525704656059764, \"\", -0.07752749771118816, -1.4273300216307296, \"\", \"\", \"\", \"\", \"\", \"\", \"\", \"\", -1.5832816123799471, -1.0099650418413613, -0.2418174925026535, -0.6107636237261512, -0.07003411313570418, \"\", \"\", -0.9332219551446932, -0.6860784364614139, -1.444543409311151, \"\", -1.1749172589130294, \"\", \"\", \"\", -1.3613636253463561, -1.2777495058642776, -0.8983215146224421, -0.3656999636989252], \"yaxis\": \"y2\"}],\n",
       "                        {\"hovermode\": \"x\", \"legend\": {\"bgcolor\": \"#F5F6F9\", \"font\": {\"color\": \"#4D5663\"}}, \"paper_bgcolor\": \"#F5F6F9\", \"plot_bgcolor\": \"#F5F6F9\", \"template\": {\"data\": {\"bar\": [{\"error_x\": {\"color\": \"#2a3f5f\"}, \"error_y\": {\"color\": \"#2a3f5f\"}, \"marker\": {\"line\": {\"color\": \"#E5ECF6\", \"width\": 0.5}}, \"type\": \"bar\"}], \"barpolar\": [{\"marker\": {\"line\": {\"color\": \"#E5ECF6\", \"width\": 0.5}}, \"type\": \"barpolar\"}], \"carpet\": [{\"aaxis\": {\"endlinecolor\": \"#2a3f5f\", \"gridcolor\": \"white\", \"linecolor\": \"white\", \"minorgridcolor\": \"white\", \"startlinecolor\": \"#2a3f5f\"}, \"baxis\": {\"endlinecolor\": \"#2a3f5f\", \"gridcolor\": \"white\", \"linecolor\": \"white\", \"minorgridcolor\": \"white\", \"startlinecolor\": \"#2a3f5f\"}, \"type\": \"carpet\"}], \"choropleth\": [{\"colorbar\": {\"outlinewidth\": 0, \"ticks\": \"\"}, \"type\": \"choropleth\"}], \"contour\": [{\"colorbar\": {\"outlinewidth\": 0, \"ticks\": \"\"}, \"colorscale\": [[0.0, \"#0d0887\"], [0.1111111111111111, \"#46039f\"], [0.2222222222222222, \"#7201a8\"], [0.3333333333333333, \"#9c179e\"], [0.4444444444444444, \"#bd3786\"], [0.5555555555555556, \"#d8576b\"], [0.6666666666666666, \"#ed7953\"], [0.7777777777777778, \"#fb9f3a\"], [0.8888888888888888, \"#fdca26\"], [1.0, \"#f0f921\"]], \"type\": \"contour\"}], \"contourcarpet\": [{\"colorbar\": {\"outlinewidth\": 0, \"ticks\": \"\"}, \"type\": \"contourcarpet\"}], \"heatmap\": [{\"colorbar\": {\"outlinewidth\": 0, \"ticks\": \"\"}, \"colorscale\": [[0.0, \"#0d0887\"], [0.1111111111111111, \"#46039f\"], [0.2222222222222222, \"#7201a8\"], [0.3333333333333333, \"#9c179e\"], [0.4444444444444444, \"#bd3786\"], [0.5555555555555556, \"#d8576b\"], [0.6666666666666666, \"#ed7953\"], [0.7777777777777778, \"#fb9f3a\"], [0.8888888888888888, \"#fdca26\"], [1.0, \"#f0f921\"]], \"type\": \"heatmap\"}], \"heatmapgl\": [{\"colorbar\": {\"outlinewidth\": 0, \"ticks\": \"\"}, \"colorscale\": [[0.0, \"#0d0887\"], [0.1111111111111111, \"#46039f\"], [0.2222222222222222, \"#7201a8\"], [0.3333333333333333, \"#9c179e\"], [0.4444444444444444, \"#bd3786\"], [0.5555555555555556, \"#d8576b\"], [0.6666666666666666, \"#ed7953\"], [0.7777777777777778, \"#fb9f3a\"], [0.8888888888888888, \"#fdca26\"], [1.0, \"#f0f921\"]], \"type\": \"heatmapgl\"}], \"histogram\": [{\"marker\": {\"colorbar\": {\"outlinewidth\": 0, \"ticks\": \"\"}}, \"type\": \"histogram\"}], \"histogram2d\": [{\"colorbar\": {\"outlinewidth\": 0, \"ticks\": \"\"}, \"colorscale\": [[0.0, \"#0d0887\"], [0.1111111111111111, \"#46039f\"], [0.2222222222222222, \"#7201a8\"], [0.3333333333333333, \"#9c179e\"], [0.4444444444444444, \"#bd3786\"], [0.5555555555555556, \"#d8576b\"], [0.6666666666666666, \"#ed7953\"], [0.7777777777777778, \"#fb9f3a\"], [0.8888888888888888, \"#fdca26\"], [1.0, \"#f0f921\"]], \"type\": \"histogram2d\"}], \"histogram2dcontour\": [{\"colorbar\": {\"outlinewidth\": 0, \"ticks\": \"\"}, \"colorscale\": [[0.0, \"#0d0887\"], [0.1111111111111111, \"#46039f\"], [0.2222222222222222, \"#7201a8\"], [0.3333333333333333, \"#9c179e\"], [0.4444444444444444, \"#bd3786\"], [0.5555555555555556, \"#d8576b\"], [0.6666666666666666, \"#ed7953\"], [0.7777777777777778, \"#fb9f3a\"], [0.8888888888888888, \"#fdca26\"], [1.0, \"#f0f921\"]], \"type\": \"histogram2dcontour\"}], \"mesh3d\": [{\"colorbar\": {\"outlinewidth\": 0, \"ticks\": \"\"}, \"type\": \"mesh3d\"}], \"parcoords\": [{\"line\": {\"colorbar\": {\"outlinewidth\": 0, \"ticks\": \"\"}}, \"type\": \"parcoords\"}], \"pie\": [{\"automargin\": true, \"type\": \"pie\"}], \"scatter\": [{\"marker\": {\"colorbar\": {\"outlinewidth\": 0, \"ticks\": \"\"}}, \"type\": \"scatter\"}], \"scatter3d\": [{\"line\": {\"colorbar\": {\"outlinewidth\": 0, \"ticks\": \"\"}}, \"marker\": {\"colorbar\": {\"outlinewidth\": 0, \"ticks\": \"\"}}, \"type\": \"scatter3d\"}], \"scattercarpet\": [{\"marker\": {\"colorbar\": {\"outlinewidth\": 0, \"ticks\": \"\"}}, \"type\": \"scattercarpet\"}], \"scattergeo\": [{\"marker\": {\"colorbar\": {\"outlinewidth\": 0, \"ticks\": \"\"}}, \"type\": \"scattergeo\"}], \"scattergl\": [{\"marker\": {\"colorbar\": {\"outlinewidth\": 0, \"ticks\": \"\"}}, \"type\": \"scattergl\"}], \"scattermapbox\": [{\"marker\": {\"colorbar\": {\"outlinewidth\": 0, \"ticks\": \"\"}}, \"type\": \"scattermapbox\"}], \"scatterpolar\": [{\"marker\": {\"colorbar\": {\"outlinewidth\": 0, \"ticks\": \"\"}}, \"type\": \"scatterpolar\"}], \"scatterpolargl\": [{\"marker\": {\"colorbar\": {\"outlinewidth\": 0, \"ticks\": \"\"}}, \"type\": \"scatterpolargl\"}], \"scatterternary\": [{\"marker\": {\"colorbar\": {\"outlinewidth\": 0, \"ticks\": \"\"}}, \"type\": \"scatterternary\"}], \"surface\": [{\"colorbar\": {\"outlinewidth\": 0, \"ticks\": \"\"}, \"colorscale\": [[0.0, \"#0d0887\"], [0.1111111111111111, \"#46039f\"], [0.2222222222222222, \"#7201a8\"], [0.3333333333333333, \"#9c179e\"], [0.4444444444444444, \"#bd3786\"], [0.5555555555555556, \"#d8576b\"], [0.6666666666666666, \"#ed7953\"], [0.7777777777777778, \"#fb9f3a\"], [0.8888888888888888, \"#fdca26\"], [1.0, \"#f0f921\"]], \"type\": \"surface\"}], \"table\": [{\"cells\": {\"fill\": {\"color\": \"#EBF0F8\"}, \"line\": {\"color\": \"white\"}}, \"header\": {\"fill\": {\"color\": \"#C8D4E3\"}, \"line\": {\"color\": \"white\"}}, \"type\": \"table\"}]}, \"layout\": {\"annotationdefaults\": {\"arrowcolor\": \"#2a3f5f\", \"arrowhead\": 0, \"arrowwidth\": 1}, \"coloraxis\": {\"colorbar\": {\"outlinewidth\": 0, \"ticks\": \"\"}}, \"colorscale\": {\"diverging\": [[0, \"#8e0152\"], [0.1, \"#c51b7d\"], [0.2, \"#de77ae\"], [0.3, \"#f1b6da\"], [0.4, \"#fde0ef\"], [0.5, \"#f7f7f7\"], [0.6, \"#e6f5d0\"], [0.7, \"#b8e186\"], [0.8, \"#7fbc41\"], [0.9, \"#4d9221\"], [1, \"#276419\"]], \"sequential\": [[0.0, \"#0d0887\"], [0.1111111111111111, \"#46039f\"], [0.2222222222222222, \"#7201a8\"], [0.3333333333333333, \"#9c179e\"], [0.4444444444444444, \"#bd3786\"], [0.5555555555555556, \"#d8576b\"], [0.6666666666666666, \"#ed7953\"], [0.7777777777777778, \"#fb9f3a\"], [0.8888888888888888, \"#fdca26\"], [1.0, \"#f0f921\"]], \"sequentialminus\": [[0.0, \"#0d0887\"], [0.1111111111111111, \"#46039f\"], [0.2222222222222222, \"#7201a8\"], [0.3333333333333333, \"#9c179e\"], [0.4444444444444444, \"#bd3786\"], [0.5555555555555556, \"#d8576b\"], [0.6666666666666666, \"#ed7953\"], [0.7777777777777778, \"#fb9f3a\"], [0.8888888888888888, \"#fdca26\"], [1.0, \"#f0f921\"]]}, \"colorway\": [\"#636efa\", \"#EF553B\", \"#00cc96\", \"#ab63fa\", \"#FFA15A\", \"#19d3f3\", \"#FF6692\", \"#B6E880\", \"#FF97FF\", \"#FECB52\"], \"font\": {\"color\": \"#2a3f5f\"}, \"geo\": {\"bgcolor\": \"white\", \"lakecolor\": \"white\", \"landcolor\": \"#E5ECF6\", \"showlakes\": true, \"showland\": true, \"subunitcolor\": \"white\"}, \"hoverlabel\": {\"align\": \"left\"}, \"hovermode\": \"closest\", \"mapbox\": {\"style\": \"light\"}, \"paper_bgcolor\": \"white\", \"plot_bgcolor\": \"#E5ECF6\", \"polar\": {\"angularaxis\": {\"gridcolor\": \"white\", \"linecolor\": \"white\", \"ticks\": \"\"}, \"bgcolor\": \"#E5ECF6\", \"radialaxis\": {\"gridcolor\": \"white\", \"linecolor\": \"white\", \"ticks\": \"\"}}, \"scene\": {\"xaxis\": {\"backgroundcolor\": \"#E5ECF6\", \"gridcolor\": \"white\", \"gridwidth\": 2, \"linecolor\": \"white\", \"showbackground\": true, \"ticks\": \"\", \"zerolinecolor\": \"white\"}, \"yaxis\": {\"backgroundcolor\": \"#E5ECF6\", \"gridcolor\": \"white\", \"gridwidth\": 2, \"linecolor\": \"white\", \"showbackground\": true, \"ticks\": \"\", \"zerolinecolor\": \"white\"}, \"zaxis\": {\"backgroundcolor\": \"#E5ECF6\", \"gridcolor\": \"white\", \"gridwidth\": 2, \"linecolor\": \"white\", \"showbackground\": true, \"ticks\": \"\", \"zerolinecolor\": \"white\"}}, \"shapedefaults\": {\"line\": {\"color\": \"#2a3f5f\"}}, \"ternary\": {\"aaxis\": {\"gridcolor\": \"white\", \"linecolor\": \"white\", \"ticks\": \"\"}, \"baxis\": {\"gridcolor\": \"white\", \"linecolor\": \"white\", \"ticks\": \"\"}, \"bgcolor\": \"#E5ECF6\", \"caxis\": {\"gridcolor\": \"white\", \"linecolor\": \"white\", \"ticks\": \"\"}}, \"title\": {\"x\": 0.05}, \"xaxis\": {\"automargin\": true, \"gridcolor\": \"white\", \"linecolor\": \"white\", \"ticks\": \"\", \"title\": {\"standoff\": 15}, \"zerolinecolor\": \"white\", \"zerolinewidth\": 2}, \"yaxis\": {\"automargin\": true, \"gridcolor\": \"white\", \"linecolor\": \"white\", \"ticks\": \"\", \"title\": {\"standoff\": 15}, \"zerolinecolor\": \"white\", \"zerolinewidth\": 2}}}, \"title\": {\"font\": {\"color\": \"#4D5663\"}}, \"xaxis\": {\"gridcolor\": \"#E1E5ED\", \"showgrid\": true, \"tickfont\": {\"color\": \"#4D5663\"}, \"title\": {\"font\": {\"color\": \"#4D5663\"}, \"text\": \"\"}, \"zerolinecolor\": \"#E1E5ED\"}, \"xaxis2\": {\"anchor\": \"y2\", \"gridcolor\": \"#E1E5ED\", \"showgrid\": true, \"showticklabels\": false, \"tickfont\": {\"color\": \"#4D5663\"}, \"title\": {\"font\": {\"color\": \"#4D5663\"}, \"text\": \"\"}, \"zerolinecolor\": \"#E1E5ED\"}, \"yaxis\": {\"domain\": [0.3, 1], \"gridcolor\": \"#E1E5ED\", \"showgrid\": true, \"tickfont\": {\"color\": \"#4D5663\"}, \"title\": {\"font\": {\"color\": \"#4D5663\"}, \"text\": \"\"}, \"zerolinecolor\": \"#E1E5ED\"}, \"yaxis2\": {\"domain\": [0, 0.25], \"gridcolor\": \"#E1E5ED\", \"showgrid\": true, \"tickfont\": {\"color\": \"#4D5663\"}, \"title\": {\"font\": {\"color\": \"#4D5663\"}, \"text\": \"Spread\"}, \"zerolinecolor\": \"#E1E5ED\"}},\n",
       "                        {\"showLink\": true, \"linkText\": \"Export to plot.ly\", \"plotlyServerURL\": \"https://plot.ly\", \"responsive\": true}\n",
       "                    ).then(function(){\n",
       "                            \n",
       "var gd = document.getElementById('0b7cbae8-732a-4e10-b6c7-a338ab3a65c1');\n",
       "var x = new MutationObserver(function (mutations, observer) {{\n",
       "        var display = window.getComputedStyle(gd).display;\n",
       "        if (!display || display === 'none') {{\n",
       "            console.log([gd, 'removed!']);\n",
       "            Plotly.purge(gd);\n",
       "            observer.disconnect();\n",
       "        }}\n",
       "}});\n",
       "\n",
       "// Listen for the removal of the full notebook cells\n",
       "var notebookContainer = gd.closest('#notebook-container');\n",
       "if (notebookContainer) {{\n",
       "    x.observe(notebookContainer, {childList: true});\n",
       "}}\n",
       "\n",
       "// Listen for the clearing of the current output cell\n",
       "var outputEl = gd.closest('.output');\n",
       "if (outputEl) {{\n",
       "    x.observe(outputEl, {childList: true});\n",
       "}}\n",
       "\n",
       "                        })\n",
       "                };\n",
       "                });\n",
       "            </script>\n",
       "        </div>"
      ]
     },
     "metadata": {},
     "output_type": "display_data"
    }
   ],
   "source": [
    "df[['A','B']].iplot(kind='spread')"
   ]
  },
  {
   "cell_type": "markdown",
   "metadata": {},
   "source": [
    "Histograma:"
   ]
  },
  {
   "cell_type": "code",
   "execution_count": 41,
   "metadata": {},
   "outputs": [
    {
     "data": {
      "application/vnd.plotly.v1+json": {
       "config": {
        "linkText": "Export to plot.ly",
        "plotlyServerURL": "https://plot.ly",
        "showLink": true
       },
       "data": [
        {
         "histfunc": "count",
         "histnorm": "",
         "marker": {
          "color": "rgba(255, 153, 51, 1.0)",
          "line": {
           "color": "#4D5663",
           "width": 1.3
          }
         },
         "name": "A",
         "opacity": 0.8,
         "orientation": "v",
         "type": "histogram",
         "x": [
          -0.9010069090809294,
          -1.3904732815851666,
          -0.06965923430897153,
          -0.010825318816730736,
          0.7159608764688623,
          -0.45072455165205844,
          -1.1335358960505824,
          1.4218461141525576,
          -1.4900899577668603,
          -0.9053075573290903,
          -0.6298554039000268,
          0.4717641130025551,
          0.02753522957702202,
          -0.459236953893737,
          -0.29298187438809603,
          0.17294397306369116,
          -0.05979569146243413,
          1.240754838654121,
          1.0990178699389495,
          -0.4702839806908244,
          -0.5292771361945843,
          -0.5746456013878348,
          -1.1737434086746255,
          -0.6937539306022683,
          -0.7242541678352201,
          0.8665275598994252,
          0.30133820078803286,
          -0.3758812552117256,
          1.0511928510980395,
          0.3333880509693095,
          1.4403392914503037,
          0.20230457312342043,
          0.806186001959464,
          -1.3176281421371692,
          1.9746893758794208,
          -1.002866975802082,
          0.08708825046399994,
          0.8302745089961119,
          0.039776779461333,
          -1.9749292213432192,
          -1.31306076479024,
          0.3460658780096773,
          1.4914165753781365,
          -1.112606661926221,
          0.19557472295281597,
          0.5865275130628281,
          2.0088800025859728,
          -0.06187861518596485,
          0.356082392972628,
          -0.42425435355490776,
          -0.8307795849589347,
          0.3844664623726647,
          1.0397433954243775,
          -0.3429476393107434,
          0.6699105915681867,
          -1.2044964364699864,
          -0.8423837365946556,
          -0.5441135593266019,
          1.050398379122782,
          -1.9171230323219712,
          -0.49283337120216864,
          -1.9029061984957991,
          -0.3688051282863069,
          -1.9977737773276878,
          -0.7372630057443038,
          0.854153759325958,
          -1.4175088292255074,
          -0.6046947243025345,
          -0.7688077036446812,
          1.7044271034417997,
          -0.6713017699968687,
          1.4866235146173694,
          -0.01851180314708767,
          -0.7636765794259182,
          -1.9246046847441045,
          0.26385431495688433,
          1.2984871978058654,
          -0.8000357939349898,
          0.11410935818408852,
          -0.376542177500669,
          1.485343807007792,
          -0.2011293439263988,
          -0.31605688485594535,
          0.8987084399091142,
          -0.9721158444600002,
          0.1300716792347652,
          -0.793277462654289,
          -0.12934055603385308,
          -0.7191579373016362,
          -0.2863522454936798,
          0.3983240743192761,
          0.42428431617496787,
          0.9864302835970422,
          -0.2673600460032161,
          -0.8317678085702086,
          -1.286515537374474,
          -0.5557432952382299,
          1.9213529793659545,
          1.0897864538231972,
          -0.42030407561579286
         ]
        }
       ],
       "layout": {
        "barmode": "overlay",
        "legend": {
         "bgcolor": "#F5F6F9",
         "font": {
          "color": "#4D5663"
         }
        },
        "paper_bgcolor": "#F5F6F9",
        "plot_bgcolor": "#F5F6F9",
        "template": {
         "data": {
          "bar": [
           {
            "error_x": {
             "color": "#2a3f5f"
            },
            "error_y": {
             "color": "#2a3f5f"
            },
            "marker": {
             "line": {
              "color": "#E5ECF6",
              "width": 0.5
             }
            },
            "type": "bar"
           }
          ],
          "barpolar": [
           {
            "marker": {
             "line": {
              "color": "#E5ECF6",
              "width": 0.5
             }
            },
            "type": "barpolar"
           }
          ],
          "carpet": [
           {
            "aaxis": {
             "endlinecolor": "#2a3f5f",
             "gridcolor": "white",
             "linecolor": "white",
             "minorgridcolor": "white",
             "startlinecolor": "#2a3f5f"
            },
            "baxis": {
             "endlinecolor": "#2a3f5f",
             "gridcolor": "white",
             "linecolor": "white",
             "minorgridcolor": "white",
             "startlinecolor": "#2a3f5f"
            },
            "type": "carpet"
           }
          ],
          "choropleth": [
           {
            "colorbar": {
             "outlinewidth": 0,
             "ticks": ""
            },
            "type": "choropleth"
           }
          ],
          "contour": [
           {
            "colorbar": {
             "outlinewidth": 0,
             "ticks": ""
            },
            "colorscale": [
             [
              0,
              "#0d0887"
             ],
             [
              0.1111111111111111,
              "#46039f"
             ],
             [
              0.2222222222222222,
              "#7201a8"
             ],
             [
              0.3333333333333333,
              "#9c179e"
             ],
             [
              0.4444444444444444,
              "#bd3786"
             ],
             [
              0.5555555555555556,
              "#d8576b"
             ],
             [
              0.6666666666666666,
              "#ed7953"
             ],
             [
              0.7777777777777778,
              "#fb9f3a"
             ],
             [
              0.8888888888888888,
              "#fdca26"
             ],
             [
              1,
              "#f0f921"
             ]
            ],
            "type": "contour"
           }
          ],
          "contourcarpet": [
           {
            "colorbar": {
             "outlinewidth": 0,
             "ticks": ""
            },
            "type": "contourcarpet"
           }
          ],
          "heatmap": [
           {
            "colorbar": {
             "outlinewidth": 0,
             "ticks": ""
            },
            "colorscale": [
             [
              0,
              "#0d0887"
             ],
             [
              0.1111111111111111,
              "#46039f"
             ],
             [
              0.2222222222222222,
              "#7201a8"
             ],
             [
              0.3333333333333333,
              "#9c179e"
             ],
             [
              0.4444444444444444,
              "#bd3786"
             ],
             [
              0.5555555555555556,
              "#d8576b"
             ],
             [
              0.6666666666666666,
              "#ed7953"
             ],
             [
              0.7777777777777778,
              "#fb9f3a"
             ],
             [
              0.8888888888888888,
              "#fdca26"
             ],
             [
              1,
              "#f0f921"
             ]
            ],
            "type": "heatmap"
           }
          ],
          "heatmapgl": [
           {
            "colorbar": {
             "outlinewidth": 0,
             "ticks": ""
            },
            "colorscale": [
             [
              0,
              "#0d0887"
             ],
             [
              0.1111111111111111,
              "#46039f"
             ],
             [
              0.2222222222222222,
              "#7201a8"
             ],
             [
              0.3333333333333333,
              "#9c179e"
             ],
             [
              0.4444444444444444,
              "#bd3786"
             ],
             [
              0.5555555555555556,
              "#d8576b"
             ],
             [
              0.6666666666666666,
              "#ed7953"
             ],
             [
              0.7777777777777778,
              "#fb9f3a"
             ],
             [
              0.8888888888888888,
              "#fdca26"
             ],
             [
              1,
              "#f0f921"
             ]
            ],
            "type": "heatmapgl"
           }
          ],
          "histogram": [
           {
            "marker": {
             "colorbar": {
              "outlinewidth": 0,
              "ticks": ""
             }
            },
            "type": "histogram"
           }
          ],
          "histogram2d": [
           {
            "colorbar": {
             "outlinewidth": 0,
             "ticks": ""
            },
            "colorscale": [
             [
              0,
              "#0d0887"
             ],
             [
              0.1111111111111111,
              "#46039f"
             ],
             [
              0.2222222222222222,
              "#7201a8"
             ],
             [
              0.3333333333333333,
              "#9c179e"
             ],
             [
              0.4444444444444444,
              "#bd3786"
             ],
             [
              0.5555555555555556,
              "#d8576b"
             ],
             [
              0.6666666666666666,
              "#ed7953"
             ],
             [
              0.7777777777777778,
              "#fb9f3a"
             ],
             [
              0.8888888888888888,
              "#fdca26"
             ],
             [
              1,
              "#f0f921"
             ]
            ],
            "type": "histogram2d"
           }
          ],
          "histogram2dcontour": [
           {
            "colorbar": {
             "outlinewidth": 0,
             "ticks": ""
            },
            "colorscale": [
             [
              0,
              "#0d0887"
             ],
             [
              0.1111111111111111,
              "#46039f"
             ],
             [
              0.2222222222222222,
              "#7201a8"
             ],
             [
              0.3333333333333333,
              "#9c179e"
             ],
             [
              0.4444444444444444,
              "#bd3786"
             ],
             [
              0.5555555555555556,
              "#d8576b"
             ],
             [
              0.6666666666666666,
              "#ed7953"
             ],
             [
              0.7777777777777778,
              "#fb9f3a"
             ],
             [
              0.8888888888888888,
              "#fdca26"
             ],
             [
              1,
              "#f0f921"
             ]
            ],
            "type": "histogram2dcontour"
           }
          ],
          "mesh3d": [
           {
            "colorbar": {
             "outlinewidth": 0,
             "ticks": ""
            },
            "type": "mesh3d"
           }
          ],
          "parcoords": [
           {
            "line": {
             "colorbar": {
              "outlinewidth": 0,
              "ticks": ""
             }
            },
            "type": "parcoords"
           }
          ],
          "pie": [
           {
            "automargin": true,
            "type": "pie"
           }
          ],
          "scatter": [
           {
            "marker": {
             "colorbar": {
              "outlinewidth": 0,
              "ticks": ""
             }
            },
            "type": "scatter"
           }
          ],
          "scatter3d": [
           {
            "line": {
             "colorbar": {
              "outlinewidth": 0,
              "ticks": ""
             }
            },
            "marker": {
             "colorbar": {
              "outlinewidth": 0,
              "ticks": ""
             }
            },
            "type": "scatter3d"
           }
          ],
          "scattercarpet": [
           {
            "marker": {
             "colorbar": {
              "outlinewidth": 0,
              "ticks": ""
             }
            },
            "type": "scattercarpet"
           }
          ],
          "scattergeo": [
           {
            "marker": {
             "colorbar": {
              "outlinewidth": 0,
              "ticks": ""
             }
            },
            "type": "scattergeo"
           }
          ],
          "scattergl": [
           {
            "marker": {
             "colorbar": {
              "outlinewidth": 0,
              "ticks": ""
             }
            },
            "type": "scattergl"
           }
          ],
          "scattermapbox": [
           {
            "marker": {
             "colorbar": {
              "outlinewidth": 0,
              "ticks": ""
             }
            },
            "type": "scattermapbox"
           }
          ],
          "scatterpolar": [
           {
            "marker": {
             "colorbar": {
              "outlinewidth": 0,
              "ticks": ""
             }
            },
            "type": "scatterpolar"
           }
          ],
          "scatterpolargl": [
           {
            "marker": {
             "colorbar": {
              "outlinewidth": 0,
              "ticks": ""
             }
            },
            "type": "scatterpolargl"
           }
          ],
          "scatterternary": [
           {
            "marker": {
             "colorbar": {
              "outlinewidth": 0,
              "ticks": ""
             }
            },
            "type": "scatterternary"
           }
          ],
          "surface": [
           {
            "colorbar": {
             "outlinewidth": 0,
             "ticks": ""
            },
            "colorscale": [
             [
              0,
              "#0d0887"
             ],
             [
              0.1111111111111111,
              "#46039f"
             ],
             [
              0.2222222222222222,
              "#7201a8"
             ],
             [
              0.3333333333333333,
              "#9c179e"
             ],
             [
              0.4444444444444444,
              "#bd3786"
             ],
             [
              0.5555555555555556,
              "#d8576b"
             ],
             [
              0.6666666666666666,
              "#ed7953"
             ],
             [
              0.7777777777777778,
              "#fb9f3a"
             ],
             [
              0.8888888888888888,
              "#fdca26"
             ],
             [
              1,
              "#f0f921"
             ]
            ],
            "type": "surface"
           }
          ],
          "table": [
           {
            "cells": {
             "fill": {
              "color": "#EBF0F8"
             },
             "line": {
              "color": "white"
             }
            },
            "header": {
             "fill": {
              "color": "#C8D4E3"
             },
             "line": {
              "color": "white"
             }
            },
            "type": "table"
           }
          ]
         },
         "layout": {
          "annotationdefaults": {
           "arrowcolor": "#2a3f5f",
           "arrowhead": 0,
           "arrowwidth": 1
          },
          "coloraxis": {
           "colorbar": {
            "outlinewidth": 0,
            "ticks": ""
           }
          },
          "colorscale": {
           "diverging": [
            [
             0,
             "#8e0152"
            ],
            [
             0.1,
             "#c51b7d"
            ],
            [
             0.2,
             "#de77ae"
            ],
            [
             0.3,
             "#f1b6da"
            ],
            [
             0.4,
             "#fde0ef"
            ],
            [
             0.5,
             "#f7f7f7"
            ],
            [
             0.6,
             "#e6f5d0"
            ],
            [
             0.7,
             "#b8e186"
            ],
            [
             0.8,
             "#7fbc41"
            ],
            [
             0.9,
             "#4d9221"
            ],
            [
             1,
             "#276419"
            ]
           ],
           "sequential": [
            [
             0,
             "#0d0887"
            ],
            [
             0.1111111111111111,
             "#46039f"
            ],
            [
             0.2222222222222222,
             "#7201a8"
            ],
            [
             0.3333333333333333,
             "#9c179e"
            ],
            [
             0.4444444444444444,
             "#bd3786"
            ],
            [
             0.5555555555555556,
             "#d8576b"
            ],
            [
             0.6666666666666666,
             "#ed7953"
            ],
            [
             0.7777777777777778,
             "#fb9f3a"
            ],
            [
             0.8888888888888888,
             "#fdca26"
            ],
            [
             1,
             "#f0f921"
            ]
           ],
           "sequentialminus": [
            [
             0,
             "#0d0887"
            ],
            [
             0.1111111111111111,
             "#46039f"
            ],
            [
             0.2222222222222222,
             "#7201a8"
            ],
            [
             0.3333333333333333,
             "#9c179e"
            ],
            [
             0.4444444444444444,
             "#bd3786"
            ],
            [
             0.5555555555555556,
             "#d8576b"
            ],
            [
             0.6666666666666666,
             "#ed7953"
            ],
            [
             0.7777777777777778,
             "#fb9f3a"
            ],
            [
             0.8888888888888888,
             "#fdca26"
            ],
            [
             1,
             "#f0f921"
            ]
           ]
          },
          "colorway": [
           "#636efa",
           "#EF553B",
           "#00cc96",
           "#ab63fa",
           "#FFA15A",
           "#19d3f3",
           "#FF6692",
           "#B6E880",
           "#FF97FF",
           "#FECB52"
          ],
          "font": {
           "color": "#2a3f5f"
          },
          "geo": {
           "bgcolor": "white",
           "lakecolor": "white",
           "landcolor": "#E5ECF6",
           "showlakes": true,
           "showland": true,
           "subunitcolor": "white"
          },
          "hoverlabel": {
           "align": "left"
          },
          "hovermode": "closest",
          "mapbox": {
           "style": "light"
          },
          "paper_bgcolor": "white",
          "plot_bgcolor": "#E5ECF6",
          "polar": {
           "angularaxis": {
            "gridcolor": "white",
            "linecolor": "white",
            "ticks": ""
           },
           "bgcolor": "#E5ECF6",
           "radialaxis": {
            "gridcolor": "white",
            "linecolor": "white",
            "ticks": ""
           }
          },
          "scene": {
           "xaxis": {
            "backgroundcolor": "#E5ECF6",
            "gridcolor": "white",
            "gridwidth": 2,
            "linecolor": "white",
            "showbackground": true,
            "ticks": "",
            "zerolinecolor": "white"
           },
           "yaxis": {
            "backgroundcolor": "#E5ECF6",
            "gridcolor": "white",
            "gridwidth": 2,
            "linecolor": "white",
            "showbackground": true,
            "ticks": "",
            "zerolinecolor": "white"
           },
           "zaxis": {
            "backgroundcolor": "#E5ECF6",
            "gridcolor": "white",
            "gridwidth": 2,
            "linecolor": "white",
            "showbackground": true,
            "ticks": "",
            "zerolinecolor": "white"
           }
          },
          "shapedefaults": {
           "line": {
            "color": "#2a3f5f"
           }
          },
          "ternary": {
           "aaxis": {
            "gridcolor": "white",
            "linecolor": "white",
            "ticks": ""
           },
           "baxis": {
            "gridcolor": "white",
            "linecolor": "white",
            "ticks": ""
           },
           "bgcolor": "#E5ECF6",
           "caxis": {
            "gridcolor": "white",
            "linecolor": "white",
            "ticks": ""
           }
          },
          "title": {
           "x": 0.05
          },
          "xaxis": {
           "automargin": true,
           "gridcolor": "white",
           "linecolor": "white",
           "ticks": "",
           "title": {
            "standoff": 15
           },
           "zerolinecolor": "white",
           "zerolinewidth": 2
          },
          "yaxis": {
           "automargin": true,
           "gridcolor": "white",
           "linecolor": "white",
           "ticks": "",
           "title": {
            "standoff": 15
           },
           "zerolinecolor": "white",
           "zerolinewidth": 2
          }
         }
        },
        "title": {
         "font": {
          "color": "#4D5663"
         }
        },
        "xaxis": {
         "gridcolor": "#E1E5ED",
         "showgrid": true,
         "tickfont": {
          "color": "#4D5663"
         },
         "title": {
          "font": {
           "color": "#4D5663"
          },
          "text": ""
         },
         "zerolinecolor": "#E1E5ED"
        },
        "yaxis": {
         "gridcolor": "#E1E5ED",
         "showgrid": true,
         "tickfont": {
          "color": "#4D5663"
         },
         "title": {
          "font": {
           "color": "#4D5663"
          },
          "text": ""
         },
         "zerolinecolor": "#E1E5ED"
        }
       }
      },
      "text/html": [
       "<div>\n",
       "        \n",
       "        \n",
       "            <div id=\"aaf27ab7-d78d-45ab-baf2-9679aa8a19fb\" class=\"plotly-graph-div\" style=\"height:525px; width:100%;\"></div>\n",
       "            <script type=\"text/javascript\">\n",
       "                require([\"plotly\"], function(Plotly) {\n",
       "                    window.PLOTLYENV=window.PLOTLYENV || {};\n",
       "                    window.PLOTLYENV.BASE_URL='https://plot.ly';\n",
       "                    \n",
       "                if (document.getElementById(\"aaf27ab7-d78d-45ab-baf2-9679aa8a19fb\")) {\n",
       "                    Plotly.newPlot(\n",
       "                        'aaf27ab7-d78d-45ab-baf2-9679aa8a19fb',\n",
       "                        [{\"histfunc\": \"count\", \"histnorm\": \"\", \"marker\": {\"color\": \"rgba(255, 153, 51, 1.0)\", \"line\": {\"color\": \"#4D5663\", \"width\": 1.3}}, \"name\": \"A\", \"opacity\": 0.8, \"orientation\": \"v\", \"type\": \"histogram\", \"x\": [-0.9010069090809294, -1.3904732815851666, -0.06965923430897153, -0.010825318816730736, 0.7159608764688623, -0.45072455165205844, -1.1335358960505824, 1.4218461141525576, -1.4900899577668603, -0.9053075573290903, -0.6298554039000268, 0.4717641130025551, 0.02753522957702202, -0.459236953893737, -0.29298187438809603, 0.17294397306369116, -0.05979569146243413, 1.240754838654121, 1.0990178699389495, -0.4702839806908244, -0.5292771361945843, -0.5746456013878348, -1.1737434086746255, -0.6937539306022683, -0.7242541678352201, 0.8665275598994252, 0.30133820078803286, -0.3758812552117256, 1.0511928510980395, 0.3333880509693095, 1.4403392914503037, 0.20230457312342043, 0.806186001959464, -1.3176281421371692, 1.9746893758794208, -1.002866975802082, 0.08708825046399994, 0.8302745089961119, 0.039776779461333, -1.9749292213432192, -1.31306076479024, 0.3460658780096773, 1.4914165753781365, -1.112606661926221, 0.19557472295281597, 0.5865275130628281, 2.0088800025859728, -0.06187861518596485, 0.356082392972628, -0.42425435355490776, -0.8307795849589347, 0.3844664623726647, 1.0397433954243775, -0.3429476393107434, 0.6699105915681867, -1.2044964364699864, -0.8423837365946556, -0.5441135593266019, 1.050398379122782, -1.9171230323219712, -0.49283337120216864, -1.9029061984957991, -0.3688051282863069, -1.9977737773276878, -0.7372630057443038, 0.854153759325958, -1.4175088292255074, -0.6046947243025345, -0.7688077036446812, 1.7044271034417997, -0.6713017699968687, 1.4866235146173694, -0.01851180314708767, -0.7636765794259182, -1.9246046847441045, 0.26385431495688433, 1.2984871978058654, -0.8000357939349898, 0.11410935818408852, -0.376542177500669, 1.485343807007792, -0.2011293439263988, -0.31605688485594535, 0.8987084399091142, -0.9721158444600002, 0.1300716792347652, -0.793277462654289, -0.12934055603385308, -0.7191579373016362, -0.2863522454936798, 0.3983240743192761, 0.42428431617496787, 0.9864302835970422, -0.2673600460032161, -0.8317678085702086, -1.286515537374474, -0.5557432952382299, 1.9213529793659545, 1.0897864538231972, -0.42030407561579286]}],\n",
       "                        {\"barmode\": \"overlay\", \"legend\": {\"bgcolor\": \"#F5F6F9\", \"font\": {\"color\": \"#4D5663\"}}, \"paper_bgcolor\": \"#F5F6F9\", \"plot_bgcolor\": \"#F5F6F9\", \"template\": {\"data\": {\"bar\": [{\"error_x\": {\"color\": \"#2a3f5f\"}, \"error_y\": {\"color\": \"#2a3f5f\"}, \"marker\": {\"line\": {\"color\": \"#E5ECF6\", \"width\": 0.5}}, \"type\": \"bar\"}], \"barpolar\": [{\"marker\": {\"line\": {\"color\": \"#E5ECF6\", \"width\": 0.5}}, \"type\": \"barpolar\"}], \"carpet\": [{\"aaxis\": {\"endlinecolor\": \"#2a3f5f\", \"gridcolor\": \"white\", \"linecolor\": \"white\", \"minorgridcolor\": \"white\", \"startlinecolor\": \"#2a3f5f\"}, \"baxis\": {\"endlinecolor\": \"#2a3f5f\", \"gridcolor\": \"white\", \"linecolor\": \"white\", \"minorgridcolor\": \"white\", \"startlinecolor\": \"#2a3f5f\"}, \"type\": \"carpet\"}], \"choropleth\": [{\"colorbar\": {\"outlinewidth\": 0, \"ticks\": \"\"}, \"type\": \"choropleth\"}], \"contour\": [{\"colorbar\": {\"outlinewidth\": 0, \"ticks\": \"\"}, \"colorscale\": [[0.0, \"#0d0887\"], [0.1111111111111111, \"#46039f\"], [0.2222222222222222, \"#7201a8\"], [0.3333333333333333, \"#9c179e\"], [0.4444444444444444, \"#bd3786\"], [0.5555555555555556, \"#d8576b\"], [0.6666666666666666, \"#ed7953\"], [0.7777777777777778, \"#fb9f3a\"], [0.8888888888888888, \"#fdca26\"], [1.0, \"#f0f921\"]], \"type\": \"contour\"}], \"contourcarpet\": [{\"colorbar\": {\"outlinewidth\": 0, \"ticks\": \"\"}, \"type\": \"contourcarpet\"}], \"heatmap\": [{\"colorbar\": {\"outlinewidth\": 0, \"ticks\": \"\"}, \"colorscale\": [[0.0, \"#0d0887\"], [0.1111111111111111, \"#46039f\"], [0.2222222222222222, \"#7201a8\"], [0.3333333333333333, \"#9c179e\"], [0.4444444444444444, \"#bd3786\"], [0.5555555555555556, \"#d8576b\"], [0.6666666666666666, \"#ed7953\"], [0.7777777777777778, \"#fb9f3a\"], [0.8888888888888888, \"#fdca26\"], [1.0, \"#f0f921\"]], \"type\": \"heatmap\"}], \"heatmapgl\": [{\"colorbar\": {\"outlinewidth\": 0, \"ticks\": \"\"}, \"colorscale\": [[0.0, \"#0d0887\"], [0.1111111111111111, \"#46039f\"], [0.2222222222222222, \"#7201a8\"], [0.3333333333333333, \"#9c179e\"], [0.4444444444444444, \"#bd3786\"], [0.5555555555555556, \"#d8576b\"], [0.6666666666666666, \"#ed7953\"], [0.7777777777777778, \"#fb9f3a\"], [0.8888888888888888, \"#fdca26\"], [1.0, \"#f0f921\"]], \"type\": \"heatmapgl\"}], \"histogram\": [{\"marker\": {\"colorbar\": {\"outlinewidth\": 0, \"ticks\": \"\"}}, \"type\": \"histogram\"}], \"histogram2d\": [{\"colorbar\": {\"outlinewidth\": 0, \"ticks\": \"\"}, \"colorscale\": [[0.0, \"#0d0887\"], [0.1111111111111111, \"#46039f\"], [0.2222222222222222, \"#7201a8\"], [0.3333333333333333, \"#9c179e\"], [0.4444444444444444, \"#bd3786\"], [0.5555555555555556, \"#d8576b\"], [0.6666666666666666, \"#ed7953\"], [0.7777777777777778, \"#fb9f3a\"], [0.8888888888888888, \"#fdca26\"], [1.0, \"#f0f921\"]], \"type\": \"histogram2d\"}], \"histogram2dcontour\": [{\"colorbar\": {\"outlinewidth\": 0, \"ticks\": \"\"}, \"colorscale\": [[0.0, \"#0d0887\"], [0.1111111111111111, \"#46039f\"], [0.2222222222222222, \"#7201a8\"], [0.3333333333333333, \"#9c179e\"], [0.4444444444444444, \"#bd3786\"], [0.5555555555555556, \"#d8576b\"], [0.6666666666666666, \"#ed7953\"], [0.7777777777777778, \"#fb9f3a\"], [0.8888888888888888, \"#fdca26\"], [1.0, \"#f0f921\"]], \"type\": \"histogram2dcontour\"}], \"mesh3d\": [{\"colorbar\": {\"outlinewidth\": 0, \"ticks\": \"\"}, \"type\": \"mesh3d\"}], \"parcoords\": [{\"line\": {\"colorbar\": {\"outlinewidth\": 0, \"ticks\": \"\"}}, \"type\": \"parcoords\"}], \"pie\": [{\"automargin\": true, \"type\": \"pie\"}], \"scatter\": [{\"marker\": {\"colorbar\": {\"outlinewidth\": 0, \"ticks\": \"\"}}, \"type\": \"scatter\"}], \"scatter3d\": [{\"line\": {\"colorbar\": {\"outlinewidth\": 0, \"ticks\": \"\"}}, \"marker\": {\"colorbar\": {\"outlinewidth\": 0, \"ticks\": \"\"}}, \"type\": \"scatter3d\"}], \"scattercarpet\": [{\"marker\": {\"colorbar\": {\"outlinewidth\": 0, \"ticks\": \"\"}}, \"type\": \"scattercarpet\"}], \"scattergeo\": [{\"marker\": {\"colorbar\": {\"outlinewidth\": 0, \"ticks\": \"\"}}, \"type\": \"scattergeo\"}], \"scattergl\": [{\"marker\": {\"colorbar\": {\"outlinewidth\": 0, \"ticks\": \"\"}}, \"type\": \"scattergl\"}], \"scattermapbox\": [{\"marker\": {\"colorbar\": {\"outlinewidth\": 0, \"ticks\": \"\"}}, \"type\": \"scattermapbox\"}], \"scatterpolar\": [{\"marker\": {\"colorbar\": {\"outlinewidth\": 0, \"ticks\": \"\"}}, \"type\": \"scatterpolar\"}], \"scatterpolargl\": [{\"marker\": {\"colorbar\": {\"outlinewidth\": 0, \"ticks\": \"\"}}, \"type\": \"scatterpolargl\"}], \"scatterternary\": [{\"marker\": {\"colorbar\": {\"outlinewidth\": 0, \"ticks\": \"\"}}, \"type\": \"scatterternary\"}], \"surface\": [{\"colorbar\": {\"outlinewidth\": 0, \"ticks\": \"\"}, \"colorscale\": [[0.0, \"#0d0887\"], [0.1111111111111111, \"#46039f\"], [0.2222222222222222, \"#7201a8\"], [0.3333333333333333, \"#9c179e\"], [0.4444444444444444, \"#bd3786\"], [0.5555555555555556, \"#d8576b\"], [0.6666666666666666, \"#ed7953\"], [0.7777777777777778, \"#fb9f3a\"], [0.8888888888888888, \"#fdca26\"], [1.0, \"#f0f921\"]], \"type\": \"surface\"}], \"table\": [{\"cells\": {\"fill\": {\"color\": \"#EBF0F8\"}, \"line\": {\"color\": \"white\"}}, \"header\": {\"fill\": {\"color\": \"#C8D4E3\"}, \"line\": {\"color\": \"white\"}}, \"type\": \"table\"}]}, \"layout\": {\"annotationdefaults\": {\"arrowcolor\": \"#2a3f5f\", \"arrowhead\": 0, \"arrowwidth\": 1}, \"coloraxis\": {\"colorbar\": {\"outlinewidth\": 0, \"ticks\": \"\"}}, \"colorscale\": {\"diverging\": [[0, \"#8e0152\"], [0.1, \"#c51b7d\"], [0.2, \"#de77ae\"], [0.3, \"#f1b6da\"], [0.4, \"#fde0ef\"], [0.5, \"#f7f7f7\"], [0.6, \"#e6f5d0\"], [0.7, \"#b8e186\"], [0.8, \"#7fbc41\"], [0.9, \"#4d9221\"], [1, \"#276419\"]], \"sequential\": [[0.0, \"#0d0887\"], [0.1111111111111111, \"#46039f\"], [0.2222222222222222, \"#7201a8\"], [0.3333333333333333, \"#9c179e\"], [0.4444444444444444, \"#bd3786\"], [0.5555555555555556, \"#d8576b\"], [0.6666666666666666, \"#ed7953\"], [0.7777777777777778, \"#fb9f3a\"], [0.8888888888888888, \"#fdca26\"], [1.0, \"#f0f921\"]], \"sequentialminus\": [[0.0, \"#0d0887\"], [0.1111111111111111, \"#46039f\"], [0.2222222222222222, \"#7201a8\"], [0.3333333333333333, \"#9c179e\"], [0.4444444444444444, \"#bd3786\"], [0.5555555555555556, \"#d8576b\"], [0.6666666666666666, \"#ed7953\"], [0.7777777777777778, \"#fb9f3a\"], [0.8888888888888888, \"#fdca26\"], [1.0, \"#f0f921\"]]}, \"colorway\": [\"#636efa\", \"#EF553B\", \"#00cc96\", \"#ab63fa\", \"#FFA15A\", \"#19d3f3\", \"#FF6692\", \"#B6E880\", \"#FF97FF\", \"#FECB52\"], \"font\": {\"color\": \"#2a3f5f\"}, \"geo\": {\"bgcolor\": \"white\", \"lakecolor\": \"white\", \"landcolor\": \"#E5ECF6\", \"showlakes\": true, \"showland\": true, \"subunitcolor\": \"white\"}, \"hoverlabel\": {\"align\": \"left\"}, \"hovermode\": \"closest\", \"mapbox\": {\"style\": \"light\"}, \"paper_bgcolor\": \"white\", \"plot_bgcolor\": \"#E5ECF6\", \"polar\": {\"angularaxis\": {\"gridcolor\": \"white\", \"linecolor\": \"white\", \"ticks\": \"\"}, \"bgcolor\": \"#E5ECF6\", \"radialaxis\": {\"gridcolor\": \"white\", \"linecolor\": \"white\", \"ticks\": \"\"}}, \"scene\": {\"xaxis\": {\"backgroundcolor\": \"#E5ECF6\", \"gridcolor\": \"white\", \"gridwidth\": 2, \"linecolor\": \"white\", \"showbackground\": true, \"ticks\": \"\", \"zerolinecolor\": \"white\"}, \"yaxis\": {\"backgroundcolor\": \"#E5ECF6\", \"gridcolor\": \"white\", \"gridwidth\": 2, \"linecolor\": \"white\", \"showbackground\": true, \"ticks\": \"\", \"zerolinecolor\": \"white\"}, \"zaxis\": {\"backgroundcolor\": \"#E5ECF6\", \"gridcolor\": \"white\", \"gridwidth\": 2, \"linecolor\": \"white\", \"showbackground\": true, \"ticks\": \"\", \"zerolinecolor\": \"white\"}}, \"shapedefaults\": {\"line\": {\"color\": \"#2a3f5f\"}}, \"ternary\": {\"aaxis\": {\"gridcolor\": \"white\", \"linecolor\": \"white\", \"ticks\": \"\"}, \"baxis\": {\"gridcolor\": \"white\", \"linecolor\": \"white\", \"ticks\": \"\"}, \"bgcolor\": \"#E5ECF6\", \"caxis\": {\"gridcolor\": \"white\", \"linecolor\": \"white\", \"ticks\": \"\"}}, \"title\": {\"x\": 0.05}, \"xaxis\": {\"automargin\": true, \"gridcolor\": \"white\", \"linecolor\": \"white\", \"ticks\": \"\", \"title\": {\"standoff\": 15}, \"zerolinecolor\": \"white\", \"zerolinewidth\": 2}, \"yaxis\": {\"automargin\": true, \"gridcolor\": \"white\", \"linecolor\": \"white\", \"ticks\": \"\", \"title\": {\"standoff\": 15}, \"zerolinecolor\": \"white\", \"zerolinewidth\": 2}}}, \"title\": {\"font\": {\"color\": \"#4D5663\"}}, \"xaxis\": {\"gridcolor\": \"#E1E5ED\", \"showgrid\": true, \"tickfont\": {\"color\": \"#4D5663\"}, \"title\": {\"font\": {\"color\": \"#4D5663\"}, \"text\": \"\"}, \"zerolinecolor\": \"#E1E5ED\"}, \"yaxis\": {\"gridcolor\": \"#E1E5ED\", \"showgrid\": true, \"tickfont\": {\"color\": \"#4D5663\"}, \"title\": {\"font\": {\"color\": \"#4D5663\"}, \"text\": \"\"}, \"zerolinecolor\": \"#E1E5ED\"}},\n",
       "                        {\"showLink\": true, \"linkText\": \"Export to plot.ly\", \"plotlyServerURL\": \"https://plot.ly\", \"responsive\": true}\n",
       "                    ).then(function(){\n",
       "                            \n",
       "var gd = document.getElementById('aaf27ab7-d78d-45ab-baf2-9679aa8a19fb');\n",
       "var x = new MutationObserver(function (mutations, observer) {{\n",
       "        var display = window.getComputedStyle(gd).display;\n",
       "        if (!display || display === 'none') {{\n",
       "            console.log([gd, 'removed!']);\n",
       "            Plotly.purge(gd);\n",
       "            observer.disconnect();\n",
       "        }}\n",
       "}});\n",
       "\n",
       "// Listen for the removal of the full notebook cells\n",
       "var notebookContainer = gd.closest('#notebook-container');\n",
       "if (notebookContainer) {{\n",
       "    x.observe(notebookContainer, {childList: true});\n",
       "}}\n",
       "\n",
       "// Listen for the clearing of the current output cell\n",
       "var outputEl = gd.closest('.output');\n",
       "if (outputEl) {{\n",
       "    x.observe(outputEl, {childList: true});\n",
       "}}\n",
       "\n",
       "                        })\n",
       "                };\n",
       "                });\n",
       "            </script>\n",
       "        </div>"
      ]
     },
     "metadata": {},
     "output_type": "display_data"
    }
   ],
   "source": [
    "df['A'].iplot(kind='hist')"
   ]
  },
  {
   "cell_type": "markdown",
   "metadata": {},
   "source": [
    "Adicionando mais barras:"
   ]
  },
  {
   "cell_type": "code",
   "execution_count": 26,
   "metadata": {},
   "outputs": [
    {
     "data": {
      "application/vnd.plotly.v1+json": {
       "config": {
        "linkText": "Export to plot.ly",
        "plotlyServerURL": "https://plot.ly",
        "showLink": true
       },
       "data": [
        {
         "histfunc": "count",
         "histnorm": "",
         "marker": {
          "color": "rgba(255, 153, 51, 1.0)",
          "line": {
           "color": "#4D5663",
           "width": 1.3
          }
         },
         "name": "A",
         "nbinsx": 50,
         "opacity": 0.8,
         "orientation": "v",
         "type": "histogram",
         "x": [
          1.5142186544122638,
          0.27895064943248915,
          -1.2772201606503015,
          0.7176215978752194,
          1.0242630534311887,
          -0.18782350124528943,
          -0.15971406208206046,
          -0.09450672113595138,
          1.101557217961529,
          1.760246324420678,
          0.4957627962412397,
          1.4410840240165774,
          0.890736201554487,
          -0.1973859512432099,
          -0.22647367315349648,
          0.9600258803516739,
          -0.22695644558189895,
          0.9014455961017745,
          -1.0352942125712694,
          1.3614210778771305,
          1.438341742803549,
          0.0062457188416346066,
          -0.34075842820041674,
          1.1645719966781778,
          3.251475167837798,
          0.3585119159665232,
          0.35559795617521023,
          -1.4927235063683504,
          -0.09654662808693423,
          -0.057294310675322785,
          -0.48183583073170233,
          -0.5382944548854823,
          0.9208574046073155,
          -0.6302021900122878,
          0.30933377625955083,
          -0.46552971679190036,
          -0.912246971568453,
          0.663008040972662,
          1.2686499433429357,
          0.36508507101402465,
          0.13357487450389904,
          -0.20648604070240084,
          0.49234018847418437,
          -1.0079776998156387,
          -1.3502695696598568,
          0.5959137955318851,
          -0.3372748183372034,
          -1.7190172045328507,
          0.3701065313721388,
          -1.109452713943562,
          0.11680700607062913,
          -0.8627209126237989,
          -0.8575591132443635,
          -0.044169557298888655,
          -0.7955907040068338,
          0.12234260476958768,
          -1.0760163613813911,
          -0.8283533358210704,
          0.268329750244207,
          1.066892146131821,
          -0.6553844559897053,
          -0.644878025080047,
          0.28702367749052854,
          -0.41938747626877115,
          1.959073984465897,
          -1.1269742470876678,
          3.8538700868814058,
          0.8705990773885701,
          0.5240821424022016,
          0.33280913610094887,
          0.4259038558689888,
          -1.2700198508155802,
          -0.5263315245506245,
          -0.1637455667230135,
          2.213359350383037,
          -0.4878057724962988,
          -0.46568550675433373,
          0.9524119005427031,
          1.7669535874688445,
          0.9320713319598105,
          1.0426693299362813,
          -1.7119433140080471,
          -0.2723835374814382,
          -1.4597336316316212,
          0.7187397058115067,
          0.5706065969920404,
          0.023982717991074275,
          -0.7639207845885283,
          -0.9117422967467312,
          -0.5438741254817734,
          -0.7489289965331479,
          1.0933015307053855,
          -0.33036206127818424,
          0.573877123376443,
          1.548344828251328,
          -0.2994560355888004,
          0.47710475522997875,
          -1.7490432446344575,
          -0.615644586432859,
          -0.0696319730489194
         ]
        }
       ],
       "layout": {
        "barmode": "overlay",
        "legend": {
         "bgcolor": "#F5F6F9",
         "font": {
          "color": "#4D5663"
         }
        },
        "paper_bgcolor": "#F5F6F9",
        "plot_bgcolor": "#F5F6F9",
        "template": {
         "data": {
          "bar": [
           {
            "error_x": {
             "color": "#2a3f5f"
            },
            "error_y": {
             "color": "#2a3f5f"
            },
            "marker": {
             "line": {
              "color": "#E5ECF6",
              "width": 0.5
             }
            },
            "type": "bar"
           }
          ],
          "barpolar": [
           {
            "marker": {
             "line": {
              "color": "#E5ECF6",
              "width": 0.5
             }
            },
            "type": "barpolar"
           }
          ],
          "carpet": [
           {
            "aaxis": {
             "endlinecolor": "#2a3f5f",
             "gridcolor": "white",
             "linecolor": "white",
             "minorgridcolor": "white",
             "startlinecolor": "#2a3f5f"
            },
            "baxis": {
             "endlinecolor": "#2a3f5f",
             "gridcolor": "white",
             "linecolor": "white",
             "minorgridcolor": "white",
             "startlinecolor": "#2a3f5f"
            },
            "type": "carpet"
           }
          ],
          "choropleth": [
           {
            "colorbar": {
             "outlinewidth": 0,
             "ticks": ""
            },
            "type": "choropleth"
           }
          ],
          "contour": [
           {
            "colorbar": {
             "outlinewidth": 0,
             "ticks": ""
            },
            "colorscale": [
             [
              0,
              "#0d0887"
             ],
             [
              0.1111111111111111,
              "#46039f"
             ],
             [
              0.2222222222222222,
              "#7201a8"
             ],
             [
              0.3333333333333333,
              "#9c179e"
             ],
             [
              0.4444444444444444,
              "#bd3786"
             ],
             [
              0.5555555555555556,
              "#d8576b"
             ],
             [
              0.6666666666666666,
              "#ed7953"
             ],
             [
              0.7777777777777778,
              "#fb9f3a"
             ],
             [
              0.8888888888888888,
              "#fdca26"
             ],
             [
              1,
              "#f0f921"
             ]
            ],
            "type": "contour"
           }
          ],
          "contourcarpet": [
           {
            "colorbar": {
             "outlinewidth": 0,
             "ticks": ""
            },
            "type": "contourcarpet"
           }
          ],
          "heatmap": [
           {
            "colorbar": {
             "outlinewidth": 0,
             "ticks": ""
            },
            "colorscale": [
             [
              0,
              "#0d0887"
             ],
             [
              0.1111111111111111,
              "#46039f"
             ],
             [
              0.2222222222222222,
              "#7201a8"
             ],
             [
              0.3333333333333333,
              "#9c179e"
             ],
             [
              0.4444444444444444,
              "#bd3786"
             ],
             [
              0.5555555555555556,
              "#d8576b"
             ],
             [
              0.6666666666666666,
              "#ed7953"
             ],
             [
              0.7777777777777778,
              "#fb9f3a"
             ],
             [
              0.8888888888888888,
              "#fdca26"
             ],
             [
              1,
              "#f0f921"
             ]
            ],
            "type": "heatmap"
           }
          ],
          "heatmapgl": [
           {
            "colorbar": {
             "outlinewidth": 0,
             "ticks": ""
            },
            "colorscale": [
             [
              0,
              "#0d0887"
             ],
             [
              0.1111111111111111,
              "#46039f"
             ],
             [
              0.2222222222222222,
              "#7201a8"
             ],
             [
              0.3333333333333333,
              "#9c179e"
             ],
             [
              0.4444444444444444,
              "#bd3786"
             ],
             [
              0.5555555555555556,
              "#d8576b"
             ],
             [
              0.6666666666666666,
              "#ed7953"
             ],
             [
              0.7777777777777778,
              "#fb9f3a"
             ],
             [
              0.8888888888888888,
              "#fdca26"
             ],
             [
              1,
              "#f0f921"
             ]
            ],
            "type": "heatmapgl"
           }
          ],
          "histogram": [
           {
            "marker": {
             "colorbar": {
              "outlinewidth": 0,
              "ticks": ""
             }
            },
            "type": "histogram"
           }
          ],
          "histogram2d": [
           {
            "colorbar": {
             "outlinewidth": 0,
             "ticks": ""
            },
            "colorscale": [
             [
              0,
              "#0d0887"
             ],
             [
              0.1111111111111111,
              "#46039f"
             ],
             [
              0.2222222222222222,
              "#7201a8"
             ],
             [
              0.3333333333333333,
              "#9c179e"
             ],
             [
              0.4444444444444444,
              "#bd3786"
             ],
             [
              0.5555555555555556,
              "#d8576b"
             ],
             [
              0.6666666666666666,
              "#ed7953"
             ],
             [
              0.7777777777777778,
              "#fb9f3a"
             ],
             [
              0.8888888888888888,
              "#fdca26"
             ],
             [
              1,
              "#f0f921"
             ]
            ],
            "type": "histogram2d"
           }
          ],
          "histogram2dcontour": [
           {
            "colorbar": {
             "outlinewidth": 0,
             "ticks": ""
            },
            "colorscale": [
             [
              0,
              "#0d0887"
             ],
             [
              0.1111111111111111,
              "#46039f"
             ],
             [
              0.2222222222222222,
              "#7201a8"
             ],
             [
              0.3333333333333333,
              "#9c179e"
             ],
             [
              0.4444444444444444,
              "#bd3786"
             ],
             [
              0.5555555555555556,
              "#d8576b"
             ],
             [
              0.6666666666666666,
              "#ed7953"
             ],
             [
              0.7777777777777778,
              "#fb9f3a"
             ],
             [
              0.8888888888888888,
              "#fdca26"
             ],
             [
              1,
              "#f0f921"
             ]
            ],
            "type": "histogram2dcontour"
           }
          ],
          "mesh3d": [
           {
            "colorbar": {
             "outlinewidth": 0,
             "ticks": ""
            },
            "type": "mesh3d"
           }
          ],
          "parcoords": [
           {
            "line": {
             "colorbar": {
              "outlinewidth": 0,
              "ticks": ""
             }
            },
            "type": "parcoords"
           }
          ],
          "pie": [
           {
            "automargin": true,
            "type": "pie"
           }
          ],
          "scatter": [
           {
            "marker": {
             "colorbar": {
              "outlinewidth": 0,
              "ticks": ""
             }
            },
            "type": "scatter"
           }
          ],
          "scatter3d": [
           {
            "line": {
             "colorbar": {
              "outlinewidth": 0,
              "ticks": ""
             }
            },
            "marker": {
             "colorbar": {
              "outlinewidth": 0,
              "ticks": ""
             }
            },
            "type": "scatter3d"
           }
          ],
          "scattercarpet": [
           {
            "marker": {
             "colorbar": {
              "outlinewidth": 0,
              "ticks": ""
             }
            },
            "type": "scattercarpet"
           }
          ],
          "scattergeo": [
           {
            "marker": {
             "colorbar": {
              "outlinewidth": 0,
              "ticks": ""
             }
            },
            "type": "scattergeo"
           }
          ],
          "scattergl": [
           {
            "marker": {
             "colorbar": {
              "outlinewidth": 0,
              "ticks": ""
             }
            },
            "type": "scattergl"
           }
          ],
          "scattermapbox": [
           {
            "marker": {
             "colorbar": {
              "outlinewidth": 0,
              "ticks": ""
             }
            },
            "type": "scattermapbox"
           }
          ],
          "scatterpolar": [
           {
            "marker": {
             "colorbar": {
              "outlinewidth": 0,
              "ticks": ""
             }
            },
            "type": "scatterpolar"
           }
          ],
          "scatterpolargl": [
           {
            "marker": {
             "colorbar": {
              "outlinewidth": 0,
              "ticks": ""
             }
            },
            "type": "scatterpolargl"
           }
          ],
          "scatterternary": [
           {
            "marker": {
             "colorbar": {
              "outlinewidth": 0,
              "ticks": ""
             }
            },
            "type": "scatterternary"
           }
          ],
          "surface": [
           {
            "colorbar": {
             "outlinewidth": 0,
             "ticks": ""
            },
            "colorscale": [
             [
              0,
              "#0d0887"
             ],
             [
              0.1111111111111111,
              "#46039f"
             ],
             [
              0.2222222222222222,
              "#7201a8"
             ],
             [
              0.3333333333333333,
              "#9c179e"
             ],
             [
              0.4444444444444444,
              "#bd3786"
             ],
             [
              0.5555555555555556,
              "#d8576b"
             ],
             [
              0.6666666666666666,
              "#ed7953"
             ],
             [
              0.7777777777777778,
              "#fb9f3a"
             ],
             [
              0.8888888888888888,
              "#fdca26"
             ],
             [
              1,
              "#f0f921"
             ]
            ],
            "type": "surface"
           }
          ],
          "table": [
           {
            "cells": {
             "fill": {
              "color": "#EBF0F8"
             },
             "line": {
              "color": "white"
             }
            },
            "header": {
             "fill": {
              "color": "#C8D4E3"
             },
             "line": {
              "color": "white"
             }
            },
            "type": "table"
           }
          ]
         },
         "layout": {
          "annotationdefaults": {
           "arrowcolor": "#2a3f5f",
           "arrowhead": 0,
           "arrowwidth": 1
          },
          "coloraxis": {
           "colorbar": {
            "outlinewidth": 0,
            "ticks": ""
           }
          },
          "colorscale": {
           "diverging": [
            [
             0,
             "#8e0152"
            ],
            [
             0.1,
             "#c51b7d"
            ],
            [
             0.2,
             "#de77ae"
            ],
            [
             0.3,
             "#f1b6da"
            ],
            [
             0.4,
             "#fde0ef"
            ],
            [
             0.5,
             "#f7f7f7"
            ],
            [
             0.6,
             "#e6f5d0"
            ],
            [
             0.7,
             "#b8e186"
            ],
            [
             0.8,
             "#7fbc41"
            ],
            [
             0.9,
             "#4d9221"
            ],
            [
             1,
             "#276419"
            ]
           ],
           "sequential": [
            [
             0,
             "#0d0887"
            ],
            [
             0.1111111111111111,
             "#46039f"
            ],
            [
             0.2222222222222222,
             "#7201a8"
            ],
            [
             0.3333333333333333,
             "#9c179e"
            ],
            [
             0.4444444444444444,
             "#bd3786"
            ],
            [
             0.5555555555555556,
             "#d8576b"
            ],
            [
             0.6666666666666666,
             "#ed7953"
            ],
            [
             0.7777777777777778,
             "#fb9f3a"
            ],
            [
             0.8888888888888888,
             "#fdca26"
            ],
            [
             1,
             "#f0f921"
            ]
           ],
           "sequentialminus": [
            [
             0,
             "#0d0887"
            ],
            [
             0.1111111111111111,
             "#46039f"
            ],
            [
             0.2222222222222222,
             "#7201a8"
            ],
            [
             0.3333333333333333,
             "#9c179e"
            ],
            [
             0.4444444444444444,
             "#bd3786"
            ],
            [
             0.5555555555555556,
             "#d8576b"
            ],
            [
             0.6666666666666666,
             "#ed7953"
            ],
            [
             0.7777777777777778,
             "#fb9f3a"
            ],
            [
             0.8888888888888888,
             "#fdca26"
            ],
            [
             1,
             "#f0f921"
            ]
           ]
          },
          "colorway": [
           "#636efa",
           "#EF553B",
           "#00cc96",
           "#ab63fa",
           "#FFA15A",
           "#19d3f3",
           "#FF6692",
           "#B6E880",
           "#FF97FF",
           "#FECB52"
          ],
          "font": {
           "color": "#2a3f5f"
          },
          "geo": {
           "bgcolor": "white",
           "lakecolor": "white",
           "landcolor": "#E5ECF6",
           "showlakes": true,
           "showland": true,
           "subunitcolor": "white"
          },
          "hoverlabel": {
           "align": "left"
          },
          "hovermode": "closest",
          "mapbox": {
           "style": "light"
          },
          "paper_bgcolor": "white",
          "plot_bgcolor": "#E5ECF6",
          "polar": {
           "angularaxis": {
            "gridcolor": "white",
            "linecolor": "white",
            "ticks": ""
           },
           "bgcolor": "#E5ECF6",
           "radialaxis": {
            "gridcolor": "white",
            "linecolor": "white",
            "ticks": ""
           }
          },
          "scene": {
           "xaxis": {
            "backgroundcolor": "#E5ECF6",
            "gridcolor": "white",
            "gridwidth": 2,
            "linecolor": "white",
            "showbackground": true,
            "ticks": "",
            "zerolinecolor": "white"
           },
           "yaxis": {
            "backgroundcolor": "#E5ECF6",
            "gridcolor": "white",
            "gridwidth": 2,
            "linecolor": "white",
            "showbackground": true,
            "ticks": "",
            "zerolinecolor": "white"
           },
           "zaxis": {
            "backgroundcolor": "#E5ECF6",
            "gridcolor": "white",
            "gridwidth": 2,
            "linecolor": "white",
            "showbackground": true,
            "ticks": "",
            "zerolinecolor": "white"
           }
          },
          "shapedefaults": {
           "line": {
            "color": "#2a3f5f"
           }
          },
          "ternary": {
           "aaxis": {
            "gridcolor": "white",
            "linecolor": "white",
            "ticks": ""
           },
           "baxis": {
            "gridcolor": "white",
            "linecolor": "white",
            "ticks": ""
           },
           "bgcolor": "#E5ECF6",
           "caxis": {
            "gridcolor": "white",
            "linecolor": "white",
            "ticks": ""
           }
          },
          "title": {
           "x": 0.05
          },
          "xaxis": {
           "automargin": true,
           "gridcolor": "white",
           "linecolor": "white",
           "ticks": "",
           "title": {
            "standoff": 15
           },
           "zerolinecolor": "white",
           "zerolinewidth": 2
          },
          "yaxis": {
           "automargin": true,
           "gridcolor": "white",
           "linecolor": "white",
           "ticks": "",
           "title": {
            "standoff": 15
           },
           "zerolinecolor": "white",
           "zerolinewidth": 2
          }
         }
        },
        "title": {
         "font": {
          "color": "#4D5663"
         }
        },
        "xaxis": {
         "gridcolor": "#E1E5ED",
         "showgrid": true,
         "tickfont": {
          "color": "#4D5663"
         },
         "title": {
          "font": {
           "color": "#4D5663"
          },
          "text": ""
         },
         "zerolinecolor": "#E1E5ED"
        },
        "yaxis": {
         "gridcolor": "#E1E5ED",
         "showgrid": true,
         "tickfont": {
          "color": "#4D5663"
         },
         "title": {
          "font": {
           "color": "#4D5663"
          },
          "text": ""
         },
         "zerolinecolor": "#E1E5ED"
        }
       }
      },
      "text/html": [
       "<div>\n",
       "        \n",
       "        \n",
       "            <div id=\"2a50efe7-44c6-43dc-a922-c87d115c8158\" class=\"plotly-graph-div\" style=\"height:525px; width:100%;\"></div>\n",
       "            <script type=\"text/javascript\">\n",
       "                require([\"plotly\"], function(Plotly) {\n",
       "                    window.PLOTLYENV=window.PLOTLYENV || {};\n",
       "                    window.PLOTLYENV.BASE_URL='https://plot.ly';\n",
       "                    \n",
       "                if (document.getElementById(\"2a50efe7-44c6-43dc-a922-c87d115c8158\")) {\n",
       "                    Plotly.newPlot(\n",
       "                        '2a50efe7-44c6-43dc-a922-c87d115c8158',\n",
       "                        [{\"histfunc\": \"count\", \"histnorm\": \"\", \"marker\": {\"color\": \"rgba(255, 153, 51, 1.0)\", \"line\": {\"color\": \"#4D5663\", \"width\": 1.3}}, \"name\": \"A\", \"nbinsx\": 50, \"opacity\": 0.8, \"orientation\": \"v\", \"type\": \"histogram\", \"x\": [1.5142186544122638, 0.27895064943248915, -1.2772201606503015, 0.7176215978752194, 1.0242630534311887, -0.18782350124528943, -0.15971406208206046, -0.09450672113595138, 1.101557217961529, 1.760246324420678, 0.4957627962412397, 1.4410840240165774, 0.890736201554487, -0.1973859512432099, -0.22647367315349648, 0.9600258803516739, -0.22695644558189895, 0.9014455961017745, -1.0352942125712694, 1.3614210778771305, 1.438341742803549, 0.0062457188416346066, -0.34075842820041674, 1.1645719966781778, 3.251475167837798, 0.3585119159665232, 0.35559795617521023, -1.4927235063683504, -0.09654662808693423, -0.057294310675322785, -0.48183583073170233, -0.5382944548854823, 0.9208574046073155, -0.6302021900122878, 0.30933377625955083, -0.46552971679190036, -0.912246971568453, 0.663008040972662, 1.2686499433429357, 0.36508507101402465, 0.13357487450389904, -0.20648604070240084, 0.49234018847418437, -1.0079776998156387, -1.3502695696598568, 0.5959137955318851, -0.3372748183372034, -1.7190172045328507, 0.3701065313721388, -1.109452713943562, 0.11680700607062913, -0.8627209126237989, -0.8575591132443635, -0.044169557298888655, -0.7955907040068338, 0.12234260476958768, -1.0760163613813911, -0.8283533358210704, 0.268329750244207, 1.066892146131821, -0.6553844559897053, -0.644878025080047, 0.28702367749052854, -0.41938747626877115, 1.959073984465897, -1.1269742470876678, 3.8538700868814058, 0.8705990773885701, 0.5240821424022016, 0.33280913610094887, 0.4259038558689888, -1.2700198508155802, -0.5263315245506245, -0.1637455667230135, 2.213359350383037, -0.4878057724962988, -0.46568550675433373, 0.9524119005427031, 1.7669535874688445, 0.9320713319598105, 1.0426693299362813, -1.7119433140080471, -0.2723835374814382, -1.4597336316316212, 0.7187397058115067, 0.5706065969920404, 0.023982717991074275, -0.7639207845885283, -0.9117422967467312, -0.5438741254817734, -0.7489289965331479, 1.0933015307053855, -0.33036206127818424, 0.573877123376443, 1.548344828251328, -0.2994560355888004, 0.47710475522997875, -1.7490432446344575, -0.615644586432859, -0.0696319730489194]}],\n",
       "                        {\"barmode\": \"overlay\", \"legend\": {\"bgcolor\": \"#F5F6F9\", \"font\": {\"color\": \"#4D5663\"}}, \"paper_bgcolor\": \"#F5F6F9\", \"plot_bgcolor\": \"#F5F6F9\", \"template\": {\"data\": {\"bar\": [{\"error_x\": {\"color\": \"#2a3f5f\"}, \"error_y\": {\"color\": \"#2a3f5f\"}, \"marker\": {\"line\": {\"color\": \"#E5ECF6\", \"width\": 0.5}}, \"type\": \"bar\"}], \"barpolar\": [{\"marker\": {\"line\": {\"color\": \"#E5ECF6\", \"width\": 0.5}}, \"type\": \"barpolar\"}], \"carpet\": [{\"aaxis\": {\"endlinecolor\": \"#2a3f5f\", \"gridcolor\": \"white\", \"linecolor\": \"white\", \"minorgridcolor\": \"white\", \"startlinecolor\": \"#2a3f5f\"}, \"baxis\": {\"endlinecolor\": \"#2a3f5f\", \"gridcolor\": \"white\", \"linecolor\": \"white\", \"minorgridcolor\": \"white\", \"startlinecolor\": \"#2a3f5f\"}, \"type\": \"carpet\"}], \"choropleth\": [{\"colorbar\": {\"outlinewidth\": 0, \"ticks\": \"\"}, \"type\": \"choropleth\"}], \"contour\": [{\"colorbar\": {\"outlinewidth\": 0, \"ticks\": \"\"}, \"colorscale\": [[0.0, \"#0d0887\"], [0.1111111111111111, \"#46039f\"], [0.2222222222222222, \"#7201a8\"], [0.3333333333333333, \"#9c179e\"], [0.4444444444444444, \"#bd3786\"], [0.5555555555555556, \"#d8576b\"], [0.6666666666666666, \"#ed7953\"], [0.7777777777777778, \"#fb9f3a\"], [0.8888888888888888, \"#fdca26\"], [1.0, \"#f0f921\"]], \"type\": \"contour\"}], \"contourcarpet\": [{\"colorbar\": {\"outlinewidth\": 0, \"ticks\": \"\"}, \"type\": \"contourcarpet\"}], \"heatmap\": [{\"colorbar\": {\"outlinewidth\": 0, \"ticks\": \"\"}, \"colorscale\": [[0.0, \"#0d0887\"], [0.1111111111111111, \"#46039f\"], [0.2222222222222222, \"#7201a8\"], [0.3333333333333333, \"#9c179e\"], [0.4444444444444444, \"#bd3786\"], [0.5555555555555556, \"#d8576b\"], [0.6666666666666666, \"#ed7953\"], [0.7777777777777778, \"#fb9f3a\"], [0.8888888888888888, \"#fdca26\"], [1.0, \"#f0f921\"]], \"type\": \"heatmap\"}], \"heatmapgl\": [{\"colorbar\": {\"outlinewidth\": 0, \"ticks\": \"\"}, \"colorscale\": [[0.0, \"#0d0887\"], [0.1111111111111111, \"#46039f\"], [0.2222222222222222, \"#7201a8\"], [0.3333333333333333, \"#9c179e\"], [0.4444444444444444, \"#bd3786\"], [0.5555555555555556, \"#d8576b\"], [0.6666666666666666, \"#ed7953\"], [0.7777777777777778, \"#fb9f3a\"], [0.8888888888888888, \"#fdca26\"], [1.0, \"#f0f921\"]], \"type\": \"heatmapgl\"}], \"histogram\": [{\"marker\": {\"colorbar\": {\"outlinewidth\": 0, \"ticks\": \"\"}}, \"type\": \"histogram\"}], \"histogram2d\": [{\"colorbar\": {\"outlinewidth\": 0, \"ticks\": \"\"}, \"colorscale\": [[0.0, \"#0d0887\"], [0.1111111111111111, \"#46039f\"], [0.2222222222222222, \"#7201a8\"], [0.3333333333333333, \"#9c179e\"], [0.4444444444444444, \"#bd3786\"], [0.5555555555555556, \"#d8576b\"], [0.6666666666666666, \"#ed7953\"], [0.7777777777777778, \"#fb9f3a\"], [0.8888888888888888, \"#fdca26\"], [1.0, \"#f0f921\"]], \"type\": \"histogram2d\"}], \"histogram2dcontour\": [{\"colorbar\": {\"outlinewidth\": 0, \"ticks\": \"\"}, \"colorscale\": [[0.0, \"#0d0887\"], [0.1111111111111111, \"#46039f\"], [0.2222222222222222, \"#7201a8\"], [0.3333333333333333, \"#9c179e\"], [0.4444444444444444, \"#bd3786\"], [0.5555555555555556, \"#d8576b\"], [0.6666666666666666, \"#ed7953\"], [0.7777777777777778, \"#fb9f3a\"], [0.8888888888888888, \"#fdca26\"], [1.0, \"#f0f921\"]], \"type\": \"histogram2dcontour\"}], \"mesh3d\": [{\"colorbar\": {\"outlinewidth\": 0, \"ticks\": \"\"}, \"type\": \"mesh3d\"}], \"parcoords\": [{\"line\": {\"colorbar\": {\"outlinewidth\": 0, \"ticks\": \"\"}}, \"type\": \"parcoords\"}], \"pie\": [{\"automargin\": true, \"type\": \"pie\"}], \"scatter\": [{\"marker\": {\"colorbar\": {\"outlinewidth\": 0, \"ticks\": \"\"}}, \"type\": \"scatter\"}], \"scatter3d\": [{\"line\": {\"colorbar\": {\"outlinewidth\": 0, \"ticks\": \"\"}}, \"marker\": {\"colorbar\": {\"outlinewidth\": 0, \"ticks\": \"\"}}, \"type\": \"scatter3d\"}], \"scattercarpet\": [{\"marker\": {\"colorbar\": {\"outlinewidth\": 0, \"ticks\": \"\"}}, \"type\": \"scattercarpet\"}], \"scattergeo\": [{\"marker\": {\"colorbar\": {\"outlinewidth\": 0, \"ticks\": \"\"}}, \"type\": \"scattergeo\"}], \"scattergl\": [{\"marker\": {\"colorbar\": {\"outlinewidth\": 0, \"ticks\": \"\"}}, \"type\": \"scattergl\"}], \"scattermapbox\": [{\"marker\": {\"colorbar\": {\"outlinewidth\": 0, \"ticks\": \"\"}}, \"type\": \"scattermapbox\"}], \"scatterpolar\": [{\"marker\": {\"colorbar\": {\"outlinewidth\": 0, \"ticks\": \"\"}}, \"type\": \"scatterpolar\"}], \"scatterpolargl\": [{\"marker\": {\"colorbar\": {\"outlinewidth\": 0, \"ticks\": \"\"}}, \"type\": \"scatterpolargl\"}], \"scatterternary\": [{\"marker\": {\"colorbar\": {\"outlinewidth\": 0, \"ticks\": \"\"}}, \"type\": \"scatterternary\"}], \"surface\": [{\"colorbar\": {\"outlinewidth\": 0, \"ticks\": \"\"}, \"colorscale\": [[0.0, \"#0d0887\"], [0.1111111111111111, \"#46039f\"], [0.2222222222222222, \"#7201a8\"], [0.3333333333333333, \"#9c179e\"], [0.4444444444444444, \"#bd3786\"], [0.5555555555555556, \"#d8576b\"], [0.6666666666666666, \"#ed7953\"], [0.7777777777777778, \"#fb9f3a\"], [0.8888888888888888, \"#fdca26\"], [1.0, \"#f0f921\"]], \"type\": \"surface\"}], \"table\": [{\"cells\": {\"fill\": {\"color\": \"#EBF0F8\"}, \"line\": {\"color\": \"white\"}}, \"header\": {\"fill\": {\"color\": \"#C8D4E3\"}, \"line\": {\"color\": \"white\"}}, \"type\": \"table\"}]}, \"layout\": {\"annotationdefaults\": {\"arrowcolor\": \"#2a3f5f\", \"arrowhead\": 0, \"arrowwidth\": 1}, \"coloraxis\": {\"colorbar\": {\"outlinewidth\": 0, \"ticks\": \"\"}}, \"colorscale\": {\"diverging\": [[0, \"#8e0152\"], [0.1, \"#c51b7d\"], [0.2, \"#de77ae\"], [0.3, \"#f1b6da\"], [0.4, \"#fde0ef\"], [0.5, \"#f7f7f7\"], [0.6, \"#e6f5d0\"], [0.7, \"#b8e186\"], [0.8, \"#7fbc41\"], [0.9, \"#4d9221\"], [1, \"#276419\"]], \"sequential\": [[0.0, \"#0d0887\"], [0.1111111111111111, \"#46039f\"], [0.2222222222222222, \"#7201a8\"], [0.3333333333333333, \"#9c179e\"], [0.4444444444444444, \"#bd3786\"], [0.5555555555555556, \"#d8576b\"], [0.6666666666666666, \"#ed7953\"], [0.7777777777777778, \"#fb9f3a\"], [0.8888888888888888, \"#fdca26\"], [1.0, \"#f0f921\"]], \"sequentialminus\": [[0.0, \"#0d0887\"], [0.1111111111111111, \"#46039f\"], [0.2222222222222222, \"#7201a8\"], [0.3333333333333333, \"#9c179e\"], [0.4444444444444444, \"#bd3786\"], [0.5555555555555556, \"#d8576b\"], [0.6666666666666666, \"#ed7953\"], [0.7777777777777778, \"#fb9f3a\"], [0.8888888888888888, \"#fdca26\"], [1.0, \"#f0f921\"]]}, \"colorway\": [\"#636efa\", \"#EF553B\", \"#00cc96\", \"#ab63fa\", \"#FFA15A\", \"#19d3f3\", \"#FF6692\", \"#B6E880\", \"#FF97FF\", \"#FECB52\"], \"font\": {\"color\": \"#2a3f5f\"}, \"geo\": {\"bgcolor\": \"white\", \"lakecolor\": \"white\", \"landcolor\": \"#E5ECF6\", \"showlakes\": true, \"showland\": true, \"subunitcolor\": \"white\"}, \"hoverlabel\": {\"align\": \"left\"}, \"hovermode\": \"closest\", \"mapbox\": {\"style\": \"light\"}, \"paper_bgcolor\": \"white\", \"plot_bgcolor\": \"#E5ECF6\", \"polar\": {\"angularaxis\": {\"gridcolor\": \"white\", \"linecolor\": \"white\", \"ticks\": \"\"}, \"bgcolor\": \"#E5ECF6\", \"radialaxis\": {\"gridcolor\": \"white\", \"linecolor\": \"white\", \"ticks\": \"\"}}, \"scene\": {\"xaxis\": {\"backgroundcolor\": \"#E5ECF6\", \"gridcolor\": \"white\", \"gridwidth\": 2, \"linecolor\": \"white\", \"showbackground\": true, \"ticks\": \"\", \"zerolinecolor\": \"white\"}, \"yaxis\": {\"backgroundcolor\": \"#E5ECF6\", \"gridcolor\": \"white\", \"gridwidth\": 2, \"linecolor\": \"white\", \"showbackground\": true, \"ticks\": \"\", \"zerolinecolor\": \"white\"}, \"zaxis\": {\"backgroundcolor\": \"#E5ECF6\", \"gridcolor\": \"white\", \"gridwidth\": 2, \"linecolor\": \"white\", \"showbackground\": true, \"ticks\": \"\", \"zerolinecolor\": \"white\"}}, \"shapedefaults\": {\"line\": {\"color\": \"#2a3f5f\"}}, \"ternary\": {\"aaxis\": {\"gridcolor\": \"white\", \"linecolor\": \"white\", \"ticks\": \"\"}, \"baxis\": {\"gridcolor\": \"white\", \"linecolor\": \"white\", \"ticks\": \"\"}, \"bgcolor\": \"#E5ECF6\", \"caxis\": {\"gridcolor\": \"white\", \"linecolor\": \"white\", \"ticks\": \"\"}}, \"title\": {\"x\": 0.05}, \"xaxis\": {\"automargin\": true, \"gridcolor\": \"white\", \"linecolor\": \"white\", \"ticks\": \"\", \"title\": {\"standoff\": 15}, \"zerolinecolor\": \"white\", \"zerolinewidth\": 2}, \"yaxis\": {\"automargin\": true, \"gridcolor\": \"white\", \"linecolor\": \"white\", \"ticks\": \"\", \"title\": {\"standoff\": 15}, \"zerolinecolor\": \"white\", \"zerolinewidth\": 2}}}, \"title\": {\"font\": {\"color\": \"#4D5663\"}}, \"xaxis\": {\"gridcolor\": \"#E1E5ED\", \"showgrid\": true, \"tickfont\": {\"color\": \"#4D5663\"}, \"title\": {\"font\": {\"color\": \"#4D5663\"}, \"text\": \"\"}, \"zerolinecolor\": \"#E1E5ED\"}, \"yaxis\": {\"gridcolor\": \"#E1E5ED\", \"showgrid\": true, \"tickfont\": {\"color\": \"#4D5663\"}, \"title\": {\"font\": {\"color\": \"#4D5663\"}, \"text\": \"\"}, \"zerolinecolor\": \"#E1E5ED\"}},\n",
       "                        {\"showLink\": true, \"linkText\": \"Export to plot.ly\", \"plotlyServerURL\": \"https://plot.ly\", \"responsive\": true}\n",
       "                    ).then(function(){\n",
       "                            \n",
       "var gd = document.getElementById('2a50efe7-44c6-43dc-a922-c87d115c8158');\n",
       "var x = new MutationObserver(function (mutations, observer) {{\n",
       "        var display = window.getComputedStyle(gd).display;\n",
       "        if (!display || display === 'none') {{\n",
       "            console.log([gd, 'removed!']);\n",
       "            Plotly.purge(gd);\n",
       "            observer.disconnect();\n",
       "        }}\n",
       "}});\n",
       "\n",
       "// Listen for the removal of the full notebook cells\n",
       "var notebookContainer = gd.closest('#notebook-container');\n",
       "if (notebookContainer) {{\n",
       "    x.observe(notebookContainer, {childList: true});\n",
       "}}\n",
       "\n",
       "// Listen for the clearing of the current output cell\n",
       "var outputEl = gd.closest('.output');\n",
       "if (outputEl) {{\n",
       "    x.observe(outputEl, {childList: true});\n",
       "}}\n",
       "\n",
       "                        })\n",
       "                };\n",
       "                });\n",
       "            </script>\n",
       "        </div>"
      ]
     },
     "metadata": {},
     "output_type": "display_data"
    }
   ],
   "source": [
    "df['A'].iplot(kind='hist', bins=50)"
   ]
  },
  {
   "cell_type": "markdown",
   "metadata": {},
   "source": [
    "Em bolha:"
   ]
  },
  {
   "cell_type": "markdown",
   "metadata": {},
   "source": [
    "o Gráfico em bolha compara duas variáveis e utiliza uma terceira para definir como parametro do tamanho das bolhas:"
   ]
  },
  {
   "cell_type": "code",
   "execution_count": 27,
   "metadata": {},
   "outputs": [
    {
     "data": {
      "application/vnd.plotly.v1+json": {
       "config": {
        "linkText": "Export to plot.ly",
        "plotlyServerURL": "https://plot.ly",
        "showLink": true
       },
       "data": [
        {
         "marker": {
          "color": [
           "rgb(255, 153, 51)",
           "rgb(55, 128, 191)",
           "rgb(50, 171, 96)",
           "rgb(128, 0, 128)",
           "rgb(219, 64, 82)",
           "rgb(0, 128, 128)",
           "rgb(255, 255, 51)",
           "rgb(128, 128, 0)",
           "rgb(251, 128, 114)",
           "rgb(128, 177, 211)"
          ],
          "line": {
           "width": 1.3
          },
          "size": [
           81,
           61,
           41,
           57,
           108,
           25,
           74,
           23,
           42,
           58,
           39,
           44,
           97,
           38,
           55,
           61,
           55,
           61,
           47,
           41,
           64,
           35,
           64,
           62,
           83,
           50,
           49,
           63,
           53,
           80,
           50,
           66,
           19,
           41,
           73,
           67,
           61,
           66,
           64,
           90,
           68,
           50,
           69,
           55,
           98,
           71,
           44,
           84,
           52,
           65,
           66,
           30,
           60,
           12,
           74,
           71,
           77,
           100,
           61,
           73,
           77,
           56,
           44,
           86,
           79,
           51,
           37,
           55,
           84,
           66,
           39,
           60,
           60,
           46,
           55,
           112,
           70,
           62,
           54,
           83,
           60,
           68,
           31,
           99,
           67,
           65,
           43,
           42,
           55,
           73,
           70,
           49,
           90,
           70,
           55,
           59,
           76,
           87,
           62,
           69
          ],
          "symbol": "circle"
         },
         "mode": "markers",
         "text": "",
         "type": "scatter",
         "x": [
          1.5142186544122638,
          0.27895064943248915,
          -1.2772201606503015,
          0.7176215978752194,
          1.0242630534311887,
          -0.18782350124528943,
          -0.15971406208206046,
          -0.09450672113595138,
          1.101557217961529,
          1.760246324420678,
          0.4957627962412397,
          1.4410840240165774,
          0.890736201554487,
          -0.1973859512432099,
          -0.22647367315349648,
          0.9600258803516739,
          -0.22695644558189895,
          0.9014455961017745,
          -1.0352942125712694,
          1.3614210778771305,
          1.438341742803549,
          0.0062457188416346066,
          -0.34075842820041674,
          1.1645719966781778,
          3.251475167837798,
          0.3585119159665232,
          0.35559795617521023,
          -1.4927235063683504,
          -0.09654662808693423,
          -0.057294310675322785,
          -0.48183583073170233,
          -0.5382944548854823,
          0.9208574046073155,
          -0.6302021900122878,
          0.30933377625955083,
          -0.46552971679190036,
          -0.912246971568453,
          0.663008040972662,
          1.2686499433429357,
          0.36508507101402465,
          0.13357487450389904,
          -0.20648604070240084,
          0.49234018847418437,
          -1.0079776998156387,
          -1.3502695696598568,
          0.5959137955318851,
          -0.3372748183372034,
          -1.7190172045328507,
          0.3701065313721388,
          -1.109452713943562,
          0.11680700607062913,
          -0.8627209126237989,
          -0.8575591132443635,
          -0.044169557298888655,
          -0.7955907040068338,
          0.12234260476958768,
          -1.0760163613813911,
          -0.8283533358210704,
          0.268329750244207,
          1.066892146131821,
          -0.6553844559897053,
          -0.644878025080047,
          0.28702367749052854,
          -0.41938747626877115,
          1.959073984465897,
          -1.1269742470876678,
          3.8538700868814058,
          0.8705990773885701,
          0.5240821424022016,
          0.33280913610094887,
          0.4259038558689888,
          -1.2700198508155802,
          -0.5263315245506245,
          -0.1637455667230135,
          2.213359350383037,
          -0.4878057724962988,
          -0.46568550675433373,
          0.9524119005427031,
          1.7669535874688445,
          0.9320713319598105,
          1.0426693299362813,
          -1.7119433140080471,
          -0.2723835374814382,
          -1.4597336316316212,
          0.7187397058115067,
          0.5706065969920404,
          0.023982717991074275,
          -0.7639207845885283,
          -0.9117422967467312,
          -0.5438741254817734,
          -0.7489289965331479,
          1.0933015307053855,
          -0.33036206127818424,
          0.573877123376443,
          1.548344828251328,
          -0.2994560355888004,
          0.47710475522997875,
          -1.7490432446344575,
          -0.615644586432859,
          -0.0696319730489194
         ],
         "y": [
          -0.9153410714929735,
          1.6358976547955704,
          0.09255099576014963,
          1.5400934402495086,
          0.6425658299894662,
          -0.26179888744269847,
          1.0273186956146738,
          -0.6307535418604402,
          -2.5346978546476517,
          -2.1897817281056837,
          0.8311035354450367,
          0.6399383182121887,
          -0.9403607387553982,
          0.7078174444510166,
          -0.45457637870870515,
          1.1980318577308495,
          -0.11554976053470527,
          0.30680062220353793,
          -0.9217244314001211,
          -0.6663874786748377,
          1.32120609432077,
          1.0109233247836378,
          -0.1824269769280658,
          -1.0488991304782136,
          1.0662243347339762,
          -0.9034244394440355,
          -0.3263330312314083,
          -0.2607788207729719,
          -2.4278016862124088,
          -0.12711866662850796,
          -0.36884387842295946,
          0.6429063120523958,
          0.14881899593559214,
          -0.43653258631725117,
          1.1884826095900352,
          2.178398074485583,
          -0.06233515306434373,
          0.2587311274407884,
          -0.3741404646665351,
          0.30626494513246,
          -2.126751910804884,
          -2.060133981135926,
          1.5529239103471126,
          -0.38836926178255654,
          0.3942599587482798,
          1.5803964142097777,
          -1.0523833241987806,
          -0.01657286604126695,
          -0.770066526216671,
          0.9920549755691876,
          0.22018622155780793,
          0.9478438860931523,
          2.5346802705488365,
          0.30453558445497775,
          0.44999869484970006,
          0.1329256362940828,
          0.5257532229366679,
          0.6353351705845959,
          1.3939366249738248,
          -0.22346756860341713,
          1.1700863549033256,
          -0.6893141589265049,
          -0.7284549415162579,
          1.0979628734277693,
          -0.9852892186534995,
          0.04408684809316521,
          -0.3768717795879098,
          -0.09487210728594804,
          0.40576310664905313,
          0.4280661826615465,
          -0.8014571020621714,
          -1.192492353104392,
          0.9009984970801053,
          -0.6804664819337662,
          -0.05322152993200261,
          -0.5406055085130784,
          -1.1648516692905604,
          -0.4866434874688328,
          -0.2527643374481889,
          -0.49051314591226564,
          0.4483948614666029,
          -0.1286617016280999,
          0.7375815043599231,
          -1.2179161391289677,
          1.329503329537658,
          0.6406407101277446,
          -0.3885952375410158,
          -1.3344868258260545,
          0.021479658397961912,
          0.14220431097964045,
          0.6956144127780031,
          -1.2274294853474346,
          0.8445551976348453,
          -0.27707728983608126,
          -1.044478370898736,
          -1.0342492050125447,
          1.8384683805763349,
          -0.47129373877017977,
          0.2826769281895832,
          0.29606799065000583
         ]
        }
       ],
       "layout": {
        "legend": {
         "bgcolor": "#F5F6F9",
         "font": {
          "color": "#4D5663"
         }
        },
        "paper_bgcolor": "#F5F6F9",
        "plot_bgcolor": "#F5F6F9",
        "template": {
         "data": {
          "bar": [
           {
            "error_x": {
             "color": "#2a3f5f"
            },
            "error_y": {
             "color": "#2a3f5f"
            },
            "marker": {
             "line": {
              "color": "#E5ECF6",
              "width": 0.5
             }
            },
            "type": "bar"
           }
          ],
          "barpolar": [
           {
            "marker": {
             "line": {
              "color": "#E5ECF6",
              "width": 0.5
             }
            },
            "type": "barpolar"
           }
          ],
          "carpet": [
           {
            "aaxis": {
             "endlinecolor": "#2a3f5f",
             "gridcolor": "white",
             "linecolor": "white",
             "minorgridcolor": "white",
             "startlinecolor": "#2a3f5f"
            },
            "baxis": {
             "endlinecolor": "#2a3f5f",
             "gridcolor": "white",
             "linecolor": "white",
             "minorgridcolor": "white",
             "startlinecolor": "#2a3f5f"
            },
            "type": "carpet"
           }
          ],
          "choropleth": [
           {
            "colorbar": {
             "outlinewidth": 0,
             "ticks": ""
            },
            "type": "choropleth"
           }
          ],
          "contour": [
           {
            "colorbar": {
             "outlinewidth": 0,
             "ticks": ""
            },
            "colorscale": [
             [
              0,
              "#0d0887"
             ],
             [
              0.1111111111111111,
              "#46039f"
             ],
             [
              0.2222222222222222,
              "#7201a8"
             ],
             [
              0.3333333333333333,
              "#9c179e"
             ],
             [
              0.4444444444444444,
              "#bd3786"
             ],
             [
              0.5555555555555556,
              "#d8576b"
             ],
             [
              0.6666666666666666,
              "#ed7953"
             ],
             [
              0.7777777777777778,
              "#fb9f3a"
             ],
             [
              0.8888888888888888,
              "#fdca26"
             ],
             [
              1,
              "#f0f921"
             ]
            ],
            "type": "contour"
           }
          ],
          "contourcarpet": [
           {
            "colorbar": {
             "outlinewidth": 0,
             "ticks": ""
            },
            "type": "contourcarpet"
           }
          ],
          "heatmap": [
           {
            "colorbar": {
             "outlinewidth": 0,
             "ticks": ""
            },
            "colorscale": [
             [
              0,
              "#0d0887"
             ],
             [
              0.1111111111111111,
              "#46039f"
             ],
             [
              0.2222222222222222,
              "#7201a8"
             ],
             [
              0.3333333333333333,
              "#9c179e"
             ],
             [
              0.4444444444444444,
              "#bd3786"
             ],
             [
              0.5555555555555556,
              "#d8576b"
             ],
             [
              0.6666666666666666,
              "#ed7953"
             ],
             [
              0.7777777777777778,
              "#fb9f3a"
             ],
             [
              0.8888888888888888,
              "#fdca26"
             ],
             [
              1,
              "#f0f921"
             ]
            ],
            "type": "heatmap"
           }
          ],
          "heatmapgl": [
           {
            "colorbar": {
             "outlinewidth": 0,
             "ticks": ""
            },
            "colorscale": [
             [
              0,
              "#0d0887"
             ],
             [
              0.1111111111111111,
              "#46039f"
             ],
             [
              0.2222222222222222,
              "#7201a8"
             ],
             [
              0.3333333333333333,
              "#9c179e"
             ],
             [
              0.4444444444444444,
              "#bd3786"
             ],
             [
              0.5555555555555556,
              "#d8576b"
             ],
             [
              0.6666666666666666,
              "#ed7953"
             ],
             [
              0.7777777777777778,
              "#fb9f3a"
             ],
             [
              0.8888888888888888,
              "#fdca26"
             ],
             [
              1,
              "#f0f921"
             ]
            ],
            "type": "heatmapgl"
           }
          ],
          "histogram": [
           {
            "marker": {
             "colorbar": {
              "outlinewidth": 0,
              "ticks": ""
             }
            },
            "type": "histogram"
           }
          ],
          "histogram2d": [
           {
            "colorbar": {
             "outlinewidth": 0,
             "ticks": ""
            },
            "colorscale": [
             [
              0,
              "#0d0887"
             ],
             [
              0.1111111111111111,
              "#46039f"
             ],
             [
              0.2222222222222222,
              "#7201a8"
             ],
             [
              0.3333333333333333,
              "#9c179e"
             ],
             [
              0.4444444444444444,
              "#bd3786"
             ],
             [
              0.5555555555555556,
              "#d8576b"
             ],
             [
              0.6666666666666666,
              "#ed7953"
             ],
             [
              0.7777777777777778,
              "#fb9f3a"
             ],
             [
              0.8888888888888888,
              "#fdca26"
             ],
             [
              1,
              "#f0f921"
             ]
            ],
            "type": "histogram2d"
           }
          ],
          "histogram2dcontour": [
           {
            "colorbar": {
             "outlinewidth": 0,
             "ticks": ""
            },
            "colorscale": [
             [
              0,
              "#0d0887"
             ],
             [
              0.1111111111111111,
              "#46039f"
             ],
             [
              0.2222222222222222,
              "#7201a8"
             ],
             [
              0.3333333333333333,
              "#9c179e"
             ],
             [
              0.4444444444444444,
              "#bd3786"
             ],
             [
              0.5555555555555556,
              "#d8576b"
             ],
             [
              0.6666666666666666,
              "#ed7953"
             ],
             [
              0.7777777777777778,
              "#fb9f3a"
             ],
             [
              0.8888888888888888,
              "#fdca26"
             ],
             [
              1,
              "#f0f921"
             ]
            ],
            "type": "histogram2dcontour"
           }
          ],
          "mesh3d": [
           {
            "colorbar": {
             "outlinewidth": 0,
             "ticks": ""
            },
            "type": "mesh3d"
           }
          ],
          "parcoords": [
           {
            "line": {
             "colorbar": {
              "outlinewidth": 0,
              "ticks": ""
             }
            },
            "type": "parcoords"
           }
          ],
          "pie": [
           {
            "automargin": true,
            "type": "pie"
           }
          ],
          "scatter": [
           {
            "marker": {
             "colorbar": {
              "outlinewidth": 0,
              "ticks": ""
             }
            },
            "type": "scatter"
           }
          ],
          "scatter3d": [
           {
            "line": {
             "colorbar": {
              "outlinewidth": 0,
              "ticks": ""
             }
            },
            "marker": {
             "colorbar": {
              "outlinewidth": 0,
              "ticks": ""
             }
            },
            "type": "scatter3d"
           }
          ],
          "scattercarpet": [
           {
            "marker": {
             "colorbar": {
              "outlinewidth": 0,
              "ticks": ""
             }
            },
            "type": "scattercarpet"
           }
          ],
          "scattergeo": [
           {
            "marker": {
             "colorbar": {
              "outlinewidth": 0,
              "ticks": ""
             }
            },
            "type": "scattergeo"
           }
          ],
          "scattergl": [
           {
            "marker": {
             "colorbar": {
              "outlinewidth": 0,
              "ticks": ""
             }
            },
            "type": "scattergl"
           }
          ],
          "scattermapbox": [
           {
            "marker": {
             "colorbar": {
              "outlinewidth": 0,
              "ticks": ""
             }
            },
            "type": "scattermapbox"
           }
          ],
          "scatterpolar": [
           {
            "marker": {
             "colorbar": {
              "outlinewidth": 0,
              "ticks": ""
             }
            },
            "type": "scatterpolar"
           }
          ],
          "scatterpolargl": [
           {
            "marker": {
             "colorbar": {
              "outlinewidth": 0,
              "ticks": ""
             }
            },
            "type": "scatterpolargl"
           }
          ],
          "scatterternary": [
           {
            "marker": {
             "colorbar": {
              "outlinewidth": 0,
              "ticks": ""
             }
            },
            "type": "scatterternary"
           }
          ],
          "surface": [
           {
            "colorbar": {
             "outlinewidth": 0,
             "ticks": ""
            },
            "colorscale": [
             [
              0,
              "#0d0887"
             ],
             [
              0.1111111111111111,
              "#46039f"
             ],
             [
              0.2222222222222222,
              "#7201a8"
             ],
             [
              0.3333333333333333,
              "#9c179e"
             ],
             [
              0.4444444444444444,
              "#bd3786"
             ],
             [
              0.5555555555555556,
              "#d8576b"
             ],
             [
              0.6666666666666666,
              "#ed7953"
             ],
             [
              0.7777777777777778,
              "#fb9f3a"
             ],
             [
              0.8888888888888888,
              "#fdca26"
             ],
             [
              1,
              "#f0f921"
             ]
            ],
            "type": "surface"
           }
          ],
          "table": [
           {
            "cells": {
             "fill": {
              "color": "#EBF0F8"
             },
             "line": {
              "color": "white"
             }
            },
            "header": {
             "fill": {
              "color": "#C8D4E3"
             },
             "line": {
              "color": "white"
             }
            },
            "type": "table"
           }
          ]
         },
         "layout": {
          "annotationdefaults": {
           "arrowcolor": "#2a3f5f",
           "arrowhead": 0,
           "arrowwidth": 1
          },
          "coloraxis": {
           "colorbar": {
            "outlinewidth": 0,
            "ticks": ""
           }
          },
          "colorscale": {
           "diverging": [
            [
             0,
             "#8e0152"
            ],
            [
             0.1,
             "#c51b7d"
            ],
            [
             0.2,
             "#de77ae"
            ],
            [
             0.3,
             "#f1b6da"
            ],
            [
             0.4,
             "#fde0ef"
            ],
            [
             0.5,
             "#f7f7f7"
            ],
            [
             0.6,
             "#e6f5d0"
            ],
            [
             0.7,
             "#b8e186"
            ],
            [
             0.8,
             "#7fbc41"
            ],
            [
             0.9,
             "#4d9221"
            ],
            [
             1,
             "#276419"
            ]
           ],
           "sequential": [
            [
             0,
             "#0d0887"
            ],
            [
             0.1111111111111111,
             "#46039f"
            ],
            [
             0.2222222222222222,
             "#7201a8"
            ],
            [
             0.3333333333333333,
             "#9c179e"
            ],
            [
             0.4444444444444444,
             "#bd3786"
            ],
            [
             0.5555555555555556,
             "#d8576b"
            ],
            [
             0.6666666666666666,
             "#ed7953"
            ],
            [
             0.7777777777777778,
             "#fb9f3a"
            ],
            [
             0.8888888888888888,
             "#fdca26"
            ],
            [
             1,
             "#f0f921"
            ]
           ],
           "sequentialminus": [
            [
             0,
             "#0d0887"
            ],
            [
             0.1111111111111111,
             "#46039f"
            ],
            [
             0.2222222222222222,
             "#7201a8"
            ],
            [
             0.3333333333333333,
             "#9c179e"
            ],
            [
             0.4444444444444444,
             "#bd3786"
            ],
            [
             0.5555555555555556,
             "#d8576b"
            ],
            [
             0.6666666666666666,
             "#ed7953"
            ],
            [
             0.7777777777777778,
             "#fb9f3a"
            ],
            [
             0.8888888888888888,
             "#fdca26"
            ],
            [
             1,
             "#f0f921"
            ]
           ]
          },
          "colorway": [
           "#636efa",
           "#EF553B",
           "#00cc96",
           "#ab63fa",
           "#FFA15A",
           "#19d3f3",
           "#FF6692",
           "#B6E880",
           "#FF97FF",
           "#FECB52"
          ],
          "font": {
           "color": "#2a3f5f"
          },
          "geo": {
           "bgcolor": "white",
           "lakecolor": "white",
           "landcolor": "#E5ECF6",
           "showlakes": true,
           "showland": true,
           "subunitcolor": "white"
          },
          "hoverlabel": {
           "align": "left"
          },
          "hovermode": "closest",
          "mapbox": {
           "style": "light"
          },
          "paper_bgcolor": "white",
          "plot_bgcolor": "#E5ECF6",
          "polar": {
           "angularaxis": {
            "gridcolor": "white",
            "linecolor": "white",
            "ticks": ""
           },
           "bgcolor": "#E5ECF6",
           "radialaxis": {
            "gridcolor": "white",
            "linecolor": "white",
            "ticks": ""
           }
          },
          "scene": {
           "xaxis": {
            "backgroundcolor": "#E5ECF6",
            "gridcolor": "white",
            "gridwidth": 2,
            "linecolor": "white",
            "showbackground": true,
            "ticks": "",
            "zerolinecolor": "white"
           },
           "yaxis": {
            "backgroundcolor": "#E5ECF6",
            "gridcolor": "white",
            "gridwidth": 2,
            "linecolor": "white",
            "showbackground": true,
            "ticks": "",
            "zerolinecolor": "white"
           },
           "zaxis": {
            "backgroundcolor": "#E5ECF6",
            "gridcolor": "white",
            "gridwidth": 2,
            "linecolor": "white",
            "showbackground": true,
            "ticks": "",
            "zerolinecolor": "white"
           }
          },
          "shapedefaults": {
           "line": {
            "color": "#2a3f5f"
           }
          },
          "ternary": {
           "aaxis": {
            "gridcolor": "white",
            "linecolor": "white",
            "ticks": ""
           },
           "baxis": {
            "gridcolor": "white",
            "linecolor": "white",
            "ticks": ""
           },
           "bgcolor": "#E5ECF6",
           "caxis": {
            "gridcolor": "white",
            "linecolor": "white",
            "ticks": ""
           }
          },
          "title": {
           "x": 0.05
          },
          "xaxis": {
           "automargin": true,
           "gridcolor": "white",
           "linecolor": "white",
           "ticks": "",
           "title": {
            "standoff": 15
           },
           "zerolinecolor": "white",
           "zerolinewidth": 2
          },
          "yaxis": {
           "automargin": true,
           "gridcolor": "white",
           "linecolor": "white",
           "ticks": "",
           "title": {
            "standoff": 15
           },
           "zerolinecolor": "white",
           "zerolinewidth": 2
          }
         }
        },
        "title": {
         "font": {
          "color": "#4D5663"
         }
        },
        "xaxis": {
         "gridcolor": "#E1E5ED",
         "showgrid": true,
         "tickfont": {
          "color": "#4D5663"
         },
         "title": {
          "font": {
           "color": "#4D5663"
          },
          "text": ""
         },
         "zerolinecolor": "#E1E5ED"
        },
        "yaxis": {
         "gridcolor": "#E1E5ED",
         "showgrid": true,
         "tickfont": {
          "color": "#4D5663"
         },
         "title": {
          "font": {
           "color": "#4D5663"
          },
          "text": ""
         },
         "zerolinecolor": "#E1E5ED"
        }
       }
      },
      "text/html": [
       "<div>\n",
       "        \n",
       "        \n",
       "            <div id=\"5c45c937-58e7-482e-8b62-6ab8644df69e\" class=\"plotly-graph-div\" style=\"height:525px; width:100%;\"></div>\n",
       "            <script type=\"text/javascript\">\n",
       "                require([\"plotly\"], function(Plotly) {\n",
       "                    window.PLOTLYENV=window.PLOTLYENV || {};\n",
       "                    window.PLOTLYENV.BASE_URL='https://plot.ly';\n",
       "                    \n",
       "                if (document.getElementById(\"5c45c937-58e7-482e-8b62-6ab8644df69e\")) {\n",
       "                    Plotly.newPlot(\n",
       "                        '5c45c937-58e7-482e-8b62-6ab8644df69e',\n",
       "                        [{\"marker\": {\"color\": [\"rgb(255, 153, 51)\", \"rgb(55, 128, 191)\", \"rgb(50, 171, 96)\", \"rgb(128, 0, 128)\", \"rgb(219, 64, 82)\", \"rgb(0, 128, 128)\", \"rgb(255, 255, 51)\", \"rgb(128, 128, 0)\", \"rgb(251, 128, 114)\", \"rgb(128, 177, 211)\"], \"line\": {\"width\": 1.3}, \"size\": [81, 61, 41, 57, 108, 25, 74, 23, 42, 58, 39, 44, 97, 38, 55, 61, 55, 61, 47, 41, 64, 35, 64, 62, 83, 50, 49, 63, 53, 80, 50, 66, 19, 41, 73, 67, 61, 66, 64, 90, 68, 50, 69, 55, 98, 71, 44, 84, 52, 65, 66, 30, 60, 12, 74, 71, 77, 100, 61, 73, 77, 56, 44, 86, 79, 51, 37, 55, 84, 66, 39, 60, 60, 46, 55, 112, 70, 62, 54, 83, 60, 68, 31, 99, 67, 65, 43, 42, 55, 73, 70, 49, 90, 70, 55, 59, 76, 87, 62, 69], \"symbol\": \"circle\"}, \"mode\": \"markers\", \"text\": \"\", \"type\": \"scatter\", \"x\": [1.5142186544122638, 0.27895064943248915, -1.2772201606503015, 0.7176215978752194, 1.0242630534311887, -0.18782350124528943, -0.15971406208206046, -0.09450672113595138, 1.101557217961529, 1.760246324420678, 0.4957627962412397, 1.4410840240165774, 0.890736201554487, -0.1973859512432099, -0.22647367315349648, 0.9600258803516739, -0.22695644558189895, 0.9014455961017745, -1.0352942125712694, 1.3614210778771305, 1.438341742803549, 0.0062457188416346066, -0.34075842820041674, 1.1645719966781778, 3.251475167837798, 0.3585119159665232, 0.35559795617521023, -1.4927235063683504, -0.09654662808693423, -0.057294310675322785, -0.48183583073170233, -0.5382944548854823, 0.9208574046073155, -0.6302021900122878, 0.30933377625955083, -0.46552971679190036, -0.912246971568453, 0.663008040972662, 1.2686499433429357, 0.36508507101402465, 0.13357487450389904, -0.20648604070240084, 0.49234018847418437, -1.0079776998156387, -1.3502695696598568, 0.5959137955318851, -0.3372748183372034, -1.7190172045328507, 0.3701065313721388, -1.109452713943562, 0.11680700607062913, -0.8627209126237989, -0.8575591132443635, -0.044169557298888655, -0.7955907040068338, 0.12234260476958768, -1.0760163613813911, -0.8283533358210704, 0.268329750244207, 1.066892146131821, -0.6553844559897053, -0.644878025080047, 0.28702367749052854, -0.41938747626877115, 1.959073984465897, -1.1269742470876678, 3.8538700868814058, 0.8705990773885701, 0.5240821424022016, 0.33280913610094887, 0.4259038558689888, -1.2700198508155802, -0.5263315245506245, -0.1637455667230135, 2.213359350383037, -0.4878057724962988, -0.46568550675433373, 0.9524119005427031, 1.7669535874688445, 0.9320713319598105, 1.0426693299362813, -1.7119433140080471, -0.2723835374814382, -1.4597336316316212, 0.7187397058115067, 0.5706065969920404, 0.023982717991074275, -0.7639207845885283, -0.9117422967467312, -0.5438741254817734, -0.7489289965331479, 1.0933015307053855, -0.33036206127818424, 0.573877123376443, 1.548344828251328, -0.2994560355888004, 0.47710475522997875, -1.7490432446344575, -0.615644586432859, -0.0696319730489194], \"y\": [-0.9153410714929735, 1.6358976547955704, 0.09255099576014963, 1.5400934402495086, 0.6425658299894662, -0.26179888744269847, 1.0273186956146738, -0.6307535418604402, -2.5346978546476517, -2.1897817281056837, 0.8311035354450367, 0.6399383182121887, -0.9403607387553982, 0.7078174444510166, -0.45457637870870515, 1.1980318577308495, -0.11554976053470527, 0.30680062220353793, -0.9217244314001211, -0.6663874786748377, 1.32120609432077, 1.0109233247836378, -0.1824269769280658, -1.0488991304782136, 1.0662243347339762, -0.9034244394440355, -0.3263330312314083, -0.2607788207729719, -2.4278016862124088, -0.12711866662850796, -0.36884387842295946, 0.6429063120523958, 0.14881899593559214, -0.43653258631725117, 1.1884826095900352, 2.178398074485583, -0.06233515306434373, 0.2587311274407884, -0.3741404646665351, 0.30626494513246, -2.126751910804884, -2.060133981135926, 1.5529239103471126, -0.38836926178255654, 0.3942599587482798, 1.5803964142097777, -1.0523833241987806, -0.01657286604126695, -0.770066526216671, 0.9920549755691876, 0.22018622155780793, 0.9478438860931523, 2.5346802705488365, 0.30453558445497775, 0.44999869484970006, 0.1329256362940828, 0.5257532229366679, 0.6353351705845959, 1.3939366249738248, -0.22346756860341713, 1.1700863549033256, -0.6893141589265049, -0.7284549415162579, 1.0979628734277693, -0.9852892186534995, 0.04408684809316521, -0.3768717795879098, -0.09487210728594804, 0.40576310664905313, 0.4280661826615465, -0.8014571020621714, -1.192492353104392, 0.9009984970801053, -0.6804664819337662, -0.05322152993200261, -0.5406055085130784, -1.1648516692905604, -0.4866434874688328, -0.2527643374481889, -0.49051314591226564, 0.4483948614666029, -0.1286617016280999, 0.7375815043599231, -1.2179161391289677, 1.329503329537658, 0.6406407101277446, -0.3885952375410158, -1.3344868258260545, 0.021479658397961912, 0.14220431097964045, 0.6956144127780031, -1.2274294853474346, 0.8445551976348453, -0.27707728983608126, -1.044478370898736, -1.0342492050125447, 1.8384683805763349, -0.47129373877017977, 0.2826769281895832, 0.29606799065000583]}],\n",
       "                        {\"legend\": {\"bgcolor\": \"#F5F6F9\", \"font\": {\"color\": \"#4D5663\"}}, \"paper_bgcolor\": \"#F5F6F9\", \"plot_bgcolor\": \"#F5F6F9\", \"template\": {\"data\": {\"bar\": [{\"error_x\": {\"color\": \"#2a3f5f\"}, \"error_y\": {\"color\": \"#2a3f5f\"}, \"marker\": {\"line\": {\"color\": \"#E5ECF6\", \"width\": 0.5}}, \"type\": \"bar\"}], \"barpolar\": [{\"marker\": {\"line\": {\"color\": \"#E5ECF6\", \"width\": 0.5}}, \"type\": \"barpolar\"}], \"carpet\": [{\"aaxis\": {\"endlinecolor\": \"#2a3f5f\", \"gridcolor\": \"white\", \"linecolor\": \"white\", \"minorgridcolor\": \"white\", \"startlinecolor\": \"#2a3f5f\"}, \"baxis\": {\"endlinecolor\": \"#2a3f5f\", \"gridcolor\": \"white\", \"linecolor\": \"white\", \"minorgridcolor\": \"white\", \"startlinecolor\": \"#2a3f5f\"}, \"type\": \"carpet\"}], \"choropleth\": [{\"colorbar\": {\"outlinewidth\": 0, \"ticks\": \"\"}, \"type\": \"choropleth\"}], \"contour\": [{\"colorbar\": {\"outlinewidth\": 0, \"ticks\": \"\"}, \"colorscale\": [[0.0, \"#0d0887\"], [0.1111111111111111, \"#46039f\"], [0.2222222222222222, \"#7201a8\"], [0.3333333333333333, \"#9c179e\"], [0.4444444444444444, \"#bd3786\"], [0.5555555555555556, \"#d8576b\"], [0.6666666666666666, \"#ed7953\"], [0.7777777777777778, \"#fb9f3a\"], [0.8888888888888888, \"#fdca26\"], [1.0, \"#f0f921\"]], \"type\": \"contour\"}], \"contourcarpet\": [{\"colorbar\": {\"outlinewidth\": 0, \"ticks\": \"\"}, \"type\": \"contourcarpet\"}], \"heatmap\": [{\"colorbar\": {\"outlinewidth\": 0, \"ticks\": \"\"}, \"colorscale\": [[0.0, \"#0d0887\"], [0.1111111111111111, \"#46039f\"], [0.2222222222222222, \"#7201a8\"], [0.3333333333333333, \"#9c179e\"], [0.4444444444444444, \"#bd3786\"], [0.5555555555555556, \"#d8576b\"], [0.6666666666666666, \"#ed7953\"], [0.7777777777777778, \"#fb9f3a\"], [0.8888888888888888, \"#fdca26\"], [1.0, \"#f0f921\"]], \"type\": \"heatmap\"}], \"heatmapgl\": [{\"colorbar\": {\"outlinewidth\": 0, \"ticks\": \"\"}, \"colorscale\": [[0.0, \"#0d0887\"], [0.1111111111111111, \"#46039f\"], [0.2222222222222222, \"#7201a8\"], [0.3333333333333333, \"#9c179e\"], [0.4444444444444444, \"#bd3786\"], [0.5555555555555556, \"#d8576b\"], [0.6666666666666666, \"#ed7953\"], [0.7777777777777778, \"#fb9f3a\"], [0.8888888888888888, \"#fdca26\"], [1.0, \"#f0f921\"]], \"type\": \"heatmapgl\"}], \"histogram\": [{\"marker\": {\"colorbar\": {\"outlinewidth\": 0, \"ticks\": \"\"}}, \"type\": \"histogram\"}], \"histogram2d\": [{\"colorbar\": {\"outlinewidth\": 0, \"ticks\": \"\"}, \"colorscale\": [[0.0, \"#0d0887\"], [0.1111111111111111, \"#46039f\"], [0.2222222222222222, \"#7201a8\"], [0.3333333333333333, \"#9c179e\"], [0.4444444444444444, \"#bd3786\"], [0.5555555555555556, \"#d8576b\"], [0.6666666666666666, \"#ed7953\"], [0.7777777777777778, \"#fb9f3a\"], [0.8888888888888888, \"#fdca26\"], [1.0, \"#f0f921\"]], \"type\": \"histogram2d\"}], \"histogram2dcontour\": [{\"colorbar\": {\"outlinewidth\": 0, \"ticks\": \"\"}, \"colorscale\": [[0.0, \"#0d0887\"], [0.1111111111111111, \"#46039f\"], [0.2222222222222222, \"#7201a8\"], [0.3333333333333333, \"#9c179e\"], [0.4444444444444444, \"#bd3786\"], [0.5555555555555556, \"#d8576b\"], [0.6666666666666666, \"#ed7953\"], [0.7777777777777778, \"#fb9f3a\"], [0.8888888888888888, \"#fdca26\"], [1.0, \"#f0f921\"]], \"type\": \"histogram2dcontour\"}], \"mesh3d\": [{\"colorbar\": {\"outlinewidth\": 0, \"ticks\": \"\"}, \"type\": \"mesh3d\"}], \"parcoords\": [{\"line\": {\"colorbar\": {\"outlinewidth\": 0, \"ticks\": \"\"}}, \"type\": \"parcoords\"}], \"pie\": [{\"automargin\": true, \"type\": \"pie\"}], \"scatter\": [{\"marker\": {\"colorbar\": {\"outlinewidth\": 0, \"ticks\": \"\"}}, \"type\": \"scatter\"}], \"scatter3d\": [{\"line\": {\"colorbar\": {\"outlinewidth\": 0, \"ticks\": \"\"}}, \"marker\": {\"colorbar\": {\"outlinewidth\": 0, \"ticks\": \"\"}}, \"type\": \"scatter3d\"}], \"scattercarpet\": [{\"marker\": {\"colorbar\": {\"outlinewidth\": 0, \"ticks\": \"\"}}, \"type\": \"scattercarpet\"}], \"scattergeo\": [{\"marker\": {\"colorbar\": {\"outlinewidth\": 0, \"ticks\": \"\"}}, \"type\": \"scattergeo\"}], \"scattergl\": [{\"marker\": {\"colorbar\": {\"outlinewidth\": 0, \"ticks\": \"\"}}, \"type\": \"scattergl\"}], \"scattermapbox\": [{\"marker\": {\"colorbar\": {\"outlinewidth\": 0, \"ticks\": \"\"}}, \"type\": \"scattermapbox\"}], \"scatterpolar\": [{\"marker\": {\"colorbar\": {\"outlinewidth\": 0, \"ticks\": \"\"}}, \"type\": \"scatterpolar\"}], \"scatterpolargl\": [{\"marker\": {\"colorbar\": {\"outlinewidth\": 0, \"ticks\": \"\"}}, \"type\": \"scatterpolargl\"}], \"scatterternary\": [{\"marker\": {\"colorbar\": {\"outlinewidth\": 0, \"ticks\": \"\"}}, \"type\": \"scatterternary\"}], \"surface\": [{\"colorbar\": {\"outlinewidth\": 0, \"ticks\": \"\"}, \"colorscale\": [[0.0, \"#0d0887\"], [0.1111111111111111, \"#46039f\"], [0.2222222222222222, \"#7201a8\"], [0.3333333333333333, \"#9c179e\"], [0.4444444444444444, \"#bd3786\"], [0.5555555555555556, \"#d8576b\"], [0.6666666666666666, \"#ed7953\"], [0.7777777777777778, \"#fb9f3a\"], [0.8888888888888888, \"#fdca26\"], [1.0, \"#f0f921\"]], \"type\": \"surface\"}], \"table\": [{\"cells\": {\"fill\": {\"color\": \"#EBF0F8\"}, \"line\": {\"color\": \"white\"}}, \"header\": {\"fill\": {\"color\": \"#C8D4E3\"}, \"line\": {\"color\": \"white\"}}, \"type\": \"table\"}]}, \"layout\": {\"annotationdefaults\": {\"arrowcolor\": \"#2a3f5f\", \"arrowhead\": 0, \"arrowwidth\": 1}, \"coloraxis\": {\"colorbar\": {\"outlinewidth\": 0, \"ticks\": \"\"}}, \"colorscale\": {\"diverging\": [[0, \"#8e0152\"], [0.1, \"#c51b7d\"], [0.2, \"#de77ae\"], [0.3, \"#f1b6da\"], [0.4, \"#fde0ef\"], [0.5, \"#f7f7f7\"], [0.6, \"#e6f5d0\"], [0.7, \"#b8e186\"], [0.8, \"#7fbc41\"], [0.9, \"#4d9221\"], [1, \"#276419\"]], \"sequential\": [[0.0, \"#0d0887\"], [0.1111111111111111, \"#46039f\"], [0.2222222222222222, \"#7201a8\"], [0.3333333333333333, \"#9c179e\"], [0.4444444444444444, \"#bd3786\"], [0.5555555555555556, \"#d8576b\"], [0.6666666666666666, \"#ed7953\"], [0.7777777777777778, \"#fb9f3a\"], [0.8888888888888888, \"#fdca26\"], [1.0, \"#f0f921\"]], \"sequentialminus\": [[0.0, \"#0d0887\"], [0.1111111111111111, \"#46039f\"], [0.2222222222222222, \"#7201a8\"], [0.3333333333333333, \"#9c179e\"], [0.4444444444444444, \"#bd3786\"], [0.5555555555555556, \"#d8576b\"], [0.6666666666666666, \"#ed7953\"], [0.7777777777777778, \"#fb9f3a\"], [0.8888888888888888, \"#fdca26\"], [1.0, \"#f0f921\"]]}, \"colorway\": [\"#636efa\", \"#EF553B\", \"#00cc96\", \"#ab63fa\", \"#FFA15A\", \"#19d3f3\", \"#FF6692\", \"#B6E880\", \"#FF97FF\", \"#FECB52\"], \"font\": {\"color\": \"#2a3f5f\"}, \"geo\": {\"bgcolor\": \"white\", \"lakecolor\": \"white\", \"landcolor\": \"#E5ECF6\", \"showlakes\": true, \"showland\": true, \"subunitcolor\": \"white\"}, \"hoverlabel\": {\"align\": \"left\"}, \"hovermode\": \"closest\", \"mapbox\": {\"style\": \"light\"}, \"paper_bgcolor\": \"white\", \"plot_bgcolor\": \"#E5ECF6\", \"polar\": {\"angularaxis\": {\"gridcolor\": \"white\", \"linecolor\": \"white\", \"ticks\": \"\"}, \"bgcolor\": \"#E5ECF6\", \"radialaxis\": {\"gridcolor\": \"white\", \"linecolor\": \"white\", \"ticks\": \"\"}}, \"scene\": {\"xaxis\": {\"backgroundcolor\": \"#E5ECF6\", \"gridcolor\": \"white\", \"gridwidth\": 2, \"linecolor\": \"white\", \"showbackground\": true, \"ticks\": \"\", \"zerolinecolor\": \"white\"}, \"yaxis\": {\"backgroundcolor\": \"#E5ECF6\", \"gridcolor\": \"white\", \"gridwidth\": 2, \"linecolor\": \"white\", \"showbackground\": true, \"ticks\": \"\", \"zerolinecolor\": \"white\"}, \"zaxis\": {\"backgroundcolor\": \"#E5ECF6\", \"gridcolor\": \"white\", \"gridwidth\": 2, \"linecolor\": \"white\", \"showbackground\": true, \"ticks\": \"\", \"zerolinecolor\": \"white\"}}, \"shapedefaults\": {\"line\": {\"color\": \"#2a3f5f\"}}, \"ternary\": {\"aaxis\": {\"gridcolor\": \"white\", \"linecolor\": \"white\", \"ticks\": \"\"}, \"baxis\": {\"gridcolor\": \"white\", \"linecolor\": \"white\", \"ticks\": \"\"}, \"bgcolor\": \"#E5ECF6\", \"caxis\": {\"gridcolor\": \"white\", \"linecolor\": \"white\", \"ticks\": \"\"}}, \"title\": {\"x\": 0.05}, \"xaxis\": {\"automargin\": true, \"gridcolor\": \"white\", \"linecolor\": \"white\", \"ticks\": \"\", \"title\": {\"standoff\": 15}, \"zerolinecolor\": \"white\", \"zerolinewidth\": 2}, \"yaxis\": {\"automargin\": true, \"gridcolor\": \"white\", \"linecolor\": \"white\", \"ticks\": \"\", \"title\": {\"standoff\": 15}, \"zerolinecolor\": \"white\", \"zerolinewidth\": 2}}}, \"title\": {\"font\": {\"color\": \"#4D5663\"}}, \"xaxis\": {\"gridcolor\": \"#E1E5ED\", \"showgrid\": true, \"tickfont\": {\"color\": \"#4D5663\"}, \"title\": {\"font\": {\"color\": \"#4D5663\"}, \"text\": \"\"}, \"zerolinecolor\": \"#E1E5ED\"}, \"yaxis\": {\"gridcolor\": \"#E1E5ED\", \"showgrid\": true, \"tickfont\": {\"color\": \"#4D5663\"}, \"title\": {\"font\": {\"color\": \"#4D5663\"}, \"text\": \"\"}, \"zerolinecolor\": \"#E1E5ED\"}},\n",
       "                        {\"showLink\": true, \"linkText\": \"Export to plot.ly\", \"plotlyServerURL\": \"https://plot.ly\", \"responsive\": true}\n",
       "                    ).then(function(){\n",
       "                            \n",
       "var gd = document.getElementById('5c45c937-58e7-482e-8b62-6ab8644df69e');\n",
       "var x = new MutationObserver(function (mutations, observer) {{\n",
       "        var display = window.getComputedStyle(gd).display;\n",
       "        if (!display || display === 'none') {{\n",
       "            console.log([gd, 'removed!']);\n",
       "            Plotly.purge(gd);\n",
       "            observer.disconnect();\n",
       "        }}\n",
       "}});\n",
       "\n",
       "// Listen for the removal of the full notebook cells\n",
       "var notebookContainer = gd.closest('#notebook-container');\n",
       "if (notebookContainer) {{\n",
       "    x.observe(notebookContainer, {childList: true});\n",
       "}}\n",
       "\n",
       "// Listen for the clearing of the current output cell\n",
       "var outputEl = gd.closest('.output');\n",
       "if (outputEl) {{\n",
       "    x.observe(outputEl, {childList: true});\n",
       "}}\n",
       "\n",
       "                        })\n",
       "                };\n",
       "                });\n",
       "            </script>\n",
       "        </div>"
      ]
     },
     "metadata": {},
     "output_type": "display_data"
    }
   ],
   "source": [
    "df.iplot(kind='bubble', x='A', y='B', size='C')"
   ]
  },
  {
   "cell_type": "markdown",
   "metadata": {},
   "source": [
    "Dispersão em matriz:"
   ]
  },
  {
   "cell_type": "code",
   "execution_count": 28,
   "metadata": {},
   "outputs": [
    {
     "data": {
      "application/vnd.plotly.v1+json": {
       "config": {
        "linkText": "Export to plot.ly",
        "plotlyServerURL": "https://plot.ly",
        "showLink": true
       },
       "data": [
        {
         "histfunc": "count",
         "histnorm": "",
         "marker": {
          "color": "rgba(255, 153, 51, 1.0)",
          "line": {
           "color": "#4D5663",
           "width": 1.3
          }
         },
         "name": "A",
         "nbinsx": 10,
         "opacity": 0.8,
         "orientation": "v",
         "type": "histogram",
         "x": [
          1.5142186544122638,
          0.27895064943248915,
          -1.2772201606503015,
          0.7176215978752194,
          1.0242630534311887,
          -0.18782350124528943,
          -0.15971406208206046,
          -0.09450672113595138,
          1.101557217961529,
          1.760246324420678,
          0.4957627962412397,
          1.4410840240165774,
          0.890736201554487,
          -0.1973859512432099,
          -0.22647367315349648,
          0.9600258803516739,
          -0.22695644558189895,
          0.9014455961017745,
          -1.0352942125712694,
          1.3614210778771305,
          1.438341742803549,
          0.0062457188416346066,
          -0.34075842820041674,
          1.1645719966781778,
          3.251475167837798,
          0.3585119159665232,
          0.35559795617521023,
          -1.4927235063683504,
          -0.09654662808693423,
          -0.057294310675322785,
          -0.48183583073170233,
          -0.5382944548854823,
          0.9208574046073155,
          -0.6302021900122878,
          0.30933377625955083,
          -0.46552971679190036,
          -0.912246971568453,
          0.663008040972662,
          1.2686499433429357,
          0.36508507101402465,
          0.13357487450389904,
          -0.20648604070240084,
          0.49234018847418437,
          -1.0079776998156387,
          -1.3502695696598568,
          0.5959137955318851,
          -0.3372748183372034,
          -1.7190172045328507,
          0.3701065313721388,
          -1.109452713943562,
          0.11680700607062913,
          -0.8627209126237989,
          -0.8575591132443635,
          -0.044169557298888655,
          -0.7955907040068338,
          0.12234260476958768,
          -1.0760163613813911,
          -0.8283533358210704,
          0.268329750244207,
          1.066892146131821,
          -0.6553844559897053,
          -0.644878025080047,
          0.28702367749052854,
          -0.41938747626877115,
          1.959073984465897,
          -1.1269742470876678,
          3.8538700868814058,
          0.8705990773885701,
          0.5240821424022016,
          0.33280913610094887,
          0.4259038558689888,
          -1.2700198508155802,
          -0.5263315245506245,
          -0.1637455667230135,
          2.213359350383037,
          -0.4878057724962988,
          -0.46568550675433373,
          0.9524119005427031,
          1.7669535874688445,
          0.9320713319598105,
          1.0426693299362813,
          -1.7119433140080471,
          -0.2723835374814382,
          -1.4597336316316212,
          0.7187397058115067,
          0.5706065969920404,
          0.023982717991074275,
          -0.7639207845885283,
          -0.9117422967467312,
          -0.5438741254817734,
          -0.7489289965331479,
          1.0933015307053855,
          -0.33036206127818424,
          0.573877123376443,
          1.548344828251328,
          -0.2994560355888004,
          0.47710475522997875,
          -1.7490432446344575,
          -0.615644586432859,
          -0.0696319730489194
         ],
         "xaxis": "x",
         "yaxis": "y"
        },
        {
         "line": {
          "color": "rgba(128, 128, 128, 1.0)",
          "dash": "solid",
          "shape": "linear",
          "width": 1.3
         },
         "marker": {
          "size": 2,
          "symbol": "circle"
         },
         "mode": "markers",
         "name": "A",
         "text": "",
         "type": "scatter",
         "x": [
          -0.9153410714929735,
          1.6358976547955704,
          0.09255099576014963,
          1.5400934402495086,
          0.6425658299894662,
          -0.26179888744269847,
          1.0273186956146738,
          -0.6307535418604402,
          -2.5346978546476517,
          -2.1897817281056837,
          0.8311035354450367,
          0.6399383182121887,
          -0.9403607387553982,
          0.7078174444510166,
          -0.45457637870870515,
          1.1980318577308495,
          -0.11554976053470527,
          0.30680062220353793,
          -0.9217244314001211,
          -0.6663874786748377,
          1.32120609432077,
          1.0109233247836378,
          -0.1824269769280658,
          -1.0488991304782136,
          1.0662243347339762,
          -0.9034244394440355,
          -0.3263330312314083,
          -0.2607788207729719,
          -2.4278016862124088,
          -0.12711866662850796,
          -0.36884387842295946,
          0.6429063120523958,
          0.14881899593559214,
          -0.43653258631725117,
          1.1884826095900352,
          2.178398074485583,
          -0.06233515306434373,
          0.2587311274407884,
          -0.3741404646665351,
          0.30626494513246,
          -2.126751910804884,
          -2.060133981135926,
          1.5529239103471126,
          -0.38836926178255654,
          0.3942599587482798,
          1.5803964142097777,
          -1.0523833241987806,
          -0.01657286604126695,
          -0.770066526216671,
          0.9920549755691876,
          0.22018622155780793,
          0.9478438860931523,
          2.5346802705488365,
          0.30453558445497775,
          0.44999869484970006,
          0.1329256362940828,
          0.5257532229366679,
          0.6353351705845959,
          1.3939366249738248,
          -0.22346756860341713,
          1.1700863549033256,
          -0.6893141589265049,
          -0.7284549415162579,
          1.0979628734277693,
          -0.9852892186534995,
          0.04408684809316521,
          -0.3768717795879098,
          -0.09487210728594804,
          0.40576310664905313,
          0.4280661826615465,
          -0.8014571020621714,
          -1.192492353104392,
          0.9009984970801053,
          -0.6804664819337662,
          -0.05322152993200261,
          -0.5406055085130784,
          -1.1648516692905604,
          -0.4866434874688328,
          -0.2527643374481889,
          -0.49051314591226564,
          0.4483948614666029,
          -0.1286617016280999,
          0.7375815043599231,
          -1.2179161391289677,
          1.329503329537658,
          0.6406407101277446,
          -0.3885952375410158,
          -1.3344868258260545,
          0.021479658397961912,
          0.14220431097964045,
          0.6956144127780031,
          -1.2274294853474346,
          0.8445551976348453,
          -0.27707728983608126,
          -1.044478370898736,
          -1.0342492050125447,
          1.8384683805763349,
          -0.47129373877017977,
          0.2826769281895832,
          0.29606799065000583
         ],
         "xaxis": "x2",
         "y": [
          1.5142186544122638,
          0.27895064943248915,
          -1.2772201606503015,
          0.7176215978752194,
          1.0242630534311887,
          -0.18782350124528943,
          -0.15971406208206046,
          -0.09450672113595138,
          1.101557217961529,
          1.760246324420678,
          0.4957627962412397,
          1.4410840240165774,
          0.890736201554487,
          -0.1973859512432099,
          -0.22647367315349648,
          0.9600258803516739,
          -0.22695644558189895,
          0.9014455961017745,
          -1.0352942125712694,
          1.3614210778771305,
          1.438341742803549,
          0.0062457188416346066,
          -0.34075842820041674,
          1.1645719966781778,
          3.251475167837798,
          0.3585119159665232,
          0.35559795617521023,
          -1.4927235063683504,
          -0.09654662808693423,
          -0.057294310675322785,
          -0.48183583073170233,
          -0.5382944548854823,
          0.9208574046073155,
          -0.6302021900122878,
          0.30933377625955083,
          -0.46552971679190036,
          -0.912246971568453,
          0.663008040972662,
          1.2686499433429357,
          0.36508507101402465,
          0.13357487450389904,
          -0.20648604070240084,
          0.49234018847418437,
          -1.0079776998156387,
          -1.3502695696598568,
          0.5959137955318851,
          -0.3372748183372034,
          -1.7190172045328507,
          0.3701065313721388,
          -1.109452713943562,
          0.11680700607062913,
          -0.8627209126237989,
          -0.8575591132443635,
          -0.044169557298888655,
          -0.7955907040068338,
          0.12234260476958768,
          -1.0760163613813911,
          -0.8283533358210704,
          0.268329750244207,
          1.066892146131821,
          -0.6553844559897053,
          -0.644878025080047,
          0.28702367749052854,
          -0.41938747626877115,
          1.959073984465897,
          -1.1269742470876678,
          3.8538700868814058,
          0.8705990773885701,
          0.5240821424022016,
          0.33280913610094887,
          0.4259038558689888,
          -1.2700198508155802,
          -0.5263315245506245,
          -0.1637455667230135,
          2.213359350383037,
          -0.4878057724962988,
          -0.46568550675433373,
          0.9524119005427031,
          1.7669535874688445,
          0.9320713319598105,
          1.0426693299362813,
          -1.7119433140080471,
          -0.2723835374814382,
          -1.4597336316316212,
          0.7187397058115067,
          0.5706065969920404,
          0.023982717991074275,
          -0.7639207845885283,
          -0.9117422967467312,
          -0.5438741254817734,
          -0.7489289965331479,
          1.0933015307053855,
          -0.33036206127818424,
          0.573877123376443,
          1.548344828251328,
          -0.2994560355888004,
          0.47710475522997875,
          -1.7490432446344575,
          -0.615644586432859,
          -0.0696319730489194
         ],
         "yaxis": "y2"
        },
        {
         "line": {
          "color": "rgba(128, 128, 128, 1.0)",
          "dash": "solid",
          "shape": "linear",
          "width": 1.3
         },
         "marker": {
          "size": 2,
          "symbol": "circle"
         },
         "mode": "markers",
         "name": "A",
         "text": "",
         "type": "scatter",
         "x": [
          0.952786651656803,
          -0.09014875287851794,
          -1.0685447512507276,
          -0.24921352859048332,
          2.351969169587414,
          -1.8991212435034521,
          0.6177398434531892,
          -1.9917003769460297,
          -1.0424738903012825,
          -0.22691279113960114,
          -1.1970818844517153,
          -0.9394291053149986,
          1.757266845669264,
          -1.2407937962254503,
          -0.40044773536211387,
          -0.07962671261999174,
          -0.37548314235380925,
          -0.07343692394274298,
          -0.7806192817076086,
          -1.0895517338230685,
          0.07176847416090174,
          -1.4131798523976564,
          0.10320382126301453,
          -0.0025574702503611446,
          1.0722971872386773,
          -0.6490361642546468,
          -0.7056080232365795,
          0.036448555060863155,
          -0.46208863048318394,
          0.8909451927211299,
          -0.6075569427489664,
          0.17212712293151589,
          -2.2020227738434768,
          -1.0841246351259266,
          0.5581037439400494,
          0.2270284074491642,
          -0.046827427525527245,
          0.1708416162951795,
          0.097547606722425,
          1.4010504698153223,
          0.28861231333745696,
          -0.6301749435268477,
          0.35197377626014914,
          -0.3744844363117336,
          1.8219207208840351,
          0.45178522279543637,
          -0.948872768524955,
          1.1216879067308498,
          -0.5051281113933614,
          0.14887277205634297,
          0.1999556486992249,
          -1.6697997275559426,
          -0.1291673926643688,
          -2.5955074455319127,
          0.6071560525654458,
          0.45124691331754824,
          0.7445534695030128,
          1.9102827990950306,
          -0.09043099370692645,
          0.5476464341750529,
          0.7242806242042513,
          -0.34666807435880964,
          -0.9422400923509909,
          1.1944115944422067,
          0.849108361722817,
          -0.587274031667396,
          -1.3004657379502034,
          -0.3963526474289799,
          1.0932422210457229,
          0.16544951931799912,
          -1.2065330083577088,
          -0.10963490444821293,
          -0.1114314635928556,
          -0.8267519161472029,
          -0.39792190493483864,
          2.5060855702308453,
          0.39020636907104783,
          -0.01212829595721143,
          -0.4392766502407867,
          1.0688639552065233,
          -0.13031115107888877,
          0.28125713641044503,
          -1.6253646017719803,
          1.8681690447660622,
          0.22493645123791964,
          0.155567443654224,
          -0.9993681981030387,
          -1.0466997336123318,
          -0.38095818629242206,
          0.5261496897186589,
          0.37650394037431884,
          -0.7025636954005036,
          1.3869796947122683,
          0.4014752796351428,
          -0.3809755265193317,
          -0.1821895709489874,
          0.7181743276632854,
          1.2436847673042648,
          -0.025319473946945892,
          0.33927367748534265
         ],
         "xaxis": "x3",
         "y": [
          1.5142186544122638,
          0.27895064943248915,
          -1.2772201606503015,
          0.7176215978752194,
          1.0242630534311887,
          -0.18782350124528943,
          -0.15971406208206046,
          -0.09450672113595138,
          1.101557217961529,
          1.760246324420678,
          0.4957627962412397,
          1.4410840240165774,
          0.890736201554487,
          -0.1973859512432099,
          -0.22647367315349648,
          0.9600258803516739,
          -0.22695644558189895,
          0.9014455961017745,
          -1.0352942125712694,
          1.3614210778771305,
          1.438341742803549,
          0.0062457188416346066,
          -0.34075842820041674,
          1.1645719966781778,
          3.251475167837798,
          0.3585119159665232,
          0.35559795617521023,
          -1.4927235063683504,
          -0.09654662808693423,
          -0.057294310675322785,
          -0.48183583073170233,
          -0.5382944548854823,
          0.9208574046073155,
          -0.6302021900122878,
          0.30933377625955083,
          -0.46552971679190036,
          -0.912246971568453,
          0.663008040972662,
          1.2686499433429357,
          0.36508507101402465,
          0.13357487450389904,
          -0.20648604070240084,
          0.49234018847418437,
          -1.0079776998156387,
          -1.3502695696598568,
          0.5959137955318851,
          -0.3372748183372034,
          -1.7190172045328507,
          0.3701065313721388,
          -1.109452713943562,
          0.11680700607062913,
          -0.8627209126237989,
          -0.8575591132443635,
          -0.044169557298888655,
          -0.7955907040068338,
          0.12234260476958768,
          -1.0760163613813911,
          -0.8283533358210704,
          0.268329750244207,
          1.066892146131821,
          -0.6553844559897053,
          -0.644878025080047,
          0.28702367749052854,
          -0.41938747626877115,
          1.959073984465897,
          -1.1269742470876678,
          3.8538700868814058,
          0.8705990773885701,
          0.5240821424022016,
          0.33280913610094887,
          0.4259038558689888,
          -1.2700198508155802,
          -0.5263315245506245,
          -0.1637455667230135,
          2.213359350383037,
          -0.4878057724962988,
          -0.46568550675433373,
          0.9524119005427031,
          1.7669535874688445,
          0.9320713319598105,
          1.0426693299362813,
          -1.7119433140080471,
          -0.2723835374814382,
          -1.4597336316316212,
          0.7187397058115067,
          0.5706065969920404,
          0.023982717991074275,
          -0.7639207845885283,
          -0.9117422967467312,
          -0.5438741254817734,
          -0.7489289965331479,
          1.0933015307053855,
          -0.33036206127818424,
          0.573877123376443,
          1.548344828251328,
          -0.2994560355888004,
          0.47710475522997875,
          -1.7490432446344575,
          -0.615644586432859,
          -0.0696319730489194
         ],
         "yaxis": "y3"
        },
        {
         "line": {
          "color": "rgba(128, 128, 128, 1.0)",
          "dash": "solid",
          "shape": "linear",
          "width": 1.3
         },
         "marker": {
          "size": 2,
          "symbol": "circle"
         },
         "mode": "markers",
         "name": "A",
         "text": "",
         "type": "scatter",
         "x": [
          0.9851061875011242,
          0.8582380403595017,
          -0.33705763147266227,
          1.143348296440449,
          -1.9284318445340969,
          1.5529263867241374,
          -0.3314073487210843,
          0.210048778366087,
          0.9772419857702811,
          -0.40555144197030035,
          -0.03211290723392089,
          -0.4051763413170174,
          0.09342461976286336,
          -0.15276548116126995,
          -1.6084766676061713,
          1.3300326843843588,
          -1.7656908341411746,
          1.2849327788844074,
          -1.3035053069028695,
          -1.126224479833057,
          -0.47929533400944885,
          0.5842022873922668,
          0.7904004155000492,
          -0.4891013768360308,
          -0.9520557829866434,
          -0.18334612929308258,
          -0.09699582855961543,
          1.7165193982806102,
          -0.10761765897950101,
          0.6172874068505037,
          1.4847093487359413,
          0.02905190240144271,
          -1.5013129289762308,
          -0.07744689448045243,
          -1.6624800651633258,
          -1.0265472229548933,
          0.8670916714520461,
          1.0426914109891925,
          1.5030112811283998,
          -0.04381679624688889,
          -0.254722581440965,
          0.20537035874761547,
          0.509188461141092,
          -0.4734633460511219,
          -1.905286227779699,
          0.8174965064193349,
          0.11002512874214922,
          0.08973189298899235,
          -0.24371056251516976,
          0.2076202668019951,
          1.3109703381511797,
          -0.23907632790672884,
          -1.131640138377444,
          -0.8681530405257885,
          -0.3316765752439354,
          -0.850094737879196,
          -1.0813888543664887,
          -0.25880086892959125,
          0.4280135636448433,
          -0.9759241685645935,
          0.42732918890384125,
          1.0476821350885444,
          0.09125930196634753,
          -1.3844686576162293,
          -0.7203766720244728,
          0.8944611600520691,
          1.1389195308685285,
          -0.1510571781929448,
          -0.5429626616143252,
          1.6438594470823837,
          -2.387324111421106,
          3.186390712511004,
          -0.3052502835085717,
          0.019401789993793443,
          0.33201005735944206,
          -0.14371547257048126,
          -0.9506788298248029,
          -2.3746285541474883,
          0.18565111413334542,
          1.3406813726300504,
          1.0987267753039165,
          0.24286780703230978,
          0.3587389155096219,
          1.6950598095884886,
          2.280543254135361,
          1.6244332636667975,
          0.6735605616645972,
          -0.6468507158570499,
          -0.3573522725347921,
          -0.23897454250813613,
          1.0850473640524714,
          0.9350061122313391,
          -0.32181332418719005,
          0.015078998276582507,
          0.37012978990539697,
          -0.5591163022749365,
          -1.8576703885043584,
          0.8418962768961537,
          1.2053095774559155,
          0.5658824440956434
         ],
         "xaxis": "x4",
         "y": [
          1.5142186544122638,
          0.27895064943248915,
          -1.2772201606503015,
          0.7176215978752194,
          1.0242630534311887,
          -0.18782350124528943,
          -0.15971406208206046,
          -0.09450672113595138,
          1.101557217961529,
          1.760246324420678,
          0.4957627962412397,
          1.4410840240165774,
          0.890736201554487,
          -0.1973859512432099,
          -0.22647367315349648,
          0.9600258803516739,
          -0.22695644558189895,
          0.9014455961017745,
          -1.0352942125712694,
          1.3614210778771305,
          1.438341742803549,
          0.0062457188416346066,
          -0.34075842820041674,
          1.1645719966781778,
          3.251475167837798,
          0.3585119159665232,
          0.35559795617521023,
          -1.4927235063683504,
          -0.09654662808693423,
          -0.057294310675322785,
          -0.48183583073170233,
          -0.5382944548854823,
          0.9208574046073155,
          -0.6302021900122878,
          0.30933377625955083,
          -0.46552971679190036,
          -0.912246971568453,
          0.663008040972662,
          1.2686499433429357,
          0.36508507101402465,
          0.13357487450389904,
          -0.20648604070240084,
          0.49234018847418437,
          -1.0079776998156387,
          -1.3502695696598568,
          0.5959137955318851,
          -0.3372748183372034,
          -1.7190172045328507,
          0.3701065313721388,
          -1.109452713943562,
          0.11680700607062913,
          -0.8627209126237989,
          -0.8575591132443635,
          -0.044169557298888655,
          -0.7955907040068338,
          0.12234260476958768,
          -1.0760163613813911,
          -0.8283533358210704,
          0.268329750244207,
          1.066892146131821,
          -0.6553844559897053,
          -0.644878025080047,
          0.28702367749052854,
          -0.41938747626877115,
          1.959073984465897,
          -1.1269742470876678,
          3.8538700868814058,
          0.8705990773885701,
          0.5240821424022016,
          0.33280913610094887,
          0.4259038558689888,
          -1.2700198508155802,
          -0.5263315245506245,
          -0.1637455667230135,
          2.213359350383037,
          -0.4878057724962988,
          -0.46568550675433373,
          0.9524119005427031,
          1.7669535874688445,
          0.9320713319598105,
          1.0426693299362813,
          -1.7119433140080471,
          -0.2723835374814382,
          -1.4597336316316212,
          0.7187397058115067,
          0.5706065969920404,
          0.023982717991074275,
          -0.7639207845885283,
          -0.9117422967467312,
          -0.5438741254817734,
          -0.7489289965331479,
          1.0933015307053855,
          -0.33036206127818424,
          0.573877123376443,
          1.548344828251328,
          -0.2994560355888004,
          0.47710475522997875,
          -1.7490432446344575,
          -0.615644586432859,
          -0.0696319730489194
         ],
         "yaxis": "y4"
        },
        {
         "line": {
          "color": "rgba(128, 128, 128, 1.0)",
          "dash": "solid",
          "shape": "linear",
          "width": 1.3
         },
         "marker": {
          "size": 2,
          "symbol": "circle"
         },
         "mode": "markers",
         "name": "B",
         "text": "",
         "type": "scatter",
         "x": [
          1.5142186544122638,
          0.27895064943248915,
          -1.2772201606503015,
          0.7176215978752194,
          1.0242630534311887,
          -0.18782350124528943,
          -0.15971406208206046,
          -0.09450672113595138,
          1.101557217961529,
          1.760246324420678,
          0.4957627962412397,
          1.4410840240165774,
          0.890736201554487,
          -0.1973859512432099,
          -0.22647367315349648,
          0.9600258803516739,
          -0.22695644558189895,
          0.9014455961017745,
          -1.0352942125712694,
          1.3614210778771305,
          1.438341742803549,
          0.0062457188416346066,
          -0.34075842820041674,
          1.1645719966781778,
          3.251475167837798,
          0.3585119159665232,
          0.35559795617521023,
          -1.4927235063683504,
          -0.09654662808693423,
          -0.057294310675322785,
          -0.48183583073170233,
          -0.5382944548854823,
          0.9208574046073155,
          -0.6302021900122878,
          0.30933377625955083,
          -0.46552971679190036,
          -0.912246971568453,
          0.663008040972662,
          1.2686499433429357,
          0.36508507101402465,
          0.13357487450389904,
          -0.20648604070240084,
          0.49234018847418437,
          -1.0079776998156387,
          -1.3502695696598568,
          0.5959137955318851,
          -0.3372748183372034,
          -1.7190172045328507,
          0.3701065313721388,
          -1.109452713943562,
          0.11680700607062913,
          -0.8627209126237989,
          -0.8575591132443635,
          -0.044169557298888655,
          -0.7955907040068338,
          0.12234260476958768,
          -1.0760163613813911,
          -0.8283533358210704,
          0.268329750244207,
          1.066892146131821,
          -0.6553844559897053,
          -0.644878025080047,
          0.28702367749052854,
          -0.41938747626877115,
          1.959073984465897,
          -1.1269742470876678,
          3.8538700868814058,
          0.8705990773885701,
          0.5240821424022016,
          0.33280913610094887,
          0.4259038558689888,
          -1.2700198508155802,
          -0.5263315245506245,
          -0.1637455667230135,
          2.213359350383037,
          -0.4878057724962988,
          -0.46568550675433373,
          0.9524119005427031,
          1.7669535874688445,
          0.9320713319598105,
          1.0426693299362813,
          -1.7119433140080471,
          -0.2723835374814382,
          -1.4597336316316212,
          0.7187397058115067,
          0.5706065969920404,
          0.023982717991074275,
          -0.7639207845885283,
          -0.9117422967467312,
          -0.5438741254817734,
          -0.7489289965331479,
          1.0933015307053855,
          -0.33036206127818424,
          0.573877123376443,
          1.548344828251328,
          -0.2994560355888004,
          0.47710475522997875,
          -1.7490432446344575,
          -0.615644586432859,
          -0.0696319730489194
         ],
         "xaxis": "x5",
         "y": [
          -0.9153410714929735,
          1.6358976547955704,
          0.09255099576014963,
          1.5400934402495086,
          0.6425658299894662,
          -0.26179888744269847,
          1.0273186956146738,
          -0.6307535418604402,
          -2.5346978546476517,
          -2.1897817281056837,
          0.8311035354450367,
          0.6399383182121887,
          -0.9403607387553982,
          0.7078174444510166,
          -0.45457637870870515,
          1.1980318577308495,
          -0.11554976053470527,
          0.30680062220353793,
          -0.9217244314001211,
          -0.6663874786748377,
          1.32120609432077,
          1.0109233247836378,
          -0.1824269769280658,
          -1.0488991304782136,
          1.0662243347339762,
          -0.9034244394440355,
          -0.3263330312314083,
          -0.2607788207729719,
          -2.4278016862124088,
          -0.12711866662850796,
          -0.36884387842295946,
          0.6429063120523958,
          0.14881899593559214,
          -0.43653258631725117,
          1.1884826095900352,
          2.178398074485583,
          -0.06233515306434373,
          0.2587311274407884,
          -0.3741404646665351,
          0.30626494513246,
          -2.126751910804884,
          -2.060133981135926,
          1.5529239103471126,
          -0.38836926178255654,
          0.3942599587482798,
          1.5803964142097777,
          -1.0523833241987806,
          -0.01657286604126695,
          -0.770066526216671,
          0.9920549755691876,
          0.22018622155780793,
          0.9478438860931523,
          2.5346802705488365,
          0.30453558445497775,
          0.44999869484970006,
          0.1329256362940828,
          0.5257532229366679,
          0.6353351705845959,
          1.3939366249738248,
          -0.22346756860341713,
          1.1700863549033256,
          -0.6893141589265049,
          -0.7284549415162579,
          1.0979628734277693,
          -0.9852892186534995,
          0.04408684809316521,
          -0.3768717795879098,
          -0.09487210728594804,
          0.40576310664905313,
          0.4280661826615465,
          -0.8014571020621714,
          -1.192492353104392,
          0.9009984970801053,
          -0.6804664819337662,
          -0.05322152993200261,
          -0.5406055085130784,
          -1.1648516692905604,
          -0.4866434874688328,
          -0.2527643374481889,
          -0.49051314591226564,
          0.4483948614666029,
          -0.1286617016280999,
          0.7375815043599231,
          -1.2179161391289677,
          1.329503329537658,
          0.6406407101277446,
          -0.3885952375410158,
          -1.3344868258260545,
          0.021479658397961912,
          0.14220431097964045,
          0.6956144127780031,
          -1.2274294853474346,
          0.8445551976348453,
          -0.27707728983608126,
          -1.044478370898736,
          -1.0342492050125447,
          1.8384683805763349,
          -0.47129373877017977,
          0.2826769281895832,
          0.29606799065000583
         ],
         "yaxis": "y5"
        },
        {
         "histfunc": "count",
         "histnorm": "",
         "marker": {
          "color": "rgba(55, 128, 191, 1.0)",
          "line": {
           "color": "#4D5663",
           "width": 1.3
          }
         },
         "name": "B",
         "nbinsx": 10,
         "opacity": 0.8,
         "orientation": "v",
         "type": "histogram",
         "x": [
          -0.9153410714929735,
          1.6358976547955704,
          0.09255099576014963,
          1.5400934402495086,
          0.6425658299894662,
          -0.26179888744269847,
          1.0273186956146738,
          -0.6307535418604402,
          -2.5346978546476517,
          -2.1897817281056837,
          0.8311035354450367,
          0.6399383182121887,
          -0.9403607387553982,
          0.7078174444510166,
          -0.45457637870870515,
          1.1980318577308495,
          -0.11554976053470527,
          0.30680062220353793,
          -0.9217244314001211,
          -0.6663874786748377,
          1.32120609432077,
          1.0109233247836378,
          -0.1824269769280658,
          -1.0488991304782136,
          1.0662243347339762,
          -0.9034244394440355,
          -0.3263330312314083,
          -0.2607788207729719,
          -2.4278016862124088,
          -0.12711866662850796,
          -0.36884387842295946,
          0.6429063120523958,
          0.14881899593559214,
          -0.43653258631725117,
          1.1884826095900352,
          2.178398074485583,
          -0.06233515306434373,
          0.2587311274407884,
          -0.3741404646665351,
          0.30626494513246,
          -2.126751910804884,
          -2.060133981135926,
          1.5529239103471126,
          -0.38836926178255654,
          0.3942599587482798,
          1.5803964142097777,
          -1.0523833241987806,
          -0.01657286604126695,
          -0.770066526216671,
          0.9920549755691876,
          0.22018622155780793,
          0.9478438860931523,
          2.5346802705488365,
          0.30453558445497775,
          0.44999869484970006,
          0.1329256362940828,
          0.5257532229366679,
          0.6353351705845959,
          1.3939366249738248,
          -0.22346756860341713,
          1.1700863549033256,
          -0.6893141589265049,
          -0.7284549415162579,
          1.0979628734277693,
          -0.9852892186534995,
          0.04408684809316521,
          -0.3768717795879098,
          -0.09487210728594804,
          0.40576310664905313,
          0.4280661826615465,
          -0.8014571020621714,
          -1.192492353104392,
          0.9009984970801053,
          -0.6804664819337662,
          -0.05322152993200261,
          -0.5406055085130784,
          -1.1648516692905604,
          -0.4866434874688328,
          -0.2527643374481889,
          -0.49051314591226564,
          0.4483948614666029,
          -0.1286617016280999,
          0.7375815043599231,
          -1.2179161391289677,
          1.329503329537658,
          0.6406407101277446,
          -0.3885952375410158,
          -1.3344868258260545,
          0.021479658397961912,
          0.14220431097964045,
          0.6956144127780031,
          -1.2274294853474346,
          0.8445551976348453,
          -0.27707728983608126,
          -1.044478370898736,
          -1.0342492050125447,
          1.8384683805763349,
          -0.47129373877017977,
          0.2826769281895832,
          0.29606799065000583
         ],
         "xaxis": "x6",
         "yaxis": "y6"
        },
        {
         "line": {
          "color": "rgba(128, 128, 128, 1.0)",
          "dash": "solid",
          "shape": "linear",
          "width": 1.3
         },
         "marker": {
          "size": 2,
          "symbol": "circle"
         },
         "mode": "markers",
         "name": "B",
         "text": "",
         "type": "scatter",
         "x": [
          0.952786651656803,
          -0.09014875287851794,
          -1.0685447512507276,
          -0.24921352859048332,
          2.351969169587414,
          -1.8991212435034521,
          0.6177398434531892,
          -1.9917003769460297,
          -1.0424738903012825,
          -0.22691279113960114,
          -1.1970818844517153,
          -0.9394291053149986,
          1.757266845669264,
          -1.2407937962254503,
          -0.40044773536211387,
          -0.07962671261999174,
          -0.37548314235380925,
          -0.07343692394274298,
          -0.7806192817076086,
          -1.0895517338230685,
          0.07176847416090174,
          -1.4131798523976564,
          0.10320382126301453,
          -0.0025574702503611446,
          1.0722971872386773,
          -0.6490361642546468,
          -0.7056080232365795,
          0.036448555060863155,
          -0.46208863048318394,
          0.8909451927211299,
          -0.6075569427489664,
          0.17212712293151589,
          -2.2020227738434768,
          -1.0841246351259266,
          0.5581037439400494,
          0.2270284074491642,
          -0.046827427525527245,
          0.1708416162951795,
          0.097547606722425,
          1.4010504698153223,
          0.28861231333745696,
          -0.6301749435268477,
          0.35197377626014914,
          -0.3744844363117336,
          1.8219207208840351,
          0.45178522279543637,
          -0.948872768524955,
          1.1216879067308498,
          -0.5051281113933614,
          0.14887277205634297,
          0.1999556486992249,
          -1.6697997275559426,
          -0.1291673926643688,
          -2.5955074455319127,
          0.6071560525654458,
          0.45124691331754824,
          0.7445534695030128,
          1.9102827990950306,
          -0.09043099370692645,
          0.5476464341750529,
          0.7242806242042513,
          -0.34666807435880964,
          -0.9422400923509909,
          1.1944115944422067,
          0.849108361722817,
          -0.587274031667396,
          -1.3004657379502034,
          -0.3963526474289799,
          1.0932422210457229,
          0.16544951931799912,
          -1.2065330083577088,
          -0.10963490444821293,
          -0.1114314635928556,
          -0.8267519161472029,
          -0.39792190493483864,
          2.5060855702308453,
          0.39020636907104783,
          -0.01212829595721143,
          -0.4392766502407867,
          1.0688639552065233,
          -0.13031115107888877,
          0.28125713641044503,
          -1.6253646017719803,
          1.8681690447660622,
          0.22493645123791964,
          0.155567443654224,
          -0.9993681981030387,
          -1.0466997336123318,
          -0.38095818629242206,
          0.5261496897186589,
          0.37650394037431884,
          -0.7025636954005036,
          1.3869796947122683,
          0.4014752796351428,
          -0.3809755265193317,
          -0.1821895709489874,
          0.7181743276632854,
          1.2436847673042648,
          -0.025319473946945892,
          0.33927367748534265
         ],
         "xaxis": "x7",
         "y": [
          -0.9153410714929735,
          1.6358976547955704,
          0.09255099576014963,
          1.5400934402495086,
          0.6425658299894662,
          -0.26179888744269847,
          1.0273186956146738,
          -0.6307535418604402,
          -2.5346978546476517,
          -2.1897817281056837,
          0.8311035354450367,
          0.6399383182121887,
          -0.9403607387553982,
          0.7078174444510166,
          -0.45457637870870515,
          1.1980318577308495,
          -0.11554976053470527,
          0.30680062220353793,
          -0.9217244314001211,
          -0.6663874786748377,
          1.32120609432077,
          1.0109233247836378,
          -0.1824269769280658,
          -1.0488991304782136,
          1.0662243347339762,
          -0.9034244394440355,
          -0.3263330312314083,
          -0.2607788207729719,
          -2.4278016862124088,
          -0.12711866662850796,
          -0.36884387842295946,
          0.6429063120523958,
          0.14881899593559214,
          -0.43653258631725117,
          1.1884826095900352,
          2.178398074485583,
          -0.06233515306434373,
          0.2587311274407884,
          -0.3741404646665351,
          0.30626494513246,
          -2.126751910804884,
          -2.060133981135926,
          1.5529239103471126,
          -0.38836926178255654,
          0.3942599587482798,
          1.5803964142097777,
          -1.0523833241987806,
          -0.01657286604126695,
          -0.770066526216671,
          0.9920549755691876,
          0.22018622155780793,
          0.9478438860931523,
          2.5346802705488365,
          0.30453558445497775,
          0.44999869484970006,
          0.1329256362940828,
          0.5257532229366679,
          0.6353351705845959,
          1.3939366249738248,
          -0.22346756860341713,
          1.1700863549033256,
          -0.6893141589265049,
          -0.7284549415162579,
          1.0979628734277693,
          -0.9852892186534995,
          0.04408684809316521,
          -0.3768717795879098,
          -0.09487210728594804,
          0.40576310664905313,
          0.4280661826615465,
          -0.8014571020621714,
          -1.192492353104392,
          0.9009984970801053,
          -0.6804664819337662,
          -0.05322152993200261,
          -0.5406055085130784,
          -1.1648516692905604,
          -0.4866434874688328,
          -0.2527643374481889,
          -0.49051314591226564,
          0.4483948614666029,
          -0.1286617016280999,
          0.7375815043599231,
          -1.2179161391289677,
          1.329503329537658,
          0.6406407101277446,
          -0.3885952375410158,
          -1.3344868258260545,
          0.021479658397961912,
          0.14220431097964045,
          0.6956144127780031,
          -1.2274294853474346,
          0.8445551976348453,
          -0.27707728983608126,
          -1.044478370898736,
          -1.0342492050125447,
          1.8384683805763349,
          -0.47129373877017977,
          0.2826769281895832,
          0.29606799065000583
         ],
         "yaxis": "y7"
        },
        {
         "line": {
          "color": "rgba(128, 128, 128, 1.0)",
          "dash": "solid",
          "shape": "linear",
          "width": 1.3
         },
         "marker": {
          "size": 2,
          "symbol": "circle"
         },
         "mode": "markers",
         "name": "B",
         "text": "",
         "type": "scatter",
         "x": [
          0.9851061875011242,
          0.8582380403595017,
          -0.33705763147266227,
          1.143348296440449,
          -1.9284318445340969,
          1.5529263867241374,
          -0.3314073487210843,
          0.210048778366087,
          0.9772419857702811,
          -0.40555144197030035,
          -0.03211290723392089,
          -0.4051763413170174,
          0.09342461976286336,
          -0.15276548116126995,
          -1.6084766676061713,
          1.3300326843843588,
          -1.7656908341411746,
          1.2849327788844074,
          -1.3035053069028695,
          -1.126224479833057,
          -0.47929533400944885,
          0.5842022873922668,
          0.7904004155000492,
          -0.4891013768360308,
          -0.9520557829866434,
          -0.18334612929308258,
          -0.09699582855961543,
          1.7165193982806102,
          -0.10761765897950101,
          0.6172874068505037,
          1.4847093487359413,
          0.02905190240144271,
          -1.5013129289762308,
          -0.07744689448045243,
          -1.6624800651633258,
          -1.0265472229548933,
          0.8670916714520461,
          1.0426914109891925,
          1.5030112811283998,
          -0.04381679624688889,
          -0.254722581440965,
          0.20537035874761547,
          0.509188461141092,
          -0.4734633460511219,
          -1.905286227779699,
          0.8174965064193349,
          0.11002512874214922,
          0.08973189298899235,
          -0.24371056251516976,
          0.2076202668019951,
          1.3109703381511797,
          -0.23907632790672884,
          -1.131640138377444,
          -0.8681530405257885,
          -0.3316765752439354,
          -0.850094737879196,
          -1.0813888543664887,
          -0.25880086892959125,
          0.4280135636448433,
          -0.9759241685645935,
          0.42732918890384125,
          1.0476821350885444,
          0.09125930196634753,
          -1.3844686576162293,
          -0.7203766720244728,
          0.8944611600520691,
          1.1389195308685285,
          -0.1510571781929448,
          -0.5429626616143252,
          1.6438594470823837,
          -2.387324111421106,
          3.186390712511004,
          -0.3052502835085717,
          0.019401789993793443,
          0.33201005735944206,
          -0.14371547257048126,
          -0.9506788298248029,
          -2.3746285541474883,
          0.18565111413334542,
          1.3406813726300504,
          1.0987267753039165,
          0.24286780703230978,
          0.3587389155096219,
          1.6950598095884886,
          2.280543254135361,
          1.6244332636667975,
          0.6735605616645972,
          -0.6468507158570499,
          -0.3573522725347921,
          -0.23897454250813613,
          1.0850473640524714,
          0.9350061122313391,
          -0.32181332418719005,
          0.015078998276582507,
          0.37012978990539697,
          -0.5591163022749365,
          -1.8576703885043584,
          0.8418962768961537,
          1.2053095774559155,
          0.5658824440956434
         ],
         "xaxis": "x8",
         "y": [
          -0.9153410714929735,
          1.6358976547955704,
          0.09255099576014963,
          1.5400934402495086,
          0.6425658299894662,
          -0.26179888744269847,
          1.0273186956146738,
          -0.6307535418604402,
          -2.5346978546476517,
          -2.1897817281056837,
          0.8311035354450367,
          0.6399383182121887,
          -0.9403607387553982,
          0.7078174444510166,
          -0.45457637870870515,
          1.1980318577308495,
          -0.11554976053470527,
          0.30680062220353793,
          -0.9217244314001211,
          -0.6663874786748377,
          1.32120609432077,
          1.0109233247836378,
          -0.1824269769280658,
          -1.0488991304782136,
          1.0662243347339762,
          -0.9034244394440355,
          -0.3263330312314083,
          -0.2607788207729719,
          -2.4278016862124088,
          -0.12711866662850796,
          -0.36884387842295946,
          0.6429063120523958,
          0.14881899593559214,
          -0.43653258631725117,
          1.1884826095900352,
          2.178398074485583,
          -0.06233515306434373,
          0.2587311274407884,
          -0.3741404646665351,
          0.30626494513246,
          -2.126751910804884,
          -2.060133981135926,
          1.5529239103471126,
          -0.38836926178255654,
          0.3942599587482798,
          1.5803964142097777,
          -1.0523833241987806,
          -0.01657286604126695,
          -0.770066526216671,
          0.9920549755691876,
          0.22018622155780793,
          0.9478438860931523,
          2.5346802705488365,
          0.30453558445497775,
          0.44999869484970006,
          0.1329256362940828,
          0.5257532229366679,
          0.6353351705845959,
          1.3939366249738248,
          -0.22346756860341713,
          1.1700863549033256,
          -0.6893141589265049,
          -0.7284549415162579,
          1.0979628734277693,
          -0.9852892186534995,
          0.04408684809316521,
          -0.3768717795879098,
          -0.09487210728594804,
          0.40576310664905313,
          0.4280661826615465,
          -0.8014571020621714,
          -1.192492353104392,
          0.9009984970801053,
          -0.6804664819337662,
          -0.05322152993200261,
          -0.5406055085130784,
          -1.1648516692905604,
          -0.4866434874688328,
          -0.2527643374481889,
          -0.49051314591226564,
          0.4483948614666029,
          -0.1286617016280999,
          0.7375815043599231,
          -1.2179161391289677,
          1.329503329537658,
          0.6406407101277446,
          -0.3885952375410158,
          -1.3344868258260545,
          0.021479658397961912,
          0.14220431097964045,
          0.6956144127780031,
          -1.2274294853474346,
          0.8445551976348453,
          -0.27707728983608126,
          -1.044478370898736,
          -1.0342492050125447,
          1.8384683805763349,
          -0.47129373877017977,
          0.2826769281895832,
          0.29606799065000583
         ],
         "yaxis": "y8"
        },
        {
         "line": {
          "color": "rgba(128, 128, 128, 1.0)",
          "dash": "solid",
          "shape": "linear",
          "width": 1.3
         },
         "marker": {
          "size": 2,
          "symbol": "circle"
         },
         "mode": "markers",
         "name": "C",
         "text": "",
         "type": "scatter",
         "x": [
          1.5142186544122638,
          0.27895064943248915,
          -1.2772201606503015,
          0.7176215978752194,
          1.0242630534311887,
          -0.18782350124528943,
          -0.15971406208206046,
          -0.09450672113595138,
          1.101557217961529,
          1.760246324420678,
          0.4957627962412397,
          1.4410840240165774,
          0.890736201554487,
          -0.1973859512432099,
          -0.22647367315349648,
          0.9600258803516739,
          -0.22695644558189895,
          0.9014455961017745,
          -1.0352942125712694,
          1.3614210778771305,
          1.438341742803549,
          0.0062457188416346066,
          -0.34075842820041674,
          1.1645719966781778,
          3.251475167837798,
          0.3585119159665232,
          0.35559795617521023,
          -1.4927235063683504,
          -0.09654662808693423,
          -0.057294310675322785,
          -0.48183583073170233,
          -0.5382944548854823,
          0.9208574046073155,
          -0.6302021900122878,
          0.30933377625955083,
          -0.46552971679190036,
          -0.912246971568453,
          0.663008040972662,
          1.2686499433429357,
          0.36508507101402465,
          0.13357487450389904,
          -0.20648604070240084,
          0.49234018847418437,
          -1.0079776998156387,
          -1.3502695696598568,
          0.5959137955318851,
          -0.3372748183372034,
          -1.7190172045328507,
          0.3701065313721388,
          -1.109452713943562,
          0.11680700607062913,
          -0.8627209126237989,
          -0.8575591132443635,
          -0.044169557298888655,
          -0.7955907040068338,
          0.12234260476958768,
          -1.0760163613813911,
          -0.8283533358210704,
          0.268329750244207,
          1.066892146131821,
          -0.6553844559897053,
          -0.644878025080047,
          0.28702367749052854,
          -0.41938747626877115,
          1.959073984465897,
          -1.1269742470876678,
          3.8538700868814058,
          0.8705990773885701,
          0.5240821424022016,
          0.33280913610094887,
          0.4259038558689888,
          -1.2700198508155802,
          -0.5263315245506245,
          -0.1637455667230135,
          2.213359350383037,
          -0.4878057724962988,
          -0.46568550675433373,
          0.9524119005427031,
          1.7669535874688445,
          0.9320713319598105,
          1.0426693299362813,
          -1.7119433140080471,
          -0.2723835374814382,
          -1.4597336316316212,
          0.7187397058115067,
          0.5706065969920404,
          0.023982717991074275,
          -0.7639207845885283,
          -0.9117422967467312,
          -0.5438741254817734,
          -0.7489289965331479,
          1.0933015307053855,
          -0.33036206127818424,
          0.573877123376443,
          1.548344828251328,
          -0.2994560355888004,
          0.47710475522997875,
          -1.7490432446344575,
          -0.615644586432859,
          -0.0696319730489194
         ],
         "xaxis": "x9",
         "y": [
          0.952786651656803,
          -0.09014875287851794,
          -1.0685447512507276,
          -0.24921352859048332,
          2.351969169587414,
          -1.8991212435034521,
          0.6177398434531892,
          -1.9917003769460297,
          -1.0424738903012825,
          -0.22691279113960114,
          -1.1970818844517153,
          -0.9394291053149986,
          1.757266845669264,
          -1.2407937962254503,
          -0.40044773536211387,
          -0.07962671261999174,
          -0.37548314235380925,
          -0.07343692394274298,
          -0.7806192817076086,
          -1.0895517338230685,
          0.07176847416090174,
          -1.4131798523976564,
          0.10320382126301453,
          -0.0025574702503611446,
          1.0722971872386773,
          -0.6490361642546468,
          -0.7056080232365795,
          0.036448555060863155,
          -0.46208863048318394,
          0.8909451927211299,
          -0.6075569427489664,
          0.17212712293151589,
          -2.2020227738434768,
          -1.0841246351259266,
          0.5581037439400494,
          0.2270284074491642,
          -0.046827427525527245,
          0.1708416162951795,
          0.097547606722425,
          1.4010504698153223,
          0.28861231333745696,
          -0.6301749435268477,
          0.35197377626014914,
          -0.3744844363117336,
          1.8219207208840351,
          0.45178522279543637,
          -0.948872768524955,
          1.1216879067308498,
          -0.5051281113933614,
          0.14887277205634297,
          0.1999556486992249,
          -1.6697997275559426,
          -0.1291673926643688,
          -2.5955074455319127,
          0.6071560525654458,
          0.45124691331754824,
          0.7445534695030128,
          1.9102827990950306,
          -0.09043099370692645,
          0.5476464341750529,
          0.7242806242042513,
          -0.34666807435880964,
          -0.9422400923509909,
          1.1944115944422067,
          0.849108361722817,
          -0.587274031667396,
          -1.3004657379502034,
          -0.3963526474289799,
          1.0932422210457229,
          0.16544951931799912,
          -1.2065330083577088,
          -0.10963490444821293,
          -0.1114314635928556,
          -0.8267519161472029,
          -0.39792190493483864,
          2.5060855702308453,
          0.39020636907104783,
          -0.01212829595721143,
          -0.4392766502407867,
          1.0688639552065233,
          -0.13031115107888877,
          0.28125713641044503,
          -1.6253646017719803,
          1.8681690447660622,
          0.22493645123791964,
          0.155567443654224,
          -0.9993681981030387,
          -1.0466997336123318,
          -0.38095818629242206,
          0.5261496897186589,
          0.37650394037431884,
          -0.7025636954005036,
          1.3869796947122683,
          0.4014752796351428,
          -0.3809755265193317,
          -0.1821895709489874,
          0.7181743276632854,
          1.2436847673042648,
          -0.025319473946945892,
          0.33927367748534265
         ],
         "yaxis": "y9"
        },
        {
         "line": {
          "color": "rgba(128, 128, 128, 1.0)",
          "dash": "solid",
          "shape": "linear",
          "width": 1.3
         },
         "marker": {
          "size": 2,
          "symbol": "circle"
         },
         "mode": "markers",
         "name": "C",
         "text": "",
         "type": "scatter",
         "x": [
          -0.9153410714929735,
          1.6358976547955704,
          0.09255099576014963,
          1.5400934402495086,
          0.6425658299894662,
          -0.26179888744269847,
          1.0273186956146738,
          -0.6307535418604402,
          -2.5346978546476517,
          -2.1897817281056837,
          0.8311035354450367,
          0.6399383182121887,
          -0.9403607387553982,
          0.7078174444510166,
          -0.45457637870870515,
          1.1980318577308495,
          -0.11554976053470527,
          0.30680062220353793,
          -0.9217244314001211,
          -0.6663874786748377,
          1.32120609432077,
          1.0109233247836378,
          -0.1824269769280658,
          -1.0488991304782136,
          1.0662243347339762,
          -0.9034244394440355,
          -0.3263330312314083,
          -0.2607788207729719,
          -2.4278016862124088,
          -0.12711866662850796,
          -0.36884387842295946,
          0.6429063120523958,
          0.14881899593559214,
          -0.43653258631725117,
          1.1884826095900352,
          2.178398074485583,
          -0.06233515306434373,
          0.2587311274407884,
          -0.3741404646665351,
          0.30626494513246,
          -2.126751910804884,
          -2.060133981135926,
          1.5529239103471126,
          -0.38836926178255654,
          0.3942599587482798,
          1.5803964142097777,
          -1.0523833241987806,
          -0.01657286604126695,
          -0.770066526216671,
          0.9920549755691876,
          0.22018622155780793,
          0.9478438860931523,
          2.5346802705488365,
          0.30453558445497775,
          0.44999869484970006,
          0.1329256362940828,
          0.5257532229366679,
          0.6353351705845959,
          1.3939366249738248,
          -0.22346756860341713,
          1.1700863549033256,
          -0.6893141589265049,
          -0.7284549415162579,
          1.0979628734277693,
          -0.9852892186534995,
          0.04408684809316521,
          -0.3768717795879098,
          -0.09487210728594804,
          0.40576310664905313,
          0.4280661826615465,
          -0.8014571020621714,
          -1.192492353104392,
          0.9009984970801053,
          -0.6804664819337662,
          -0.05322152993200261,
          -0.5406055085130784,
          -1.1648516692905604,
          -0.4866434874688328,
          -0.2527643374481889,
          -0.49051314591226564,
          0.4483948614666029,
          -0.1286617016280999,
          0.7375815043599231,
          -1.2179161391289677,
          1.329503329537658,
          0.6406407101277446,
          -0.3885952375410158,
          -1.3344868258260545,
          0.021479658397961912,
          0.14220431097964045,
          0.6956144127780031,
          -1.2274294853474346,
          0.8445551976348453,
          -0.27707728983608126,
          -1.044478370898736,
          -1.0342492050125447,
          1.8384683805763349,
          -0.47129373877017977,
          0.2826769281895832,
          0.29606799065000583
         ],
         "xaxis": "x10",
         "y": [
          0.952786651656803,
          -0.09014875287851794,
          -1.0685447512507276,
          -0.24921352859048332,
          2.351969169587414,
          -1.8991212435034521,
          0.6177398434531892,
          -1.9917003769460297,
          -1.0424738903012825,
          -0.22691279113960114,
          -1.1970818844517153,
          -0.9394291053149986,
          1.757266845669264,
          -1.2407937962254503,
          -0.40044773536211387,
          -0.07962671261999174,
          -0.37548314235380925,
          -0.07343692394274298,
          -0.7806192817076086,
          -1.0895517338230685,
          0.07176847416090174,
          -1.4131798523976564,
          0.10320382126301453,
          -0.0025574702503611446,
          1.0722971872386773,
          -0.6490361642546468,
          -0.7056080232365795,
          0.036448555060863155,
          -0.46208863048318394,
          0.8909451927211299,
          -0.6075569427489664,
          0.17212712293151589,
          -2.2020227738434768,
          -1.0841246351259266,
          0.5581037439400494,
          0.2270284074491642,
          -0.046827427525527245,
          0.1708416162951795,
          0.097547606722425,
          1.4010504698153223,
          0.28861231333745696,
          -0.6301749435268477,
          0.35197377626014914,
          -0.3744844363117336,
          1.8219207208840351,
          0.45178522279543637,
          -0.948872768524955,
          1.1216879067308498,
          -0.5051281113933614,
          0.14887277205634297,
          0.1999556486992249,
          -1.6697997275559426,
          -0.1291673926643688,
          -2.5955074455319127,
          0.6071560525654458,
          0.45124691331754824,
          0.7445534695030128,
          1.9102827990950306,
          -0.09043099370692645,
          0.5476464341750529,
          0.7242806242042513,
          -0.34666807435880964,
          -0.9422400923509909,
          1.1944115944422067,
          0.849108361722817,
          -0.587274031667396,
          -1.3004657379502034,
          -0.3963526474289799,
          1.0932422210457229,
          0.16544951931799912,
          -1.2065330083577088,
          -0.10963490444821293,
          -0.1114314635928556,
          -0.8267519161472029,
          -0.39792190493483864,
          2.5060855702308453,
          0.39020636907104783,
          -0.01212829595721143,
          -0.4392766502407867,
          1.0688639552065233,
          -0.13031115107888877,
          0.28125713641044503,
          -1.6253646017719803,
          1.8681690447660622,
          0.22493645123791964,
          0.155567443654224,
          -0.9993681981030387,
          -1.0466997336123318,
          -0.38095818629242206,
          0.5261496897186589,
          0.37650394037431884,
          -0.7025636954005036,
          1.3869796947122683,
          0.4014752796351428,
          -0.3809755265193317,
          -0.1821895709489874,
          0.7181743276632854,
          1.2436847673042648,
          -0.025319473946945892,
          0.33927367748534265
         ],
         "yaxis": "y10"
        },
        {
         "histfunc": "count",
         "histnorm": "",
         "marker": {
          "color": "rgba(50, 171, 96, 1.0)",
          "line": {
           "color": "#4D5663",
           "width": 1.3
          }
         },
         "name": "C",
         "nbinsx": 10,
         "opacity": 0.8,
         "orientation": "v",
         "type": "histogram",
         "x": [
          0.952786651656803,
          -0.09014875287851794,
          -1.0685447512507276,
          -0.24921352859048332,
          2.351969169587414,
          -1.8991212435034521,
          0.6177398434531892,
          -1.9917003769460297,
          -1.0424738903012825,
          -0.22691279113960114,
          -1.1970818844517153,
          -0.9394291053149986,
          1.757266845669264,
          -1.2407937962254503,
          -0.40044773536211387,
          -0.07962671261999174,
          -0.37548314235380925,
          -0.07343692394274298,
          -0.7806192817076086,
          -1.0895517338230685,
          0.07176847416090174,
          -1.4131798523976564,
          0.10320382126301453,
          -0.0025574702503611446,
          1.0722971872386773,
          -0.6490361642546468,
          -0.7056080232365795,
          0.036448555060863155,
          -0.46208863048318394,
          0.8909451927211299,
          -0.6075569427489664,
          0.17212712293151589,
          -2.2020227738434768,
          -1.0841246351259266,
          0.5581037439400494,
          0.2270284074491642,
          -0.046827427525527245,
          0.1708416162951795,
          0.097547606722425,
          1.4010504698153223,
          0.28861231333745696,
          -0.6301749435268477,
          0.35197377626014914,
          -0.3744844363117336,
          1.8219207208840351,
          0.45178522279543637,
          -0.948872768524955,
          1.1216879067308498,
          -0.5051281113933614,
          0.14887277205634297,
          0.1999556486992249,
          -1.6697997275559426,
          -0.1291673926643688,
          -2.5955074455319127,
          0.6071560525654458,
          0.45124691331754824,
          0.7445534695030128,
          1.9102827990950306,
          -0.09043099370692645,
          0.5476464341750529,
          0.7242806242042513,
          -0.34666807435880964,
          -0.9422400923509909,
          1.1944115944422067,
          0.849108361722817,
          -0.587274031667396,
          -1.3004657379502034,
          -0.3963526474289799,
          1.0932422210457229,
          0.16544951931799912,
          -1.2065330083577088,
          -0.10963490444821293,
          -0.1114314635928556,
          -0.8267519161472029,
          -0.39792190493483864,
          2.5060855702308453,
          0.39020636907104783,
          -0.01212829595721143,
          -0.4392766502407867,
          1.0688639552065233,
          -0.13031115107888877,
          0.28125713641044503,
          -1.6253646017719803,
          1.8681690447660622,
          0.22493645123791964,
          0.155567443654224,
          -0.9993681981030387,
          -1.0466997336123318,
          -0.38095818629242206,
          0.5261496897186589,
          0.37650394037431884,
          -0.7025636954005036,
          1.3869796947122683,
          0.4014752796351428,
          -0.3809755265193317,
          -0.1821895709489874,
          0.7181743276632854,
          1.2436847673042648,
          -0.025319473946945892,
          0.33927367748534265
         ],
         "xaxis": "x11",
         "yaxis": "y11"
        },
        {
         "line": {
          "color": "rgba(128, 128, 128, 1.0)",
          "dash": "solid",
          "shape": "linear",
          "width": 1.3
         },
         "marker": {
          "size": 2,
          "symbol": "circle"
         },
         "mode": "markers",
         "name": "C",
         "text": "",
         "type": "scatter",
         "x": [
          0.9851061875011242,
          0.8582380403595017,
          -0.33705763147266227,
          1.143348296440449,
          -1.9284318445340969,
          1.5529263867241374,
          -0.3314073487210843,
          0.210048778366087,
          0.9772419857702811,
          -0.40555144197030035,
          -0.03211290723392089,
          -0.4051763413170174,
          0.09342461976286336,
          -0.15276548116126995,
          -1.6084766676061713,
          1.3300326843843588,
          -1.7656908341411746,
          1.2849327788844074,
          -1.3035053069028695,
          -1.126224479833057,
          -0.47929533400944885,
          0.5842022873922668,
          0.7904004155000492,
          -0.4891013768360308,
          -0.9520557829866434,
          -0.18334612929308258,
          -0.09699582855961543,
          1.7165193982806102,
          -0.10761765897950101,
          0.6172874068505037,
          1.4847093487359413,
          0.02905190240144271,
          -1.5013129289762308,
          -0.07744689448045243,
          -1.6624800651633258,
          -1.0265472229548933,
          0.8670916714520461,
          1.0426914109891925,
          1.5030112811283998,
          -0.04381679624688889,
          -0.254722581440965,
          0.20537035874761547,
          0.509188461141092,
          -0.4734633460511219,
          -1.905286227779699,
          0.8174965064193349,
          0.11002512874214922,
          0.08973189298899235,
          -0.24371056251516976,
          0.2076202668019951,
          1.3109703381511797,
          -0.23907632790672884,
          -1.131640138377444,
          -0.8681530405257885,
          -0.3316765752439354,
          -0.850094737879196,
          -1.0813888543664887,
          -0.25880086892959125,
          0.4280135636448433,
          -0.9759241685645935,
          0.42732918890384125,
          1.0476821350885444,
          0.09125930196634753,
          -1.3844686576162293,
          -0.7203766720244728,
          0.8944611600520691,
          1.1389195308685285,
          -0.1510571781929448,
          -0.5429626616143252,
          1.6438594470823837,
          -2.387324111421106,
          3.186390712511004,
          -0.3052502835085717,
          0.019401789993793443,
          0.33201005735944206,
          -0.14371547257048126,
          -0.9506788298248029,
          -2.3746285541474883,
          0.18565111413334542,
          1.3406813726300504,
          1.0987267753039165,
          0.24286780703230978,
          0.3587389155096219,
          1.6950598095884886,
          2.280543254135361,
          1.6244332636667975,
          0.6735605616645972,
          -0.6468507158570499,
          -0.3573522725347921,
          -0.23897454250813613,
          1.0850473640524714,
          0.9350061122313391,
          -0.32181332418719005,
          0.015078998276582507,
          0.37012978990539697,
          -0.5591163022749365,
          -1.8576703885043584,
          0.8418962768961537,
          1.2053095774559155,
          0.5658824440956434
         ],
         "xaxis": "x12",
         "y": [
          0.952786651656803,
          -0.09014875287851794,
          -1.0685447512507276,
          -0.24921352859048332,
          2.351969169587414,
          -1.8991212435034521,
          0.6177398434531892,
          -1.9917003769460297,
          -1.0424738903012825,
          -0.22691279113960114,
          -1.1970818844517153,
          -0.9394291053149986,
          1.757266845669264,
          -1.2407937962254503,
          -0.40044773536211387,
          -0.07962671261999174,
          -0.37548314235380925,
          -0.07343692394274298,
          -0.7806192817076086,
          -1.0895517338230685,
          0.07176847416090174,
          -1.4131798523976564,
          0.10320382126301453,
          -0.0025574702503611446,
          1.0722971872386773,
          -0.6490361642546468,
          -0.7056080232365795,
          0.036448555060863155,
          -0.46208863048318394,
          0.8909451927211299,
          -0.6075569427489664,
          0.17212712293151589,
          -2.2020227738434768,
          -1.0841246351259266,
          0.5581037439400494,
          0.2270284074491642,
          -0.046827427525527245,
          0.1708416162951795,
          0.097547606722425,
          1.4010504698153223,
          0.28861231333745696,
          -0.6301749435268477,
          0.35197377626014914,
          -0.3744844363117336,
          1.8219207208840351,
          0.45178522279543637,
          -0.948872768524955,
          1.1216879067308498,
          -0.5051281113933614,
          0.14887277205634297,
          0.1999556486992249,
          -1.6697997275559426,
          -0.1291673926643688,
          -2.5955074455319127,
          0.6071560525654458,
          0.45124691331754824,
          0.7445534695030128,
          1.9102827990950306,
          -0.09043099370692645,
          0.5476464341750529,
          0.7242806242042513,
          -0.34666807435880964,
          -0.9422400923509909,
          1.1944115944422067,
          0.849108361722817,
          -0.587274031667396,
          -1.3004657379502034,
          -0.3963526474289799,
          1.0932422210457229,
          0.16544951931799912,
          -1.2065330083577088,
          -0.10963490444821293,
          -0.1114314635928556,
          -0.8267519161472029,
          -0.39792190493483864,
          2.5060855702308453,
          0.39020636907104783,
          -0.01212829595721143,
          -0.4392766502407867,
          1.0688639552065233,
          -0.13031115107888877,
          0.28125713641044503,
          -1.6253646017719803,
          1.8681690447660622,
          0.22493645123791964,
          0.155567443654224,
          -0.9993681981030387,
          -1.0466997336123318,
          -0.38095818629242206,
          0.5261496897186589,
          0.37650394037431884,
          -0.7025636954005036,
          1.3869796947122683,
          0.4014752796351428,
          -0.3809755265193317,
          -0.1821895709489874,
          0.7181743276632854,
          1.2436847673042648,
          -0.025319473946945892,
          0.33927367748534265
         ],
         "yaxis": "y12"
        },
        {
         "line": {
          "color": "rgba(128, 128, 128, 1.0)",
          "dash": "solid",
          "shape": "linear",
          "width": 1.3
         },
         "marker": {
          "size": 2,
          "symbol": "circle"
         },
         "mode": "markers",
         "name": "D",
         "text": "",
         "type": "scatter",
         "x": [
          1.5142186544122638,
          0.27895064943248915,
          -1.2772201606503015,
          0.7176215978752194,
          1.0242630534311887,
          -0.18782350124528943,
          -0.15971406208206046,
          -0.09450672113595138,
          1.101557217961529,
          1.760246324420678,
          0.4957627962412397,
          1.4410840240165774,
          0.890736201554487,
          -0.1973859512432099,
          -0.22647367315349648,
          0.9600258803516739,
          -0.22695644558189895,
          0.9014455961017745,
          -1.0352942125712694,
          1.3614210778771305,
          1.438341742803549,
          0.0062457188416346066,
          -0.34075842820041674,
          1.1645719966781778,
          3.251475167837798,
          0.3585119159665232,
          0.35559795617521023,
          -1.4927235063683504,
          -0.09654662808693423,
          -0.057294310675322785,
          -0.48183583073170233,
          -0.5382944548854823,
          0.9208574046073155,
          -0.6302021900122878,
          0.30933377625955083,
          -0.46552971679190036,
          -0.912246971568453,
          0.663008040972662,
          1.2686499433429357,
          0.36508507101402465,
          0.13357487450389904,
          -0.20648604070240084,
          0.49234018847418437,
          -1.0079776998156387,
          -1.3502695696598568,
          0.5959137955318851,
          -0.3372748183372034,
          -1.7190172045328507,
          0.3701065313721388,
          -1.109452713943562,
          0.11680700607062913,
          -0.8627209126237989,
          -0.8575591132443635,
          -0.044169557298888655,
          -0.7955907040068338,
          0.12234260476958768,
          -1.0760163613813911,
          -0.8283533358210704,
          0.268329750244207,
          1.066892146131821,
          -0.6553844559897053,
          -0.644878025080047,
          0.28702367749052854,
          -0.41938747626877115,
          1.959073984465897,
          -1.1269742470876678,
          3.8538700868814058,
          0.8705990773885701,
          0.5240821424022016,
          0.33280913610094887,
          0.4259038558689888,
          -1.2700198508155802,
          -0.5263315245506245,
          -0.1637455667230135,
          2.213359350383037,
          -0.4878057724962988,
          -0.46568550675433373,
          0.9524119005427031,
          1.7669535874688445,
          0.9320713319598105,
          1.0426693299362813,
          -1.7119433140080471,
          -0.2723835374814382,
          -1.4597336316316212,
          0.7187397058115067,
          0.5706065969920404,
          0.023982717991074275,
          -0.7639207845885283,
          -0.9117422967467312,
          -0.5438741254817734,
          -0.7489289965331479,
          1.0933015307053855,
          -0.33036206127818424,
          0.573877123376443,
          1.548344828251328,
          -0.2994560355888004,
          0.47710475522997875,
          -1.7490432446344575,
          -0.615644586432859,
          -0.0696319730489194
         ],
         "xaxis": "x13",
         "y": [
          0.9851061875011242,
          0.8582380403595017,
          -0.33705763147266227,
          1.143348296440449,
          -1.9284318445340969,
          1.5529263867241374,
          -0.3314073487210843,
          0.210048778366087,
          0.9772419857702811,
          -0.40555144197030035,
          -0.03211290723392089,
          -0.4051763413170174,
          0.09342461976286336,
          -0.15276548116126995,
          -1.6084766676061713,
          1.3300326843843588,
          -1.7656908341411746,
          1.2849327788844074,
          -1.3035053069028695,
          -1.126224479833057,
          -0.47929533400944885,
          0.5842022873922668,
          0.7904004155000492,
          -0.4891013768360308,
          -0.9520557829866434,
          -0.18334612929308258,
          -0.09699582855961543,
          1.7165193982806102,
          -0.10761765897950101,
          0.6172874068505037,
          1.4847093487359413,
          0.02905190240144271,
          -1.5013129289762308,
          -0.07744689448045243,
          -1.6624800651633258,
          -1.0265472229548933,
          0.8670916714520461,
          1.0426914109891925,
          1.5030112811283998,
          -0.04381679624688889,
          -0.254722581440965,
          0.20537035874761547,
          0.509188461141092,
          -0.4734633460511219,
          -1.905286227779699,
          0.8174965064193349,
          0.11002512874214922,
          0.08973189298899235,
          -0.24371056251516976,
          0.2076202668019951,
          1.3109703381511797,
          -0.23907632790672884,
          -1.131640138377444,
          -0.8681530405257885,
          -0.3316765752439354,
          -0.850094737879196,
          -1.0813888543664887,
          -0.25880086892959125,
          0.4280135636448433,
          -0.9759241685645935,
          0.42732918890384125,
          1.0476821350885444,
          0.09125930196634753,
          -1.3844686576162293,
          -0.7203766720244728,
          0.8944611600520691,
          1.1389195308685285,
          -0.1510571781929448,
          -0.5429626616143252,
          1.6438594470823837,
          -2.387324111421106,
          3.186390712511004,
          -0.3052502835085717,
          0.019401789993793443,
          0.33201005735944206,
          -0.14371547257048126,
          -0.9506788298248029,
          -2.3746285541474883,
          0.18565111413334542,
          1.3406813726300504,
          1.0987267753039165,
          0.24286780703230978,
          0.3587389155096219,
          1.6950598095884886,
          2.280543254135361,
          1.6244332636667975,
          0.6735605616645972,
          -0.6468507158570499,
          -0.3573522725347921,
          -0.23897454250813613,
          1.0850473640524714,
          0.9350061122313391,
          -0.32181332418719005,
          0.015078998276582507,
          0.37012978990539697,
          -0.5591163022749365,
          -1.8576703885043584,
          0.8418962768961537,
          1.2053095774559155,
          0.5658824440956434
         ],
         "yaxis": "y13"
        },
        {
         "line": {
          "color": "rgba(128, 128, 128, 1.0)",
          "dash": "solid",
          "shape": "linear",
          "width": 1.3
         },
         "marker": {
          "size": 2,
          "symbol": "circle"
         },
         "mode": "markers",
         "name": "D",
         "text": "",
         "type": "scatter",
         "x": [
          -0.9153410714929735,
          1.6358976547955704,
          0.09255099576014963,
          1.5400934402495086,
          0.6425658299894662,
          -0.26179888744269847,
          1.0273186956146738,
          -0.6307535418604402,
          -2.5346978546476517,
          -2.1897817281056837,
          0.8311035354450367,
          0.6399383182121887,
          -0.9403607387553982,
          0.7078174444510166,
          -0.45457637870870515,
          1.1980318577308495,
          -0.11554976053470527,
          0.30680062220353793,
          -0.9217244314001211,
          -0.6663874786748377,
          1.32120609432077,
          1.0109233247836378,
          -0.1824269769280658,
          -1.0488991304782136,
          1.0662243347339762,
          -0.9034244394440355,
          -0.3263330312314083,
          -0.2607788207729719,
          -2.4278016862124088,
          -0.12711866662850796,
          -0.36884387842295946,
          0.6429063120523958,
          0.14881899593559214,
          -0.43653258631725117,
          1.1884826095900352,
          2.178398074485583,
          -0.06233515306434373,
          0.2587311274407884,
          -0.3741404646665351,
          0.30626494513246,
          -2.126751910804884,
          -2.060133981135926,
          1.5529239103471126,
          -0.38836926178255654,
          0.3942599587482798,
          1.5803964142097777,
          -1.0523833241987806,
          -0.01657286604126695,
          -0.770066526216671,
          0.9920549755691876,
          0.22018622155780793,
          0.9478438860931523,
          2.5346802705488365,
          0.30453558445497775,
          0.44999869484970006,
          0.1329256362940828,
          0.5257532229366679,
          0.6353351705845959,
          1.3939366249738248,
          -0.22346756860341713,
          1.1700863549033256,
          -0.6893141589265049,
          -0.7284549415162579,
          1.0979628734277693,
          -0.9852892186534995,
          0.04408684809316521,
          -0.3768717795879098,
          -0.09487210728594804,
          0.40576310664905313,
          0.4280661826615465,
          -0.8014571020621714,
          -1.192492353104392,
          0.9009984970801053,
          -0.6804664819337662,
          -0.05322152993200261,
          -0.5406055085130784,
          -1.1648516692905604,
          -0.4866434874688328,
          -0.2527643374481889,
          -0.49051314591226564,
          0.4483948614666029,
          -0.1286617016280999,
          0.7375815043599231,
          -1.2179161391289677,
          1.329503329537658,
          0.6406407101277446,
          -0.3885952375410158,
          -1.3344868258260545,
          0.021479658397961912,
          0.14220431097964045,
          0.6956144127780031,
          -1.2274294853474346,
          0.8445551976348453,
          -0.27707728983608126,
          -1.044478370898736,
          -1.0342492050125447,
          1.8384683805763349,
          -0.47129373877017977,
          0.2826769281895832,
          0.29606799065000583
         ],
         "xaxis": "x14",
         "y": [
          0.9851061875011242,
          0.8582380403595017,
          -0.33705763147266227,
          1.143348296440449,
          -1.9284318445340969,
          1.5529263867241374,
          -0.3314073487210843,
          0.210048778366087,
          0.9772419857702811,
          -0.40555144197030035,
          -0.03211290723392089,
          -0.4051763413170174,
          0.09342461976286336,
          -0.15276548116126995,
          -1.6084766676061713,
          1.3300326843843588,
          -1.7656908341411746,
          1.2849327788844074,
          -1.3035053069028695,
          -1.126224479833057,
          -0.47929533400944885,
          0.5842022873922668,
          0.7904004155000492,
          -0.4891013768360308,
          -0.9520557829866434,
          -0.18334612929308258,
          -0.09699582855961543,
          1.7165193982806102,
          -0.10761765897950101,
          0.6172874068505037,
          1.4847093487359413,
          0.02905190240144271,
          -1.5013129289762308,
          -0.07744689448045243,
          -1.6624800651633258,
          -1.0265472229548933,
          0.8670916714520461,
          1.0426914109891925,
          1.5030112811283998,
          -0.04381679624688889,
          -0.254722581440965,
          0.20537035874761547,
          0.509188461141092,
          -0.4734633460511219,
          -1.905286227779699,
          0.8174965064193349,
          0.11002512874214922,
          0.08973189298899235,
          -0.24371056251516976,
          0.2076202668019951,
          1.3109703381511797,
          -0.23907632790672884,
          -1.131640138377444,
          -0.8681530405257885,
          -0.3316765752439354,
          -0.850094737879196,
          -1.0813888543664887,
          -0.25880086892959125,
          0.4280135636448433,
          -0.9759241685645935,
          0.42732918890384125,
          1.0476821350885444,
          0.09125930196634753,
          -1.3844686576162293,
          -0.7203766720244728,
          0.8944611600520691,
          1.1389195308685285,
          -0.1510571781929448,
          -0.5429626616143252,
          1.6438594470823837,
          -2.387324111421106,
          3.186390712511004,
          -0.3052502835085717,
          0.019401789993793443,
          0.33201005735944206,
          -0.14371547257048126,
          -0.9506788298248029,
          -2.3746285541474883,
          0.18565111413334542,
          1.3406813726300504,
          1.0987267753039165,
          0.24286780703230978,
          0.3587389155096219,
          1.6950598095884886,
          2.280543254135361,
          1.6244332636667975,
          0.6735605616645972,
          -0.6468507158570499,
          -0.3573522725347921,
          -0.23897454250813613,
          1.0850473640524714,
          0.9350061122313391,
          -0.32181332418719005,
          0.015078998276582507,
          0.37012978990539697,
          -0.5591163022749365,
          -1.8576703885043584,
          0.8418962768961537,
          1.2053095774559155,
          0.5658824440956434
         ],
         "yaxis": "y14"
        },
        {
         "line": {
          "color": "rgba(128, 128, 128, 1.0)",
          "dash": "solid",
          "shape": "linear",
          "width": 1.3
         },
         "marker": {
          "size": 2,
          "symbol": "circle"
         },
         "mode": "markers",
         "name": "D",
         "text": "",
         "type": "scatter",
         "x": [
          0.952786651656803,
          -0.09014875287851794,
          -1.0685447512507276,
          -0.24921352859048332,
          2.351969169587414,
          -1.8991212435034521,
          0.6177398434531892,
          -1.9917003769460297,
          -1.0424738903012825,
          -0.22691279113960114,
          -1.1970818844517153,
          -0.9394291053149986,
          1.757266845669264,
          -1.2407937962254503,
          -0.40044773536211387,
          -0.07962671261999174,
          -0.37548314235380925,
          -0.07343692394274298,
          -0.7806192817076086,
          -1.0895517338230685,
          0.07176847416090174,
          -1.4131798523976564,
          0.10320382126301453,
          -0.0025574702503611446,
          1.0722971872386773,
          -0.6490361642546468,
          -0.7056080232365795,
          0.036448555060863155,
          -0.46208863048318394,
          0.8909451927211299,
          -0.6075569427489664,
          0.17212712293151589,
          -2.2020227738434768,
          -1.0841246351259266,
          0.5581037439400494,
          0.2270284074491642,
          -0.046827427525527245,
          0.1708416162951795,
          0.097547606722425,
          1.4010504698153223,
          0.28861231333745696,
          -0.6301749435268477,
          0.35197377626014914,
          -0.3744844363117336,
          1.8219207208840351,
          0.45178522279543637,
          -0.948872768524955,
          1.1216879067308498,
          -0.5051281113933614,
          0.14887277205634297,
          0.1999556486992249,
          -1.6697997275559426,
          -0.1291673926643688,
          -2.5955074455319127,
          0.6071560525654458,
          0.45124691331754824,
          0.7445534695030128,
          1.9102827990950306,
          -0.09043099370692645,
          0.5476464341750529,
          0.7242806242042513,
          -0.34666807435880964,
          -0.9422400923509909,
          1.1944115944422067,
          0.849108361722817,
          -0.587274031667396,
          -1.3004657379502034,
          -0.3963526474289799,
          1.0932422210457229,
          0.16544951931799912,
          -1.2065330083577088,
          -0.10963490444821293,
          -0.1114314635928556,
          -0.8267519161472029,
          -0.39792190493483864,
          2.5060855702308453,
          0.39020636907104783,
          -0.01212829595721143,
          -0.4392766502407867,
          1.0688639552065233,
          -0.13031115107888877,
          0.28125713641044503,
          -1.6253646017719803,
          1.8681690447660622,
          0.22493645123791964,
          0.155567443654224,
          -0.9993681981030387,
          -1.0466997336123318,
          -0.38095818629242206,
          0.5261496897186589,
          0.37650394037431884,
          -0.7025636954005036,
          1.3869796947122683,
          0.4014752796351428,
          -0.3809755265193317,
          -0.1821895709489874,
          0.7181743276632854,
          1.2436847673042648,
          -0.025319473946945892,
          0.33927367748534265
         ],
         "xaxis": "x15",
         "y": [
          0.9851061875011242,
          0.8582380403595017,
          -0.33705763147266227,
          1.143348296440449,
          -1.9284318445340969,
          1.5529263867241374,
          -0.3314073487210843,
          0.210048778366087,
          0.9772419857702811,
          -0.40555144197030035,
          -0.03211290723392089,
          -0.4051763413170174,
          0.09342461976286336,
          -0.15276548116126995,
          -1.6084766676061713,
          1.3300326843843588,
          -1.7656908341411746,
          1.2849327788844074,
          -1.3035053069028695,
          -1.126224479833057,
          -0.47929533400944885,
          0.5842022873922668,
          0.7904004155000492,
          -0.4891013768360308,
          -0.9520557829866434,
          -0.18334612929308258,
          -0.09699582855961543,
          1.7165193982806102,
          -0.10761765897950101,
          0.6172874068505037,
          1.4847093487359413,
          0.02905190240144271,
          -1.5013129289762308,
          -0.07744689448045243,
          -1.6624800651633258,
          -1.0265472229548933,
          0.8670916714520461,
          1.0426914109891925,
          1.5030112811283998,
          -0.04381679624688889,
          -0.254722581440965,
          0.20537035874761547,
          0.509188461141092,
          -0.4734633460511219,
          -1.905286227779699,
          0.8174965064193349,
          0.11002512874214922,
          0.08973189298899235,
          -0.24371056251516976,
          0.2076202668019951,
          1.3109703381511797,
          -0.23907632790672884,
          -1.131640138377444,
          -0.8681530405257885,
          -0.3316765752439354,
          -0.850094737879196,
          -1.0813888543664887,
          -0.25880086892959125,
          0.4280135636448433,
          -0.9759241685645935,
          0.42732918890384125,
          1.0476821350885444,
          0.09125930196634753,
          -1.3844686576162293,
          -0.7203766720244728,
          0.8944611600520691,
          1.1389195308685285,
          -0.1510571781929448,
          -0.5429626616143252,
          1.6438594470823837,
          -2.387324111421106,
          3.186390712511004,
          -0.3052502835085717,
          0.019401789993793443,
          0.33201005735944206,
          -0.14371547257048126,
          -0.9506788298248029,
          -2.3746285541474883,
          0.18565111413334542,
          1.3406813726300504,
          1.0987267753039165,
          0.24286780703230978,
          0.3587389155096219,
          1.6950598095884886,
          2.280543254135361,
          1.6244332636667975,
          0.6735605616645972,
          -0.6468507158570499,
          -0.3573522725347921,
          -0.23897454250813613,
          1.0850473640524714,
          0.9350061122313391,
          -0.32181332418719005,
          0.015078998276582507,
          0.37012978990539697,
          -0.5591163022749365,
          -1.8576703885043584,
          0.8418962768961537,
          1.2053095774559155,
          0.5658824440956434
         ],
         "yaxis": "y15"
        },
        {
         "histfunc": "count",
         "histnorm": "",
         "marker": {
          "color": "rgba(128, 0, 128, 1.0)",
          "line": {
           "color": "#4D5663",
           "width": 1.3
          }
         },
         "name": "D",
         "nbinsx": 10,
         "opacity": 0.8,
         "orientation": "v",
         "type": "histogram",
         "x": [
          0.9851061875011242,
          0.8582380403595017,
          -0.33705763147266227,
          1.143348296440449,
          -1.9284318445340969,
          1.5529263867241374,
          -0.3314073487210843,
          0.210048778366087,
          0.9772419857702811,
          -0.40555144197030035,
          -0.03211290723392089,
          -0.4051763413170174,
          0.09342461976286336,
          -0.15276548116126995,
          -1.6084766676061713,
          1.3300326843843588,
          -1.7656908341411746,
          1.2849327788844074,
          -1.3035053069028695,
          -1.126224479833057,
          -0.47929533400944885,
          0.5842022873922668,
          0.7904004155000492,
          -0.4891013768360308,
          -0.9520557829866434,
          -0.18334612929308258,
          -0.09699582855961543,
          1.7165193982806102,
          -0.10761765897950101,
          0.6172874068505037,
          1.4847093487359413,
          0.02905190240144271,
          -1.5013129289762308,
          -0.07744689448045243,
          -1.6624800651633258,
          -1.0265472229548933,
          0.8670916714520461,
          1.0426914109891925,
          1.5030112811283998,
          -0.04381679624688889,
          -0.254722581440965,
          0.20537035874761547,
          0.509188461141092,
          -0.4734633460511219,
          -1.905286227779699,
          0.8174965064193349,
          0.11002512874214922,
          0.08973189298899235,
          -0.24371056251516976,
          0.2076202668019951,
          1.3109703381511797,
          -0.23907632790672884,
          -1.131640138377444,
          -0.8681530405257885,
          -0.3316765752439354,
          -0.850094737879196,
          -1.0813888543664887,
          -0.25880086892959125,
          0.4280135636448433,
          -0.9759241685645935,
          0.42732918890384125,
          1.0476821350885444,
          0.09125930196634753,
          -1.3844686576162293,
          -0.7203766720244728,
          0.8944611600520691,
          1.1389195308685285,
          -0.1510571781929448,
          -0.5429626616143252,
          1.6438594470823837,
          -2.387324111421106,
          3.186390712511004,
          -0.3052502835085717,
          0.019401789993793443,
          0.33201005735944206,
          -0.14371547257048126,
          -0.9506788298248029,
          -2.3746285541474883,
          0.18565111413334542,
          1.3406813726300504,
          1.0987267753039165,
          0.24286780703230978,
          0.3587389155096219,
          1.6950598095884886,
          2.280543254135361,
          1.6244332636667975,
          0.6735605616645972,
          -0.6468507158570499,
          -0.3573522725347921,
          -0.23897454250813613,
          1.0850473640524714,
          0.9350061122313391,
          -0.32181332418719005,
          0.015078998276582507,
          0.37012978990539697,
          -0.5591163022749365,
          -1.8576703885043584,
          0.8418962768961537,
          1.2053095774559155,
          0.5658824440956434
         ],
         "xaxis": "x16",
         "yaxis": "y16"
        }
       ],
       "layout": {
        "bargap": 0.02,
        "legend": {
         "bgcolor": "#F5F6F9",
         "font": {
          "color": "#4D5663"
         }
        },
        "paper_bgcolor": "#F5F6F9",
        "plot_bgcolor": "#F5F6F9",
        "showlegend": false,
        "template": {
         "data": {
          "bar": [
           {
            "error_x": {
             "color": "#2a3f5f"
            },
            "error_y": {
             "color": "#2a3f5f"
            },
            "marker": {
             "line": {
              "color": "#E5ECF6",
              "width": 0.5
             }
            },
            "type": "bar"
           }
          ],
          "barpolar": [
           {
            "marker": {
             "line": {
              "color": "#E5ECF6",
              "width": 0.5
             }
            },
            "type": "barpolar"
           }
          ],
          "carpet": [
           {
            "aaxis": {
             "endlinecolor": "#2a3f5f",
             "gridcolor": "white",
             "linecolor": "white",
             "minorgridcolor": "white",
             "startlinecolor": "#2a3f5f"
            },
            "baxis": {
             "endlinecolor": "#2a3f5f",
             "gridcolor": "white",
             "linecolor": "white",
             "minorgridcolor": "white",
             "startlinecolor": "#2a3f5f"
            },
            "type": "carpet"
           }
          ],
          "choropleth": [
           {
            "colorbar": {
             "outlinewidth": 0,
             "ticks": ""
            },
            "type": "choropleth"
           }
          ],
          "contour": [
           {
            "colorbar": {
             "outlinewidth": 0,
             "ticks": ""
            },
            "colorscale": [
             [
              0,
              "#0d0887"
             ],
             [
              0.1111111111111111,
              "#46039f"
             ],
             [
              0.2222222222222222,
              "#7201a8"
             ],
             [
              0.3333333333333333,
              "#9c179e"
             ],
             [
              0.4444444444444444,
              "#bd3786"
             ],
             [
              0.5555555555555556,
              "#d8576b"
             ],
             [
              0.6666666666666666,
              "#ed7953"
             ],
             [
              0.7777777777777778,
              "#fb9f3a"
             ],
             [
              0.8888888888888888,
              "#fdca26"
             ],
             [
              1,
              "#f0f921"
             ]
            ],
            "type": "contour"
           }
          ],
          "contourcarpet": [
           {
            "colorbar": {
             "outlinewidth": 0,
             "ticks": ""
            },
            "type": "contourcarpet"
           }
          ],
          "heatmap": [
           {
            "colorbar": {
             "outlinewidth": 0,
             "ticks": ""
            },
            "colorscale": [
             [
              0,
              "#0d0887"
             ],
             [
              0.1111111111111111,
              "#46039f"
             ],
             [
              0.2222222222222222,
              "#7201a8"
             ],
             [
              0.3333333333333333,
              "#9c179e"
             ],
             [
              0.4444444444444444,
              "#bd3786"
             ],
             [
              0.5555555555555556,
              "#d8576b"
             ],
             [
              0.6666666666666666,
              "#ed7953"
             ],
             [
              0.7777777777777778,
              "#fb9f3a"
             ],
             [
              0.8888888888888888,
              "#fdca26"
             ],
             [
              1,
              "#f0f921"
             ]
            ],
            "type": "heatmap"
           }
          ],
          "heatmapgl": [
           {
            "colorbar": {
             "outlinewidth": 0,
             "ticks": ""
            },
            "colorscale": [
             [
              0,
              "#0d0887"
             ],
             [
              0.1111111111111111,
              "#46039f"
             ],
             [
              0.2222222222222222,
              "#7201a8"
             ],
             [
              0.3333333333333333,
              "#9c179e"
             ],
             [
              0.4444444444444444,
              "#bd3786"
             ],
             [
              0.5555555555555556,
              "#d8576b"
             ],
             [
              0.6666666666666666,
              "#ed7953"
             ],
             [
              0.7777777777777778,
              "#fb9f3a"
             ],
             [
              0.8888888888888888,
              "#fdca26"
             ],
             [
              1,
              "#f0f921"
             ]
            ],
            "type": "heatmapgl"
           }
          ],
          "histogram": [
           {
            "marker": {
             "colorbar": {
              "outlinewidth": 0,
              "ticks": ""
             }
            },
            "type": "histogram"
           }
          ],
          "histogram2d": [
           {
            "colorbar": {
             "outlinewidth": 0,
             "ticks": ""
            },
            "colorscale": [
             [
              0,
              "#0d0887"
             ],
             [
              0.1111111111111111,
              "#46039f"
             ],
             [
              0.2222222222222222,
              "#7201a8"
             ],
             [
              0.3333333333333333,
              "#9c179e"
             ],
             [
              0.4444444444444444,
              "#bd3786"
             ],
             [
              0.5555555555555556,
              "#d8576b"
             ],
             [
              0.6666666666666666,
              "#ed7953"
             ],
             [
              0.7777777777777778,
              "#fb9f3a"
             ],
             [
              0.8888888888888888,
              "#fdca26"
             ],
             [
              1,
              "#f0f921"
             ]
            ],
            "type": "histogram2d"
           }
          ],
          "histogram2dcontour": [
           {
            "colorbar": {
             "outlinewidth": 0,
             "ticks": ""
            },
            "colorscale": [
             [
              0,
              "#0d0887"
             ],
             [
              0.1111111111111111,
              "#46039f"
             ],
             [
              0.2222222222222222,
              "#7201a8"
             ],
             [
              0.3333333333333333,
              "#9c179e"
             ],
             [
              0.4444444444444444,
              "#bd3786"
             ],
             [
              0.5555555555555556,
              "#d8576b"
             ],
             [
              0.6666666666666666,
              "#ed7953"
             ],
             [
              0.7777777777777778,
              "#fb9f3a"
             ],
             [
              0.8888888888888888,
              "#fdca26"
             ],
             [
              1,
              "#f0f921"
             ]
            ],
            "type": "histogram2dcontour"
           }
          ],
          "mesh3d": [
           {
            "colorbar": {
             "outlinewidth": 0,
             "ticks": ""
            },
            "type": "mesh3d"
           }
          ],
          "parcoords": [
           {
            "line": {
             "colorbar": {
              "outlinewidth": 0,
              "ticks": ""
             }
            },
            "type": "parcoords"
           }
          ],
          "pie": [
           {
            "automargin": true,
            "type": "pie"
           }
          ],
          "scatter": [
           {
            "marker": {
             "colorbar": {
              "outlinewidth": 0,
              "ticks": ""
             }
            },
            "type": "scatter"
           }
          ],
          "scatter3d": [
           {
            "line": {
             "colorbar": {
              "outlinewidth": 0,
              "ticks": ""
             }
            },
            "marker": {
             "colorbar": {
              "outlinewidth": 0,
              "ticks": ""
             }
            },
            "type": "scatter3d"
           }
          ],
          "scattercarpet": [
           {
            "marker": {
             "colorbar": {
              "outlinewidth": 0,
              "ticks": ""
             }
            },
            "type": "scattercarpet"
           }
          ],
          "scattergeo": [
           {
            "marker": {
             "colorbar": {
              "outlinewidth": 0,
              "ticks": ""
             }
            },
            "type": "scattergeo"
           }
          ],
          "scattergl": [
           {
            "marker": {
             "colorbar": {
              "outlinewidth": 0,
              "ticks": ""
             }
            },
            "type": "scattergl"
           }
          ],
          "scattermapbox": [
           {
            "marker": {
             "colorbar": {
              "outlinewidth": 0,
              "ticks": ""
             }
            },
            "type": "scattermapbox"
           }
          ],
          "scatterpolar": [
           {
            "marker": {
             "colorbar": {
              "outlinewidth": 0,
              "ticks": ""
             }
            },
            "type": "scatterpolar"
           }
          ],
          "scatterpolargl": [
           {
            "marker": {
             "colorbar": {
              "outlinewidth": 0,
              "ticks": ""
             }
            },
            "type": "scatterpolargl"
           }
          ],
          "scatterternary": [
           {
            "marker": {
             "colorbar": {
              "outlinewidth": 0,
              "ticks": ""
             }
            },
            "type": "scatterternary"
           }
          ],
          "surface": [
           {
            "colorbar": {
             "outlinewidth": 0,
             "ticks": ""
            },
            "colorscale": [
             [
              0,
              "#0d0887"
             ],
             [
              0.1111111111111111,
              "#46039f"
             ],
             [
              0.2222222222222222,
              "#7201a8"
             ],
             [
              0.3333333333333333,
              "#9c179e"
             ],
             [
              0.4444444444444444,
              "#bd3786"
             ],
             [
              0.5555555555555556,
              "#d8576b"
             ],
             [
              0.6666666666666666,
              "#ed7953"
             ],
             [
              0.7777777777777778,
              "#fb9f3a"
             ],
             [
              0.8888888888888888,
              "#fdca26"
             ],
             [
              1,
              "#f0f921"
             ]
            ],
            "type": "surface"
           }
          ],
          "table": [
           {
            "cells": {
             "fill": {
              "color": "#EBF0F8"
             },
             "line": {
              "color": "white"
             }
            },
            "header": {
             "fill": {
              "color": "#C8D4E3"
             },
             "line": {
              "color": "white"
             }
            },
            "type": "table"
           }
          ]
         },
         "layout": {
          "annotationdefaults": {
           "arrowcolor": "#2a3f5f",
           "arrowhead": 0,
           "arrowwidth": 1
          },
          "coloraxis": {
           "colorbar": {
            "outlinewidth": 0,
            "ticks": ""
           }
          },
          "colorscale": {
           "diverging": [
            [
             0,
             "#8e0152"
            ],
            [
             0.1,
             "#c51b7d"
            ],
            [
             0.2,
             "#de77ae"
            ],
            [
             0.3,
             "#f1b6da"
            ],
            [
             0.4,
             "#fde0ef"
            ],
            [
             0.5,
             "#f7f7f7"
            ],
            [
             0.6,
             "#e6f5d0"
            ],
            [
             0.7,
             "#b8e186"
            ],
            [
             0.8,
             "#7fbc41"
            ],
            [
             0.9,
             "#4d9221"
            ],
            [
             1,
             "#276419"
            ]
           ],
           "sequential": [
            [
             0,
             "#0d0887"
            ],
            [
             0.1111111111111111,
             "#46039f"
            ],
            [
             0.2222222222222222,
             "#7201a8"
            ],
            [
             0.3333333333333333,
             "#9c179e"
            ],
            [
             0.4444444444444444,
             "#bd3786"
            ],
            [
             0.5555555555555556,
             "#d8576b"
            ],
            [
             0.6666666666666666,
             "#ed7953"
            ],
            [
             0.7777777777777778,
             "#fb9f3a"
            ],
            [
             0.8888888888888888,
             "#fdca26"
            ],
            [
             1,
             "#f0f921"
            ]
           ],
           "sequentialminus": [
            [
             0,
             "#0d0887"
            ],
            [
             0.1111111111111111,
             "#46039f"
            ],
            [
             0.2222222222222222,
             "#7201a8"
            ],
            [
             0.3333333333333333,
             "#9c179e"
            ],
            [
             0.4444444444444444,
             "#bd3786"
            ],
            [
             0.5555555555555556,
             "#d8576b"
            ],
            [
             0.6666666666666666,
             "#ed7953"
            ],
            [
             0.7777777777777778,
             "#fb9f3a"
            ],
            [
             0.8888888888888888,
             "#fdca26"
            ],
            [
             1,
             "#f0f921"
            ]
           ]
          },
          "colorway": [
           "#636efa",
           "#EF553B",
           "#00cc96",
           "#ab63fa",
           "#FFA15A",
           "#19d3f3",
           "#FF6692",
           "#B6E880",
           "#FF97FF",
           "#FECB52"
          ],
          "font": {
           "color": "#2a3f5f"
          },
          "geo": {
           "bgcolor": "white",
           "lakecolor": "white",
           "landcolor": "#E5ECF6",
           "showlakes": true,
           "showland": true,
           "subunitcolor": "white"
          },
          "hoverlabel": {
           "align": "left"
          },
          "hovermode": "closest",
          "mapbox": {
           "style": "light"
          },
          "paper_bgcolor": "white",
          "plot_bgcolor": "#E5ECF6",
          "polar": {
           "angularaxis": {
            "gridcolor": "white",
            "linecolor": "white",
            "ticks": ""
           },
           "bgcolor": "#E5ECF6",
           "radialaxis": {
            "gridcolor": "white",
            "linecolor": "white",
            "ticks": ""
           }
          },
          "scene": {
           "xaxis": {
            "backgroundcolor": "#E5ECF6",
            "gridcolor": "white",
            "gridwidth": 2,
            "linecolor": "white",
            "showbackground": true,
            "ticks": "",
            "zerolinecolor": "white"
           },
           "yaxis": {
            "backgroundcolor": "#E5ECF6",
            "gridcolor": "white",
            "gridwidth": 2,
            "linecolor": "white",
            "showbackground": true,
            "ticks": "",
            "zerolinecolor": "white"
           },
           "zaxis": {
            "backgroundcolor": "#E5ECF6",
            "gridcolor": "white",
            "gridwidth": 2,
            "linecolor": "white",
            "showbackground": true,
            "ticks": "",
            "zerolinecolor": "white"
           }
          },
          "shapedefaults": {
           "line": {
            "color": "#2a3f5f"
           }
          },
          "ternary": {
           "aaxis": {
            "gridcolor": "white",
            "linecolor": "white",
            "ticks": ""
           },
           "baxis": {
            "gridcolor": "white",
            "linecolor": "white",
            "ticks": ""
           },
           "bgcolor": "#E5ECF6",
           "caxis": {
            "gridcolor": "white",
            "linecolor": "white",
            "ticks": ""
           }
          },
          "title": {
           "x": 0.05
          },
          "xaxis": {
           "automargin": true,
           "gridcolor": "white",
           "linecolor": "white",
           "ticks": "",
           "title": {
            "standoff": 15
           },
           "zerolinecolor": "white",
           "zerolinewidth": 2
          },
          "yaxis": {
           "automargin": true,
           "gridcolor": "white",
           "linecolor": "white",
           "ticks": "",
           "title": {
            "standoff": 15
           },
           "zerolinecolor": "white",
           "zerolinewidth": 2
          }
         }
        },
        "title": {
         "font": {
          "color": "#4D5663"
         }
        },
        "xaxis": {
         "anchor": "y",
         "domain": [
          0,
          0.2125
         ],
         "gridcolor": "#E1E5ED",
         "showgrid": false,
         "tickfont": {
          "color": "#4D5663"
         },
         "title": {
          "font": {
           "color": "#4D5663"
          },
          "text": ""
         },
         "zerolinecolor": "#E1E5ED"
        },
        "xaxis10": {
         "anchor": "y10",
         "domain": [
          0.2625,
          0.475
         ],
         "gridcolor": "#E1E5ED",
         "showgrid": false,
         "tickfont": {
          "color": "#4D5663"
         },
         "title": {
          "font": {
           "color": "#4D5663"
          },
          "text": ""
         },
         "zerolinecolor": "#E1E5ED"
        },
        "xaxis11": {
         "anchor": "y11",
         "domain": [
          0.525,
          0.7375
         ],
         "gridcolor": "#E1E5ED",
         "showgrid": false,
         "tickfont": {
          "color": "#4D5663"
         },
         "title": {
          "font": {
           "color": "#4D5663"
          },
          "text": ""
         },
         "zerolinecolor": "#E1E5ED"
        },
        "xaxis12": {
         "anchor": "y12",
         "domain": [
          0.7875,
          1
         ],
         "gridcolor": "#E1E5ED",
         "showgrid": false,
         "tickfont": {
          "color": "#4D5663"
         },
         "title": {
          "font": {
           "color": "#4D5663"
          },
          "text": ""
         },
         "zerolinecolor": "#E1E5ED"
        },
        "xaxis13": {
         "anchor": "y13",
         "domain": [
          0,
          0.2125
         ],
         "gridcolor": "#E1E5ED",
         "showgrid": false,
         "tickfont": {
          "color": "#4D5663"
         },
         "title": {
          "font": {
           "color": "#4D5663"
          },
          "text": ""
         },
         "zerolinecolor": "#E1E5ED"
        },
        "xaxis14": {
         "anchor": "y14",
         "domain": [
          0.2625,
          0.475
         ],
         "gridcolor": "#E1E5ED",
         "showgrid": false,
         "tickfont": {
          "color": "#4D5663"
         },
         "title": {
          "font": {
           "color": "#4D5663"
          },
          "text": ""
         },
         "zerolinecolor": "#E1E5ED"
        },
        "xaxis15": {
         "anchor": "y15",
         "domain": [
          0.525,
          0.7375
         ],
         "gridcolor": "#E1E5ED",
         "showgrid": false,
         "tickfont": {
          "color": "#4D5663"
         },
         "title": {
          "font": {
           "color": "#4D5663"
          },
          "text": ""
         },
         "zerolinecolor": "#E1E5ED"
        },
        "xaxis16": {
         "anchor": "y16",
         "domain": [
          0.7875,
          1
         ],
         "gridcolor": "#E1E5ED",
         "showgrid": false,
         "tickfont": {
          "color": "#4D5663"
         },
         "title": {
          "font": {
           "color": "#4D5663"
          },
          "text": ""
         },
         "zerolinecolor": "#E1E5ED"
        },
        "xaxis2": {
         "anchor": "y2",
         "domain": [
          0.2625,
          0.475
         ],
         "gridcolor": "#E1E5ED",
         "showgrid": false,
         "tickfont": {
          "color": "#4D5663"
         },
         "title": {
          "font": {
           "color": "#4D5663"
          },
          "text": ""
         },
         "zerolinecolor": "#E1E5ED"
        },
        "xaxis3": {
         "anchor": "y3",
         "domain": [
          0.525,
          0.7375
         ],
         "gridcolor": "#E1E5ED",
         "showgrid": false,
         "tickfont": {
          "color": "#4D5663"
         },
         "title": {
          "font": {
           "color": "#4D5663"
          },
          "text": ""
         },
         "zerolinecolor": "#E1E5ED"
        },
        "xaxis4": {
         "anchor": "y4",
         "domain": [
          0.7875,
          1
         ],
         "gridcolor": "#E1E5ED",
         "showgrid": false,
         "tickfont": {
          "color": "#4D5663"
         },
         "title": {
          "font": {
           "color": "#4D5663"
          },
          "text": ""
         },
         "zerolinecolor": "#E1E5ED"
        },
        "xaxis5": {
         "anchor": "y5",
         "domain": [
          0,
          0.2125
         ],
         "gridcolor": "#E1E5ED",
         "showgrid": false,
         "tickfont": {
          "color": "#4D5663"
         },
         "title": {
          "font": {
           "color": "#4D5663"
          },
          "text": ""
         },
         "zerolinecolor": "#E1E5ED"
        },
        "xaxis6": {
         "anchor": "y6",
         "domain": [
          0.2625,
          0.475
         ],
         "gridcolor": "#E1E5ED",
         "showgrid": false,
         "tickfont": {
          "color": "#4D5663"
         },
         "title": {
          "font": {
           "color": "#4D5663"
          },
          "text": ""
         },
         "zerolinecolor": "#E1E5ED"
        },
        "xaxis7": {
         "anchor": "y7",
         "domain": [
          0.525,
          0.7375
         ],
         "gridcolor": "#E1E5ED",
         "showgrid": false,
         "tickfont": {
          "color": "#4D5663"
         },
         "title": {
          "font": {
           "color": "#4D5663"
          },
          "text": ""
         },
         "zerolinecolor": "#E1E5ED"
        },
        "xaxis8": {
         "anchor": "y8",
         "domain": [
          0.7875,
          1
         ],
         "gridcolor": "#E1E5ED",
         "showgrid": false,
         "tickfont": {
          "color": "#4D5663"
         },
         "title": {
          "font": {
           "color": "#4D5663"
          },
          "text": ""
         },
         "zerolinecolor": "#E1E5ED"
        },
        "xaxis9": {
         "anchor": "y9",
         "domain": [
          0,
          0.2125
         ],
         "gridcolor": "#E1E5ED",
         "showgrid": false,
         "tickfont": {
          "color": "#4D5663"
         },
         "title": {
          "font": {
           "color": "#4D5663"
          },
          "text": ""
         },
         "zerolinecolor": "#E1E5ED"
        },
        "yaxis": {
         "anchor": "x",
         "domain": [
          0.8025,
          1
         ],
         "gridcolor": "#E1E5ED",
         "showgrid": false,
         "tickfont": {
          "color": "#4D5663"
         },
         "title": {
          "font": {
           "color": "#4D5663"
          },
          "text": ""
         },
         "zerolinecolor": "#E1E5ED"
        },
        "yaxis10": {
         "anchor": "x10",
         "domain": [
          0.2675,
          0.465
         ],
         "gridcolor": "#E1E5ED",
         "showgrid": false,
         "tickfont": {
          "color": "#4D5663"
         },
         "title": {
          "font": {
           "color": "#4D5663"
          },
          "text": ""
         },
         "zerolinecolor": "#E1E5ED"
        },
        "yaxis11": {
         "anchor": "x11",
         "domain": [
          0.2675,
          0.465
         ],
         "gridcolor": "#E1E5ED",
         "showgrid": false,
         "tickfont": {
          "color": "#4D5663"
         },
         "title": {
          "font": {
           "color": "#4D5663"
          },
          "text": ""
         },
         "zerolinecolor": "#E1E5ED"
        },
        "yaxis12": {
         "anchor": "x12",
         "domain": [
          0.2675,
          0.465
         ],
         "gridcolor": "#E1E5ED",
         "showgrid": false,
         "tickfont": {
          "color": "#4D5663"
         },
         "title": {
          "font": {
           "color": "#4D5663"
          },
          "text": ""
         },
         "zerolinecolor": "#E1E5ED"
        },
        "yaxis13": {
         "anchor": "x13",
         "domain": [
          0,
          0.1975
         ],
         "gridcolor": "#E1E5ED",
         "showgrid": false,
         "tickfont": {
          "color": "#4D5663"
         },
         "title": {
          "font": {
           "color": "#4D5663"
          },
          "text": ""
         },
         "zerolinecolor": "#E1E5ED"
        },
        "yaxis14": {
         "anchor": "x14",
         "domain": [
          0,
          0.1975
         ],
         "gridcolor": "#E1E5ED",
         "showgrid": false,
         "tickfont": {
          "color": "#4D5663"
         },
         "title": {
          "font": {
           "color": "#4D5663"
          },
          "text": ""
         },
         "zerolinecolor": "#E1E5ED"
        },
        "yaxis15": {
         "anchor": "x15",
         "domain": [
          0,
          0.1975
         ],
         "gridcolor": "#E1E5ED",
         "showgrid": false,
         "tickfont": {
          "color": "#4D5663"
         },
         "title": {
          "font": {
           "color": "#4D5663"
          },
          "text": ""
         },
         "zerolinecolor": "#E1E5ED"
        },
        "yaxis16": {
         "anchor": "x16",
         "domain": [
          0,
          0.1975
         ],
         "gridcolor": "#E1E5ED",
         "showgrid": false,
         "tickfont": {
          "color": "#4D5663"
         },
         "title": {
          "font": {
           "color": "#4D5663"
          },
          "text": ""
         },
         "zerolinecolor": "#E1E5ED"
        },
        "yaxis2": {
         "anchor": "x2",
         "domain": [
          0.8025,
          1
         ],
         "gridcolor": "#E1E5ED",
         "showgrid": false,
         "tickfont": {
          "color": "#4D5663"
         },
         "title": {
          "font": {
           "color": "#4D5663"
          },
          "text": ""
         },
         "zerolinecolor": "#E1E5ED"
        },
        "yaxis3": {
         "anchor": "x3",
         "domain": [
          0.8025,
          1
         ],
         "gridcolor": "#E1E5ED",
         "showgrid": false,
         "tickfont": {
          "color": "#4D5663"
         },
         "title": {
          "font": {
           "color": "#4D5663"
          },
          "text": ""
         },
         "zerolinecolor": "#E1E5ED"
        },
        "yaxis4": {
         "anchor": "x4",
         "domain": [
          0.8025,
          1
         ],
         "gridcolor": "#E1E5ED",
         "showgrid": false,
         "tickfont": {
          "color": "#4D5663"
         },
         "title": {
          "font": {
           "color": "#4D5663"
          },
          "text": ""
         },
         "zerolinecolor": "#E1E5ED"
        },
        "yaxis5": {
         "anchor": "x5",
         "domain": [
          0.535,
          0.7325
         ],
         "gridcolor": "#E1E5ED",
         "showgrid": false,
         "tickfont": {
          "color": "#4D5663"
         },
         "title": {
          "font": {
           "color": "#4D5663"
          },
          "text": ""
         },
         "zerolinecolor": "#E1E5ED"
        },
        "yaxis6": {
         "anchor": "x6",
         "domain": [
          0.535,
          0.7325
         ],
         "gridcolor": "#E1E5ED",
         "showgrid": false,
         "tickfont": {
          "color": "#4D5663"
         },
         "title": {
          "font": {
           "color": "#4D5663"
          },
          "text": ""
         },
         "zerolinecolor": "#E1E5ED"
        },
        "yaxis7": {
         "anchor": "x7",
         "domain": [
          0.535,
          0.7325
         ],
         "gridcolor": "#E1E5ED",
         "showgrid": false,
         "tickfont": {
          "color": "#4D5663"
         },
         "title": {
          "font": {
           "color": "#4D5663"
          },
          "text": ""
         },
         "zerolinecolor": "#E1E5ED"
        },
        "yaxis8": {
         "anchor": "x8",
         "domain": [
          0.535,
          0.7325
         ],
         "gridcolor": "#E1E5ED",
         "showgrid": false,
         "tickfont": {
          "color": "#4D5663"
         },
         "title": {
          "font": {
           "color": "#4D5663"
          },
          "text": ""
         },
         "zerolinecolor": "#E1E5ED"
        },
        "yaxis9": {
         "anchor": "x9",
         "domain": [
          0.2675,
          0.465
         ],
         "gridcolor": "#E1E5ED",
         "showgrid": false,
         "tickfont": {
          "color": "#4D5663"
         },
         "title": {
          "font": {
           "color": "#4D5663"
          },
          "text": ""
         },
         "zerolinecolor": "#E1E5ED"
        }
       }
      },
      "text/html": [
       "<div>\n",
       "        \n",
       "        \n",
       "            <div id=\"667663d2-d866-4021-a68b-24d9203dd401\" class=\"plotly-graph-div\" style=\"height:525px; width:100%;\"></div>\n",
       "            <script type=\"text/javascript\">\n",
       "                require([\"plotly\"], function(Plotly) {\n",
       "                    window.PLOTLYENV=window.PLOTLYENV || {};\n",
       "                    window.PLOTLYENV.BASE_URL='https://plot.ly';\n",
       "                    \n",
       "                if (document.getElementById(\"667663d2-d866-4021-a68b-24d9203dd401\")) {\n",
       "                    Plotly.newPlot(\n",
       "                        '667663d2-d866-4021-a68b-24d9203dd401',\n",
       "                        [{\"histfunc\": \"count\", \"histnorm\": \"\", \"marker\": {\"color\": \"rgba(255, 153, 51, 1.0)\", \"line\": {\"color\": \"#4D5663\", \"width\": 1.3}}, \"name\": \"A\", \"nbinsx\": 10, \"opacity\": 0.8, \"orientation\": \"v\", \"type\": \"histogram\", \"x\": [1.5142186544122638, 0.27895064943248915, -1.2772201606503015, 0.7176215978752194, 1.0242630534311887, -0.18782350124528943, -0.15971406208206046, -0.09450672113595138, 1.101557217961529, 1.760246324420678, 0.4957627962412397, 1.4410840240165774, 0.890736201554487, -0.1973859512432099, -0.22647367315349648, 0.9600258803516739, -0.22695644558189895, 0.9014455961017745, -1.0352942125712694, 1.3614210778771305, 1.438341742803549, 0.0062457188416346066, -0.34075842820041674, 1.1645719966781778, 3.251475167837798, 0.3585119159665232, 0.35559795617521023, -1.4927235063683504, -0.09654662808693423, -0.057294310675322785, -0.48183583073170233, -0.5382944548854823, 0.9208574046073155, -0.6302021900122878, 0.30933377625955083, -0.46552971679190036, -0.912246971568453, 0.663008040972662, 1.2686499433429357, 0.36508507101402465, 0.13357487450389904, -0.20648604070240084, 0.49234018847418437, -1.0079776998156387, -1.3502695696598568, 0.5959137955318851, -0.3372748183372034, -1.7190172045328507, 0.3701065313721388, -1.109452713943562, 0.11680700607062913, -0.8627209126237989, -0.8575591132443635, -0.044169557298888655, -0.7955907040068338, 0.12234260476958768, -1.0760163613813911, -0.8283533358210704, 0.268329750244207, 1.066892146131821, -0.6553844559897053, -0.644878025080047, 0.28702367749052854, -0.41938747626877115, 1.959073984465897, -1.1269742470876678, 3.8538700868814058, 0.8705990773885701, 0.5240821424022016, 0.33280913610094887, 0.4259038558689888, -1.2700198508155802, -0.5263315245506245, -0.1637455667230135, 2.213359350383037, -0.4878057724962988, -0.46568550675433373, 0.9524119005427031, 1.7669535874688445, 0.9320713319598105, 1.0426693299362813, -1.7119433140080471, -0.2723835374814382, -1.4597336316316212, 0.7187397058115067, 0.5706065969920404, 0.023982717991074275, -0.7639207845885283, -0.9117422967467312, -0.5438741254817734, -0.7489289965331479, 1.0933015307053855, -0.33036206127818424, 0.573877123376443, 1.548344828251328, -0.2994560355888004, 0.47710475522997875, -1.7490432446344575, -0.615644586432859, -0.0696319730489194], \"xaxis\": \"x\", \"yaxis\": \"y\"}, {\"line\": {\"color\": \"rgba(128, 128, 128, 1.0)\", \"dash\": \"solid\", \"shape\": \"linear\", \"width\": 1.3}, \"marker\": {\"size\": 2, \"symbol\": \"circle\"}, \"mode\": \"markers\", \"name\": \"A\", \"text\": \"\", \"type\": \"scatter\", \"x\": [-0.9153410714929735, 1.6358976547955704, 0.09255099576014963, 1.5400934402495086, 0.6425658299894662, -0.26179888744269847, 1.0273186956146738, -0.6307535418604402, -2.5346978546476517, -2.1897817281056837, 0.8311035354450367, 0.6399383182121887, -0.9403607387553982, 0.7078174444510166, -0.45457637870870515, 1.1980318577308495, -0.11554976053470527, 0.30680062220353793, -0.9217244314001211, -0.6663874786748377, 1.32120609432077, 1.0109233247836378, -0.1824269769280658, -1.0488991304782136, 1.0662243347339762, -0.9034244394440355, -0.3263330312314083, -0.2607788207729719, -2.4278016862124088, -0.12711866662850796, -0.36884387842295946, 0.6429063120523958, 0.14881899593559214, -0.43653258631725117, 1.1884826095900352, 2.178398074485583, -0.06233515306434373, 0.2587311274407884, -0.3741404646665351, 0.30626494513246, -2.126751910804884, -2.060133981135926, 1.5529239103471126, -0.38836926178255654, 0.3942599587482798, 1.5803964142097777, -1.0523833241987806, -0.01657286604126695, -0.770066526216671, 0.9920549755691876, 0.22018622155780793, 0.9478438860931523, 2.5346802705488365, 0.30453558445497775, 0.44999869484970006, 0.1329256362940828, 0.5257532229366679, 0.6353351705845959, 1.3939366249738248, -0.22346756860341713, 1.1700863549033256, -0.6893141589265049, -0.7284549415162579, 1.0979628734277693, -0.9852892186534995, 0.04408684809316521, -0.3768717795879098, -0.09487210728594804, 0.40576310664905313, 0.4280661826615465, -0.8014571020621714, -1.192492353104392, 0.9009984970801053, -0.6804664819337662, -0.05322152993200261, -0.5406055085130784, -1.1648516692905604, -0.4866434874688328, -0.2527643374481889, -0.49051314591226564, 0.4483948614666029, -0.1286617016280999, 0.7375815043599231, -1.2179161391289677, 1.329503329537658, 0.6406407101277446, -0.3885952375410158, -1.3344868258260545, 0.021479658397961912, 0.14220431097964045, 0.6956144127780031, -1.2274294853474346, 0.8445551976348453, -0.27707728983608126, -1.044478370898736, -1.0342492050125447, 1.8384683805763349, -0.47129373877017977, 0.2826769281895832, 0.29606799065000583], \"xaxis\": \"x2\", \"y\": [1.5142186544122638, 0.27895064943248915, -1.2772201606503015, 0.7176215978752194, 1.0242630534311887, -0.18782350124528943, -0.15971406208206046, -0.09450672113595138, 1.101557217961529, 1.760246324420678, 0.4957627962412397, 1.4410840240165774, 0.890736201554487, -0.1973859512432099, -0.22647367315349648, 0.9600258803516739, -0.22695644558189895, 0.9014455961017745, -1.0352942125712694, 1.3614210778771305, 1.438341742803549, 0.0062457188416346066, -0.34075842820041674, 1.1645719966781778, 3.251475167837798, 0.3585119159665232, 0.35559795617521023, -1.4927235063683504, -0.09654662808693423, -0.057294310675322785, -0.48183583073170233, -0.5382944548854823, 0.9208574046073155, -0.6302021900122878, 0.30933377625955083, -0.46552971679190036, -0.912246971568453, 0.663008040972662, 1.2686499433429357, 0.36508507101402465, 0.13357487450389904, -0.20648604070240084, 0.49234018847418437, -1.0079776998156387, -1.3502695696598568, 0.5959137955318851, -0.3372748183372034, -1.7190172045328507, 0.3701065313721388, -1.109452713943562, 0.11680700607062913, -0.8627209126237989, -0.8575591132443635, -0.044169557298888655, -0.7955907040068338, 0.12234260476958768, -1.0760163613813911, -0.8283533358210704, 0.268329750244207, 1.066892146131821, -0.6553844559897053, -0.644878025080047, 0.28702367749052854, -0.41938747626877115, 1.959073984465897, -1.1269742470876678, 3.8538700868814058, 0.8705990773885701, 0.5240821424022016, 0.33280913610094887, 0.4259038558689888, -1.2700198508155802, -0.5263315245506245, -0.1637455667230135, 2.213359350383037, -0.4878057724962988, -0.46568550675433373, 0.9524119005427031, 1.7669535874688445, 0.9320713319598105, 1.0426693299362813, -1.7119433140080471, -0.2723835374814382, -1.4597336316316212, 0.7187397058115067, 0.5706065969920404, 0.023982717991074275, -0.7639207845885283, -0.9117422967467312, -0.5438741254817734, -0.7489289965331479, 1.0933015307053855, -0.33036206127818424, 0.573877123376443, 1.548344828251328, -0.2994560355888004, 0.47710475522997875, -1.7490432446344575, -0.615644586432859, -0.0696319730489194], \"yaxis\": \"y2\"}, {\"line\": {\"color\": \"rgba(128, 128, 128, 1.0)\", \"dash\": \"solid\", \"shape\": \"linear\", \"width\": 1.3}, \"marker\": {\"size\": 2, \"symbol\": \"circle\"}, \"mode\": \"markers\", \"name\": \"A\", \"text\": \"\", \"type\": \"scatter\", \"x\": [0.952786651656803, -0.09014875287851794, -1.0685447512507276, -0.24921352859048332, 2.351969169587414, -1.8991212435034521, 0.6177398434531892, -1.9917003769460297, -1.0424738903012825, -0.22691279113960114, -1.1970818844517153, -0.9394291053149986, 1.757266845669264, -1.2407937962254503, -0.40044773536211387, -0.07962671261999174, -0.37548314235380925, -0.07343692394274298, -0.7806192817076086, -1.0895517338230685, 0.07176847416090174, -1.4131798523976564, 0.10320382126301453, -0.0025574702503611446, 1.0722971872386773, -0.6490361642546468, -0.7056080232365795, 0.036448555060863155, -0.46208863048318394, 0.8909451927211299, -0.6075569427489664, 0.17212712293151589, -2.2020227738434768, -1.0841246351259266, 0.5581037439400494, 0.2270284074491642, -0.046827427525527245, 0.1708416162951795, 0.097547606722425, 1.4010504698153223, 0.28861231333745696, -0.6301749435268477, 0.35197377626014914, -0.3744844363117336, 1.8219207208840351, 0.45178522279543637, -0.948872768524955, 1.1216879067308498, -0.5051281113933614, 0.14887277205634297, 0.1999556486992249, -1.6697997275559426, -0.1291673926643688, -2.5955074455319127, 0.6071560525654458, 0.45124691331754824, 0.7445534695030128, 1.9102827990950306, -0.09043099370692645, 0.5476464341750529, 0.7242806242042513, -0.34666807435880964, -0.9422400923509909, 1.1944115944422067, 0.849108361722817, -0.587274031667396, -1.3004657379502034, -0.3963526474289799, 1.0932422210457229, 0.16544951931799912, -1.2065330083577088, -0.10963490444821293, -0.1114314635928556, -0.8267519161472029, -0.39792190493483864, 2.5060855702308453, 0.39020636907104783, -0.01212829595721143, -0.4392766502407867, 1.0688639552065233, -0.13031115107888877, 0.28125713641044503, -1.6253646017719803, 1.8681690447660622, 0.22493645123791964, 0.155567443654224, -0.9993681981030387, -1.0466997336123318, -0.38095818629242206, 0.5261496897186589, 0.37650394037431884, -0.7025636954005036, 1.3869796947122683, 0.4014752796351428, -0.3809755265193317, -0.1821895709489874, 0.7181743276632854, 1.2436847673042648, -0.025319473946945892, 0.33927367748534265], \"xaxis\": \"x3\", \"y\": [1.5142186544122638, 0.27895064943248915, -1.2772201606503015, 0.7176215978752194, 1.0242630534311887, -0.18782350124528943, -0.15971406208206046, -0.09450672113595138, 1.101557217961529, 1.760246324420678, 0.4957627962412397, 1.4410840240165774, 0.890736201554487, -0.1973859512432099, -0.22647367315349648, 0.9600258803516739, -0.22695644558189895, 0.9014455961017745, -1.0352942125712694, 1.3614210778771305, 1.438341742803549, 0.0062457188416346066, -0.34075842820041674, 1.1645719966781778, 3.251475167837798, 0.3585119159665232, 0.35559795617521023, -1.4927235063683504, -0.09654662808693423, -0.057294310675322785, -0.48183583073170233, -0.5382944548854823, 0.9208574046073155, -0.6302021900122878, 0.30933377625955083, -0.46552971679190036, -0.912246971568453, 0.663008040972662, 1.2686499433429357, 0.36508507101402465, 0.13357487450389904, -0.20648604070240084, 0.49234018847418437, -1.0079776998156387, -1.3502695696598568, 0.5959137955318851, -0.3372748183372034, -1.7190172045328507, 0.3701065313721388, -1.109452713943562, 0.11680700607062913, -0.8627209126237989, -0.8575591132443635, -0.044169557298888655, -0.7955907040068338, 0.12234260476958768, -1.0760163613813911, -0.8283533358210704, 0.268329750244207, 1.066892146131821, -0.6553844559897053, -0.644878025080047, 0.28702367749052854, -0.41938747626877115, 1.959073984465897, -1.1269742470876678, 3.8538700868814058, 0.8705990773885701, 0.5240821424022016, 0.33280913610094887, 0.4259038558689888, -1.2700198508155802, -0.5263315245506245, -0.1637455667230135, 2.213359350383037, -0.4878057724962988, -0.46568550675433373, 0.9524119005427031, 1.7669535874688445, 0.9320713319598105, 1.0426693299362813, -1.7119433140080471, -0.2723835374814382, -1.4597336316316212, 0.7187397058115067, 0.5706065969920404, 0.023982717991074275, -0.7639207845885283, -0.9117422967467312, -0.5438741254817734, -0.7489289965331479, 1.0933015307053855, -0.33036206127818424, 0.573877123376443, 1.548344828251328, -0.2994560355888004, 0.47710475522997875, -1.7490432446344575, -0.615644586432859, -0.0696319730489194], \"yaxis\": \"y3\"}, {\"line\": {\"color\": \"rgba(128, 128, 128, 1.0)\", \"dash\": \"solid\", \"shape\": \"linear\", \"width\": 1.3}, \"marker\": {\"size\": 2, \"symbol\": \"circle\"}, \"mode\": \"markers\", \"name\": \"A\", \"text\": \"\", \"type\": \"scatter\", \"x\": [0.9851061875011242, 0.8582380403595017, -0.33705763147266227, 1.143348296440449, -1.9284318445340969, 1.5529263867241374, -0.3314073487210843, 0.210048778366087, 0.9772419857702811, -0.40555144197030035, -0.03211290723392089, -0.4051763413170174, 0.09342461976286336, -0.15276548116126995, -1.6084766676061713, 1.3300326843843588, -1.7656908341411746, 1.2849327788844074, -1.3035053069028695, -1.126224479833057, -0.47929533400944885, 0.5842022873922668, 0.7904004155000492, -0.4891013768360308, -0.9520557829866434, -0.18334612929308258, -0.09699582855961543, 1.7165193982806102, -0.10761765897950101, 0.6172874068505037, 1.4847093487359413, 0.02905190240144271, -1.5013129289762308, -0.07744689448045243, -1.6624800651633258, -1.0265472229548933, 0.8670916714520461, 1.0426914109891925, 1.5030112811283998, -0.04381679624688889, -0.254722581440965, 0.20537035874761547, 0.509188461141092, -0.4734633460511219, -1.905286227779699, 0.8174965064193349, 0.11002512874214922, 0.08973189298899235, -0.24371056251516976, 0.2076202668019951, 1.3109703381511797, -0.23907632790672884, -1.131640138377444, -0.8681530405257885, -0.3316765752439354, -0.850094737879196, -1.0813888543664887, -0.25880086892959125, 0.4280135636448433, -0.9759241685645935, 0.42732918890384125, 1.0476821350885444, 0.09125930196634753, -1.3844686576162293, -0.7203766720244728, 0.8944611600520691, 1.1389195308685285, -0.1510571781929448, -0.5429626616143252, 1.6438594470823837, -2.387324111421106, 3.186390712511004, -0.3052502835085717, 0.019401789993793443, 0.33201005735944206, -0.14371547257048126, -0.9506788298248029, -2.3746285541474883, 0.18565111413334542, 1.3406813726300504, 1.0987267753039165, 0.24286780703230978, 0.3587389155096219, 1.6950598095884886, 2.280543254135361, 1.6244332636667975, 0.6735605616645972, -0.6468507158570499, -0.3573522725347921, -0.23897454250813613, 1.0850473640524714, 0.9350061122313391, -0.32181332418719005, 0.015078998276582507, 0.37012978990539697, -0.5591163022749365, -1.8576703885043584, 0.8418962768961537, 1.2053095774559155, 0.5658824440956434], \"xaxis\": \"x4\", \"y\": [1.5142186544122638, 0.27895064943248915, -1.2772201606503015, 0.7176215978752194, 1.0242630534311887, -0.18782350124528943, -0.15971406208206046, -0.09450672113595138, 1.101557217961529, 1.760246324420678, 0.4957627962412397, 1.4410840240165774, 0.890736201554487, -0.1973859512432099, -0.22647367315349648, 0.9600258803516739, -0.22695644558189895, 0.9014455961017745, -1.0352942125712694, 1.3614210778771305, 1.438341742803549, 0.0062457188416346066, -0.34075842820041674, 1.1645719966781778, 3.251475167837798, 0.3585119159665232, 0.35559795617521023, -1.4927235063683504, -0.09654662808693423, -0.057294310675322785, -0.48183583073170233, -0.5382944548854823, 0.9208574046073155, -0.6302021900122878, 0.30933377625955083, -0.46552971679190036, -0.912246971568453, 0.663008040972662, 1.2686499433429357, 0.36508507101402465, 0.13357487450389904, -0.20648604070240084, 0.49234018847418437, -1.0079776998156387, -1.3502695696598568, 0.5959137955318851, -0.3372748183372034, -1.7190172045328507, 0.3701065313721388, -1.109452713943562, 0.11680700607062913, -0.8627209126237989, -0.8575591132443635, -0.044169557298888655, -0.7955907040068338, 0.12234260476958768, -1.0760163613813911, -0.8283533358210704, 0.268329750244207, 1.066892146131821, -0.6553844559897053, -0.644878025080047, 0.28702367749052854, -0.41938747626877115, 1.959073984465897, -1.1269742470876678, 3.8538700868814058, 0.8705990773885701, 0.5240821424022016, 0.33280913610094887, 0.4259038558689888, -1.2700198508155802, -0.5263315245506245, -0.1637455667230135, 2.213359350383037, -0.4878057724962988, -0.46568550675433373, 0.9524119005427031, 1.7669535874688445, 0.9320713319598105, 1.0426693299362813, -1.7119433140080471, -0.2723835374814382, -1.4597336316316212, 0.7187397058115067, 0.5706065969920404, 0.023982717991074275, -0.7639207845885283, -0.9117422967467312, -0.5438741254817734, -0.7489289965331479, 1.0933015307053855, -0.33036206127818424, 0.573877123376443, 1.548344828251328, -0.2994560355888004, 0.47710475522997875, -1.7490432446344575, -0.615644586432859, -0.0696319730489194], \"yaxis\": \"y4\"}, {\"line\": {\"color\": \"rgba(128, 128, 128, 1.0)\", \"dash\": \"solid\", \"shape\": \"linear\", \"width\": 1.3}, \"marker\": {\"size\": 2, \"symbol\": \"circle\"}, \"mode\": \"markers\", \"name\": \"B\", \"text\": \"\", \"type\": \"scatter\", \"x\": [1.5142186544122638, 0.27895064943248915, -1.2772201606503015, 0.7176215978752194, 1.0242630534311887, -0.18782350124528943, -0.15971406208206046, -0.09450672113595138, 1.101557217961529, 1.760246324420678, 0.4957627962412397, 1.4410840240165774, 0.890736201554487, -0.1973859512432099, -0.22647367315349648, 0.9600258803516739, -0.22695644558189895, 0.9014455961017745, -1.0352942125712694, 1.3614210778771305, 1.438341742803549, 0.0062457188416346066, -0.34075842820041674, 1.1645719966781778, 3.251475167837798, 0.3585119159665232, 0.35559795617521023, -1.4927235063683504, -0.09654662808693423, -0.057294310675322785, -0.48183583073170233, -0.5382944548854823, 0.9208574046073155, -0.6302021900122878, 0.30933377625955083, -0.46552971679190036, -0.912246971568453, 0.663008040972662, 1.2686499433429357, 0.36508507101402465, 0.13357487450389904, -0.20648604070240084, 0.49234018847418437, -1.0079776998156387, -1.3502695696598568, 0.5959137955318851, -0.3372748183372034, -1.7190172045328507, 0.3701065313721388, -1.109452713943562, 0.11680700607062913, -0.8627209126237989, -0.8575591132443635, -0.044169557298888655, -0.7955907040068338, 0.12234260476958768, -1.0760163613813911, -0.8283533358210704, 0.268329750244207, 1.066892146131821, -0.6553844559897053, -0.644878025080047, 0.28702367749052854, -0.41938747626877115, 1.959073984465897, -1.1269742470876678, 3.8538700868814058, 0.8705990773885701, 0.5240821424022016, 0.33280913610094887, 0.4259038558689888, -1.2700198508155802, -0.5263315245506245, -0.1637455667230135, 2.213359350383037, -0.4878057724962988, -0.46568550675433373, 0.9524119005427031, 1.7669535874688445, 0.9320713319598105, 1.0426693299362813, -1.7119433140080471, -0.2723835374814382, -1.4597336316316212, 0.7187397058115067, 0.5706065969920404, 0.023982717991074275, -0.7639207845885283, -0.9117422967467312, -0.5438741254817734, -0.7489289965331479, 1.0933015307053855, -0.33036206127818424, 0.573877123376443, 1.548344828251328, -0.2994560355888004, 0.47710475522997875, -1.7490432446344575, -0.615644586432859, -0.0696319730489194], \"xaxis\": \"x5\", \"y\": [-0.9153410714929735, 1.6358976547955704, 0.09255099576014963, 1.5400934402495086, 0.6425658299894662, -0.26179888744269847, 1.0273186956146738, -0.6307535418604402, -2.5346978546476517, -2.1897817281056837, 0.8311035354450367, 0.6399383182121887, -0.9403607387553982, 0.7078174444510166, -0.45457637870870515, 1.1980318577308495, -0.11554976053470527, 0.30680062220353793, -0.9217244314001211, -0.6663874786748377, 1.32120609432077, 1.0109233247836378, -0.1824269769280658, -1.0488991304782136, 1.0662243347339762, -0.9034244394440355, -0.3263330312314083, -0.2607788207729719, -2.4278016862124088, -0.12711866662850796, -0.36884387842295946, 0.6429063120523958, 0.14881899593559214, -0.43653258631725117, 1.1884826095900352, 2.178398074485583, -0.06233515306434373, 0.2587311274407884, -0.3741404646665351, 0.30626494513246, -2.126751910804884, -2.060133981135926, 1.5529239103471126, -0.38836926178255654, 0.3942599587482798, 1.5803964142097777, -1.0523833241987806, -0.01657286604126695, -0.770066526216671, 0.9920549755691876, 0.22018622155780793, 0.9478438860931523, 2.5346802705488365, 0.30453558445497775, 0.44999869484970006, 0.1329256362940828, 0.5257532229366679, 0.6353351705845959, 1.3939366249738248, -0.22346756860341713, 1.1700863549033256, -0.6893141589265049, -0.7284549415162579, 1.0979628734277693, -0.9852892186534995, 0.04408684809316521, -0.3768717795879098, -0.09487210728594804, 0.40576310664905313, 0.4280661826615465, -0.8014571020621714, -1.192492353104392, 0.9009984970801053, -0.6804664819337662, -0.05322152993200261, -0.5406055085130784, -1.1648516692905604, -0.4866434874688328, -0.2527643374481889, -0.49051314591226564, 0.4483948614666029, -0.1286617016280999, 0.7375815043599231, -1.2179161391289677, 1.329503329537658, 0.6406407101277446, -0.3885952375410158, -1.3344868258260545, 0.021479658397961912, 0.14220431097964045, 0.6956144127780031, -1.2274294853474346, 0.8445551976348453, -0.27707728983608126, -1.044478370898736, -1.0342492050125447, 1.8384683805763349, -0.47129373877017977, 0.2826769281895832, 0.29606799065000583], \"yaxis\": \"y5\"}, {\"histfunc\": \"count\", \"histnorm\": \"\", \"marker\": {\"color\": \"rgba(55, 128, 191, 1.0)\", \"line\": {\"color\": \"#4D5663\", \"width\": 1.3}}, \"name\": \"B\", \"nbinsx\": 10, \"opacity\": 0.8, \"orientation\": \"v\", \"type\": \"histogram\", \"x\": [-0.9153410714929735, 1.6358976547955704, 0.09255099576014963, 1.5400934402495086, 0.6425658299894662, -0.26179888744269847, 1.0273186956146738, -0.6307535418604402, -2.5346978546476517, -2.1897817281056837, 0.8311035354450367, 0.6399383182121887, -0.9403607387553982, 0.7078174444510166, -0.45457637870870515, 1.1980318577308495, -0.11554976053470527, 0.30680062220353793, -0.9217244314001211, -0.6663874786748377, 1.32120609432077, 1.0109233247836378, -0.1824269769280658, -1.0488991304782136, 1.0662243347339762, -0.9034244394440355, -0.3263330312314083, -0.2607788207729719, -2.4278016862124088, -0.12711866662850796, -0.36884387842295946, 0.6429063120523958, 0.14881899593559214, -0.43653258631725117, 1.1884826095900352, 2.178398074485583, -0.06233515306434373, 0.2587311274407884, -0.3741404646665351, 0.30626494513246, -2.126751910804884, -2.060133981135926, 1.5529239103471126, -0.38836926178255654, 0.3942599587482798, 1.5803964142097777, -1.0523833241987806, -0.01657286604126695, -0.770066526216671, 0.9920549755691876, 0.22018622155780793, 0.9478438860931523, 2.5346802705488365, 0.30453558445497775, 0.44999869484970006, 0.1329256362940828, 0.5257532229366679, 0.6353351705845959, 1.3939366249738248, -0.22346756860341713, 1.1700863549033256, -0.6893141589265049, -0.7284549415162579, 1.0979628734277693, -0.9852892186534995, 0.04408684809316521, -0.3768717795879098, -0.09487210728594804, 0.40576310664905313, 0.4280661826615465, -0.8014571020621714, -1.192492353104392, 0.9009984970801053, -0.6804664819337662, -0.05322152993200261, -0.5406055085130784, -1.1648516692905604, -0.4866434874688328, -0.2527643374481889, -0.49051314591226564, 0.4483948614666029, -0.1286617016280999, 0.7375815043599231, -1.2179161391289677, 1.329503329537658, 0.6406407101277446, -0.3885952375410158, -1.3344868258260545, 0.021479658397961912, 0.14220431097964045, 0.6956144127780031, -1.2274294853474346, 0.8445551976348453, -0.27707728983608126, -1.044478370898736, -1.0342492050125447, 1.8384683805763349, -0.47129373877017977, 0.2826769281895832, 0.29606799065000583], \"xaxis\": \"x6\", \"yaxis\": \"y6\"}, {\"line\": {\"color\": \"rgba(128, 128, 128, 1.0)\", \"dash\": \"solid\", \"shape\": \"linear\", \"width\": 1.3}, \"marker\": {\"size\": 2, \"symbol\": \"circle\"}, \"mode\": \"markers\", \"name\": \"B\", \"text\": \"\", \"type\": \"scatter\", \"x\": [0.952786651656803, -0.09014875287851794, -1.0685447512507276, -0.24921352859048332, 2.351969169587414, -1.8991212435034521, 0.6177398434531892, -1.9917003769460297, -1.0424738903012825, -0.22691279113960114, -1.1970818844517153, -0.9394291053149986, 1.757266845669264, -1.2407937962254503, -0.40044773536211387, -0.07962671261999174, -0.37548314235380925, -0.07343692394274298, -0.7806192817076086, -1.0895517338230685, 0.07176847416090174, -1.4131798523976564, 0.10320382126301453, -0.0025574702503611446, 1.0722971872386773, -0.6490361642546468, -0.7056080232365795, 0.036448555060863155, -0.46208863048318394, 0.8909451927211299, -0.6075569427489664, 0.17212712293151589, -2.2020227738434768, -1.0841246351259266, 0.5581037439400494, 0.2270284074491642, -0.046827427525527245, 0.1708416162951795, 0.097547606722425, 1.4010504698153223, 0.28861231333745696, -0.6301749435268477, 0.35197377626014914, -0.3744844363117336, 1.8219207208840351, 0.45178522279543637, -0.948872768524955, 1.1216879067308498, -0.5051281113933614, 0.14887277205634297, 0.1999556486992249, -1.6697997275559426, -0.1291673926643688, -2.5955074455319127, 0.6071560525654458, 0.45124691331754824, 0.7445534695030128, 1.9102827990950306, -0.09043099370692645, 0.5476464341750529, 0.7242806242042513, -0.34666807435880964, -0.9422400923509909, 1.1944115944422067, 0.849108361722817, -0.587274031667396, -1.3004657379502034, -0.3963526474289799, 1.0932422210457229, 0.16544951931799912, -1.2065330083577088, -0.10963490444821293, -0.1114314635928556, -0.8267519161472029, -0.39792190493483864, 2.5060855702308453, 0.39020636907104783, -0.01212829595721143, -0.4392766502407867, 1.0688639552065233, -0.13031115107888877, 0.28125713641044503, -1.6253646017719803, 1.8681690447660622, 0.22493645123791964, 0.155567443654224, -0.9993681981030387, -1.0466997336123318, -0.38095818629242206, 0.5261496897186589, 0.37650394037431884, -0.7025636954005036, 1.3869796947122683, 0.4014752796351428, -0.3809755265193317, -0.1821895709489874, 0.7181743276632854, 1.2436847673042648, -0.025319473946945892, 0.33927367748534265], \"xaxis\": \"x7\", \"y\": [-0.9153410714929735, 1.6358976547955704, 0.09255099576014963, 1.5400934402495086, 0.6425658299894662, -0.26179888744269847, 1.0273186956146738, -0.6307535418604402, -2.5346978546476517, -2.1897817281056837, 0.8311035354450367, 0.6399383182121887, -0.9403607387553982, 0.7078174444510166, -0.45457637870870515, 1.1980318577308495, -0.11554976053470527, 0.30680062220353793, -0.9217244314001211, -0.6663874786748377, 1.32120609432077, 1.0109233247836378, -0.1824269769280658, -1.0488991304782136, 1.0662243347339762, -0.9034244394440355, -0.3263330312314083, -0.2607788207729719, -2.4278016862124088, -0.12711866662850796, -0.36884387842295946, 0.6429063120523958, 0.14881899593559214, -0.43653258631725117, 1.1884826095900352, 2.178398074485583, -0.06233515306434373, 0.2587311274407884, -0.3741404646665351, 0.30626494513246, -2.126751910804884, -2.060133981135926, 1.5529239103471126, -0.38836926178255654, 0.3942599587482798, 1.5803964142097777, -1.0523833241987806, -0.01657286604126695, -0.770066526216671, 0.9920549755691876, 0.22018622155780793, 0.9478438860931523, 2.5346802705488365, 0.30453558445497775, 0.44999869484970006, 0.1329256362940828, 0.5257532229366679, 0.6353351705845959, 1.3939366249738248, -0.22346756860341713, 1.1700863549033256, -0.6893141589265049, -0.7284549415162579, 1.0979628734277693, -0.9852892186534995, 0.04408684809316521, -0.3768717795879098, -0.09487210728594804, 0.40576310664905313, 0.4280661826615465, -0.8014571020621714, -1.192492353104392, 0.9009984970801053, -0.6804664819337662, -0.05322152993200261, -0.5406055085130784, -1.1648516692905604, -0.4866434874688328, -0.2527643374481889, -0.49051314591226564, 0.4483948614666029, -0.1286617016280999, 0.7375815043599231, -1.2179161391289677, 1.329503329537658, 0.6406407101277446, -0.3885952375410158, -1.3344868258260545, 0.021479658397961912, 0.14220431097964045, 0.6956144127780031, -1.2274294853474346, 0.8445551976348453, -0.27707728983608126, -1.044478370898736, -1.0342492050125447, 1.8384683805763349, -0.47129373877017977, 0.2826769281895832, 0.29606799065000583], \"yaxis\": \"y7\"}, {\"line\": {\"color\": \"rgba(128, 128, 128, 1.0)\", \"dash\": \"solid\", \"shape\": \"linear\", \"width\": 1.3}, \"marker\": {\"size\": 2, \"symbol\": \"circle\"}, \"mode\": \"markers\", \"name\": \"B\", \"text\": \"\", \"type\": \"scatter\", \"x\": [0.9851061875011242, 0.8582380403595017, -0.33705763147266227, 1.143348296440449, -1.9284318445340969, 1.5529263867241374, -0.3314073487210843, 0.210048778366087, 0.9772419857702811, -0.40555144197030035, -0.03211290723392089, -0.4051763413170174, 0.09342461976286336, -0.15276548116126995, -1.6084766676061713, 1.3300326843843588, -1.7656908341411746, 1.2849327788844074, -1.3035053069028695, -1.126224479833057, -0.47929533400944885, 0.5842022873922668, 0.7904004155000492, -0.4891013768360308, -0.9520557829866434, -0.18334612929308258, -0.09699582855961543, 1.7165193982806102, -0.10761765897950101, 0.6172874068505037, 1.4847093487359413, 0.02905190240144271, -1.5013129289762308, -0.07744689448045243, -1.6624800651633258, -1.0265472229548933, 0.8670916714520461, 1.0426914109891925, 1.5030112811283998, -0.04381679624688889, -0.254722581440965, 0.20537035874761547, 0.509188461141092, -0.4734633460511219, -1.905286227779699, 0.8174965064193349, 0.11002512874214922, 0.08973189298899235, -0.24371056251516976, 0.2076202668019951, 1.3109703381511797, -0.23907632790672884, -1.131640138377444, -0.8681530405257885, -0.3316765752439354, -0.850094737879196, -1.0813888543664887, -0.25880086892959125, 0.4280135636448433, -0.9759241685645935, 0.42732918890384125, 1.0476821350885444, 0.09125930196634753, -1.3844686576162293, -0.7203766720244728, 0.8944611600520691, 1.1389195308685285, -0.1510571781929448, -0.5429626616143252, 1.6438594470823837, -2.387324111421106, 3.186390712511004, -0.3052502835085717, 0.019401789993793443, 0.33201005735944206, -0.14371547257048126, -0.9506788298248029, -2.3746285541474883, 0.18565111413334542, 1.3406813726300504, 1.0987267753039165, 0.24286780703230978, 0.3587389155096219, 1.6950598095884886, 2.280543254135361, 1.6244332636667975, 0.6735605616645972, -0.6468507158570499, -0.3573522725347921, -0.23897454250813613, 1.0850473640524714, 0.9350061122313391, -0.32181332418719005, 0.015078998276582507, 0.37012978990539697, -0.5591163022749365, -1.8576703885043584, 0.8418962768961537, 1.2053095774559155, 0.5658824440956434], \"xaxis\": \"x8\", \"y\": [-0.9153410714929735, 1.6358976547955704, 0.09255099576014963, 1.5400934402495086, 0.6425658299894662, -0.26179888744269847, 1.0273186956146738, -0.6307535418604402, -2.5346978546476517, -2.1897817281056837, 0.8311035354450367, 0.6399383182121887, -0.9403607387553982, 0.7078174444510166, -0.45457637870870515, 1.1980318577308495, -0.11554976053470527, 0.30680062220353793, -0.9217244314001211, -0.6663874786748377, 1.32120609432077, 1.0109233247836378, -0.1824269769280658, -1.0488991304782136, 1.0662243347339762, -0.9034244394440355, -0.3263330312314083, -0.2607788207729719, -2.4278016862124088, -0.12711866662850796, -0.36884387842295946, 0.6429063120523958, 0.14881899593559214, -0.43653258631725117, 1.1884826095900352, 2.178398074485583, -0.06233515306434373, 0.2587311274407884, -0.3741404646665351, 0.30626494513246, -2.126751910804884, -2.060133981135926, 1.5529239103471126, -0.38836926178255654, 0.3942599587482798, 1.5803964142097777, -1.0523833241987806, -0.01657286604126695, -0.770066526216671, 0.9920549755691876, 0.22018622155780793, 0.9478438860931523, 2.5346802705488365, 0.30453558445497775, 0.44999869484970006, 0.1329256362940828, 0.5257532229366679, 0.6353351705845959, 1.3939366249738248, -0.22346756860341713, 1.1700863549033256, -0.6893141589265049, -0.7284549415162579, 1.0979628734277693, -0.9852892186534995, 0.04408684809316521, -0.3768717795879098, -0.09487210728594804, 0.40576310664905313, 0.4280661826615465, -0.8014571020621714, -1.192492353104392, 0.9009984970801053, -0.6804664819337662, -0.05322152993200261, -0.5406055085130784, -1.1648516692905604, -0.4866434874688328, -0.2527643374481889, -0.49051314591226564, 0.4483948614666029, -0.1286617016280999, 0.7375815043599231, -1.2179161391289677, 1.329503329537658, 0.6406407101277446, -0.3885952375410158, -1.3344868258260545, 0.021479658397961912, 0.14220431097964045, 0.6956144127780031, -1.2274294853474346, 0.8445551976348453, -0.27707728983608126, -1.044478370898736, -1.0342492050125447, 1.8384683805763349, -0.47129373877017977, 0.2826769281895832, 0.29606799065000583], \"yaxis\": \"y8\"}, {\"line\": {\"color\": \"rgba(128, 128, 128, 1.0)\", \"dash\": \"solid\", \"shape\": \"linear\", \"width\": 1.3}, \"marker\": {\"size\": 2, \"symbol\": \"circle\"}, \"mode\": \"markers\", \"name\": \"C\", \"text\": \"\", \"type\": \"scatter\", \"x\": [1.5142186544122638, 0.27895064943248915, -1.2772201606503015, 0.7176215978752194, 1.0242630534311887, -0.18782350124528943, -0.15971406208206046, -0.09450672113595138, 1.101557217961529, 1.760246324420678, 0.4957627962412397, 1.4410840240165774, 0.890736201554487, -0.1973859512432099, -0.22647367315349648, 0.9600258803516739, -0.22695644558189895, 0.9014455961017745, -1.0352942125712694, 1.3614210778771305, 1.438341742803549, 0.0062457188416346066, -0.34075842820041674, 1.1645719966781778, 3.251475167837798, 0.3585119159665232, 0.35559795617521023, -1.4927235063683504, -0.09654662808693423, -0.057294310675322785, -0.48183583073170233, -0.5382944548854823, 0.9208574046073155, -0.6302021900122878, 0.30933377625955083, -0.46552971679190036, -0.912246971568453, 0.663008040972662, 1.2686499433429357, 0.36508507101402465, 0.13357487450389904, -0.20648604070240084, 0.49234018847418437, -1.0079776998156387, -1.3502695696598568, 0.5959137955318851, -0.3372748183372034, -1.7190172045328507, 0.3701065313721388, -1.109452713943562, 0.11680700607062913, -0.8627209126237989, -0.8575591132443635, -0.044169557298888655, -0.7955907040068338, 0.12234260476958768, -1.0760163613813911, -0.8283533358210704, 0.268329750244207, 1.066892146131821, -0.6553844559897053, -0.644878025080047, 0.28702367749052854, -0.41938747626877115, 1.959073984465897, -1.1269742470876678, 3.8538700868814058, 0.8705990773885701, 0.5240821424022016, 0.33280913610094887, 0.4259038558689888, -1.2700198508155802, -0.5263315245506245, -0.1637455667230135, 2.213359350383037, -0.4878057724962988, -0.46568550675433373, 0.9524119005427031, 1.7669535874688445, 0.9320713319598105, 1.0426693299362813, -1.7119433140080471, -0.2723835374814382, -1.4597336316316212, 0.7187397058115067, 0.5706065969920404, 0.023982717991074275, -0.7639207845885283, -0.9117422967467312, -0.5438741254817734, -0.7489289965331479, 1.0933015307053855, -0.33036206127818424, 0.573877123376443, 1.548344828251328, -0.2994560355888004, 0.47710475522997875, -1.7490432446344575, -0.615644586432859, -0.0696319730489194], \"xaxis\": \"x9\", \"y\": [0.952786651656803, -0.09014875287851794, -1.0685447512507276, -0.24921352859048332, 2.351969169587414, -1.8991212435034521, 0.6177398434531892, -1.9917003769460297, -1.0424738903012825, -0.22691279113960114, -1.1970818844517153, -0.9394291053149986, 1.757266845669264, -1.2407937962254503, -0.40044773536211387, -0.07962671261999174, -0.37548314235380925, -0.07343692394274298, -0.7806192817076086, -1.0895517338230685, 0.07176847416090174, -1.4131798523976564, 0.10320382126301453, -0.0025574702503611446, 1.0722971872386773, -0.6490361642546468, -0.7056080232365795, 0.036448555060863155, -0.46208863048318394, 0.8909451927211299, -0.6075569427489664, 0.17212712293151589, -2.2020227738434768, -1.0841246351259266, 0.5581037439400494, 0.2270284074491642, -0.046827427525527245, 0.1708416162951795, 0.097547606722425, 1.4010504698153223, 0.28861231333745696, -0.6301749435268477, 0.35197377626014914, -0.3744844363117336, 1.8219207208840351, 0.45178522279543637, -0.948872768524955, 1.1216879067308498, -0.5051281113933614, 0.14887277205634297, 0.1999556486992249, -1.6697997275559426, -0.1291673926643688, -2.5955074455319127, 0.6071560525654458, 0.45124691331754824, 0.7445534695030128, 1.9102827990950306, -0.09043099370692645, 0.5476464341750529, 0.7242806242042513, -0.34666807435880964, -0.9422400923509909, 1.1944115944422067, 0.849108361722817, -0.587274031667396, -1.3004657379502034, -0.3963526474289799, 1.0932422210457229, 0.16544951931799912, -1.2065330083577088, -0.10963490444821293, -0.1114314635928556, -0.8267519161472029, -0.39792190493483864, 2.5060855702308453, 0.39020636907104783, -0.01212829595721143, -0.4392766502407867, 1.0688639552065233, -0.13031115107888877, 0.28125713641044503, -1.6253646017719803, 1.8681690447660622, 0.22493645123791964, 0.155567443654224, -0.9993681981030387, -1.0466997336123318, -0.38095818629242206, 0.5261496897186589, 0.37650394037431884, -0.7025636954005036, 1.3869796947122683, 0.4014752796351428, -0.3809755265193317, -0.1821895709489874, 0.7181743276632854, 1.2436847673042648, -0.025319473946945892, 0.33927367748534265], \"yaxis\": \"y9\"}, {\"line\": {\"color\": \"rgba(128, 128, 128, 1.0)\", \"dash\": \"solid\", \"shape\": \"linear\", \"width\": 1.3}, \"marker\": {\"size\": 2, \"symbol\": \"circle\"}, \"mode\": \"markers\", \"name\": \"C\", \"text\": \"\", \"type\": \"scatter\", \"x\": [-0.9153410714929735, 1.6358976547955704, 0.09255099576014963, 1.5400934402495086, 0.6425658299894662, -0.26179888744269847, 1.0273186956146738, -0.6307535418604402, -2.5346978546476517, -2.1897817281056837, 0.8311035354450367, 0.6399383182121887, -0.9403607387553982, 0.7078174444510166, -0.45457637870870515, 1.1980318577308495, -0.11554976053470527, 0.30680062220353793, -0.9217244314001211, -0.6663874786748377, 1.32120609432077, 1.0109233247836378, -0.1824269769280658, -1.0488991304782136, 1.0662243347339762, -0.9034244394440355, -0.3263330312314083, -0.2607788207729719, -2.4278016862124088, -0.12711866662850796, -0.36884387842295946, 0.6429063120523958, 0.14881899593559214, -0.43653258631725117, 1.1884826095900352, 2.178398074485583, -0.06233515306434373, 0.2587311274407884, -0.3741404646665351, 0.30626494513246, -2.126751910804884, -2.060133981135926, 1.5529239103471126, -0.38836926178255654, 0.3942599587482798, 1.5803964142097777, -1.0523833241987806, -0.01657286604126695, -0.770066526216671, 0.9920549755691876, 0.22018622155780793, 0.9478438860931523, 2.5346802705488365, 0.30453558445497775, 0.44999869484970006, 0.1329256362940828, 0.5257532229366679, 0.6353351705845959, 1.3939366249738248, -0.22346756860341713, 1.1700863549033256, -0.6893141589265049, -0.7284549415162579, 1.0979628734277693, -0.9852892186534995, 0.04408684809316521, -0.3768717795879098, -0.09487210728594804, 0.40576310664905313, 0.4280661826615465, -0.8014571020621714, -1.192492353104392, 0.9009984970801053, -0.6804664819337662, -0.05322152993200261, -0.5406055085130784, -1.1648516692905604, -0.4866434874688328, -0.2527643374481889, -0.49051314591226564, 0.4483948614666029, -0.1286617016280999, 0.7375815043599231, -1.2179161391289677, 1.329503329537658, 0.6406407101277446, -0.3885952375410158, -1.3344868258260545, 0.021479658397961912, 0.14220431097964045, 0.6956144127780031, -1.2274294853474346, 0.8445551976348453, -0.27707728983608126, -1.044478370898736, -1.0342492050125447, 1.8384683805763349, -0.47129373877017977, 0.2826769281895832, 0.29606799065000583], \"xaxis\": \"x10\", \"y\": [0.952786651656803, -0.09014875287851794, -1.0685447512507276, -0.24921352859048332, 2.351969169587414, -1.8991212435034521, 0.6177398434531892, -1.9917003769460297, -1.0424738903012825, -0.22691279113960114, -1.1970818844517153, -0.9394291053149986, 1.757266845669264, -1.2407937962254503, -0.40044773536211387, -0.07962671261999174, -0.37548314235380925, -0.07343692394274298, -0.7806192817076086, -1.0895517338230685, 0.07176847416090174, -1.4131798523976564, 0.10320382126301453, -0.0025574702503611446, 1.0722971872386773, -0.6490361642546468, -0.7056080232365795, 0.036448555060863155, -0.46208863048318394, 0.8909451927211299, -0.6075569427489664, 0.17212712293151589, -2.2020227738434768, -1.0841246351259266, 0.5581037439400494, 0.2270284074491642, -0.046827427525527245, 0.1708416162951795, 0.097547606722425, 1.4010504698153223, 0.28861231333745696, -0.6301749435268477, 0.35197377626014914, -0.3744844363117336, 1.8219207208840351, 0.45178522279543637, -0.948872768524955, 1.1216879067308498, -0.5051281113933614, 0.14887277205634297, 0.1999556486992249, -1.6697997275559426, -0.1291673926643688, -2.5955074455319127, 0.6071560525654458, 0.45124691331754824, 0.7445534695030128, 1.9102827990950306, -0.09043099370692645, 0.5476464341750529, 0.7242806242042513, -0.34666807435880964, -0.9422400923509909, 1.1944115944422067, 0.849108361722817, -0.587274031667396, -1.3004657379502034, -0.3963526474289799, 1.0932422210457229, 0.16544951931799912, -1.2065330083577088, -0.10963490444821293, -0.1114314635928556, -0.8267519161472029, -0.39792190493483864, 2.5060855702308453, 0.39020636907104783, -0.01212829595721143, -0.4392766502407867, 1.0688639552065233, -0.13031115107888877, 0.28125713641044503, -1.6253646017719803, 1.8681690447660622, 0.22493645123791964, 0.155567443654224, -0.9993681981030387, -1.0466997336123318, -0.38095818629242206, 0.5261496897186589, 0.37650394037431884, -0.7025636954005036, 1.3869796947122683, 0.4014752796351428, -0.3809755265193317, -0.1821895709489874, 0.7181743276632854, 1.2436847673042648, -0.025319473946945892, 0.33927367748534265], \"yaxis\": \"y10\"}, {\"histfunc\": \"count\", \"histnorm\": \"\", \"marker\": {\"color\": \"rgba(50, 171, 96, 1.0)\", \"line\": {\"color\": \"#4D5663\", \"width\": 1.3}}, \"name\": \"C\", \"nbinsx\": 10, \"opacity\": 0.8, \"orientation\": \"v\", \"type\": \"histogram\", \"x\": [0.952786651656803, -0.09014875287851794, -1.0685447512507276, -0.24921352859048332, 2.351969169587414, -1.8991212435034521, 0.6177398434531892, -1.9917003769460297, -1.0424738903012825, -0.22691279113960114, -1.1970818844517153, -0.9394291053149986, 1.757266845669264, -1.2407937962254503, -0.40044773536211387, -0.07962671261999174, -0.37548314235380925, -0.07343692394274298, -0.7806192817076086, -1.0895517338230685, 0.07176847416090174, -1.4131798523976564, 0.10320382126301453, -0.0025574702503611446, 1.0722971872386773, -0.6490361642546468, -0.7056080232365795, 0.036448555060863155, -0.46208863048318394, 0.8909451927211299, -0.6075569427489664, 0.17212712293151589, -2.2020227738434768, -1.0841246351259266, 0.5581037439400494, 0.2270284074491642, -0.046827427525527245, 0.1708416162951795, 0.097547606722425, 1.4010504698153223, 0.28861231333745696, -0.6301749435268477, 0.35197377626014914, -0.3744844363117336, 1.8219207208840351, 0.45178522279543637, -0.948872768524955, 1.1216879067308498, -0.5051281113933614, 0.14887277205634297, 0.1999556486992249, -1.6697997275559426, -0.1291673926643688, -2.5955074455319127, 0.6071560525654458, 0.45124691331754824, 0.7445534695030128, 1.9102827990950306, -0.09043099370692645, 0.5476464341750529, 0.7242806242042513, -0.34666807435880964, -0.9422400923509909, 1.1944115944422067, 0.849108361722817, -0.587274031667396, -1.3004657379502034, -0.3963526474289799, 1.0932422210457229, 0.16544951931799912, -1.2065330083577088, -0.10963490444821293, -0.1114314635928556, -0.8267519161472029, -0.39792190493483864, 2.5060855702308453, 0.39020636907104783, -0.01212829595721143, -0.4392766502407867, 1.0688639552065233, -0.13031115107888877, 0.28125713641044503, -1.6253646017719803, 1.8681690447660622, 0.22493645123791964, 0.155567443654224, -0.9993681981030387, -1.0466997336123318, -0.38095818629242206, 0.5261496897186589, 0.37650394037431884, -0.7025636954005036, 1.3869796947122683, 0.4014752796351428, -0.3809755265193317, -0.1821895709489874, 0.7181743276632854, 1.2436847673042648, -0.025319473946945892, 0.33927367748534265], \"xaxis\": \"x11\", \"yaxis\": \"y11\"}, {\"line\": {\"color\": \"rgba(128, 128, 128, 1.0)\", \"dash\": \"solid\", \"shape\": \"linear\", \"width\": 1.3}, \"marker\": {\"size\": 2, \"symbol\": \"circle\"}, \"mode\": \"markers\", \"name\": \"C\", \"text\": \"\", \"type\": \"scatter\", \"x\": [0.9851061875011242, 0.8582380403595017, -0.33705763147266227, 1.143348296440449, -1.9284318445340969, 1.5529263867241374, -0.3314073487210843, 0.210048778366087, 0.9772419857702811, -0.40555144197030035, -0.03211290723392089, -0.4051763413170174, 0.09342461976286336, -0.15276548116126995, -1.6084766676061713, 1.3300326843843588, -1.7656908341411746, 1.2849327788844074, -1.3035053069028695, -1.126224479833057, -0.47929533400944885, 0.5842022873922668, 0.7904004155000492, -0.4891013768360308, -0.9520557829866434, -0.18334612929308258, -0.09699582855961543, 1.7165193982806102, -0.10761765897950101, 0.6172874068505037, 1.4847093487359413, 0.02905190240144271, -1.5013129289762308, -0.07744689448045243, -1.6624800651633258, -1.0265472229548933, 0.8670916714520461, 1.0426914109891925, 1.5030112811283998, -0.04381679624688889, -0.254722581440965, 0.20537035874761547, 0.509188461141092, -0.4734633460511219, -1.905286227779699, 0.8174965064193349, 0.11002512874214922, 0.08973189298899235, -0.24371056251516976, 0.2076202668019951, 1.3109703381511797, -0.23907632790672884, -1.131640138377444, -0.8681530405257885, -0.3316765752439354, -0.850094737879196, -1.0813888543664887, -0.25880086892959125, 0.4280135636448433, -0.9759241685645935, 0.42732918890384125, 1.0476821350885444, 0.09125930196634753, -1.3844686576162293, -0.7203766720244728, 0.8944611600520691, 1.1389195308685285, -0.1510571781929448, -0.5429626616143252, 1.6438594470823837, -2.387324111421106, 3.186390712511004, -0.3052502835085717, 0.019401789993793443, 0.33201005735944206, -0.14371547257048126, -0.9506788298248029, -2.3746285541474883, 0.18565111413334542, 1.3406813726300504, 1.0987267753039165, 0.24286780703230978, 0.3587389155096219, 1.6950598095884886, 2.280543254135361, 1.6244332636667975, 0.6735605616645972, -0.6468507158570499, -0.3573522725347921, -0.23897454250813613, 1.0850473640524714, 0.9350061122313391, -0.32181332418719005, 0.015078998276582507, 0.37012978990539697, -0.5591163022749365, -1.8576703885043584, 0.8418962768961537, 1.2053095774559155, 0.5658824440956434], \"xaxis\": \"x12\", \"y\": [0.952786651656803, -0.09014875287851794, -1.0685447512507276, -0.24921352859048332, 2.351969169587414, -1.8991212435034521, 0.6177398434531892, -1.9917003769460297, -1.0424738903012825, -0.22691279113960114, -1.1970818844517153, -0.9394291053149986, 1.757266845669264, -1.2407937962254503, -0.40044773536211387, -0.07962671261999174, -0.37548314235380925, -0.07343692394274298, -0.7806192817076086, -1.0895517338230685, 0.07176847416090174, -1.4131798523976564, 0.10320382126301453, -0.0025574702503611446, 1.0722971872386773, -0.6490361642546468, -0.7056080232365795, 0.036448555060863155, -0.46208863048318394, 0.8909451927211299, -0.6075569427489664, 0.17212712293151589, -2.2020227738434768, -1.0841246351259266, 0.5581037439400494, 0.2270284074491642, -0.046827427525527245, 0.1708416162951795, 0.097547606722425, 1.4010504698153223, 0.28861231333745696, -0.6301749435268477, 0.35197377626014914, -0.3744844363117336, 1.8219207208840351, 0.45178522279543637, -0.948872768524955, 1.1216879067308498, -0.5051281113933614, 0.14887277205634297, 0.1999556486992249, -1.6697997275559426, -0.1291673926643688, -2.5955074455319127, 0.6071560525654458, 0.45124691331754824, 0.7445534695030128, 1.9102827990950306, -0.09043099370692645, 0.5476464341750529, 0.7242806242042513, -0.34666807435880964, -0.9422400923509909, 1.1944115944422067, 0.849108361722817, -0.587274031667396, -1.3004657379502034, -0.3963526474289799, 1.0932422210457229, 0.16544951931799912, -1.2065330083577088, -0.10963490444821293, -0.1114314635928556, -0.8267519161472029, -0.39792190493483864, 2.5060855702308453, 0.39020636907104783, -0.01212829595721143, -0.4392766502407867, 1.0688639552065233, -0.13031115107888877, 0.28125713641044503, -1.6253646017719803, 1.8681690447660622, 0.22493645123791964, 0.155567443654224, -0.9993681981030387, -1.0466997336123318, -0.38095818629242206, 0.5261496897186589, 0.37650394037431884, -0.7025636954005036, 1.3869796947122683, 0.4014752796351428, -0.3809755265193317, -0.1821895709489874, 0.7181743276632854, 1.2436847673042648, -0.025319473946945892, 0.33927367748534265], \"yaxis\": \"y12\"}, {\"line\": {\"color\": \"rgba(128, 128, 128, 1.0)\", \"dash\": \"solid\", \"shape\": \"linear\", \"width\": 1.3}, \"marker\": {\"size\": 2, \"symbol\": \"circle\"}, \"mode\": \"markers\", \"name\": \"D\", \"text\": \"\", \"type\": \"scatter\", \"x\": [1.5142186544122638, 0.27895064943248915, -1.2772201606503015, 0.7176215978752194, 1.0242630534311887, -0.18782350124528943, -0.15971406208206046, -0.09450672113595138, 1.101557217961529, 1.760246324420678, 0.4957627962412397, 1.4410840240165774, 0.890736201554487, -0.1973859512432099, -0.22647367315349648, 0.9600258803516739, -0.22695644558189895, 0.9014455961017745, -1.0352942125712694, 1.3614210778771305, 1.438341742803549, 0.0062457188416346066, -0.34075842820041674, 1.1645719966781778, 3.251475167837798, 0.3585119159665232, 0.35559795617521023, -1.4927235063683504, -0.09654662808693423, -0.057294310675322785, -0.48183583073170233, -0.5382944548854823, 0.9208574046073155, -0.6302021900122878, 0.30933377625955083, -0.46552971679190036, -0.912246971568453, 0.663008040972662, 1.2686499433429357, 0.36508507101402465, 0.13357487450389904, -0.20648604070240084, 0.49234018847418437, -1.0079776998156387, -1.3502695696598568, 0.5959137955318851, -0.3372748183372034, -1.7190172045328507, 0.3701065313721388, -1.109452713943562, 0.11680700607062913, -0.8627209126237989, -0.8575591132443635, -0.044169557298888655, -0.7955907040068338, 0.12234260476958768, -1.0760163613813911, -0.8283533358210704, 0.268329750244207, 1.066892146131821, -0.6553844559897053, -0.644878025080047, 0.28702367749052854, -0.41938747626877115, 1.959073984465897, -1.1269742470876678, 3.8538700868814058, 0.8705990773885701, 0.5240821424022016, 0.33280913610094887, 0.4259038558689888, -1.2700198508155802, -0.5263315245506245, -0.1637455667230135, 2.213359350383037, -0.4878057724962988, -0.46568550675433373, 0.9524119005427031, 1.7669535874688445, 0.9320713319598105, 1.0426693299362813, -1.7119433140080471, -0.2723835374814382, -1.4597336316316212, 0.7187397058115067, 0.5706065969920404, 0.023982717991074275, -0.7639207845885283, -0.9117422967467312, -0.5438741254817734, -0.7489289965331479, 1.0933015307053855, -0.33036206127818424, 0.573877123376443, 1.548344828251328, -0.2994560355888004, 0.47710475522997875, -1.7490432446344575, -0.615644586432859, -0.0696319730489194], \"xaxis\": \"x13\", \"y\": [0.9851061875011242, 0.8582380403595017, -0.33705763147266227, 1.143348296440449, -1.9284318445340969, 1.5529263867241374, -0.3314073487210843, 0.210048778366087, 0.9772419857702811, -0.40555144197030035, -0.03211290723392089, -0.4051763413170174, 0.09342461976286336, -0.15276548116126995, -1.6084766676061713, 1.3300326843843588, -1.7656908341411746, 1.2849327788844074, -1.3035053069028695, -1.126224479833057, -0.47929533400944885, 0.5842022873922668, 0.7904004155000492, -0.4891013768360308, -0.9520557829866434, -0.18334612929308258, -0.09699582855961543, 1.7165193982806102, -0.10761765897950101, 0.6172874068505037, 1.4847093487359413, 0.02905190240144271, -1.5013129289762308, -0.07744689448045243, -1.6624800651633258, -1.0265472229548933, 0.8670916714520461, 1.0426914109891925, 1.5030112811283998, -0.04381679624688889, -0.254722581440965, 0.20537035874761547, 0.509188461141092, -0.4734633460511219, -1.905286227779699, 0.8174965064193349, 0.11002512874214922, 0.08973189298899235, -0.24371056251516976, 0.2076202668019951, 1.3109703381511797, -0.23907632790672884, -1.131640138377444, -0.8681530405257885, -0.3316765752439354, -0.850094737879196, -1.0813888543664887, -0.25880086892959125, 0.4280135636448433, -0.9759241685645935, 0.42732918890384125, 1.0476821350885444, 0.09125930196634753, -1.3844686576162293, -0.7203766720244728, 0.8944611600520691, 1.1389195308685285, -0.1510571781929448, -0.5429626616143252, 1.6438594470823837, -2.387324111421106, 3.186390712511004, -0.3052502835085717, 0.019401789993793443, 0.33201005735944206, -0.14371547257048126, -0.9506788298248029, -2.3746285541474883, 0.18565111413334542, 1.3406813726300504, 1.0987267753039165, 0.24286780703230978, 0.3587389155096219, 1.6950598095884886, 2.280543254135361, 1.6244332636667975, 0.6735605616645972, -0.6468507158570499, -0.3573522725347921, -0.23897454250813613, 1.0850473640524714, 0.9350061122313391, -0.32181332418719005, 0.015078998276582507, 0.37012978990539697, -0.5591163022749365, -1.8576703885043584, 0.8418962768961537, 1.2053095774559155, 0.5658824440956434], \"yaxis\": \"y13\"}, {\"line\": {\"color\": \"rgba(128, 128, 128, 1.0)\", \"dash\": \"solid\", \"shape\": \"linear\", \"width\": 1.3}, \"marker\": {\"size\": 2, \"symbol\": \"circle\"}, \"mode\": \"markers\", \"name\": \"D\", \"text\": \"\", \"type\": \"scatter\", \"x\": [-0.9153410714929735, 1.6358976547955704, 0.09255099576014963, 1.5400934402495086, 0.6425658299894662, -0.26179888744269847, 1.0273186956146738, -0.6307535418604402, -2.5346978546476517, -2.1897817281056837, 0.8311035354450367, 0.6399383182121887, -0.9403607387553982, 0.7078174444510166, -0.45457637870870515, 1.1980318577308495, -0.11554976053470527, 0.30680062220353793, -0.9217244314001211, -0.6663874786748377, 1.32120609432077, 1.0109233247836378, -0.1824269769280658, -1.0488991304782136, 1.0662243347339762, -0.9034244394440355, -0.3263330312314083, -0.2607788207729719, -2.4278016862124088, -0.12711866662850796, -0.36884387842295946, 0.6429063120523958, 0.14881899593559214, -0.43653258631725117, 1.1884826095900352, 2.178398074485583, -0.06233515306434373, 0.2587311274407884, -0.3741404646665351, 0.30626494513246, -2.126751910804884, -2.060133981135926, 1.5529239103471126, -0.38836926178255654, 0.3942599587482798, 1.5803964142097777, -1.0523833241987806, -0.01657286604126695, -0.770066526216671, 0.9920549755691876, 0.22018622155780793, 0.9478438860931523, 2.5346802705488365, 0.30453558445497775, 0.44999869484970006, 0.1329256362940828, 0.5257532229366679, 0.6353351705845959, 1.3939366249738248, -0.22346756860341713, 1.1700863549033256, -0.6893141589265049, -0.7284549415162579, 1.0979628734277693, -0.9852892186534995, 0.04408684809316521, -0.3768717795879098, -0.09487210728594804, 0.40576310664905313, 0.4280661826615465, -0.8014571020621714, -1.192492353104392, 0.9009984970801053, -0.6804664819337662, -0.05322152993200261, -0.5406055085130784, -1.1648516692905604, -0.4866434874688328, -0.2527643374481889, -0.49051314591226564, 0.4483948614666029, -0.1286617016280999, 0.7375815043599231, -1.2179161391289677, 1.329503329537658, 0.6406407101277446, -0.3885952375410158, -1.3344868258260545, 0.021479658397961912, 0.14220431097964045, 0.6956144127780031, -1.2274294853474346, 0.8445551976348453, -0.27707728983608126, -1.044478370898736, -1.0342492050125447, 1.8384683805763349, -0.47129373877017977, 0.2826769281895832, 0.29606799065000583], \"xaxis\": \"x14\", \"y\": [0.9851061875011242, 0.8582380403595017, -0.33705763147266227, 1.143348296440449, -1.9284318445340969, 1.5529263867241374, -0.3314073487210843, 0.210048778366087, 0.9772419857702811, -0.40555144197030035, -0.03211290723392089, -0.4051763413170174, 0.09342461976286336, -0.15276548116126995, -1.6084766676061713, 1.3300326843843588, -1.7656908341411746, 1.2849327788844074, -1.3035053069028695, -1.126224479833057, -0.47929533400944885, 0.5842022873922668, 0.7904004155000492, -0.4891013768360308, -0.9520557829866434, -0.18334612929308258, -0.09699582855961543, 1.7165193982806102, -0.10761765897950101, 0.6172874068505037, 1.4847093487359413, 0.02905190240144271, -1.5013129289762308, -0.07744689448045243, -1.6624800651633258, -1.0265472229548933, 0.8670916714520461, 1.0426914109891925, 1.5030112811283998, -0.04381679624688889, -0.254722581440965, 0.20537035874761547, 0.509188461141092, -0.4734633460511219, -1.905286227779699, 0.8174965064193349, 0.11002512874214922, 0.08973189298899235, -0.24371056251516976, 0.2076202668019951, 1.3109703381511797, -0.23907632790672884, -1.131640138377444, -0.8681530405257885, -0.3316765752439354, -0.850094737879196, -1.0813888543664887, -0.25880086892959125, 0.4280135636448433, -0.9759241685645935, 0.42732918890384125, 1.0476821350885444, 0.09125930196634753, -1.3844686576162293, -0.7203766720244728, 0.8944611600520691, 1.1389195308685285, -0.1510571781929448, -0.5429626616143252, 1.6438594470823837, -2.387324111421106, 3.186390712511004, -0.3052502835085717, 0.019401789993793443, 0.33201005735944206, -0.14371547257048126, -0.9506788298248029, -2.3746285541474883, 0.18565111413334542, 1.3406813726300504, 1.0987267753039165, 0.24286780703230978, 0.3587389155096219, 1.6950598095884886, 2.280543254135361, 1.6244332636667975, 0.6735605616645972, -0.6468507158570499, -0.3573522725347921, -0.23897454250813613, 1.0850473640524714, 0.9350061122313391, -0.32181332418719005, 0.015078998276582507, 0.37012978990539697, -0.5591163022749365, -1.8576703885043584, 0.8418962768961537, 1.2053095774559155, 0.5658824440956434], \"yaxis\": \"y14\"}, {\"line\": {\"color\": \"rgba(128, 128, 128, 1.0)\", \"dash\": \"solid\", \"shape\": \"linear\", \"width\": 1.3}, \"marker\": {\"size\": 2, \"symbol\": \"circle\"}, \"mode\": \"markers\", \"name\": \"D\", \"text\": \"\", \"type\": \"scatter\", \"x\": [0.952786651656803, -0.09014875287851794, -1.0685447512507276, -0.24921352859048332, 2.351969169587414, -1.8991212435034521, 0.6177398434531892, -1.9917003769460297, -1.0424738903012825, -0.22691279113960114, -1.1970818844517153, -0.9394291053149986, 1.757266845669264, -1.2407937962254503, -0.40044773536211387, -0.07962671261999174, -0.37548314235380925, -0.07343692394274298, -0.7806192817076086, -1.0895517338230685, 0.07176847416090174, -1.4131798523976564, 0.10320382126301453, -0.0025574702503611446, 1.0722971872386773, -0.6490361642546468, -0.7056080232365795, 0.036448555060863155, -0.46208863048318394, 0.8909451927211299, -0.6075569427489664, 0.17212712293151589, -2.2020227738434768, -1.0841246351259266, 0.5581037439400494, 0.2270284074491642, -0.046827427525527245, 0.1708416162951795, 0.097547606722425, 1.4010504698153223, 0.28861231333745696, -0.6301749435268477, 0.35197377626014914, -0.3744844363117336, 1.8219207208840351, 0.45178522279543637, -0.948872768524955, 1.1216879067308498, -0.5051281113933614, 0.14887277205634297, 0.1999556486992249, -1.6697997275559426, -0.1291673926643688, -2.5955074455319127, 0.6071560525654458, 0.45124691331754824, 0.7445534695030128, 1.9102827990950306, -0.09043099370692645, 0.5476464341750529, 0.7242806242042513, -0.34666807435880964, -0.9422400923509909, 1.1944115944422067, 0.849108361722817, -0.587274031667396, -1.3004657379502034, -0.3963526474289799, 1.0932422210457229, 0.16544951931799912, -1.2065330083577088, -0.10963490444821293, -0.1114314635928556, -0.8267519161472029, -0.39792190493483864, 2.5060855702308453, 0.39020636907104783, -0.01212829595721143, -0.4392766502407867, 1.0688639552065233, -0.13031115107888877, 0.28125713641044503, -1.6253646017719803, 1.8681690447660622, 0.22493645123791964, 0.155567443654224, -0.9993681981030387, -1.0466997336123318, -0.38095818629242206, 0.5261496897186589, 0.37650394037431884, -0.7025636954005036, 1.3869796947122683, 0.4014752796351428, -0.3809755265193317, -0.1821895709489874, 0.7181743276632854, 1.2436847673042648, -0.025319473946945892, 0.33927367748534265], \"xaxis\": \"x15\", \"y\": [0.9851061875011242, 0.8582380403595017, -0.33705763147266227, 1.143348296440449, -1.9284318445340969, 1.5529263867241374, -0.3314073487210843, 0.210048778366087, 0.9772419857702811, -0.40555144197030035, -0.03211290723392089, -0.4051763413170174, 0.09342461976286336, -0.15276548116126995, -1.6084766676061713, 1.3300326843843588, -1.7656908341411746, 1.2849327788844074, -1.3035053069028695, -1.126224479833057, -0.47929533400944885, 0.5842022873922668, 0.7904004155000492, -0.4891013768360308, -0.9520557829866434, -0.18334612929308258, -0.09699582855961543, 1.7165193982806102, -0.10761765897950101, 0.6172874068505037, 1.4847093487359413, 0.02905190240144271, -1.5013129289762308, -0.07744689448045243, -1.6624800651633258, -1.0265472229548933, 0.8670916714520461, 1.0426914109891925, 1.5030112811283998, -0.04381679624688889, -0.254722581440965, 0.20537035874761547, 0.509188461141092, -0.4734633460511219, -1.905286227779699, 0.8174965064193349, 0.11002512874214922, 0.08973189298899235, -0.24371056251516976, 0.2076202668019951, 1.3109703381511797, -0.23907632790672884, -1.131640138377444, -0.8681530405257885, -0.3316765752439354, -0.850094737879196, -1.0813888543664887, -0.25880086892959125, 0.4280135636448433, -0.9759241685645935, 0.42732918890384125, 1.0476821350885444, 0.09125930196634753, -1.3844686576162293, -0.7203766720244728, 0.8944611600520691, 1.1389195308685285, -0.1510571781929448, -0.5429626616143252, 1.6438594470823837, -2.387324111421106, 3.186390712511004, -0.3052502835085717, 0.019401789993793443, 0.33201005735944206, -0.14371547257048126, -0.9506788298248029, -2.3746285541474883, 0.18565111413334542, 1.3406813726300504, 1.0987267753039165, 0.24286780703230978, 0.3587389155096219, 1.6950598095884886, 2.280543254135361, 1.6244332636667975, 0.6735605616645972, -0.6468507158570499, -0.3573522725347921, -0.23897454250813613, 1.0850473640524714, 0.9350061122313391, -0.32181332418719005, 0.015078998276582507, 0.37012978990539697, -0.5591163022749365, -1.8576703885043584, 0.8418962768961537, 1.2053095774559155, 0.5658824440956434], \"yaxis\": \"y15\"}, {\"histfunc\": \"count\", \"histnorm\": \"\", \"marker\": {\"color\": \"rgba(128, 0, 128, 1.0)\", \"line\": {\"color\": \"#4D5663\", \"width\": 1.3}}, \"name\": \"D\", \"nbinsx\": 10, \"opacity\": 0.8, \"orientation\": \"v\", \"type\": \"histogram\", \"x\": [0.9851061875011242, 0.8582380403595017, -0.33705763147266227, 1.143348296440449, -1.9284318445340969, 1.5529263867241374, -0.3314073487210843, 0.210048778366087, 0.9772419857702811, -0.40555144197030035, -0.03211290723392089, -0.4051763413170174, 0.09342461976286336, -0.15276548116126995, -1.6084766676061713, 1.3300326843843588, -1.7656908341411746, 1.2849327788844074, -1.3035053069028695, -1.126224479833057, -0.47929533400944885, 0.5842022873922668, 0.7904004155000492, -0.4891013768360308, -0.9520557829866434, -0.18334612929308258, -0.09699582855961543, 1.7165193982806102, -0.10761765897950101, 0.6172874068505037, 1.4847093487359413, 0.02905190240144271, -1.5013129289762308, -0.07744689448045243, -1.6624800651633258, -1.0265472229548933, 0.8670916714520461, 1.0426914109891925, 1.5030112811283998, -0.04381679624688889, -0.254722581440965, 0.20537035874761547, 0.509188461141092, -0.4734633460511219, -1.905286227779699, 0.8174965064193349, 0.11002512874214922, 0.08973189298899235, -0.24371056251516976, 0.2076202668019951, 1.3109703381511797, -0.23907632790672884, -1.131640138377444, -0.8681530405257885, -0.3316765752439354, -0.850094737879196, -1.0813888543664887, -0.25880086892959125, 0.4280135636448433, -0.9759241685645935, 0.42732918890384125, 1.0476821350885444, 0.09125930196634753, -1.3844686576162293, -0.7203766720244728, 0.8944611600520691, 1.1389195308685285, -0.1510571781929448, -0.5429626616143252, 1.6438594470823837, -2.387324111421106, 3.186390712511004, -0.3052502835085717, 0.019401789993793443, 0.33201005735944206, -0.14371547257048126, -0.9506788298248029, -2.3746285541474883, 0.18565111413334542, 1.3406813726300504, 1.0987267753039165, 0.24286780703230978, 0.3587389155096219, 1.6950598095884886, 2.280543254135361, 1.6244332636667975, 0.6735605616645972, -0.6468507158570499, -0.3573522725347921, -0.23897454250813613, 1.0850473640524714, 0.9350061122313391, -0.32181332418719005, 0.015078998276582507, 0.37012978990539697, -0.5591163022749365, -1.8576703885043584, 0.8418962768961537, 1.2053095774559155, 0.5658824440956434], \"xaxis\": \"x16\", \"yaxis\": \"y16\"}],\n",
       "                        {\"bargap\": 0.02, \"legend\": {\"bgcolor\": \"#F5F6F9\", \"font\": {\"color\": \"#4D5663\"}}, \"paper_bgcolor\": \"#F5F6F9\", \"plot_bgcolor\": \"#F5F6F9\", \"showlegend\": false, \"template\": {\"data\": {\"bar\": [{\"error_x\": {\"color\": \"#2a3f5f\"}, \"error_y\": {\"color\": \"#2a3f5f\"}, \"marker\": {\"line\": {\"color\": \"#E5ECF6\", \"width\": 0.5}}, \"type\": \"bar\"}], \"barpolar\": [{\"marker\": {\"line\": {\"color\": \"#E5ECF6\", \"width\": 0.5}}, \"type\": \"barpolar\"}], \"carpet\": [{\"aaxis\": {\"endlinecolor\": \"#2a3f5f\", \"gridcolor\": \"white\", \"linecolor\": \"white\", \"minorgridcolor\": \"white\", \"startlinecolor\": \"#2a3f5f\"}, \"baxis\": {\"endlinecolor\": \"#2a3f5f\", \"gridcolor\": \"white\", \"linecolor\": \"white\", \"minorgridcolor\": \"white\", \"startlinecolor\": \"#2a3f5f\"}, \"type\": \"carpet\"}], \"choropleth\": [{\"colorbar\": {\"outlinewidth\": 0, \"ticks\": \"\"}, \"type\": \"choropleth\"}], \"contour\": [{\"colorbar\": {\"outlinewidth\": 0, \"ticks\": \"\"}, \"colorscale\": [[0.0, \"#0d0887\"], [0.1111111111111111, \"#46039f\"], [0.2222222222222222, \"#7201a8\"], [0.3333333333333333, \"#9c179e\"], [0.4444444444444444, \"#bd3786\"], [0.5555555555555556, \"#d8576b\"], [0.6666666666666666, \"#ed7953\"], [0.7777777777777778, \"#fb9f3a\"], [0.8888888888888888, \"#fdca26\"], [1.0, \"#f0f921\"]], \"type\": \"contour\"}], \"contourcarpet\": [{\"colorbar\": {\"outlinewidth\": 0, \"ticks\": \"\"}, \"type\": \"contourcarpet\"}], \"heatmap\": [{\"colorbar\": {\"outlinewidth\": 0, \"ticks\": \"\"}, \"colorscale\": [[0.0, \"#0d0887\"], [0.1111111111111111, \"#46039f\"], [0.2222222222222222, \"#7201a8\"], [0.3333333333333333, \"#9c179e\"], [0.4444444444444444, \"#bd3786\"], [0.5555555555555556, \"#d8576b\"], [0.6666666666666666, \"#ed7953\"], [0.7777777777777778, \"#fb9f3a\"], [0.8888888888888888, \"#fdca26\"], [1.0, \"#f0f921\"]], \"type\": \"heatmap\"}], \"heatmapgl\": [{\"colorbar\": {\"outlinewidth\": 0, \"ticks\": \"\"}, \"colorscale\": [[0.0, \"#0d0887\"], [0.1111111111111111, \"#46039f\"], [0.2222222222222222, \"#7201a8\"], [0.3333333333333333, \"#9c179e\"], [0.4444444444444444, \"#bd3786\"], [0.5555555555555556, \"#d8576b\"], [0.6666666666666666, \"#ed7953\"], [0.7777777777777778, \"#fb9f3a\"], [0.8888888888888888, \"#fdca26\"], [1.0, \"#f0f921\"]], \"type\": \"heatmapgl\"}], \"histogram\": [{\"marker\": {\"colorbar\": {\"outlinewidth\": 0, \"ticks\": \"\"}}, \"type\": \"histogram\"}], \"histogram2d\": [{\"colorbar\": {\"outlinewidth\": 0, \"ticks\": \"\"}, \"colorscale\": [[0.0, \"#0d0887\"], [0.1111111111111111, \"#46039f\"], [0.2222222222222222, \"#7201a8\"], [0.3333333333333333, \"#9c179e\"], [0.4444444444444444, \"#bd3786\"], [0.5555555555555556, \"#d8576b\"], [0.6666666666666666, \"#ed7953\"], [0.7777777777777778, \"#fb9f3a\"], [0.8888888888888888, \"#fdca26\"], [1.0, \"#f0f921\"]], \"type\": \"histogram2d\"}], \"histogram2dcontour\": [{\"colorbar\": {\"outlinewidth\": 0, \"ticks\": \"\"}, \"colorscale\": [[0.0, \"#0d0887\"], [0.1111111111111111, \"#46039f\"], [0.2222222222222222, \"#7201a8\"], [0.3333333333333333, \"#9c179e\"], [0.4444444444444444, \"#bd3786\"], [0.5555555555555556, \"#d8576b\"], [0.6666666666666666, \"#ed7953\"], [0.7777777777777778, \"#fb9f3a\"], [0.8888888888888888, \"#fdca26\"], [1.0, \"#f0f921\"]], \"type\": \"histogram2dcontour\"}], \"mesh3d\": [{\"colorbar\": {\"outlinewidth\": 0, \"ticks\": \"\"}, \"type\": \"mesh3d\"}], \"parcoords\": [{\"line\": {\"colorbar\": {\"outlinewidth\": 0, \"ticks\": \"\"}}, \"type\": \"parcoords\"}], \"pie\": [{\"automargin\": true, \"type\": \"pie\"}], \"scatter\": [{\"marker\": {\"colorbar\": {\"outlinewidth\": 0, \"ticks\": \"\"}}, \"type\": \"scatter\"}], \"scatter3d\": [{\"line\": {\"colorbar\": {\"outlinewidth\": 0, \"ticks\": \"\"}}, \"marker\": {\"colorbar\": {\"outlinewidth\": 0, \"ticks\": \"\"}}, \"type\": \"scatter3d\"}], \"scattercarpet\": [{\"marker\": {\"colorbar\": {\"outlinewidth\": 0, \"ticks\": \"\"}}, \"type\": \"scattercarpet\"}], \"scattergeo\": [{\"marker\": {\"colorbar\": {\"outlinewidth\": 0, \"ticks\": \"\"}}, \"type\": \"scattergeo\"}], \"scattergl\": [{\"marker\": {\"colorbar\": {\"outlinewidth\": 0, \"ticks\": \"\"}}, \"type\": \"scattergl\"}], \"scattermapbox\": [{\"marker\": {\"colorbar\": {\"outlinewidth\": 0, \"ticks\": \"\"}}, \"type\": \"scattermapbox\"}], \"scatterpolar\": [{\"marker\": {\"colorbar\": {\"outlinewidth\": 0, \"ticks\": \"\"}}, \"type\": \"scatterpolar\"}], \"scatterpolargl\": [{\"marker\": {\"colorbar\": {\"outlinewidth\": 0, \"ticks\": \"\"}}, \"type\": \"scatterpolargl\"}], \"scatterternary\": [{\"marker\": {\"colorbar\": {\"outlinewidth\": 0, \"ticks\": \"\"}}, \"type\": \"scatterternary\"}], \"surface\": [{\"colorbar\": {\"outlinewidth\": 0, \"ticks\": \"\"}, \"colorscale\": [[0.0, \"#0d0887\"], [0.1111111111111111, \"#46039f\"], [0.2222222222222222, \"#7201a8\"], [0.3333333333333333, \"#9c179e\"], [0.4444444444444444, \"#bd3786\"], [0.5555555555555556, \"#d8576b\"], [0.6666666666666666, \"#ed7953\"], [0.7777777777777778, \"#fb9f3a\"], [0.8888888888888888, \"#fdca26\"], [1.0, \"#f0f921\"]], \"type\": \"surface\"}], \"table\": [{\"cells\": {\"fill\": {\"color\": \"#EBF0F8\"}, \"line\": {\"color\": \"white\"}}, \"header\": {\"fill\": {\"color\": \"#C8D4E3\"}, \"line\": {\"color\": \"white\"}}, \"type\": \"table\"}]}, \"layout\": {\"annotationdefaults\": {\"arrowcolor\": \"#2a3f5f\", \"arrowhead\": 0, \"arrowwidth\": 1}, \"coloraxis\": {\"colorbar\": {\"outlinewidth\": 0, \"ticks\": \"\"}}, \"colorscale\": {\"diverging\": [[0, \"#8e0152\"], [0.1, \"#c51b7d\"], [0.2, \"#de77ae\"], [0.3, \"#f1b6da\"], [0.4, \"#fde0ef\"], [0.5, \"#f7f7f7\"], [0.6, \"#e6f5d0\"], [0.7, \"#b8e186\"], [0.8, \"#7fbc41\"], [0.9, \"#4d9221\"], [1, \"#276419\"]], \"sequential\": [[0.0, \"#0d0887\"], [0.1111111111111111, \"#46039f\"], [0.2222222222222222, \"#7201a8\"], [0.3333333333333333, \"#9c179e\"], [0.4444444444444444, \"#bd3786\"], [0.5555555555555556, \"#d8576b\"], [0.6666666666666666, \"#ed7953\"], [0.7777777777777778, \"#fb9f3a\"], [0.8888888888888888, \"#fdca26\"], [1.0, \"#f0f921\"]], \"sequentialminus\": [[0.0, \"#0d0887\"], [0.1111111111111111, \"#46039f\"], [0.2222222222222222, \"#7201a8\"], [0.3333333333333333, \"#9c179e\"], [0.4444444444444444, \"#bd3786\"], [0.5555555555555556, \"#d8576b\"], [0.6666666666666666, \"#ed7953\"], [0.7777777777777778, \"#fb9f3a\"], [0.8888888888888888, \"#fdca26\"], [1.0, \"#f0f921\"]]}, \"colorway\": [\"#636efa\", \"#EF553B\", \"#00cc96\", \"#ab63fa\", \"#FFA15A\", \"#19d3f3\", \"#FF6692\", \"#B6E880\", \"#FF97FF\", \"#FECB52\"], \"font\": {\"color\": \"#2a3f5f\"}, \"geo\": {\"bgcolor\": \"white\", \"lakecolor\": \"white\", \"landcolor\": \"#E5ECF6\", \"showlakes\": true, \"showland\": true, \"subunitcolor\": \"white\"}, \"hoverlabel\": {\"align\": \"left\"}, \"hovermode\": \"closest\", \"mapbox\": {\"style\": \"light\"}, \"paper_bgcolor\": \"white\", \"plot_bgcolor\": \"#E5ECF6\", \"polar\": {\"angularaxis\": {\"gridcolor\": \"white\", \"linecolor\": \"white\", \"ticks\": \"\"}, \"bgcolor\": \"#E5ECF6\", \"radialaxis\": {\"gridcolor\": \"white\", \"linecolor\": \"white\", \"ticks\": \"\"}}, \"scene\": {\"xaxis\": {\"backgroundcolor\": \"#E5ECF6\", \"gridcolor\": \"white\", \"gridwidth\": 2, \"linecolor\": \"white\", \"showbackground\": true, \"ticks\": \"\", \"zerolinecolor\": \"white\"}, \"yaxis\": {\"backgroundcolor\": \"#E5ECF6\", \"gridcolor\": \"white\", \"gridwidth\": 2, \"linecolor\": \"white\", \"showbackground\": true, \"ticks\": \"\", \"zerolinecolor\": \"white\"}, \"zaxis\": {\"backgroundcolor\": \"#E5ECF6\", \"gridcolor\": \"white\", \"gridwidth\": 2, \"linecolor\": \"white\", \"showbackground\": true, \"ticks\": \"\", \"zerolinecolor\": \"white\"}}, \"shapedefaults\": {\"line\": {\"color\": \"#2a3f5f\"}}, \"ternary\": {\"aaxis\": {\"gridcolor\": \"white\", \"linecolor\": \"white\", \"ticks\": \"\"}, \"baxis\": {\"gridcolor\": \"white\", \"linecolor\": \"white\", \"ticks\": \"\"}, \"bgcolor\": \"#E5ECF6\", \"caxis\": {\"gridcolor\": \"white\", \"linecolor\": \"white\", \"ticks\": \"\"}}, \"title\": {\"x\": 0.05}, \"xaxis\": {\"automargin\": true, \"gridcolor\": \"white\", \"linecolor\": \"white\", \"ticks\": \"\", \"title\": {\"standoff\": 15}, \"zerolinecolor\": \"white\", \"zerolinewidth\": 2}, \"yaxis\": {\"automargin\": true, \"gridcolor\": \"white\", \"linecolor\": \"white\", \"ticks\": \"\", \"title\": {\"standoff\": 15}, \"zerolinecolor\": \"white\", \"zerolinewidth\": 2}}}, \"title\": {\"font\": {\"color\": \"#4D5663\"}}, \"xaxis\": {\"anchor\": \"y\", \"domain\": [0.0, 0.2125], \"gridcolor\": \"#E1E5ED\", \"showgrid\": false, \"tickfont\": {\"color\": \"#4D5663\"}, \"title\": {\"font\": {\"color\": \"#4D5663\"}, \"text\": \"\"}, \"zerolinecolor\": \"#E1E5ED\"}, \"xaxis10\": {\"anchor\": \"y10\", \"domain\": [0.2625, 0.475], \"gridcolor\": \"#E1E5ED\", \"showgrid\": false, \"tickfont\": {\"color\": \"#4D5663\"}, \"title\": {\"font\": {\"color\": \"#4D5663\"}, \"text\": \"\"}, \"zerolinecolor\": \"#E1E5ED\"}, \"xaxis11\": {\"anchor\": \"y11\", \"domain\": [0.525, 0.7375], \"gridcolor\": \"#E1E5ED\", \"showgrid\": false, \"tickfont\": {\"color\": \"#4D5663\"}, \"title\": {\"font\": {\"color\": \"#4D5663\"}, \"text\": \"\"}, \"zerolinecolor\": \"#E1E5ED\"}, \"xaxis12\": {\"anchor\": \"y12\", \"domain\": [0.7875, 1.0], \"gridcolor\": \"#E1E5ED\", \"showgrid\": false, \"tickfont\": {\"color\": \"#4D5663\"}, \"title\": {\"font\": {\"color\": \"#4D5663\"}, \"text\": \"\"}, \"zerolinecolor\": \"#E1E5ED\"}, \"xaxis13\": {\"anchor\": \"y13\", \"domain\": [0.0, 0.2125], \"gridcolor\": \"#E1E5ED\", \"showgrid\": false, \"tickfont\": {\"color\": \"#4D5663\"}, \"title\": {\"font\": {\"color\": \"#4D5663\"}, \"text\": \"\"}, \"zerolinecolor\": \"#E1E5ED\"}, \"xaxis14\": {\"anchor\": \"y14\", \"domain\": [0.2625, 0.475], \"gridcolor\": \"#E1E5ED\", \"showgrid\": false, \"tickfont\": {\"color\": \"#4D5663\"}, \"title\": {\"font\": {\"color\": \"#4D5663\"}, \"text\": \"\"}, \"zerolinecolor\": \"#E1E5ED\"}, \"xaxis15\": {\"anchor\": \"y15\", \"domain\": [0.525, 0.7375], \"gridcolor\": \"#E1E5ED\", \"showgrid\": false, \"tickfont\": {\"color\": \"#4D5663\"}, \"title\": {\"font\": {\"color\": \"#4D5663\"}, \"text\": \"\"}, \"zerolinecolor\": \"#E1E5ED\"}, \"xaxis16\": {\"anchor\": \"y16\", \"domain\": [0.7875, 1.0], \"gridcolor\": \"#E1E5ED\", \"showgrid\": false, \"tickfont\": {\"color\": \"#4D5663\"}, \"title\": {\"font\": {\"color\": \"#4D5663\"}, \"text\": \"\"}, \"zerolinecolor\": \"#E1E5ED\"}, \"xaxis2\": {\"anchor\": \"y2\", \"domain\": [0.2625, 0.475], \"gridcolor\": \"#E1E5ED\", \"showgrid\": false, \"tickfont\": {\"color\": \"#4D5663\"}, \"title\": {\"font\": {\"color\": \"#4D5663\"}, \"text\": \"\"}, \"zerolinecolor\": \"#E1E5ED\"}, \"xaxis3\": {\"anchor\": \"y3\", \"domain\": [0.525, 0.7375], \"gridcolor\": \"#E1E5ED\", \"showgrid\": false, \"tickfont\": {\"color\": \"#4D5663\"}, \"title\": {\"font\": {\"color\": \"#4D5663\"}, \"text\": \"\"}, \"zerolinecolor\": \"#E1E5ED\"}, \"xaxis4\": {\"anchor\": \"y4\", \"domain\": [0.7875, 1.0], \"gridcolor\": \"#E1E5ED\", \"showgrid\": false, \"tickfont\": {\"color\": \"#4D5663\"}, \"title\": {\"font\": {\"color\": \"#4D5663\"}, \"text\": \"\"}, \"zerolinecolor\": \"#E1E5ED\"}, \"xaxis5\": {\"anchor\": \"y5\", \"domain\": [0.0, 0.2125], \"gridcolor\": \"#E1E5ED\", \"showgrid\": false, \"tickfont\": {\"color\": \"#4D5663\"}, \"title\": {\"font\": {\"color\": \"#4D5663\"}, \"text\": \"\"}, \"zerolinecolor\": \"#E1E5ED\"}, \"xaxis6\": {\"anchor\": \"y6\", \"domain\": [0.2625, 0.475], \"gridcolor\": \"#E1E5ED\", \"showgrid\": false, \"tickfont\": {\"color\": \"#4D5663\"}, \"title\": {\"font\": {\"color\": \"#4D5663\"}, \"text\": \"\"}, \"zerolinecolor\": \"#E1E5ED\"}, \"xaxis7\": {\"anchor\": \"y7\", \"domain\": [0.525, 0.7375], \"gridcolor\": \"#E1E5ED\", \"showgrid\": false, \"tickfont\": {\"color\": \"#4D5663\"}, \"title\": {\"font\": {\"color\": \"#4D5663\"}, \"text\": \"\"}, \"zerolinecolor\": \"#E1E5ED\"}, \"xaxis8\": {\"anchor\": \"y8\", \"domain\": [0.7875, 1.0], \"gridcolor\": \"#E1E5ED\", \"showgrid\": false, \"tickfont\": {\"color\": \"#4D5663\"}, \"title\": {\"font\": {\"color\": \"#4D5663\"}, \"text\": \"\"}, \"zerolinecolor\": \"#E1E5ED\"}, \"xaxis9\": {\"anchor\": \"y9\", \"domain\": [0.0, 0.2125], \"gridcolor\": \"#E1E5ED\", \"showgrid\": false, \"tickfont\": {\"color\": \"#4D5663\"}, \"title\": {\"font\": {\"color\": \"#4D5663\"}, \"text\": \"\"}, \"zerolinecolor\": \"#E1E5ED\"}, \"yaxis\": {\"anchor\": \"x\", \"domain\": [0.8025, 1.0], \"gridcolor\": \"#E1E5ED\", \"showgrid\": false, \"tickfont\": {\"color\": \"#4D5663\"}, \"title\": {\"font\": {\"color\": \"#4D5663\"}, \"text\": \"\"}, \"zerolinecolor\": \"#E1E5ED\"}, \"yaxis10\": {\"anchor\": \"x10\", \"domain\": [0.2675, 0.465], \"gridcolor\": \"#E1E5ED\", \"showgrid\": false, \"tickfont\": {\"color\": \"#4D5663\"}, \"title\": {\"font\": {\"color\": \"#4D5663\"}, \"text\": \"\"}, \"zerolinecolor\": \"#E1E5ED\"}, \"yaxis11\": {\"anchor\": \"x11\", \"domain\": [0.2675, 0.465], \"gridcolor\": \"#E1E5ED\", \"showgrid\": false, \"tickfont\": {\"color\": \"#4D5663\"}, \"title\": {\"font\": {\"color\": \"#4D5663\"}, \"text\": \"\"}, \"zerolinecolor\": \"#E1E5ED\"}, \"yaxis12\": {\"anchor\": \"x12\", \"domain\": [0.2675, 0.465], \"gridcolor\": \"#E1E5ED\", \"showgrid\": false, \"tickfont\": {\"color\": \"#4D5663\"}, \"title\": {\"font\": {\"color\": \"#4D5663\"}, \"text\": \"\"}, \"zerolinecolor\": \"#E1E5ED\"}, \"yaxis13\": {\"anchor\": \"x13\", \"domain\": [0.0, 0.1975], \"gridcolor\": \"#E1E5ED\", \"showgrid\": false, \"tickfont\": {\"color\": \"#4D5663\"}, \"title\": {\"font\": {\"color\": \"#4D5663\"}, \"text\": \"\"}, \"zerolinecolor\": \"#E1E5ED\"}, \"yaxis14\": {\"anchor\": \"x14\", \"domain\": [0.0, 0.1975], \"gridcolor\": \"#E1E5ED\", \"showgrid\": false, \"tickfont\": {\"color\": \"#4D5663\"}, \"title\": {\"font\": {\"color\": \"#4D5663\"}, \"text\": \"\"}, \"zerolinecolor\": \"#E1E5ED\"}, \"yaxis15\": {\"anchor\": \"x15\", \"domain\": [0.0, 0.1975], \"gridcolor\": \"#E1E5ED\", \"showgrid\": false, \"tickfont\": {\"color\": \"#4D5663\"}, \"title\": {\"font\": {\"color\": \"#4D5663\"}, \"text\": \"\"}, \"zerolinecolor\": \"#E1E5ED\"}, \"yaxis16\": {\"anchor\": \"x16\", \"domain\": [0.0, 0.1975], \"gridcolor\": \"#E1E5ED\", \"showgrid\": false, \"tickfont\": {\"color\": \"#4D5663\"}, \"title\": {\"font\": {\"color\": \"#4D5663\"}, \"text\": \"\"}, \"zerolinecolor\": \"#E1E5ED\"}, \"yaxis2\": {\"anchor\": \"x2\", \"domain\": [0.8025, 1.0], \"gridcolor\": \"#E1E5ED\", \"showgrid\": false, \"tickfont\": {\"color\": \"#4D5663\"}, \"title\": {\"font\": {\"color\": \"#4D5663\"}, \"text\": \"\"}, \"zerolinecolor\": \"#E1E5ED\"}, \"yaxis3\": {\"anchor\": \"x3\", \"domain\": [0.8025, 1.0], \"gridcolor\": \"#E1E5ED\", \"showgrid\": false, \"tickfont\": {\"color\": \"#4D5663\"}, \"title\": {\"font\": {\"color\": \"#4D5663\"}, \"text\": \"\"}, \"zerolinecolor\": \"#E1E5ED\"}, \"yaxis4\": {\"anchor\": \"x4\", \"domain\": [0.8025, 1.0], \"gridcolor\": \"#E1E5ED\", \"showgrid\": false, \"tickfont\": {\"color\": \"#4D5663\"}, \"title\": {\"font\": {\"color\": \"#4D5663\"}, \"text\": \"\"}, \"zerolinecolor\": \"#E1E5ED\"}, \"yaxis5\": {\"anchor\": \"x5\", \"domain\": [0.535, 0.7325], \"gridcolor\": \"#E1E5ED\", \"showgrid\": false, \"tickfont\": {\"color\": \"#4D5663\"}, \"title\": {\"font\": {\"color\": \"#4D5663\"}, \"text\": \"\"}, \"zerolinecolor\": \"#E1E5ED\"}, \"yaxis6\": {\"anchor\": \"x6\", \"domain\": [0.535, 0.7325], \"gridcolor\": \"#E1E5ED\", \"showgrid\": false, \"tickfont\": {\"color\": \"#4D5663\"}, \"title\": {\"font\": {\"color\": \"#4D5663\"}, \"text\": \"\"}, \"zerolinecolor\": \"#E1E5ED\"}, \"yaxis7\": {\"anchor\": \"x7\", \"domain\": [0.535, 0.7325], \"gridcolor\": \"#E1E5ED\", \"showgrid\": false, \"tickfont\": {\"color\": \"#4D5663\"}, \"title\": {\"font\": {\"color\": \"#4D5663\"}, \"text\": \"\"}, \"zerolinecolor\": \"#E1E5ED\"}, \"yaxis8\": {\"anchor\": \"x8\", \"domain\": [0.535, 0.7325], \"gridcolor\": \"#E1E5ED\", \"showgrid\": false, \"tickfont\": {\"color\": \"#4D5663\"}, \"title\": {\"font\": {\"color\": \"#4D5663\"}, \"text\": \"\"}, \"zerolinecolor\": \"#E1E5ED\"}, \"yaxis9\": {\"anchor\": \"x9\", \"domain\": [0.2675, 0.465], \"gridcolor\": \"#E1E5ED\", \"showgrid\": false, \"tickfont\": {\"color\": \"#4D5663\"}, \"title\": {\"font\": {\"color\": \"#4D5663\"}, \"text\": \"\"}, \"zerolinecolor\": \"#E1E5ED\"}},\n",
       "                        {\"showLink\": true, \"linkText\": \"Export to plot.ly\", \"plotlyServerURL\": \"https://plot.ly\", \"responsive\": true}\n",
       "                    ).then(function(){\n",
       "                            \n",
       "var gd = document.getElementById('667663d2-d866-4021-a68b-24d9203dd401');\n",
       "var x = new MutationObserver(function (mutations, observer) {{\n",
       "        var display = window.getComputedStyle(gd).display;\n",
       "        if (!display || display === 'none') {{\n",
       "            console.log([gd, 'removed!']);\n",
       "            Plotly.purge(gd);\n",
       "            observer.disconnect();\n",
       "        }}\n",
       "}});\n",
       "\n",
       "// Listen for the removal of the full notebook cells\n",
       "var notebookContainer = gd.closest('#notebook-container');\n",
       "if (notebookContainer) {{\n",
       "    x.observe(notebookContainer, {childList: true});\n",
       "}}\n",
       "\n",
       "// Listen for the clearing of the current output cell\n",
       "var outputEl = gd.closest('.output');\n",
       "if (outputEl) {{\n",
       "    x.observe(outputEl, {childList: true});\n",
       "}}\n",
       "\n",
       "                        })\n",
       "                };\n",
       "                });\n",
       "            </script>\n",
       "        </div>"
      ]
     },
     "metadata": {},
     "output_type": "display_data"
    }
   ],
   "source": [
    "df.scatter_matrix()"
   ]
  },
  {
   "cell_type": "code",
   "execution_count": null,
   "metadata": {},
   "outputs": [],
   "source": []
  }
 ],
 "metadata": {
  "kernelspec": {
   "display_name": "Python 3",
   "language": "python",
   "name": "python3"
  },
  "language_info": {
   "codemirror_mode": {
    "name": "ipython",
    "version": 3
   },
   "file_extension": ".py",
   "mimetype": "text/x-python",
   "name": "python",
   "nbconvert_exporter": "python",
   "pygments_lexer": "ipython3",
   "version": "3.7.3"
  }
 },
 "nbformat": 4,
 "nbformat_minor": 2
}
